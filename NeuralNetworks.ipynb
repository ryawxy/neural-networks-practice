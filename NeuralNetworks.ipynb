{
  "cells": [
    {
      "cell_type": "markdown",
      "metadata": {
        "id": "O3z77YYzaiyX"
      },
      "source": [
        "**Data Science**\n",
        "\n",
        "**Spring 2025**\n",
        "\n",
        "*Raya Namazi-Assignment 9*\n",
        "\n",
        "*Link of the notebook* : https://colab.research.google.com/drive/1pXbdelFG6KQdS86xNsvKrgK5MS5U5-nu#scrollTo=O3z77YYzaiyX\n",
        "\n",
        "---"
      ]
    },
    {
      "cell_type": "markdown",
      "metadata": {
        "id": "5h1wMdw9aw1J"
      },
      "source": [
        "# About the Dataset\n",
        "On this notebbok we are going to implement various neural networks in python using scikit-learn, pytorch and keras.\n",
        "\n",
        "The data set we are using for this implementaition is London Bike dataset which is hosted on [Kaggle](https://www.kaggle.com/datasets/hmavrodiev/london-bike-sharing-dataset/data)\n",
        "\n",
        "It contains hourly bike rental data form a bike-sharing system and has 17,414 rows and 10 columns."
      ]
    },
    {
      "cell_type": "markdown",
      "metadata": {
        "id": "pVhg-L7PbwhT"
      },
      "source": [
        "# Libraries\n",
        "First we need to import libraries we will need later on."
      ]
    },
    {
      "cell_type": "code",
      "execution_count": null,
      "metadata": {
        "id": "srL4-Kc9cX6L"
      },
      "outputs": [],
      "source": [
        "import sklearn\n",
        "import pandas as pd\n",
        "import io\n",
        "import os\n",
        "import numpy as np\n",
        "import copy\n",
        "import seaborn as sns\n",
        "import matplotlib.pyplot as plt\n",
        "%matplotlib inline\n",
        "sns.set(color_codes=True)"
      ]
    },
    {
      "cell_type": "markdown",
      "metadata": {
        "id": "-CjhEKmzcdou"
      },
      "source": [
        "# Loading the Dataset\n",
        "Now it's time to laod the dataset from Kaggle."
      ]
    },
    {
      "cell_type": "code",
      "execution_count": null,
      "metadata": {
        "colab": {
          "base_uri": "https://localhost:8080/"
        },
        "id": "BIP0P5Necj1z",
        "outputId": "89608c49-4e22-4843-8c82-856715b6b340"
      },
      "outputs": [
        {
          "name": "stdout",
          "output_type": "stream",
          "text": [
            "Mounted at /content/drive\n"
          ]
        }
      ],
      "source": [
        "from google.colab import drive\n",
        "drive.mount('/content/drive')"
      ]
    },
    {
      "cell_type": "code",
      "execution_count": null,
      "metadata": {
        "id": "UwjpJcbXc4nj"
      },
      "outputs": [],
      "source": [
        "os.environ['KAGGLE_CONFIG_DIR'] = \"/content/drive/My Drive/Datasets\""
      ]
    },
    {
      "cell_type": "code",
      "execution_count": null,
      "metadata": {
        "colab": {
          "base_uri": "https://localhost:8080/"
        },
        "id": "Jw_m93Vjc9QG",
        "outputId": "5a533de6-e56d-44b2-c335-2b4c23cc2280"
      },
      "outputs": [
        {
          "name": "stdout",
          "output_type": "stream",
          "text": [
            "/content/drive/My Drive/Datasets\n"
          ]
        }
      ],
      "source": [
        "%cd /content/drive/My Drive/Datasets"
      ]
    },
    {
      "cell_type": "code",
      "execution_count": null,
      "metadata": {
        "colab": {
          "base_uri": "https://localhost:8080/"
        },
        "id": "NEwtexNedAvm",
        "outputId": "f13b4ce5-1e31-4531-ea97-f264abaffe1b"
      },
      "outputs": [
        {
          "name": "stdout",
          "output_type": "stream",
          "text": [
            "Dataset URL: https://www.kaggle.com/datasets/hmavrodiev/london-bike-sharing-dataset\n",
            "License(s): other\n"
          ]
        }
      ],
      "source": [
        "!kaggle datasets download -d hmavrodiev/london-bike-sharing-dataset"
      ]
    },
    {
      "cell_type": "code",
      "execution_count": null,
      "metadata": {
        "colab": {
          "base_uri": "https://localhost:8080/"
        },
        "id": "3IFM1TA0dNIu",
        "outputId": "cd9484a5-2952-4ed0-fd71-269650d577c2"
      },
      "outputs": [
        {
          "name": "stdout",
          "output_type": "stream",
          "text": [
            "Archive:  london-bike-sharing-dataset.zip\n",
            "replace london_merged.csv? [y]es, [n]o, [A]ll, [N]one, [r]ename: n\n"
          ]
        }
      ],
      "source": [
        "!unzip \\*.zip && rm *.zip"
      ]
    },
    {
      "cell_type": "code",
      "execution_count": 289,
      "metadata": {
        "id": "ysYBzRhwdZPB"
      },
      "outputs": [],
      "source": [
        "df = pd.read_csv('london_merged.csv')"
      ]
    },
    {
      "cell_type": "markdown",
      "metadata": {
        "id": "7GJU1qkqdc7k"
      },
      "source": [
        "# Getting some insights about the Dataset\n",
        "Now let's take a look at the features and some details about the dataset."
      ]
    },
    {
      "cell_type": "code",
      "execution_count": null,
      "metadata": {
        "colab": {
          "base_uri": "https://localhost:8080/",
          "height": 359
        },
        "id": "0ngNo6PDdo8N",
        "outputId": "f84fc2ab-fcd6-4a50-fae8-795ca7a20538"
      },
      "outputs": [
        {
          "data": {
            "application/vnd.google.colaboratory.intrinsic+json": {
              "summary": "{\n  \"name\": \"df\",\n  \"rows\": 17414,\n  \"fields\": [\n    {\n      \"column\": \"timestamp\",\n      \"properties\": {\n        \"dtype\": \"object\",\n        \"num_unique_values\": 17414,\n        \"samples\": [\n          \"2016-08-17 04:00:00\",\n          \"2016-04-08 07:00:00\",\n          \"2015-11-10 00:00:00\"\n        ],\n        \"semantic_type\": \"\",\n        \"description\": \"\"\n      }\n    },\n    {\n      \"column\": \"cnt\",\n      \"properties\": {\n        \"dtype\": \"number\",\n        \"std\": 1085,\n        \"min\": 0,\n        \"max\": 7860,\n        \"num_unique_values\": 3781,\n        \"samples\": [\n          1417,\n          2143,\n          3979\n        ],\n        \"semantic_type\": \"\",\n        \"description\": \"\"\n      }\n    },\n    {\n      \"column\": \"t1\",\n      \"properties\": {\n        \"dtype\": \"number\",\n        \"std\": 5.571817562920554,\n        \"min\": -1.5,\n        \"max\": 34.0,\n        \"num_unique_values\": 73,\n        \"samples\": [\n          1.5,\n          33.5,\n          4.5\n        ],\n        \"semantic_type\": \"\",\n        \"description\": \"\"\n      }\n    },\n    {\n      \"column\": \"t2\",\n      \"properties\": {\n        \"dtype\": \"number\",\n        \"std\": 6.615144673127985,\n        \"min\": -6.0,\n        \"max\": 34.0,\n        \"num_unique_values\": 82,\n        \"samples\": [\n          14.0,\n          2.0,\n          11.5\n        ],\n        \"semantic_type\": \"\",\n        \"description\": \"\"\n      }\n    },\n    {\n      \"column\": \"hum\",\n      \"properties\": {\n        \"dtype\": \"number\",\n        \"std\": 14.313186095311346,\n        \"min\": 20.5,\n        \"max\": 100.0,\n        \"num_unique_values\": 143,\n        \"samples\": [\n          29.5,\n          71.5,\n          40.0\n        ],\n        \"semantic_type\": \"\",\n        \"description\": \"\"\n      }\n    },\n    {\n      \"column\": \"wind_speed\",\n      \"properties\": {\n        \"dtype\": \"number\",\n        \"std\": 7.894570329361007,\n        \"min\": 0.0,\n        \"max\": 56.5,\n        \"num_unique_values\": 103,\n        \"samples\": [\n          30.0,\n          2.0,\n          23.5\n        ],\n        \"semantic_type\": \"\",\n        \"description\": \"\"\n      }\n    },\n    {\n      \"column\": \"weather_code\",\n      \"properties\": {\n        \"dtype\": \"number\",\n        \"std\": 2.3411632846457198,\n        \"min\": 1.0,\n        \"max\": 26.0,\n        \"num_unique_values\": 7,\n        \"samples\": [\n          3.0,\n          1.0,\n          26.0\n        ],\n        \"semantic_type\": \"\",\n        \"description\": \"\"\n      }\n    },\n    {\n      \"column\": \"is_holiday\",\n      \"properties\": {\n        \"dtype\": \"number\",\n        \"std\": 0.1468543671527554,\n        \"min\": 0.0,\n        \"max\": 1.0,\n        \"num_unique_values\": 2,\n        \"samples\": [\n          1.0,\n          0.0\n        ],\n        \"semantic_type\": \"\",\n        \"description\": \"\"\n      }\n    },\n    {\n      \"column\": \"is_weekend\",\n      \"properties\": {\n        \"dtype\": \"number\",\n        \"std\": 0.4516189175710551,\n        \"min\": 0.0,\n        \"max\": 1.0,\n        \"num_unique_values\": 2,\n        \"samples\": [\n          0.0,\n          1.0\n        ],\n        \"semantic_type\": \"\",\n        \"description\": \"\"\n      }\n    },\n    {\n      \"column\": \"season\",\n      \"properties\": {\n        \"dtype\": \"number\",\n        \"std\": 1.118910874827905,\n        \"min\": 0.0,\n        \"max\": 3.0,\n        \"num_unique_values\": 4,\n        \"samples\": [\n          0.0,\n          2.0\n        ],\n        \"semantic_type\": \"\",\n        \"description\": \"\"\n      }\n    }\n  ]\n}",
              "type": "dataframe",
              "variable_name": "df"
            },
            "text/html": [
              "\n",
              "  <div id=\"df-d20da58e-d17d-49b6-bdd5-d52f38a0882a\" class=\"colab-df-container\">\n",
              "    <div>\n",
              "<style scoped>\n",
              "    .dataframe tbody tr th:only-of-type {\n",
              "        vertical-align: middle;\n",
              "    }\n",
              "\n",
              "    .dataframe tbody tr th {\n",
              "        vertical-align: top;\n",
              "    }\n",
              "\n",
              "    .dataframe thead th {\n",
              "        text-align: right;\n",
              "    }\n",
              "</style>\n",
              "<table border=\"1\" class=\"dataframe\">\n",
              "  <thead>\n",
              "    <tr style=\"text-align: right;\">\n",
              "      <th></th>\n",
              "      <th>timestamp</th>\n",
              "      <th>cnt</th>\n",
              "      <th>t1</th>\n",
              "      <th>t2</th>\n",
              "      <th>hum</th>\n",
              "      <th>wind_speed</th>\n",
              "      <th>weather_code</th>\n",
              "      <th>is_holiday</th>\n",
              "      <th>is_weekend</th>\n",
              "      <th>season</th>\n",
              "    </tr>\n",
              "  </thead>\n",
              "  <tbody>\n",
              "    <tr>\n",
              "      <th>0</th>\n",
              "      <td>2015-01-04 00:00:00</td>\n",
              "      <td>182</td>\n",
              "      <td>3.0</td>\n",
              "      <td>2.0</td>\n",
              "      <td>93.0</td>\n",
              "      <td>6.0</td>\n",
              "      <td>3.0</td>\n",
              "      <td>0.0</td>\n",
              "      <td>1.0</td>\n",
              "      <td>3.0</td>\n",
              "    </tr>\n",
              "    <tr>\n",
              "      <th>1</th>\n",
              "      <td>2015-01-04 01:00:00</td>\n",
              "      <td>138</td>\n",
              "      <td>3.0</td>\n",
              "      <td>2.5</td>\n",
              "      <td>93.0</td>\n",
              "      <td>5.0</td>\n",
              "      <td>1.0</td>\n",
              "      <td>0.0</td>\n",
              "      <td>1.0</td>\n",
              "      <td>3.0</td>\n",
              "    </tr>\n",
              "    <tr>\n",
              "      <th>2</th>\n",
              "      <td>2015-01-04 02:00:00</td>\n",
              "      <td>134</td>\n",
              "      <td>2.5</td>\n",
              "      <td>2.5</td>\n",
              "      <td>96.5</td>\n",
              "      <td>0.0</td>\n",
              "      <td>1.0</td>\n",
              "      <td>0.0</td>\n",
              "      <td>1.0</td>\n",
              "      <td>3.0</td>\n",
              "    </tr>\n",
              "    <tr>\n",
              "      <th>3</th>\n",
              "      <td>2015-01-04 03:00:00</td>\n",
              "      <td>72</td>\n",
              "      <td>2.0</td>\n",
              "      <td>2.0</td>\n",
              "      <td>100.0</td>\n",
              "      <td>0.0</td>\n",
              "      <td>1.0</td>\n",
              "      <td>0.0</td>\n",
              "      <td>1.0</td>\n",
              "      <td>3.0</td>\n",
              "    </tr>\n",
              "    <tr>\n",
              "      <th>4</th>\n",
              "      <td>2015-01-04 04:00:00</td>\n",
              "      <td>47</td>\n",
              "      <td>2.0</td>\n",
              "      <td>0.0</td>\n",
              "      <td>93.0</td>\n",
              "      <td>6.5</td>\n",
              "      <td>1.0</td>\n",
              "      <td>0.0</td>\n",
              "      <td>1.0</td>\n",
              "      <td>3.0</td>\n",
              "    </tr>\n",
              "    <tr>\n",
              "      <th>5</th>\n",
              "      <td>2015-01-04 05:00:00</td>\n",
              "      <td>46</td>\n",
              "      <td>2.0</td>\n",
              "      <td>2.0</td>\n",
              "      <td>93.0</td>\n",
              "      <td>4.0</td>\n",
              "      <td>1.0</td>\n",
              "      <td>0.0</td>\n",
              "      <td>1.0</td>\n",
              "      <td>3.0</td>\n",
              "    </tr>\n",
              "    <tr>\n",
              "      <th>6</th>\n",
              "      <td>2015-01-04 06:00:00</td>\n",
              "      <td>51</td>\n",
              "      <td>1.0</td>\n",
              "      <td>-1.0</td>\n",
              "      <td>100.0</td>\n",
              "      <td>7.0</td>\n",
              "      <td>4.0</td>\n",
              "      <td>0.0</td>\n",
              "      <td>1.0</td>\n",
              "      <td>3.0</td>\n",
              "    </tr>\n",
              "    <tr>\n",
              "      <th>7</th>\n",
              "      <td>2015-01-04 07:00:00</td>\n",
              "      <td>75</td>\n",
              "      <td>1.0</td>\n",
              "      <td>-1.0</td>\n",
              "      <td>100.0</td>\n",
              "      <td>7.0</td>\n",
              "      <td>4.0</td>\n",
              "      <td>0.0</td>\n",
              "      <td>1.0</td>\n",
              "      <td>3.0</td>\n",
              "    </tr>\n",
              "    <tr>\n",
              "      <th>8</th>\n",
              "      <td>2015-01-04 08:00:00</td>\n",
              "      <td>131</td>\n",
              "      <td>1.5</td>\n",
              "      <td>-1.0</td>\n",
              "      <td>96.5</td>\n",
              "      <td>8.0</td>\n",
              "      <td>4.0</td>\n",
              "      <td>0.0</td>\n",
              "      <td>1.0</td>\n",
              "      <td>3.0</td>\n",
              "    </tr>\n",
              "    <tr>\n",
              "      <th>9</th>\n",
              "      <td>2015-01-04 09:00:00</td>\n",
              "      <td>301</td>\n",
              "      <td>2.0</td>\n",
              "      <td>-0.5</td>\n",
              "      <td>100.0</td>\n",
              "      <td>9.0</td>\n",
              "      <td>3.0</td>\n",
              "      <td>0.0</td>\n",
              "      <td>1.0</td>\n",
              "      <td>3.0</td>\n",
              "    </tr>\n",
              "  </tbody>\n",
              "</table>\n",
              "</div>\n",
              "    <div class=\"colab-df-buttons\">\n",
              "\n",
              "  <div class=\"colab-df-container\">\n",
              "    <button class=\"colab-df-convert\" onclick=\"convertToInteractive('df-d20da58e-d17d-49b6-bdd5-d52f38a0882a')\"\n",
              "            title=\"Convert this dataframe to an interactive table.\"\n",
              "            style=\"display:none;\">\n",
              "\n",
              "  <svg xmlns=\"http://www.w3.org/2000/svg\" height=\"24px\" viewBox=\"0 -960 960 960\">\n",
              "    <path d=\"M120-120v-720h720v720H120Zm60-500h600v-160H180v160Zm220 220h160v-160H400v160Zm0 220h160v-160H400v160ZM180-400h160v-160H180v160Zm440 0h160v-160H620v160ZM180-180h160v-160H180v160Zm440 0h160v-160H620v160Z\"/>\n",
              "  </svg>\n",
              "    </button>\n",
              "\n",
              "  <style>\n",
              "    .colab-df-container {\n",
              "      display:flex;\n",
              "      gap: 12px;\n",
              "    }\n",
              "\n",
              "    .colab-df-convert {\n",
              "      background-color: #E8F0FE;\n",
              "      border: none;\n",
              "      border-radius: 50%;\n",
              "      cursor: pointer;\n",
              "      display: none;\n",
              "      fill: #1967D2;\n",
              "      height: 32px;\n",
              "      padding: 0 0 0 0;\n",
              "      width: 32px;\n",
              "    }\n",
              "\n",
              "    .colab-df-convert:hover {\n",
              "      background-color: #E2EBFA;\n",
              "      box-shadow: 0px 1px 2px rgba(60, 64, 67, 0.3), 0px 1px 3px 1px rgba(60, 64, 67, 0.15);\n",
              "      fill: #174EA6;\n",
              "    }\n",
              "\n",
              "    .colab-df-buttons div {\n",
              "      margin-bottom: 4px;\n",
              "    }\n",
              "\n",
              "    [theme=dark] .colab-df-convert {\n",
              "      background-color: #3B4455;\n",
              "      fill: #D2E3FC;\n",
              "    }\n",
              "\n",
              "    [theme=dark] .colab-df-convert:hover {\n",
              "      background-color: #434B5C;\n",
              "      box-shadow: 0px 1px 3px 1px rgba(0, 0, 0, 0.15);\n",
              "      filter: drop-shadow(0px 1px 2px rgba(0, 0, 0, 0.3));\n",
              "      fill: #FFFFFF;\n",
              "    }\n",
              "  </style>\n",
              "\n",
              "    <script>\n",
              "      const buttonEl =\n",
              "        document.querySelector('#df-d20da58e-d17d-49b6-bdd5-d52f38a0882a button.colab-df-convert');\n",
              "      buttonEl.style.display =\n",
              "        google.colab.kernel.accessAllowed ? 'block' : 'none';\n",
              "\n",
              "      async function convertToInteractive(key) {\n",
              "        const element = document.querySelector('#df-d20da58e-d17d-49b6-bdd5-d52f38a0882a');\n",
              "        const dataTable =\n",
              "          await google.colab.kernel.invokeFunction('convertToInteractive',\n",
              "                                                    [key], {});\n",
              "        if (!dataTable) return;\n",
              "\n",
              "        const docLinkHtml = 'Like what you see? Visit the ' +\n",
              "          '<a target=\"_blank\" href=https://colab.research.google.com/notebooks/data_table.ipynb>data table notebook</a>'\n",
              "          + ' to learn more about interactive tables.';\n",
              "        element.innerHTML = '';\n",
              "        dataTable['output_type'] = 'display_data';\n",
              "        await google.colab.output.renderOutput(dataTable, element);\n",
              "        const docLink = document.createElement('div');\n",
              "        docLink.innerHTML = docLinkHtml;\n",
              "        element.appendChild(docLink);\n",
              "      }\n",
              "    </script>\n",
              "  </div>\n",
              "\n",
              "\n",
              "    <div id=\"df-33449b3a-4d66-4cf3-895a-f5fca4aaed02\">\n",
              "      <button class=\"colab-df-quickchart\" onclick=\"quickchart('df-33449b3a-4d66-4cf3-895a-f5fca4aaed02')\"\n",
              "                title=\"Suggest charts\"\n",
              "                style=\"display:none;\">\n",
              "\n",
              "<svg xmlns=\"http://www.w3.org/2000/svg\" height=\"24px\"viewBox=\"0 0 24 24\"\n",
              "     width=\"24px\">\n",
              "    <g>\n",
              "        <path d=\"M19 3H5c-1.1 0-2 .9-2 2v14c0 1.1.9 2 2 2h14c1.1 0 2-.9 2-2V5c0-1.1-.9-2-2-2zM9 17H7v-7h2v7zm4 0h-2V7h2v10zm4 0h-2v-4h2v4z\"/>\n",
              "    </g>\n",
              "</svg>\n",
              "      </button>\n",
              "\n",
              "<style>\n",
              "  .colab-df-quickchart {\n",
              "      --bg-color: #E8F0FE;\n",
              "      --fill-color: #1967D2;\n",
              "      --hover-bg-color: #E2EBFA;\n",
              "      --hover-fill-color: #174EA6;\n",
              "      --disabled-fill-color: #AAA;\n",
              "      --disabled-bg-color: #DDD;\n",
              "  }\n",
              "\n",
              "  [theme=dark] .colab-df-quickchart {\n",
              "      --bg-color: #3B4455;\n",
              "      --fill-color: #D2E3FC;\n",
              "      --hover-bg-color: #434B5C;\n",
              "      --hover-fill-color: #FFFFFF;\n",
              "      --disabled-bg-color: #3B4455;\n",
              "      --disabled-fill-color: #666;\n",
              "  }\n",
              "\n",
              "  .colab-df-quickchart {\n",
              "    background-color: var(--bg-color);\n",
              "    border: none;\n",
              "    border-radius: 50%;\n",
              "    cursor: pointer;\n",
              "    display: none;\n",
              "    fill: var(--fill-color);\n",
              "    height: 32px;\n",
              "    padding: 0;\n",
              "    width: 32px;\n",
              "  }\n",
              "\n",
              "  .colab-df-quickchart:hover {\n",
              "    background-color: var(--hover-bg-color);\n",
              "    box-shadow: 0 1px 2px rgba(60, 64, 67, 0.3), 0 1px 3px 1px rgba(60, 64, 67, 0.15);\n",
              "    fill: var(--button-hover-fill-color);\n",
              "  }\n",
              "\n",
              "  .colab-df-quickchart-complete:disabled,\n",
              "  .colab-df-quickchart-complete:disabled:hover {\n",
              "    background-color: var(--disabled-bg-color);\n",
              "    fill: var(--disabled-fill-color);\n",
              "    box-shadow: none;\n",
              "  }\n",
              "\n",
              "  .colab-df-spinner {\n",
              "    border: 2px solid var(--fill-color);\n",
              "    border-color: transparent;\n",
              "    border-bottom-color: var(--fill-color);\n",
              "    animation:\n",
              "      spin 1s steps(1) infinite;\n",
              "  }\n",
              "\n",
              "  @keyframes spin {\n",
              "    0% {\n",
              "      border-color: transparent;\n",
              "      border-bottom-color: var(--fill-color);\n",
              "      border-left-color: var(--fill-color);\n",
              "    }\n",
              "    20% {\n",
              "      border-color: transparent;\n",
              "      border-left-color: var(--fill-color);\n",
              "      border-top-color: var(--fill-color);\n",
              "    }\n",
              "    30% {\n",
              "      border-color: transparent;\n",
              "      border-left-color: var(--fill-color);\n",
              "      border-top-color: var(--fill-color);\n",
              "      border-right-color: var(--fill-color);\n",
              "    }\n",
              "    40% {\n",
              "      border-color: transparent;\n",
              "      border-right-color: var(--fill-color);\n",
              "      border-top-color: var(--fill-color);\n",
              "    }\n",
              "    60% {\n",
              "      border-color: transparent;\n",
              "      border-right-color: var(--fill-color);\n",
              "    }\n",
              "    80% {\n",
              "      border-color: transparent;\n",
              "      border-right-color: var(--fill-color);\n",
              "      border-bottom-color: var(--fill-color);\n",
              "    }\n",
              "    90% {\n",
              "      border-color: transparent;\n",
              "      border-bottom-color: var(--fill-color);\n",
              "    }\n",
              "  }\n",
              "</style>\n",
              "\n",
              "      <script>\n",
              "        async function quickchart(key) {\n",
              "          const quickchartButtonEl =\n",
              "            document.querySelector('#' + key + ' button');\n",
              "          quickchartButtonEl.disabled = true;  // To prevent multiple clicks.\n",
              "          quickchartButtonEl.classList.add('colab-df-spinner');\n",
              "          try {\n",
              "            const charts = await google.colab.kernel.invokeFunction(\n",
              "                'suggestCharts', [key], {});\n",
              "          } catch (error) {\n",
              "            console.error('Error during call to suggestCharts:', error);\n",
              "          }\n",
              "          quickchartButtonEl.classList.remove('colab-df-spinner');\n",
              "          quickchartButtonEl.classList.add('colab-df-quickchart-complete');\n",
              "        }\n",
              "        (() => {\n",
              "          let quickchartButtonEl =\n",
              "            document.querySelector('#df-33449b3a-4d66-4cf3-895a-f5fca4aaed02 button');\n",
              "          quickchartButtonEl.style.display =\n",
              "            google.colab.kernel.accessAllowed ? 'block' : 'none';\n",
              "        })();\n",
              "      </script>\n",
              "    </div>\n",
              "\n",
              "    </div>\n",
              "  </div>\n"
            ],
            "text/plain": [
              "             timestamp  cnt   t1   t2    hum  wind_speed  weather_code  \\\n",
              "0  2015-01-04 00:00:00  182  3.0  2.0   93.0         6.0           3.0   \n",
              "1  2015-01-04 01:00:00  138  3.0  2.5   93.0         5.0           1.0   \n",
              "2  2015-01-04 02:00:00  134  2.5  2.5   96.5         0.0           1.0   \n",
              "3  2015-01-04 03:00:00   72  2.0  2.0  100.0         0.0           1.0   \n",
              "4  2015-01-04 04:00:00   47  2.0  0.0   93.0         6.5           1.0   \n",
              "5  2015-01-04 05:00:00   46  2.0  2.0   93.0         4.0           1.0   \n",
              "6  2015-01-04 06:00:00   51  1.0 -1.0  100.0         7.0           4.0   \n",
              "7  2015-01-04 07:00:00   75  1.0 -1.0  100.0         7.0           4.0   \n",
              "8  2015-01-04 08:00:00  131  1.5 -1.0   96.5         8.0           4.0   \n",
              "9  2015-01-04 09:00:00  301  2.0 -0.5  100.0         9.0           3.0   \n",
              "\n",
              "   is_holiday  is_weekend  season  \n",
              "0         0.0         1.0     3.0  \n",
              "1         0.0         1.0     3.0  \n",
              "2         0.0         1.0     3.0  \n",
              "3         0.0         1.0     3.0  \n",
              "4         0.0         1.0     3.0  \n",
              "5         0.0         1.0     3.0  \n",
              "6         0.0         1.0     3.0  \n",
              "7         0.0         1.0     3.0  \n",
              "8         0.0         1.0     3.0  \n",
              "9         0.0         1.0     3.0  "
            ]
          },
          "execution_count": 8,
          "metadata": {},
          "output_type": "execute_result"
        }
      ],
      "source": [
        "df.head(10)"
      ]
    },
    {
      "cell_type": "code",
      "execution_count": null,
      "metadata": {
        "colab": {
          "base_uri": "https://localhost:8080/"
        },
        "id": "fGaMg90SdwCq",
        "outputId": "2b2c3055-5524-4993-f10f-91e31e3bd42a"
      },
      "outputs": [
        {
          "name": "stdout",
          "output_type": "stream",
          "text": [
            "<class 'pandas.core.frame.DataFrame'>\n",
            "RangeIndex: 17414 entries, 0 to 17413\n",
            "Data columns (total 10 columns):\n",
            " #   Column        Non-Null Count  Dtype  \n",
            "---  ------        --------------  -----  \n",
            " 0   timestamp     17414 non-null  object \n",
            " 1   cnt           17414 non-null  int64  \n",
            " 2   t1            17414 non-null  float64\n",
            " 3   t2            17414 non-null  float64\n",
            " 4   hum           17414 non-null  float64\n",
            " 5   wind_speed    17414 non-null  float64\n",
            " 6   weather_code  17414 non-null  float64\n",
            " 7   is_holiday    17414 non-null  float64\n",
            " 8   is_weekend    17414 non-null  float64\n",
            " 9   season        17414 non-null  float64\n",
            "dtypes: float64(8), int64(1), object(1)\n",
            "memory usage: 1.3+ MB\n"
          ]
        }
      ],
      "source": [
        "df.info()"
      ]
    },
    {
      "cell_type": "markdown",
      "metadata": {
        "id": "35kaoKlRd3X6"
      },
      "source": [
        "It seems like we don't have any null values in the dataset.\n",
        "\n",
        "We can also take a look at statistical values of columns."
      ]
    },
    {
      "cell_type": "code",
      "execution_count": null,
      "metadata": {
        "colab": {
          "base_uri": "https://localhost:8080/",
          "height": 317
        },
        "id": "xv6EHqFgd9jd",
        "outputId": "ace72198-9237-479c-8c93-99ddaf80c044"
      },
      "outputs": [
        {
          "data": {
            "application/vnd.google.colaboratory.intrinsic+json": {
              "summary": "{\n  \"name\": \"df\",\n  \"rows\": 8,\n  \"fields\": [\n    {\n      \"column\": \"cnt\",\n      \"properties\": {\n        \"dtype\": \"number\",\n        \"std\": 6053.483315578092,\n        \"min\": 0.0,\n        \"max\": 17414.0,\n        \"num_unique_values\": 8,\n        \"samples\": [\n          1143.1016423567244,\n          844.0,\n          17414.0\n        ],\n        \"semantic_type\": \"\",\n        \"description\": \"\"\n      }\n    },\n    {\n      \"column\": \"t1\",\n      \"properties\": {\n        \"dtype\": \"number\",\n        \"std\": 6152.391141013383,\n        \"min\": -1.5,\n        \"max\": 17414.0,\n        \"num_unique_values\": 8,\n        \"samples\": [\n          12.468090808162016,\n          12.5,\n          17414.0\n        ],\n        \"semantic_type\": \"\",\n        \"description\": \"\"\n      }\n    },\n    {\n      \"column\": \"t2\",\n      \"properties\": {\n        \"dtype\": \"number\",\n        \"std\": 6152.716319166452,\n        \"min\": -6.0,\n        \"max\": 17414.0,\n        \"num_unique_values\": 8,\n        \"samples\": [\n          11.52083572604418,\n          12.5,\n          17414.0\n        ],\n        \"semantic_type\": \"\",\n        \"description\": \"\"\n      }\n    },\n    {\n      \"column\": \"hum\",\n      \"properties\": {\n        \"dtype\": \"number\",\n        \"std\": 6135.251232785193,\n        \"min\": 14.313186095311346,\n        \"max\": 17414.0,\n        \"num_unique_values\": 8,\n        \"samples\": [\n          72.32495405995176,\n          74.5,\n          17414.0\n        ],\n        \"semantic_type\": \"\",\n        \"description\": \"\"\n      }\n    },\n    {\n      \"column\": \"wind_speed\",\n      \"properties\": {\n        \"dtype\": \"number\",\n        \"std\": 6150.447632628947,\n        \"min\": 0.0,\n        \"max\": 17414.0,\n        \"num_unique_values\": 8,\n        \"samples\": [\n          15.913063244133072,\n          15.0,\n          17414.0\n        ],\n        \"semantic_type\": \"\",\n        \"description\": \"\"\n      }\n    },\n    {\n      \"column\": \"weather_code\",\n      \"properties\": {\n        \"dtype\": \"number\",\n        \"std\": 6154.861992561643,\n        \"min\": 1.0,\n        \"max\": 17414.0,\n        \"num_unique_values\": 7,\n        \"samples\": [\n          17414.0,\n          2.722751808889399,\n          3.0\n        ],\n        \"semantic_type\": \"\",\n        \"description\": \"\"\n      }\n    },\n    {\n      \"column\": \"is_holiday\",\n      \"properties\": {\n        \"dtype\": \"number\",\n        \"std\": 6156.719714736463,\n        \"min\": 0.0,\n        \"max\": 17414.0,\n        \"num_unique_values\": 5,\n        \"samples\": [\n          0.02205122315378431,\n          1.0,\n          0.1468543671527554\n        ],\n        \"semantic_type\": \"\",\n        \"description\": \"\"\n      }\n    },\n    {\n      \"column\": \"is_weekend\",\n      \"properties\": {\n        \"dtype\": \"number\",\n        \"std\": 6156.640517430239,\n        \"min\": 0.0,\n        \"max\": 17414.0,\n        \"num_unique_values\": 5,\n        \"samples\": [\n          0.28540254967267714,\n          1.0,\n          0.4516189175710551\n        ],\n        \"semantic_type\": \"\",\n        \"description\": \"\"\n      }\n    },\n    {\n      \"column\": \"season\",\n      \"properties\": {\n        \"dtype\": \"number\",\n        \"std\": 6156.343903198221,\n        \"min\": 0.0,\n        \"max\": 17414.0,\n        \"num_unique_values\": 7,\n        \"samples\": [\n          17414.0,\n          1.4920753416791088,\n          2.0\n        ],\n        \"semantic_type\": \"\",\n        \"description\": \"\"\n      }\n    }\n  ]\n}",
              "type": "dataframe"
            },
            "text/html": [
              "\n",
              "  <div id=\"df-872f6900-0034-4c5a-990f-b5b586bbd428\" class=\"colab-df-container\">\n",
              "    <div>\n",
              "<style scoped>\n",
              "    .dataframe tbody tr th:only-of-type {\n",
              "        vertical-align: middle;\n",
              "    }\n",
              "\n",
              "    .dataframe tbody tr th {\n",
              "        vertical-align: top;\n",
              "    }\n",
              "\n",
              "    .dataframe thead th {\n",
              "        text-align: right;\n",
              "    }\n",
              "</style>\n",
              "<table border=\"1\" class=\"dataframe\">\n",
              "  <thead>\n",
              "    <tr style=\"text-align: right;\">\n",
              "      <th></th>\n",
              "      <th>cnt</th>\n",
              "      <th>t1</th>\n",
              "      <th>t2</th>\n",
              "      <th>hum</th>\n",
              "      <th>wind_speed</th>\n",
              "      <th>weather_code</th>\n",
              "      <th>is_holiday</th>\n",
              "      <th>is_weekend</th>\n",
              "      <th>season</th>\n",
              "    </tr>\n",
              "  </thead>\n",
              "  <tbody>\n",
              "    <tr>\n",
              "      <th>count</th>\n",
              "      <td>17414.000000</td>\n",
              "      <td>17414.000000</td>\n",
              "      <td>17414.000000</td>\n",
              "      <td>17414.000000</td>\n",
              "      <td>17414.000000</td>\n",
              "      <td>17414.000000</td>\n",
              "      <td>17414.000000</td>\n",
              "      <td>17414.000000</td>\n",
              "      <td>17414.000000</td>\n",
              "    </tr>\n",
              "    <tr>\n",
              "      <th>mean</th>\n",
              "      <td>1143.101642</td>\n",
              "      <td>12.468091</td>\n",
              "      <td>11.520836</td>\n",
              "      <td>72.324954</td>\n",
              "      <td>15.913063</td>\n",
              "      <td>2.722752</td>\n",
              "      <td>0.022051</td>\n",
              "      <td>0.285403</td>\n",
              "      <td>1.492075</td>\n",
              "    </tr>\n",
              "    <tr>\n",
              "      <th>std</th>\n",
              "      <td>1085.108068</td>\n",
              "      <td>5.571818</td>\n",
              "      <td>6.615145</td>\n",
              "      <td>14.313186</td>\n",
              "      <td>7.894570</td>\n",
              "      <td>2.341163</td>\n",
              "      <td>0.146854</td>\n",
              "      <td>0.451619</td>\n",
              "      <td>1.118911</td>\n",
              "    </tr>\n",
              "    <tr>\n",
              "      <th>min</th>\n",
              "      <td>0.000000</td>\n",
              "      <td>-1.500000</td>\n",
              "      <td>-6.000000</td>\n",
              "      <td>20.500000</td>\n",
              "      <td>0.000000</td>\n",
              "      <td>1.000000</td>\n",
              "      <td>0.000000</td>\n",
              "      <td>0.000000</td>\n",
              "      <td>0.000000</td>\n",
              "    </tr>\n",
              "    <tr>\n",
              "      <th>25%</th>\n",
              "      <td>257.000000</td>\n",
              "      <td>8.000000</td>\n",
              "      <td>6.000000</td>\n",
              "      <td>63.000000</td>\n",
              "      <td>10.000000</td>\n",
              "      <td>1.000000</td>\n",
              "      <td>0.000000</td>\n",
              "      <td>0.000000</td>\n",
              "      <td>0.000000</td>\n",
              "    </tr>\n",
              "    <tr>\n",
              "      <th>50%</th>\n",
              "      <td>844.000000</td>\n",
              "      <td>12.500000</td>\n",
              "      <td>12.500000</td>\n",
              "      <td>74.500000</td>\n",
              "      <td>15.000000</td>\n",
              "      <td>2.000000</td>\n",
              "      <td>0.000000</td>\n",
              "      <td>0.000000</td>\n",
              "      <td>1.000000</td>\n",
              "    </tr>\n",
              "    <tr>\n",
              "      <th>75%</th>\n",
              "      <td>1671.750000</td>\n",
              "      <td>16.000000</td>\n",
              "      <td>16.000000</td>\n",
              "      <td>83.000000</td>\n",
              "      <td>20.500000</td>\n",
              "      <td>3.000000</td>\n",
              "      <td>0.000000</td>\n",
              "      <td>1.000000</td>\n",
              "      <td>2.000000</td>\n",
              "    </tr>\n",
              "    <tr>\n",
              "      <th>max</th>\n",
              "      <td>7860.000000</td>\n",
              "      <td>34.000000</td>\n",
              "      <td>34.000000</td>\n",
              "      <td>100.000000</td>\n",
              "      <td>56.500000</td>\n",
              "      <td>26.000000</td>\n",
              "      <td>1.000000</td>\n",
              "      <td>1.000000</td>\n",
              "      <td>3.000000</td>\n",
              "    </tr>\n",
              "  </tbody>\n",
              "</table>\n",
              "</div>\n",
              "    <div class=\"colab-df-buttons\">\n",
              "\n",
              "  <div class=\"colab-df-container\">\n",
              "    <button class=\"colab-df-convert\" onclick=\"convertToInteractive('df-872f6900-0034-4c5a-990f-b5b586bbd428')\"\n",
              "            title=\"Convert this dataframe to an interactive table.\"\n",
              "            style=\"display:none;\">\n",
              "\n",
              "  <svg xmlns=\"http://www.w3.org/2000/svg\" height=\"24px\" viewBox=\"0 -960 960 960\">\n",
              "    <path d=\"M120-120v-720h720v720H120Zm60-500h600v-160H180v160Zm220 220h160v-160H400v160Zm0 220h160v-160H400v160ZM180-400h160v-160H180v160Zm440 0h160v-160H620v160ZM180-180h160v-160H180v160Zm440 0h160v-160H620v160Z\"/>\n",
              "  </svg>\n",
              "    </button>\n",
              "\n",
              "  <style>\n",
              "    .colab-df-container {\n",
              "      display:flex;\n",
              "      gap: 12px;\n",
              "    }\n",
              "\n",
              "    .colab-df-convert {\n",
              "      background-color: #E8F0FE;\n",
              "      border: none;\n",
              "      border-radius: 50%;\n",
              "      cursor: pointer;\n",
              "      display: none;\n",
              "      fill: #1967D2;\n",
              "      height: 32px;\n",
              "      padding: 0 0 0 0;\n",
              "      width: 32px;\n",
              "    }\n",
              "\n",
              "    .colab-df-convert:hover {\n",
              "      background-color: #E2EBFA;\n",
              "      box-shadow: 0px 1px 2px rgba(60, 64, 67, 0.3), 0px 1px 3px 1px rgba(60, 64, 67, 0.15);\n",
              "      fill: #174EA6;\n",
              "    }\n",
              "\n",
              "    .colab-df-buttons div {\n",
              "      margin-bottom: 4px;\n",
              "    }\n",
              "\n",
              "    [theme=dark] .colab-df-convert {\n",
              "      background-color: #3B4455;\n",
              "      fill: #D2E3FC;\n",
              "    }\n",
              "\n",
              "    [theme=dark] .colab-df-convert:hover {\n",
              "      background-color: #434B5C;\n",
              "      box-shadow: 0px 1px 3px 1px rgba(0, 0, 0, 0.15);\n",
              "      filter: drop-shadow(0px 1px 2px rgba(0, 0, 0, 0.3));\n",
              "      fill: #FFFFFF;\n",
              "    }\n",
              "  </style>\n",
              "\n",
              "    <script>\n",
              "      const buttonEl =\n",
              "        document.querySelector('#df-872f6900-0034-4c5a-990f-b5b586bbd428 button.colab-df-convert');\n",
              "      buttonEl.style.display =\n",
              "        google.colab.kernel.accessAllowed ? 'block' : 'none';\n",
              "\n",
              "      async function convertToInteractive(key) {\n",
              "        const element = document.querySelector('#df-872f6900-0034-4c5a-990f-b5b586bbd428');\n",
              "        const dataTable =\n",
              "          await google.colab.kernel.invokeFunction('convertToInteractive',\n",
              "                                                    [key], {});\n",
              "        if (!dataTable) return;\n",
              "\n",
              "        const docLinkHtml = 'Like what you see? Visit the ' +\n",
              "          '<a target=\"_blank\" href=https://colab.research.google.com/notebooks/data_table.ipynb>data table notebook</a>'\n",
              "          + ' to learn more about interactive tables.';\n",
              "        element.innerHTML = '';\n",
              "        dataTable['output_type'] = 'display_data';\n",
              "        await google.colab.output.renderOutput(dataTable, element);\n",
              "        const docLink = document.createElement('div');\n",
              "        docLink.innerHTML = docLinkHtml;\n",
              "        element.appendChild(docLink);\n",
              "      }\n",
              "    </script>\n",
              "  </div>\n",
              "\n",
              "\n",
              "    <div id=\"df-f238041f-2f0c-433d-ab85-e5aa19362c9d\">\n",
              "      <button class=\"colab-df-quickchart\" onclick=\"quickchart('df-f238041f-2f0c-433d-ab85-e5aa19362c9d')\"\n",
              "                title=\"Suggest charts\"\n",
              "                style=\"display:none;\">\n",
              "\n",
              "<svg xmlns=\"http://www.w3.org/2000/svg\" height=\"24px\"viewBox=\"0 0 24 24\"\n",
              "     width=\"24px\">\n",
              "    <g>\n",
              "        <path d=\"M19 3H5c-1.1 0-2 .9-2 2v14c0 1.1.9 2 2 2h14c1.1 0 2-.9 2-2V5c0-1.1-.9-2-2-2zM9 17H7v-7h2v7zm4 0h-2V7h2v10zm4 0h-2v-4h2v4z\"/>\n",
              "    </g>\n",
              "</svg>\n",
              "      </button>\n",
              "\n",
              "<style>\n",
              "  .colab-df-quickchart {\n",
              "      --bg-color: #E8F0FE;\n",
              "      --fill-color: #1967D2;\n",
              "      --hover-bg-color: #E2EBFA;\n",
              "      --hover-fill-color: #174EA6;\n",
              "      --disabled-fill-color: #AAA;\n",
              "      --disabled-bg-color: #DDD;\n",
              "  }\n",
              "\n",
              "  [theme=dark] .colab-df-quickchart {\n",
              "      --bg-color: #3B4455;\n",
              "      --fill-color: #D2E3FC;\n",
              "      --hover-bg-color: #434B5C;\n",
              "      --hover-fill-color: #FFFFFF;\n",
              "      --disabled-bg-color: #3B4455;\n",
              "      --disabled-fill-color: #666;\n",
              "  }\n",
              "\n",
              "  .colab-df-quickchart {\n",
              "    background-color: var(--bg-color);\n",
              "    border: none;\n",
              "    border-radius: 50%;\n",
              "    cursor: pointer;\n",
              "    display: none;\n",
              "    fill: var(--fill-color);\n",
              "    height: 32px;\n",
              "    padding: 0;\n",
              "    width: 32px;\n",
              "  }\n",
              "\n",
              "  .colab-df-quickchart:hover {\n",
              "    background-color: var(--hover-bg-color);\n",
              "    box-shadow: 0 1px 2px rgba(60, 64, 67, 0.3), 0 1px 3px 1px rgba(60, 64, 67, 0.15);\n",
              "    fill: var(--button-hover-fill-color);\n",
              "  }\n",
              "\n",
              "  .colab-df-quickchart-complete:disabled,\n",
              "  .colab-df-quickchart-complete:disabled:hover {\n",
              "    background-color: var(--disabled-bg-color);\n",
              "    fill: var(--disabled-fill-color);\n",
              "    box-shadow: none;\n",
              "  }\n",
              "\n",
              "  .colab-df-spinner {\n",
              "    border: 2px solid var(--fill-color);\n",
              "    border-color: transparent;\n",
              "    border-bottom-color: var(--fill-color);\n",
              "    animation:\n",
              "      spin 1s steps(1) infinite;\n",
              "  }\n",
              "\n",
              "  @keyframes spin {\n",
              "    0% {\n",
              "      border-color: transparent;\n",
              "      border-bottom-color: var(--fill-color);\n",
              "      border-left-color: var(--fill-color);\n",
              "    }\n",
              "    20% {\n",
              "      border-color: transparent;\n",
              "      border-left-color: var(--fill-color);\n",
              "      border-top-color: var(--fill-color);\n",
              "    }\n",
              "    30% {\n",
              "      border-color: transparent;\n",
              "      border-left-color: var(--fill-color);\n",
              "      border-top-color: var(--fill-color);\n",
              "      border-right-color: var(--fill-color);\n",
              "    }\n",
              "    40% {\n",
              "      border-color: transparent;\n",
              "      border-right-color: var(--fill-color);\n",
              "      border-top-color: var(--fill-color);\n",
              "    }\n",
              "    60% {\n",
              "      border-color: transparent;\n",
              "      border-right-color: var(--fill-color);\n",
              "    }\n",
              "    80% {\n",
              "      border-color: transparent;\n",
              "      border-right-color: var(--fill-color);\n",
              "      border-bottom-color: var(--fill-color);\n",
              "    }\n",
              "    90% {\n",
              "      border-color: transparent;\n",
              "      border-bottom-color: var(--fill-color);\n",
              "    }\n",
              "  }\n",
              "</style>\n",
              "\n",
              "      <script>\n",
              "        async function quickchart(key) {\n",
              "          const quickchartButtonEl =\n",
              "            document.querySelector('#' + key + ' button');\n",
              "          quickchartButtonEl.disabled = true;  // To prevent multiple clicks.\n",
              "          quickchartButtonEl.classList.add('colab-df-spinner');\n",
              "          try {\n",
              "            const charts = await google.colab.kernel.invokeFunction(\n",
              "                'suggestCharts', [key], {});\n",
              "          } catch (error) {\n",
              "            console.error('Error during call to suggestCharts:', error);\n",
              "          }\n",
              "          quickchartButtonEl.classList.remove('colab-df-spinner');\n",
              "          quickchartButtonEl.classList.add('colab-df-quickchart-complete');\n",
              "        }\n",
              "        (() => {\n",
              "          let quickchartButtonEl =\n",
              "            document.querySelector('#df-f238041f-2f0c-433d-ab85-e5aa19362c9d button');\n",
              "          quickchartButtonEl.style.display =\n",
              "            google.colab.kernel.accessAllowed ? 'block' : 'none';\n",
              "        })();\n",
              "      </script>\n",
              "    </div>\n",
              "\n",
              "    </div>\n",
              "  </div>\n"
            ],
            "text/plain": [
              "                cnt            t1            t2           hum    wind_speed  \\\n",
              "count  17414.000000  17414.000000  17414.000000  17414.000000  17414.000000   \n",
              "mean    1143.101642     12.468091     11.520836     72.324954     15.913063   \n",
              "std     1085.108068      5.571818      6.615145     14.313186      7.894570   \n",
              "min        0.000000     -1.500000     -6.000000     20.500000      0.000000   \n",
              "25%      257.000000      8.000000      6.000000     63.000000     10.000000   \n",
              "50%      844.000000     12.500000     12.500000     74.500000     15.000000   \n",
              "75%     1671.750000     16.000000     16.000000     83.000000     20.500000   \n",
              "max     7860.000000     34.000000     34.000000    100.000000     56.500000   \n",
              "\n",
              "       weather_code    is_holiday    is_weekend        season  \n",
              "count  17414.000000  17414.000000  17414.000000  17414.000000  \n",
              "mean       2.722752      0.022051      0.285403      1.492075  \n",
              "std        2.341163      0.146854      0.451619      1.118911  \n",
              "min        1.000000      0.000000      0.000000      0.000000  \n",
              "25%        1.000000      0.000000      0.000000      0.000000  \n",
              "50%        2.000000      0.000000      0.000000      1.000000  \n",
              "75%        3.000000      0.000000      1.000000      2.000000  \n",
              "max       26.000000      1.000000      1.000000      3.000000  "
            ]
          },
          "execution_count": 18,
          "metadata": {},
          "output_type": "execute_result"
        }
      ],
      "source": [
        "df.describe()"
      ]
    },
    {
      "cell_type": "markdown",
      "metadata": {
        "id": "JgS7lOXFTVXX"
      },
      "source": [
        "# Feature Engineering\n",
        "In the next step we prepare our data for later tasks.\n",
        "\n",
        "Let's convert all columns to numerical values."
      ]
    },
    {
      "cell_type": "code",
      "execution_count": null,
      "metadata": {
        "colab": {
          "base_uri": "https://localhost:8080/"
        },
        "id": "I-g84jWzToP8",
        "outputId": "9dd0e710-8f67-4d9d-a271-874f1bfd31f6"
      },
      "outputs": [
        {
          "output_type": "execute_result",
          "data": {
            "text/plain": [
              "Index(['timestamp'], dtype='object')"
            ]
          },
          "metadata": {},
          "execution_count": 19
        }
      ],
      "source": [
        "df.select_dtypes(include = object).columns"
      ]
    },
    {
      "cell_type": "markdown",
      "metadata": {
        "id": "e2MnNODtUXdA"
      },
      "source": [
        "The only non-numerical column is timestamp column.Let's take a look at it."
      ]
    },
    {
      "cell_type": "code",
      "execution_count": null,
      "metadata": {
        "colab": {
          "base_uri": "https://localhost:8080/",
          "height": 453
        },
        "id": "2-sndCdpUdIL",
        "outputId": "79c7428a-62d2-4fee-cd59-8b2a558369b6"
      },
      "outputs": [
        {
          "output_type": "execute_result",
          "data": {
            "text/plain": [
              "0        2015-01-04 00:00:00\n",
              "1        2015-01-04 01:00:00\n",
              "2        2015-01-04 02:00:00\n",
              "3        2015-01-04 03:00:00\n",
              "4        2015-01-04 04:00:00\n",
              "                ...         \n",
              "17409    2017-01-03 19:00:00\n",
              "17410    2017-01-03 20:00:00\n",
              "17411    2017-01-03 21:00:00\n",
              "17412    2017-01-03 22:00:00\n",
              "17413    2017-01-03 23:00:00\n",
              "Name: timestamp, Length: 17414, dtype: object"
            ],
            "text/html": [
              "<div>\n",
              "<style scoped>\n",
              "    .dataframe tbody tr th:only-of-type {\n",
              "        vertical-align: middle;\n",
              "    }\n",
              "\n",
              "    .dataframe tbody tr th {\n",
              "        vertical-align: top;\n",
              "    }\n",
              "\n",
              "    .dataframe thead th {\n",
              "        text-align: right;\n",
              "    }\n",
              "</style>\n",
              "<table border=\"1\" class=\"dataframe\">\n",
              "  <thead>\n",
              "    <tr style=\"text-align: right;\">\n",
              "      <th></th>\n",
              "      <th>timestamp</th>\n",
              "    </tr>\n",
              "  </thead>\n",
              "  <tbody>\n",
              "    <tr>\n",
              "      <th>0</th>\n",
              "      <td>2015-01-04 00:00:00</td>\n",
              "    </tr>\n",
              "    <tr>\n",
              "      <th>1</th>\n",
              "      <td>2015-01-04 01:00:00</td>\n",
              "    </tr>\n",
              "    <tr>\n",
              "      <th>2</th>\n",
              "      <td>2015-01-04 02:00:00</td>\n",
              "    </tr>\n",
              "    <tr>\n",
              "      <th>3</th>\n",
              "      <td>2015-01-04 03:00:00</td>\n",
              "    </tr>\n",
              "    <tr>\n",
              "      <th>4</th>\n",
              "      <td>2015-01-04 04:00:00</td>\n",
              "    </tr>\n",
              "    <tr>\n",
              "      <th>...</th>\n",
              "      <td>...</td>\n",
              "    </tr>\n",
              "    <tr>\n",
              "      <th>17409</th>\n",
              "      <td>2017-01-03 19:00:00</td>\n",
              "    </tr>\n",
              "    <tr>\n",
              "      <th>17410</th>\n",
              "      <td>2017-01-03 20:00:00</td>\n",
              "    </tr>\n",
              "    <tr>\n",
              "      <th>17411</th>\n",
              "      <td>2017-01-03 21:00:00</td>\n",
              "    </tr>\n",
              "    <tr>\n",
              "      <th>17412</th>\n",
              "      <td>2017-01-03 22:00:00</td>\n",
              "    </tr>\n",
              "    <tr>\n",
              "      <th>17413</th>\n",
              "      <td>2017-01-03 23:00:00</td>\n",
              "    </tr>\n",
              "  </tbody>\n",
              "</table>\n",
              "<p>17414 rows × 1 columns</p>\n",
              "</div><br><label><b>dtype:</b> object</label>"
            ]
          },
          "metadata": {},
          "execution_count": 20
        }
      ],
      "source": [
        "df['timestamp']"
      ]
    },
    {
      "cell_type": "markdown",
      "metadata": {
        "id": "Qy1ScmvpUi_a"
      },
      "source": [
        "Let's convert it to datetime object so we can break it to multiple columns for day, month, year, etc."
      ]
    },
    {
      "cell_type": "code",
      "execution_count": 290,
      "metadata": {
        "colab": {
          "base_uri": "https://localhost:8080/",
          "height": 453
        },
        "id": "JJlRzad2VZ6q",
        "outputId": "46d3e871-de70-40a5-c510-1e0eb814c50d"
      },
      "outputs": [
        {
          "output_type": "execute_result",
          "data": {
            "text/plain": [
              "0       2015-01-04 00:00:00\n",
              "1       2015-01-04 01:00:00\n",
              "2       2015-01-04 02:00:00\n",
              "3       2015-01-04 03:00:00\n",
              "4       2015-01-04 04:00:00\n",
              "                ...        \n",
              "17409   2017-01-03 19:00:00\n",
              "17410   2017-01-03 20:00:00\n",
              "17411   2017-01-03 21:00:00\n",
              "17412   2017-01-03 22:00:00\n",
              "17413   2017-01-03 23:00:00\n",
              "Name: timestamp, Length: 17414, dtype: datetime64[ns]"
            ],
            "text/html": [
              "<div>\n",
              "<style scoped>\n",
              "    .dataframe tbody tr th:only-of-type {\n",
              "        vertical-align: middle;\n",
              "    }\n",
              "\n",
              "    .dataframe tbody tr th {\n",
              "        vertical-align: top;\n",
              "    }\n",
              "\n",
              "    .dataframe thead th {\n",
              "        text-align: right;\n",
              "    }\n",
              "</style>\n",
              "<table border=\"1\" class=\"dataframe\">\n",
              "  <thead>\n",
              "    <tr style=\"text-align: right;\">\n",
              "      <th></th>\n",
              "      <th>timestamp</th>\n",
              "    </tr>\n",
              "  </thead>\n",
              "  <tbody>\n",
              "    <tr>\n",
              "      <th>0</th>\n",
              "      <td>2015-01-04 00:00:00</td>\n",
              "    </tr>\n",
              "    <tr>\n",
              "      <th>1</th>\n",
              "      <td>2015-01-04 01:00:00</td>\n",
              "    </tr>\n",
              "    <tr>\n",
              "      <th>2</th>\n",
              "      <td>2015-01-04 02:00:00</td>\n",
              "    </tr>\n",
              "    <tr>\n",
              "      <th>3</th>\n",
              "      <td>2015-01-04 03:00:00</td>\n",
              "    </tr>\n",
              "    <tr>\n",
              "      <th>4</th>\n",
              "      <td>2015-01-04 04:00:00</td>\n",
              "    </tr>\n",
              "    <tr>\n",
              "      <th>...</th>\n",
              "      <td>...</td>\n",
              "    </tr>\n",
              "    <tr>\n",
              "      <th>17409</th>\n",
              "      <td>2017-01-03 19:00:00</td>\n",
              "    </tr>\n",
              "    <tr>\n",
              "      <th>17410</th>\n",
              "      <td>2017-01-03 20:00:00</td>\n",
              "    </tr>\n",
              "    <tr>\n",
              "      <th>17411</th>\n",
              "      <td>2017-01-03 21:00:00</td>\n",
              "    </tr>\n",
              "    <tr>\n",
              "      <th>17412</th>\n",
              "      <td>2017-01-03 22:00:00</td>\n",
              "    </tr>\n",
              "    <tr>\n",
              "      <th>17413</th>\n",
              "      <td>2017-01-03 23:00:00</td>\n",
              "    </tr>\n",
              "  </tbody>\n",
              "</table>\n",
              "<p>17414 rows × 1 columns</p>\n",
              "</div><br><label><b>dtype:</b> datetime64[ns]</label>"
            ]
          },
          "metadata": {},
          "execution_count": 290
        }
      ],
      "source": [
        "df['timestamp'] = pd.to_datetime(df['timestamp'],format='%Y-%m-%d %H:%M:%S')\n",
        "df['timestamp']"
      ]
    },
    {
      "cell_type": "markdown",
      "metadata": {
        "id": "IBYUyxpuWNRW"
      },
      "source": [
        "Now let's break this column to multiple columns."
      ]
    },
    {
      "cell_type": "code",
      "execution_count": 291,
      "metadata": {
        "id": "VPZtcyicWWPt"
      },
      "outputs": [],
      "source": [
        "df['Year'] = df['timestamp'].dt.year\n",
        "df['Month'] = df['timestamp'].dt.month\n",
        "df['Day'] = df['timestamp'].dt.day\n",
        "df['Hour'] = df['timestamp'].dt.hour\n",
        "df['Minute'] = df['timestamp'].dt.minute\n",
        "df['Second'] = df['timestamp'].dt.second"
      ]
    },
    {
      "cell_type": "code",
      "execution_count": null,
      "metadata": {
        "colab": {
          "base_uri": "https://localhost:8080/",
          "height": 359
        },
        "id": "DHcpOMfKXGjU",
        "outputId": "cbd797fb-2687-42fc-b55e-3eda29fd683a"
      },
      "outputs": [
        {
          "data": {
            "application/vnd.google.colaboratory.intrinsic+json": {
              "summary": "{\n  \"name\": \"df[['Day','Year','Month','Hour','Minute','Second']]\",\n  \"rows\": 10,\n  \"fields\": [\n    {\n      \"column\": \"Day\",\n      \"properties\": {\n        \"dtype\": \"int32\",\n        \"num_unique_values\": 1,\n        \"samples\": [\n          4\n        ],\n        \"semantic_type\": \"\",\n        \"description\": \"\"\n      }\n    },\n    {\n      \"column\": \"Year\",\n      \"properties\": {\n        \"dtype\": \"int32\",\n        \"num_unique_values\": 1,\n        \"samples\": [\n          2015\n        ],\n        \"semantic_type\": \"\",\n        \"description\": \"\"\n      }\n    },\n    {\n      \"column\": \"Month\",\n      \"properties\": {\n        \"dtype\": \"int32\",\n        \"num_unique_values\": 1,\n        \"samples\": [\n          1\n        ],\n        \"semantic_type\": \"\",\n        \"description\": \"\"\n      }\n    },\n    {\n      \"column\": \"Hour\",\n      \"properties\": {\n        \"dtype\": \"int32\",\n        \"num_unique_values\": 10,\n        \"samples\": [\n          8\n        ],\n        \"semantic_type\": \"\",\n        \"description\": \"\"\n      }\n    },\n    {\n      \"column\": \"Minute\",\n      \"properties\": {\n        \"dtype\": \"int32\",\n        \"num_unique_values\": 1,\n        \"samples\": [\n          0\n        ],\n        \"semantic_type\": \"\",\n        \"description\": \"\"\n      }\n    },\n    {\n      \"column\": \"Second\",\n      \"properties\": {\n        \"dtype\": \"int32\",\n        \"num_unique_values\": 1,\n        \"samples\": [\n          0\n        ],\n        \"semantic_type\": \"\",\n        \"description\": \"\"\n      }\n    }\n  ]\n}",
              "type": "dataframe"
            },
            "text/html": [
              "\n",
              "  <div id=\"df-04caf6dd-f687-4959-be1e-ed6a64667e4d\" class=\"colab-df-container\">\n",
              "    <div>\n",
              "<style scoped>\n",
              "    .dataframe tbody tr th:only-of-type {\n",
              "        vertical-align: middle;\n",
              "    }\n",
              "\n",
              "    .dataframe tbody tr th {\n",
              "        vertical-align: top;\n",
              "    }\n",
              "\n",
              "    .dataframe thead th {\n",
              "        text-align: right;\n",
              "    }\n",
              "</style>\n",
              "<table border=\"1\" class=\"dataframe\">\n",
              "  <thead>\n",
              "    <tr style=\"text-align: right;\">\n",
              "      <th></th>\n",
              "      <th>Day</th>\n",
              "      <th>Year</th>\n",
              "      <th>Month</th>\n",
              "      <th>Hour</th>\n",
              "      <th>Minute</th>\n",
              "      <th>Second</th>\n",
              "    </tr>\n",
              "  </thead>\n",
              "  <tbody>\n",
              "    <tr>\n",
              "      <th>0</th>\n",
              "      <td>4</td>\n",
              "      <td>2015</td>\n",
              "      <td>1</td>\n",
              "      <td>0</td>\n",
              "      <td>0</td>\n",
              "      <td>0</td>\n",
              "    </tr>\n",
              "    <tr>\n",
              "      <th>1</th>\n",
              "      <td>4</td>\n",
              "      <td>2015</td>\n",
              "      <td>1</td>\n",
              "      <td>1</td>\n",
              "      <td>0</td>\n",
              "      <td>0</td>\n",
              "    </tr>\n",
              "    <tr>\n",
              "      <th>2</th>\n",
              "      <td>4</td>\n",
              "      <td>2015</td>\n",
              "      <td>1</td>\n",
              "      <td>2</td>\n",
              "      <td>0</td>\n",
              "      <td>0</td>\n",
              "    </tr>\n",
              "    <tr>\n",
              "      <th>3</th>\n",
              "      <td>4</td>\n",
              "      <td>2015</td>\n",
              "      <td>1</td>\n",
              "      <td>3</td>\n",
              "      <td>0</td>\n",
              "      <td>0</td>\n",
              "    </tr>\n",
              "    <tr>\n",
              "      <th>4</th>\n",
              "      <td>4</td>\n",
              "      <td>2015</td>\n",
              "      <td>1</td>\n",
              "      <td>4</td>\n",
              "      <td>0</td>\n",
              "      <td>0</td>\n",
              "    </tr>\n",
              "    <tr>\n",
              "      <th>5</th>\n",
              "      <td>4</td>\n",
              "      <td>2015</td>\n",
              "      <td>1</td>\n",
              "      <td>5</td>\n",
              "      <td>0</td>\n",
              "      <td>0</td>\n",
              "    </tr>\n",
              "    <tr>\n",
              "      <th>6</th>\n",
              "      <td>4</td>\n",
              "      <td>2015</td>\n",
              "      <td>1</td>\n",
              "      <td>6</td>\n",
              "      <td>0</td>\n",
              "      <td>0</td>\n",
              "    </tr>\n",
              "    <tr>\n",
              "      <th>7</th>\n",
              "      <td>4</td>\n",
              "      <td>2015</td>\n",
              "      <td>1</td>\n",
              "      <td>7</td>\n",
              "      <td>0</td>\n",
              "      <td>0</td>\n",
              "    </tr>\n",
              "    <tr>\n",
              "      <th>8</th>\n",
              "      <td>4</td>\n",
              "      <td>2015</td>\n",
              "      <td>1</td>\n",
              "      <td>8</td>\n",
              "      <td>0</td>\n",
              "      <td>0</td>\n",
              "    </tr>\n",
              "    <tr>\n",
              "      <th>9</th>\n",
              "      <td>4</td>\n",
              "      <td>2015</td>\n",
              "      <td>1</td>\n",
              "      <td>9</td>\n",
              "      <td>0</td>\n",
              "      <td>0</td>\n",
              "    </tr>\n",
              "  </tbody>\n",
              "</table>\n",
              "</div>\n",
              "    <div class=\"colab-df-buttons\">\n",
              "\n",
              "  <div class=\"colab-df-container\">\n",
              "    <button class=\"colab-df-convert\" onclick=\"convertToInteractive('df-04caf6dd-f687-4959-be1e-ed6a64667e4d')\"\n",
              "            title=\"Convert this dataframe to an interactive table.\"\n",
              "            style=\"display:none;\">\n",
              "\n",
              "  <svg xmlns=\"http://www.w3.org/2000/svg\" height=\"24px\" viewBox=\"0 -960 960 960\">\n",
              "    <path d=\"M120-120v-720h720v720H120Zm60-500h600v-160H180v160Zm220 220h160v-160H400v160Zm0 220h160v-160H400v160ZM180-400h160v-160H180v160Zm440 0h160v-160H620v160ZM180-180h160v-160H180v160Zm440 0h160v-160H620v160Z\"/>\n",
              "  </svg>\n",
              "    </button>\n",
              "\n",
              "  <style>\n",
              "    .colab-df-container {\n",
              "      display:flex;\n",
              "      gap: 12px;\n",
              "    }\n",
              "\n",
              "    .colab-df-convert {\n",
              "      background-color: #E8F0FE;\n",
              "      border: none;\n",
              "      border-radius: 50%;\n",
              "      cursor: pointer;\n",
              "      display: none;\n",
              "      fill: #1967D2;\n",
              "      height: 32px;\n",
              "      padding: 0 0 0 0;\n",
              "      width: 32px;\n",
              "    }\n",
              "\n",
              "    .colab-df-convert:hover {\n",
              "      background-color: #E2EBFA;\n",
              "      box-shadow: 0px 1px 2px rgba(60, 64, 67, 0.3), 0px 1px 3px 1px rgba(60, 64, 67, 0.15);\n",
              "      fill: #174EA6;\n",
              "    }\n",
              "\n",
              "    .colab-df-buttons div {\n",
              "      margin-bottom: 4px;\n",
              "    }\n",
              "\n",
              "    [theme=dark] .colab-df-convert {\n",
              "      background-color: #3B4455;\n",
              "      fill: #D2E3FC;\n",
              "    }\n",
              "\n",
              "    [theme=dark] .colab-df-convert:hover {\n",
              "      background-color: #434B5C;\n",
              "      box-shadow: 0px 1px 3px 1px rgba(0, 0, 0, 0.15);\n",
              "      filter: drop-shadow(0px 1px 2px rgba(0, 0, 0, 0.3));\n",
              "      fill: #FFFFFF;\n",
              "    }\n",
              "  </style>\n",
              "\n",
              "    <script>\n",
              "      const buttonEl =\n",
              "        document.querySelector('#df-04caf6dd-f687-4959-be1e-ed6a64667e4d button.colab-df-convert');\n",
              "      buttonEl.style.display =\n",
              "        google.colab.kernel.accessAllowed ? 'block' : 'none';\n",
              "\n",
              "      async function convertToInteractive(key) {\n",
              "        const element = document.querySelector('#df-04caf6dd-f687-4959-be1e-ed6a64667e4d');\n",
              "        const dataTable =\n",
              "          await google.colab.kernel.invokeFunction('convertToInteractive',\n",
              "                                                    [key], {});\n",
              "        if (!dataTable) return;\n",
              "\n",
              "        const docLinkHtml = 'Like what you see? Visit the ' +\n",
              "          '<a target=\"_blank\" href=https://colab.research.google.com/notebooks/data_table.ipynb>data table notebook</a>'\n",
              "          + ' to learn more about interactive tables.';\n",
              "        element.innerHTML = '';\n",
              "        dataTable['output_type'] = 'display_data';\n",
              "        await google.colab.output.renderOutput(dataTable, element);\n",
              "        const docLink = document.createElement('div');\n",
              "        docLink.innerHTML = docLinkHtml;\n",
              "        element.appendChild(docLink);\n",
              "      }\n",
              "    </script>\n",
              "  </div>\n",
              "\n",
              "\n",
              "    <div id=\"df-ee149fa7-beb5-4193-bb18-0cfc4f50ebd3\">\n",
              "      <button class=\"colab-df-quickchart\" onclick=\"quickchart('df-ee149fa7-beb5-4193-bb18-0cfc4f50ebd3')\"\n",
              "                title=\"Suggest charts\"\n",
              "                style=\"display:none;\">\n",
              "\n",
              "<svg xmlns=\"http://www.w3.org/2000/svg\" height=\"24px\"viewBox=\"0 0 24 24\"\n",
              "     width=\"24px\">\n",
              "    <g>\n",
              "        <path d=\"M19 3H5c-1.1 0-2 .9-2 2v14c0 1.1.9 2 2 2h14c1.1 0 2-.9 2-2V5c0-1.1-.9-2-2-2zM9 17H7v-7h2v7zm4 0h-2V7h2v10zm4 0h-2v-4h2v4z\"/>\n",
              "    </g>\n",
              "</svg>\n",
              "      </button>\n",
              "\n",
              "<style>\n",
              "  .colab-df-quickchart {\n",
              "      --bg-color: #E8F0FE;\n",
              "      --fill-color: #1967D2;\n",
              "      --hover-bg-color: #E2EBFA;\n",
              "      --hover-fill-color: #174EA6;\n",
              "      --disabled-fill-color: #AAA;\n",
              "      --disabled-bg-color: #DDD;\n",
              "  }\n",
              "\n",
              "  [theme=dark] .colab-df-quickchart {\n",
              "      --bg-color: #3B4455;\n",
              "      --fill-color: #D2E3FC;\n",
              "      --hover-bg-color: #434B5C;\n",
              "      --hover-fill-color: #FFFFFF;\n",
              "      --disabled-bg-color: #3B4455;\n",
              "      --disabled-fill-color: #666;\n",
              "  }\n",
              "\n",
              "  .colab-df-quickchart {\n",
              "    background-color: var(--bg-color);\n",
              "    border: none;\n",
              "    border-radius: 50%;\n",
              "    cursor: pointer;\n",
              "    display: none;\n",
              "    fill: var(--fill-color);\n",
              "    height: 32px;\n",
              "    padding: 0;\n",
              "    width: 32px;\n",
              "  }\n",
              "\n",
              "  .colab-df-quickchart:hover {\n",
              "    background-color: var(--hover-bg-color);\n",
              "    box-shadow: 0 1px 2px rgba(60, 64, 67, 0.3), 0 1px 3px 1px rgba(60, 64, 67, 0.15);\n",
              "    fill: var(--button-hover-fill-color);\n",
              "  }\n",
              "\n",
              "  .colab-df-quickchart-complete:disabled,\n",
              "  .colab-df-quickchart-complete:disabled:hover {\n",
              "    background-color: var(--disabled-bg-color);\n",
              "    fill: var(--disabled-fill-color);\n",
              "    box-shadow: none;\n",
              "  }\n",
              "\n",
              "  .colab-df-spinner {\n",
              "    border: 2px solid var(--fill-color);\n",
              "    border-color: transparent;\n",
              "    border-bottom-color: var(--fill-color);\n",
              "    animation:\n",
              "      spin 1s steps(1) infinite;\n",
              "  }\n",
              "\n",
              "  @keyframes spin {\n",
              "    0% {\n",
              "      border-color: transparent;\n",
              "      border-bottom-color: var(--fill-color);\n",
              "      border-left-color: var(--fill-color);\n",
              "    }\n",
              "    20% {\n",
              "      border-color: transparent;\n",
              "      border-left-color: var(--fill-color);\n",
              "      border-top-color: var(--fill-color);\n",
              "    }\n",
              "    30% {\n",
              "      border-color: transparent;\n",
              "      border-left-color: var(--fill-color);\n",
              "      border-top-color: var(--fill-color);\n",
              "      border-right-color: var(--fill-color);\n",
              "    }\n",
              "    40% {\n",
              "      border-color: transparent;\n",
              "      border-right-color: var(--fill-color);\n",
              "      border-top-color: var(--fill-color);\n",
              "    }\n",
              "    60% {\n",
              "      border-color: transparent;\n",
              "      border-right-color: var(--fill-color);\n",
              "    }\n",
              "    80% {\n",
              "      border-color: transparent;\n",
              "      border-right-color: var(--fill-color);\n",
              "      border-bottom-color: var(--fill-color);\n",
              "    }\n",
              "    90% {\n",
              "      border-color: transparent;\n",
              "      border-bottom-color: var(--fill-color);\n",
              "    }\n",
              "  }\n",
              "</style>\n",
              "\n",
              "      <script>\n",
              "        async function quickchart(key) {\n",
              "          const quickchartButtonEl =\n",
              "            document.querySelector('#' + key + ' button');\n",
              "          quickchartButtonEl.disabled = true;  // To prevent multiple clicks.\n",
              "          quickchartButtonEl.classList.add('colab-df-spinner');\n",
              "          try {\n",
              "            const charts = await google.colab.kernel.invokeFunction(\n",
              "                'suggestCharts', [key], {});\n",
              "          } catch (error) {\n",
              "            console.error('Error during call to suggestCharts:', error);\n",
              "          }\n",
              "          quickchartButtonEl.classList.remove('colab-df-spinner');\n",
              "          quickchartButtonEl.classList.add('colab-df-quickchart-complete');\n",
              "        }\n",
              "        (() => {\n",
              "          let quickchartButtonEl =\n",
              "            document.querySelector('#df-ee149fa7-beb5-4193-bb18-0cfc4f50ebd3 button');\n",
              "          quickchartButtonEl.style.display =\n",
              "            google.colab.kernel.accessAllowed ? 'block' : 'none';\n",
              "        })();\n",
              "      </script>\n",
              "    </div>\n",
              "\n",
              "    </div>\n",
              "  </div>\n"
            ],
            "text/plain": [
              "   Day  Year  Month  Hour  Minute  Second\n",
              "0    4  2015      1     0       0       0\n",
              "1    4  2015      1     1       0       0\n",
              "2    4  2015      1     2       0       0\n",
              "3    4  2015      1     3       0       0\n",
              "4    4  2015      1     4       0       0\n",
              "5    4  2015      1     5       0       0\n",
              "6    4  2015      1     6       0       0\n",
              "7    4  2015      1     7       0       0\n",
              "8    4  2015      1     8       0       0\n",
              "9    4  2015      1     9       0       0"
            ]
          },
          "execution_count": 85,
          "metadata": {},
          "output_type": "execute_result"
        }
      ],
      "source": [
        "df[['Day','Year','Month','Hour','Minute','Second']].head(10)"
      ]
    },
    {
      "cell_type": "markdown",
      "metadata": {
        "id": "HKzp96UoYBM2"
      },
      "source": [
        "Now we drop the timestamp column since we don't need it anymore."
      ]
    },
    {
      "cell_type": "code",
      "execution_count": 292,
      "metadata": {
        "colab": {
          "base_uri": "https://localhost:8080/",
          "height": 379
        },
        "id": "nwqDP-VwYGjs",
        "outputId": "54d97795-b70f-4f9f-fb2d-80e7112a863b"
      },
      "outputs": [
        {
          "output_type": "execute_result",
          "data": {
            "text/plain": [
              "   cnt   t1   t2    hum  wind_speed  weather_code  is_holiday  is_weekend  \\\n",
              "0  182  3.0  2.0   93.0         6.0           3.0         0.0         1.0   \n",
              "1  138  3.0  2.5   93.0         5.0           1.0         0.0         1.0   \n",
              "2  134  2.5  2.5   96.5         0.0           1.0         0.0         1.0   \n",
              "3   72  2.0  2.0  100.0         0.0           1.0         0.0         1.0   \n",
              "4   47  2.0  0.0   93.0         6.5           1.0         0.0         1.0   \n",
              "5   46  2.0  2.0   93.0         4.0           1.0         0.0         1.0   \n",
              "6   51  1.0 -1.0  100.0         7.0           4.0         0.0         1.0   \n",
              "7   75  1.0 -1.0  100.0         7.0           4.0         0.0         1.0   \n",
              "8  131  1.5 -1.0   96.5         8.0           4.0         0.0         1.0   \n",
              "9  301  2.0 -0.5  100.0         9.0           3.0         0.0         1.0   \n",
              "\n",
              "   season  Year  Month  Day  Hour  Minute  Second  \n",
              "0     3.0  2015      1    4     0       0       0  \n",
              "1     3.0  2015      1    4     1       0       0  \n",
              "2     3.0  2015      1    4     2       0       0  \n",
              "3     3.0  2015      1    4     3       0       0  \n",
              "4     3.0  2015      1    4     4       0       0  \n",
              "5     3.0  2015      1    4     5       0       0  \n",
              "6     3.0  2015      1    4     6       0       0  \n",
              "7     3.0  2015      1    4     7       0       0  \n",
              "8     3.0  2015      1    4     8       0       0  \n",
              "9     3.0  2015      1    4     9       0       0  "
            ],
            "text/html": [
              "\n",
              "  <div id=\"df-67cff6ba-5295-451b-8cfa-4846bc780b75\" class=\"colab-df-container\">\n",
              "    <div>\n",
              "<style scoped>\n",
              "    .dataframe tbody tr th:only-of-type {\n",
              "        vertical-align: middle;\n",
              "    }\n",
              "\n",
              "    .dataframe tbody tr th {\n",
              "        vertical-align: top;\n",
              "    }\n",
              "\n",
              "    .dataframe thead th {\n",
              "        text-align: right;\n",
              "    }\n",
              "</style>\n",
              "<table border=\"1\" class=\"dataframe\">\n",
              "  <thead>\n",
              "    <tr style=\"text-align: right;\">\n",
              "      <th></th>\n",
              "      <th>cnt</th>\n",
              "      <th>t1</th>\n",
              "      <th>t2</th>\n",
              "      <th>hum</th>\n",
              "      <th>wind_speed</th>\n",
              "      <th>weather_code</th>\n",
              "      <th>is_holiday</th>\n",
              "      <th>is_weekend</th>\n",
              "      <th>season</th>\n",
              "      <th>Year</th>\n",
              "      <th>Month</th>\n",
              "      <th>Day</th>\n",
              "      <th>Hour</th>\n",
              "      <th>Minute</th>\n",
              "      <th>Second</th>\n",
              "    </tr>\n",
              "  </thead>\n",
              "  <tbody>\n",
              "    <tr>\n",
              "      <th>0</th>\n",
              "      <td>182</td>\n",
              "      <td>3.0</td>\n",
              "      <td>2.0</td>\n",
              "      <td>93.0</td>\n",
              "      <td>6.0</td>\n",
              "      <td>3.0</td>\n",
              "      <td>0.0</td>\n",
              "      <td>1.0</td>\n",
              "      <td>3.0</td>\n",
              "      <td>2015</td>\n",
              "      <td>1</td>\n",
              "      <td>4</td>\n",
              "      <td>0</td>\n",
              "      <td>0</td>\n",
              "      <td>0</td>\n",
              "    </tr>\n",
              "    <tr>\n",
              "      <th>1</th>\n",
              "      <td>138</td>\n",
              "      <td>3.0</td>\n",
              "      <td>2.5</td>\n",
              "      <td>93.0</td>\n",
              "      <td>5.0</td>\n",
              "      <td>1.0</td>\n",
              "      <td>0.0</td>\n",
              "      <td>1.0</td>\n",
              "      <td>3.0</td>\n",
              "      <td>2015</td>\n",
              "      <td>1</td>\n",
              "      <td>4</td>\n",
              "      <td>1</td>\n",
              "      <td>0</td>\n",
              "      <td>0</td>\n",
              "    </tr>\n",
              "    <tr>\n",
              "      <th>2</th>\n",
              "      <td>134</td>\n",
              "      <td>2.5</td>\n",
              "      <td>2.5</td>\n",
              "      <td>96.5</td>\n",
              "      <td>0.0</td>\n",
              "      <td>1.0</td>\n",
              "      <td>0.0</td>\n",
              "      <td>1.0</td>\n",
              "      <td>3.0</td>\n",
              "      <td>2015</td>\n",
              "      <td>1</td>\n",
              "      <td>4</td>\n",
              "      <td>2</td>\n",
              "      <td>0</td>\n",
              "      <td>0</td>\n",
              "    </tr>\n",
              "    <tr>\n",
              "      <th>3</th>\n",
              "      <td>72</td>\n",
              "      <td>2.0</td>\n",
              "      <td>2.0</td>\n",
              "      <td>100.0</td>\n",
              "      <td>0.0</td>\n",
              "      <td>1.0</td>\n",
              "      <td>0.0</td>\n",
              "      <td>1.0</td>\n",
              "      <td>3.0</td>\n",
              "      <td>2015</td>\n",
              "      <td>1</td>\n",
              "      <td>4</td>\n",
              "      <td>3</td>\n",
              "      <td>0</td>\n",
              "      <td>0</td>\n",
              "    </tr>\n",
              "    <tr>\n",
              "      <th>4</th>\n",
              "      <td>47</td>\n",
              "      <td>2.0</td>\n",
              "      <td>0.0</td>\n",
              "      <td>93.0</td>\n",
              "      <td>6.5</td>\n",
              "      <td>1.0</td>\n",
              "      <td>0.0</td>\n",
              "      <td>1.0</td>\n",
              "      <td>3.0</td>\n",
              "      <td>2015</td>\n",
              "      <td>1</td>\n",
              "      <td>4</td>\n",
              "      <td>4</td>\n",
              "      <td>0</td>\n",
              "      <td>0</td>\n",
              "    </tr>\n",
              "    <tr>\n",
              "      <th>5</th>\n",
              "      <td>46</td>\n",
              "      <td>2.0</td>\n",
              "      <td>2.0</td>\n",
              "      <td>93.0</td>\n",
              "      <td>4.0</td>\n",
              "      <td>1.0</td>\n",
              "      <td>0.0</td>\n",
              "      <td>1.0</td>\n",
              "      <td>3.0</td>\n",
              "      <td>2015</td>\n",
              "      <td>1</td>\n",
              "      <td>4</td>\n",
              "      <td>5</td>\n",
              "      <td>0</td>\n",
              "      <td>0</td>\n",
              "    </tr>\n",
              "    <tr>\n",
              "      <th>6</th>\n",
              "      <td>51</td>\n",
              "      <td>1.0</td>\n",
              "      <td>-1.0</td>\n",
              "      <td>100.0</td>\n",
              "      <td>7.0</td>\n",
              "      <td>4.0</td>\n",
              "      <td>0.0</td>\n",
              "      <td>1.0</td>\n",
              "      <td>3.0</td>\n",
              "      <td>2015</td>\n",
              "      <td>1</td>\n",
              "      <td>4</td>\n",
              "      <td>6</td>\n",
              "      <td>0</td>\n",
              "      <td>0</td>\n",
              "    </tr>\n",
              "    <tr>\n",
              "      <th>7</th>\n",
              "      <td>75</td>\n",
              "      <td>1.0</td>\n",
              "      <td>-1.0</td>\n",
              "      <td>100.0</td>\n",
              "      <td>7.0</td>\n",
              "      <td>4.0</td>\n",
              "      <td>0.0</td>\n",
              "      <td>1.0</td>\n",
              "      <td>3.0</td>\n",
              "      <td>2015</td>\n",
              "      <td>1</td>\n",
              "      <td>4</td>\n",
              "      <td>7</td>\n",
              "      <td>0</td>\n",
              "      <td>0</td>\n",
              "    </tr>\n",
              "    <tr>\n",
              "      <th>8</th>\n",
              "      <td>131</td>\n",
              "      <td>1.5</td>\n",
              "      <td>-1.0</td>\n",
              "      <td>96.5</td>\n",
              "      <td>8.0</td>\n",
              "      <td>4.0</td>\n",
              "      <td>0.0</td>\n",
              "      <td>1.0</td>\n",
              "      <td>3.0</td>\n",
              "      <td>2015</td>\n",
              "      <td>1</td>\n",
              "      <td>4</td>\n",
              "      <td>8</td>\n",
              "      <td>0</td>\n",
              "      <td>0</td>\n",
              "    </tr>\n",
              "    <tr>\n",
              "      <th>9</th>\n",
              "      <td>301</td>\n",
              "      <td>2.0</td>\n",
              "      <td>-0.5</td>\n",
              "      <td>100.0</td>\n",
              "      <td>9.0</td>\n",
              "      <td>3.0</td>\n",
              "      <td>0.0</td>\n",
              "      <td>1.0</td>\n",
              "      <td>3.0</td>\n",
              "      <td>2015</td>\n",
              "      <td>1</td>\n",
              "      <td>4</td>\n",
              "      <td>9</td>\n",
              "      <td>0</td>\n",
              "      <td>0</td>\n",
              "    </tr>\n",
              "  </tbody>\n",
              "</table>\n",
              "</div>\n",
              "    <div class=\"colab-df-buttons\">\n",
              "\n",
              "  <div class=\"colab-df-container\">\n",
              "    <button class=\"colab-df-convert\" onclick=\"convertToInteractive('df-67cff6ba-5295-451b-8cfa-4846bc780b75')\"\n",
              "            title=\"Convert this dataframe to an interactive table.\"\n",
              "            style=\"display:none;\">\n",
              "\n",
              "  <svg xmlns=\"http://www.w3.org/2000/svg\" height=\"24px\" viewBox=\"0 -960 960 960\">\n",
              "    <path d=\"M120-120v-720h720v720H120Zm60-500h600v-160H180v160Zm220 220h160v-160H400v160Zm0 220h160v-160H400v160ZM180-400h160v-160H180v160Zm440 0h160v-160H620v160ZM180-180h160v-160H180v160Zm440 0h160v-160H620v160Z\"/>\n",
              "  </svg>\n",
              "    </button>\n",
              "\n",
              "  <style>\n",
              "    .colab-df-container {\n",
              "      display:flex;\n",
              "      gap: 12px;\n",
              "    }\n",
              "\n",
              "    .colab-df-convert {\n",
              "      background-color: #E8F0FE;\n",
              "      border: none;\n",
              "      border-radius: 50%;\n",
              "      cursor: pointer;\n",
              "      display: none;\n",
              "      fill: #1967D2;\n",
              "      height: 32px;\n",
              "      padding: 0 0 0 0;\n",
              "      width: 32px;\n",
              "    }\n",
              "\n",
              "    .colab-df-convert:hover {\n",
              "      background-color: #E2EBFA;\n",
              "      box-shadow: 0px 1px 2px rgba(60, 64, 67, 0.3), 0px 1px 3px 1px rgba(60, 64, 67, 0.15);\n",
              "      fill: #174EA6;\n",
              "    }\n",
              "\n",
              "    .colab-df-buttons div {\n",
              "      margin-bottom: 4px;\n",
              "    }\n",
              "\n",
              "    [theme=dark] .colab-df-convert {\n",
              "      background-color: #3B4455;\n",
              "      fill: #D2E3FC;\n",
              "    }\n",
              "\n",
              "    [theme=dark] .colab-df-convert:hover {\n",
              "      background-color: #434B5C;\n",
              "      box-shadow: 0px 1px 3px 1px rgba(0, 0, 0, 0.15);\n",
              "      filter: drop-shadow(0px 1px 2px rgba(0, 0, 0, 0.3));\n",
              "      fill: #FFFFFF;\n",
              "    }\n",
              "  </style>\n",
              "\n",
              "    <script>\n",
              "      const buttonEl =\n",
              "        document.querySelector('#df-67cff6ba-5295-451b-8cfa-4846bc780b75 button.colab-df-convert');\n",
              "      buttonEl.style.display =\n",
              "        google.colab.kernel.accessAllowed ? 'block' : 'none';\n",
              "\n",
              "      async function convertToInteractive(key) {\n",
              "        const element = document.querySelector('#df-67cff6ba-5295-451b-8cfa-4846bc780b75');\n",
              "        const dataTable =\n",
              "          await google.colab.kernel.invokeFunction('convertToInteractive',\n",
              "                                                    [key], {});\n",
              "        if (!dataTable) return;\n",
              "\n",
              "        const docLinkHtml = 'Like what you see? Visit the ' +\n",
              "          '<a target=\"_blank\" href=https://colab.research.google.com/notebooks/data_table.ipynb>data table notebook</a>'\n",
              "          + ' to learn more about interactive tables.';\n",
              "        element.innerHTML = '';\n",
              "        dataTable['output_type'] = 'display_data';\n",
              "        await google.colab.output.renderOutput(dataTable, element);\n",
              "        const docLink = document.createElement('div');\n",
              "        docLink.innerHTML = docLinkHtml;\n",
              "        element.appendChild(docLink);\n",
              "      }\n",
              "    </script>\n",
              "  </div>\n",
              "\n",
              "\n",
              "    <div id=\"df-42006b4e-e3a0-409d-94c0-1f7593d308e4\">\n",
              "      <button class=\"colab-df-quickchart\" onclick=\"quickchart('df-42006b4e-e3a0-409d-94c0-1f7593d308e4')\"\n",
              "                title=\"Suggest charts\"\n",
              "                style=\"display:none;\">\n",
              "\n",
              "<svg xmlns=\"http://www.w3.org/2000/svg\" height=\"24px\"viewBox=\"0 0 24 24\"\n",
              "     width=\"24px\">\n",
              "    <g>\n",
              "        <path d=\"M19 3H5c-1.1 0-2 .9-2 2v14c0 1.1.9 2 2 2h14c1.1 0 2-.9 2-2V5c0-1.1-.9-2-2-2zM9 17H7v-7h2v7zm4 0h-2V7h2v10zm4 0h-2v-4h2v4z\"/>\n",
              "    </g>\n",
              "</svg>\n",
              "      </button>\n",
              "\n",
              "<style>\n",
              "  .colab-df-quickchart {\n",
              "      --bg-color: #E8F0FE;\n",
              "      --fill-color: #1967D2;\n",
              "      --hover-bg-color: #E2EBFA;\n",
              "      --hover-fill-color: #174EA6;\n",
              "      --disabled-fill-color: #AAA;\n",
              "      --disabled-bg-color: #DDD;\n",
              "  }\n",
              "\n",
              "  [theme=dark] .colab-df-quickchart {\n",
              "      --bg-color: #3B4455;\n",
              "      --fill-color: #D2E3FC;\n",
              "      --hover-bg-color: #434B5C;\n",
              "      --hover-fill-color: #FFFFFF;\n",
              "      --disabled-bg-color: #3B4455;\n",
              "      --disabled-fill-color: #666;\n",
              "  }\n",
              "\n",
              "  .colab-df-quickchart {\n",
              "    background-color: var(--bg-color);\n",
              "    border: none;\n",
              "    border-radius: 50%;\n",
              "    cursor: pointer;\n",
              "    display: none;\n",
              "    fill: var(--fill-color);\n",
              "    height: 32px;\n",
              "    padding: 0;\n",
              "    width: 32px;\n",
              "  }\n",
              "\n",
              "  .colab-df-quickchart:hover {\n",
              "    background-color: var(--hover-bg-color);\n",
              "    box-shadow: 0 1px 2px rgba(60, 64, 67, 0.3), 0 1px 3px 1px rgba(60, 64, 67, 0.15);\n",
              "    fill: var(--button-hover-fill-color);\n",
              "  }\n",
              "\n",
              "  .colab-df-quickchart-complete:disabled,\n",
              "  .colab-df-quickchart-complete:disabled:hover {\n",
              "    background-color: var(--disabled-bg-color);\n",
              "    fill: var(--disabled-fill-color);\n",
              "    box-shadow: none;\n",
              "  }\n",
              "\n",
              "  .colab-df-spinner {\n",
              "    border: 2px solid var(--fill-color);\n",
              "    border-color: transparent;\n",
              "    border-bottom-color: var(--fill-color);\n",
              "    animation:\n",
              "      spin 1s steps(1) infinite;\n",
              "  }\n",
              "\n",
              "  @keyframes spin {\n",
              "    0% {\n",
              "      border-color: transparent;\n",
              "      border-bottom-color: var(--fill-color);\n",
              "      border-left-color: var(--fill-color);\n",
              "    }\n",
              "    20% {\n",
              "      border-color: transparent;\n",
              "      border-left-color: var(--fill-color);\n",
              "      border-top-color: var(--fill-color);\n",
              "    }\n",
              "    30% {\n",
              "      border-color: transparent;\n",
              "      border-left-color: var(--fill-color);\n",
              "      border-top-color: var(--fill-color);\n",
              "      border-right-color: var(--fill-color);\n",
              "    }\n",
              "    40% {\n",
              "      border-color: transparent;\n",
              "      border-right-color: var(--fill-color);\n",
              "      border-top-color: var(--fill-color);\n",
              "    }\n",
              "    60% {\n",
              "      border-color: transparent;\n",
              "      border-right-color: var(--fill-color);\n",
              "    }\n",
              "    80% {\n",
              "      border-color: transparent;\n",
              "      border-right-color: var(--fill-color);\n",
              "      border-bottom-color: var(--fill-color);\n",
              "    }\n",
              "    90% {\n",
              "      border-color: transparent;\n",
              "      border-bottom-color: var(--fill-color);\n",
              "    }\n",
              "  }\n",
              "</style>\n",
              "\n",
              "      <script>\n",
              "        async function quickchart(key) {\n",
              "          const quickchartButtonEl =\n",
              "            document.querySelector('#' + key + ' button');\n",
              "          quickchartButtonEl.disabled = true;  // To prevent multiple clicks.\n",
              "          quickchartButtonEl.classList.add('colab-df-spinner');\n",
              "          try {\n",
              "            const charts = await google.colab.kernel.invokeFunction(\n",
              "                'suggestCharts', [key], {});\n",
              "          } catch (error) {\n",
              "            console.error('Error during call to suggestCharts:', error);\n",
              "          }\n",
              "          quickchartButtonEl.classList.remove('colab-df-spinner');\n",
              "          quickchartButtonEl.classList.add('colab-df-quickchart-complete');\n",
              "        }\n",
              "        (() => {\n",
              "          let quickchartButtonEl =\n",
              "            document.querySelector('#df-42006b4e-e3a0-409d-94c0-1f7593d308e4 button');\n",
              "          quickchartButtonEl.style.display =\n",
              "            google.colab.kernel.accessAllowed ? 'block' : 'none';\n",
              "        })();\n",
              "      </script>\n",
              "    </div>\n",
              "\n",
              "    </div>\n",
              "  </div>\n"
            ],
            "application/vnd.google.colaboratory.intrinsic+json": {
              "type": "dataframe",
              "variable_name": "df",
              "summary": "{\n  \"name\": \"df\",\n  \"rows\": 17414,\n  \"fields\": [\n    {\n      \"column\": \"cnt\",\n      \"properties\": {\n        \"dtype\": \"number\",\n        \"std\": 1085,\n        \"min\": 0,\n        \"max\": 7860,\n        \"num_unique_values\": 3781,\n        \"samples\": [\n          1417,\n          2143,\n          3979\n        ],\n        \"semantic_type\": \"\",\n        \"description\": \"\"\n      }\n    },\n    {\n      \"column\": \"t1\",\n      \"properties\": {\n        \"dtype\": \"number\",\n        \"std\": 5.571817562920554,\n        \"min\": -1.5,\n        \"max\": 34.0,\n        \"num_unique_values\": 73,\n        \"samples\": [\n          1.5,\n          33.5,\n          4.5\n        ],\n        \"semantic_type\": \"\",\n        \"description\": \"\"\n      }\n    },\n    {\n      \"column\": \"t2\",\n      \"properties\": {\n        \"dtype\": \"number\",\n        \"std\": 6.615144673127985,\n        \"min\": -6.0,\n        \"max\": 34.0,\n        \"num_unique_values\": 82,\n        \"samples\": [\n          14.0,\n          2.0,\n          11.5\n        ],\n        \"semantic_type\": \"\",\n        \"description\": \"\"\n      }\n    },\n    {\n      \"column\": \"hum\",\n      \"properties\": {\n        \"dtype\": \"number\",\n        \"std\": 14.313186095311346,\n        \"min\": 20.5,\n        \"max\": 100.0,\n        \"num_unique_values\": 143,\n        \"samples\": [\n          29.5,\n          71.5,\n          40.0\n        ],\n        \"semantic_type\": \"\",\n        \"description\": \"\"\n      }\n    },\n    {\n      \"column\": \"wind_speed\",\n      \"properties\": {\n        \"dtype\": \"number\",\n        \"std\": 7.894570329361007,\n        \"min\": 0.0,\n        \"max\": 56.5,\n        \"num_unique_values\": 103,\n        \"samples\": [\n          30.0,\n          2.0,\n          23.5\n        ],\n        \"semantic_type\": \"\",\n        \"description\": \"\"\n      }\n    },\n    {\n      \"column\": \"weather_code\",\n      \"properties\": {\n        \"dtype\": \"number\",\n        \"std\": 2.3411632846457198,\n        \"min\": 1.0,\n        \"max\": 26.0,\n        \"num_unique_values\": 7,\n        \"samples\": [\n          3.0,\n          1.0,\n          26.0\n        ],\n        \"semantic_type\": \"\",\n        \"description\": \"\"\n      }\n    },\n    {\n      \"column\": \"is_holiday\",\n      \"properties\": {\n        \"dtype\": \"number\",\n        \"std\": 0.1468543671527554,\n        \"min\": 0.0,\n        \"max\": 1.0,\n        \"num_unique_values\": 2,\n        \"samples\": [\n          1.0,\n          0.0\n        ],\n        \"semantic_type\": \"\",\n        \"description\": \"\"\n      }\n    },\n    {\n      \"column\": \"is_weekend\",\n      \"properties\": {\n        \"dtype\": \"number\",\n        \"std\": 0.4516189175710551,\n        \"min\": 0.0,\n        \"max\": 1.0,\n        \"num_unique_values\": 2,\n        \"samples\": [\n          0.0,\n          1.0\n        ],\n        \"semantic_type\": \"\",\n        \"description\": \"\"\n      }\n    },\n    {\n      \"column\": \"season\",\n      \"properties\": {\n        \"dtype\": \"number\",\n        \"std\": 1.118910874827905,\n        \"min\": 0.0,\n        \"max\": 3.0,\n        \"num_unique_values\": 4,\n        \"samples\": [\n          0.0,\n          2.0\n        ],\n        \"semantic_type\": \"\",\n        \"description\": \"\"\n      }\n    },\n    {\n      \"column\": \"Year\",\n      \"properties\": {\n        \"dtype\": \"int32\",\n        \"num_unique_values\": 3,\n        \"samples\": [\n          2015,\n          2016\n        ],\n        \"semantic_type\": \"\",\n        \"description\": \"\"\n      }\n    },\n    {\n      \"column\": \"Month\",\n      \"properties\": {\n        \"dtype\": \"int32\",\n        \"num_unique_values\": 12,\n        \"samples\": [\n          11,\n          10\n        ],\n        \"semantic_type\": \"\",\n        \"description\": \"\"\n      }\n    },\n    {\n      \"column\": \"Day\",\n      \"properties\": {\n        \"dtype\": \"int32\",\n        \"num_unique_values\": 31,\n        \"samples\": [\n          31,\n          19\n        ],\n        \"semantic_type\": \"\",\n        \"description\": \"\"\n      }\n    },\n    {\n      \"column\": \"Hour\",\n      \"properties\": {\n        \"dtype\": \"int32\",\n        \"num_unique_values\": 24,\n        \"samples\": [\n          8,\n          16\n        ],\n        \"semantic_type\": \"\",\n        \"description\": \"\"\n      }\n    },\n    {\n      \"column\": \"Minute\",\n      \"properties\": {\n        \"dtype\": \"int32\",\n        \"num_unique_values\": 1,\n        \"samples\": [\n          0\n        ],\n        \"semantic_type\": \"\",\n        \"description\": \"\"\n      }\n    },\n    {\n      \"column\": \"Second\",\n      \"properties\": {\n        \"dtype\": \"int32\",\n        \"num_unique_values\": 1,\n        \"samples\": [\n          0\n        ],\n        \"semantic_type\": \"\",\n        \"description\": \"\"\n      }\n    }\n  ]\n}"
            }
          },
          "metadata": {},
          "execution_count": 292
        }
      ],
      "source": [
        "df = df.drop('timestamp',axis=1)\n",
        "df.head(10)"
      ]
    },
    {
      "cell_type": "markdown",
      "metadata": {
        "id": "-PaA7yXIknbb"
      },
      "source": [
        "Let's take a look at values in second and minute columns."
      ]
    },
    {
      "cell_type": "code",
      "execution_count": null,
      "metadata": {
        "colab": {
          "base_uri": "https://localhost:8080/"
        },
        "id": "lVsgP06KkrsI",
        "outputId": "d5e4fae4-cf99-4f42-9ee3-0c877e1ab5dc"
      },
      "outputs": [
        {
          "data": {
            "text/plain": [
              "array([0], dtype=int32)"
            ]
          },
          "execution_count": 11,
          "metadata": {},
          "output_type": "execute_result"
        }
      ],
      "source": [
        "df['Second'].unique()"
      ]
    },
    {
      "cell_type": "code",
      "execution_count": null,
      "metadata": {
        "colab": {
          "base_uri": "https://localhost:8080/"
        },
        "id": "lUYSAi-Gky_E",
        "outputId": "39fe1569-356c-431c-c4cd-23cc3716c103"
      },
      "outputs": [
        {
          "data": {
            "text/plain": [
              "array([0], dtype=int32)"
            ]
          },
          "execution_count": 12,
          "metadata": {},
          "output_type": "execute_result"
        }
      ],
      "source": [
        "df['Minute'].unique()"
      ]
    },
    {
      "cell_type": "markdown",
      "metadata": {
        "id": "RJ0QQqeZk2pr"
      },
      "source": [
        "Since all values are zero, let's drop this columns."
      ]
    },
    {
      "cell_type": "code",
      "execution_count": 293,
      "metadata": {
        "id": "xxa109vIk6ZD"
      },
      "outputs": [],
      "source": [
        "df = df.drop(['Second','Minute'],axis=1)"
      ]
    },
    {
      "cell_type": "markdown",
      "metadata": {
        "id": "2QuD2oB3ZB7e"
      },
      "source": [
        "Let's make sure all columns are numerical."
      ]
    },
    {
      "cell_type": "code",
      "execution_count": null,
      "metadata": {
        "colab": {
          "base_uri": "https://localhost:8080/"
        },
        "id": "SP8-bUDRZFiL",
        "outputId": "4cd93031-a581-41f7-e196-ec97f71bd92e"
      },
      "outputs": [
        {
          "name": "stdout",
          "output_type": "stream",
          "text": [
            "<class 'pandas.core.frame.DataFrame'>\n",
            "RangeIndex: 17414 entries, 0 to 17413\n",
            "Data columns (total 13 columns):\n",
            " #   Column        Non-Null Count  Dtype  \n",
            "---  ------        --------------  -----  \n",
            " 0   cnt           17414 non-null  int64  \n",
            " 1   t1            17414 non-null  float64\n",
            " 2   t2            17414 non-null  float64\n",
            " 3   hum           17414 non-null  float64\n",
            " 4   wind_speed    17414 non-null  float64\n",
            " 5   weather_code  17414 non-null  float64\n",
            " 6   is_holiday    17414 non-null  float64\n",
            " 7   is_weekend    17414 non-null  float64\n",
            " 8   season        17414 non-null  float64\n",
            " 9   Year          17414 non-null  int32  \n",
            " 10  Month         17414 non-null  int32  \n",
            " 11  Day           17414 non-null  int32  \n",
            " 12  Hour          17414 non-null  int32  \n",
            "dtypes: float64(8), int32(4), int64(1)\n",
            "memory usage: 1.5 MB\n"
          ]
        }
      ],
      "source": [
        "df.info()"
      ]
    },
    {
      "cell_type": "markdown",
      "metadata": {
        "id": "NLgDrh2dZMwu"
      },
      "source": [
        "# Data Cleaning\n",
        "Since we saw earlier that there is no missing value, let's just mkae sure that we dont have any duplicated rows as well."
      ]
    },
    {
      "cell_type": "code",
      "execution_count": null,
      "metadata": {
        "colab": {
          "base_uri": "https://localhost:8080/"
        },
        "id": "pMSpxmSRZX9O",
        "outputId": "ea03d92b-225b-4e0e-a744-2c9023aa981c"
      },
      "outputs": [
        {
          "data": {
            "text/plain": [
              "np.int64(0)"
            ]
          },
          "execution_count": 40,
          "metadata": {},
          "output_type": "execute_result"
        }
      ],
      "source": [
        "df.duplicated().sum()"
      ]
    },
    {
      "cell_type": "markdown",
      "metadata": {
        "id": "oCV_XL3wZd5z"
      },
      "source": [
        "# EDA\n",
        "Let's take a look at some of the features.\n",
        "\n",
        "We can visualize the distribution of bike counts for each season."
      ]
    },
    {
      "cell_type": "code",
      "execution_count": null,
      "metadata": {
        "colab": {
          "base_uri": "https://localhost:8080/",
          "height": 480
        },
        "id": "luWKlJ4ecB61",
        "outputId": "b1533cb2-e563-4cd6-abce-36a297668483"
      },
      "outputs": [
        {
          "data": {
            "image/png": "[encoded data removed]",
            "text/plain": [
              "<Figure size 640x480 with 1 Axes>"
            ]
          },
          "metadata": {},
          "output_type": "display_data"
        }
      ],
      "source": [
        "plt.bar(df['season'],df['cnt'],color = 'yellow')\n",
        "plt.xlabel('Season')\n",
        "plt.ylabel('Bike Count')\n",
        "plt.title('Bike Count per Season')\n",
        "plt.xticks([0,1,2,3],['Spring','Summer','Fall','Winter'])\n",
        "plt.show()"
      ]
    },
    {
      "cell_type": "markdown",
      "metadata": {
        "id": "1KmcsI5YeX6u"
      },
      "source": [
        "As we can see the bike rental improves in summer.\n",
        "Let's check the distribution of bike count in holiday and not-holiday days."
      ]
    },
    {
      "cell_type": "code",
      "execution_count": null,
      "metadata": {
        "colab": {
          "base_uri": "https://localhost:8080/",
          "height": 480
        },
        "id": "bw43w7VEerDp",
        "outputId": "67cd711c-89c4-4f51-fa9e-d1c9d2ee5d8c"
      },
      "outputs": [
        {
          "data": {
            "image/png": "[encoded data removed]",
            "text/plain": [
              "<Figure size 640x480 with 1 Axes>"
            ]
          },
          "metadata": {},
          "output_type": "display_data"
        }
      ],
      "source": [
        "plt.bar(df['is_holiday'],df['cnt'])\n",
        "plt.xlabel('Holiday')\n",
        "plt.ylabel('Bike Count')\n",
        "plt.title('Bike Count per Holiday')\n",
        "plt.xticks([0,1],['No','Yes'])\n",
        "plt.show()"
      ]
    },
    {
      "cell_type": "markdown",
      "metadata": {
        "id": "jdgkZApLgW-C"
      },
      "source": [
        "We can also check how weather affects bike rental.\n",
        "First we need to check what does each weather code means."
      ]
    },
    {
      "cell_type": "code",
      "execution_count": null,
      "metadata": {
        "id": "ieBaECmjghmD"
      },
      "outputs": [],
      "source": [
        "weather_map = { 1:'clear',\n",
        "                2:'scatteredClouds',\n",
        "                3:'brokenClouds',\n",
        "                4:'cloudy',\n",
        "                7:'lightRain',\n",
        "                10:'heavyRain',\n",
        "                26:'snowFall',\n",
        "                94:'freezingFog'}\n",
        "\n",
        "df['weather'] = df['weather_code'].map(weather_map)"
      ]
    },
    {
      "cell_type": "code",
      "execution_count": null,
      "metadata": {
        "colab": {
          "base_uri": "https://localhost:8080/",
          "height": 727
        },
        "id": "Wv4npam-gsXZ",
        "outputId": "4e484306-6ab7-44d2-e807-7980f57d0de1"
      },
      "outputs": [
        {
          "data": {
            "image/png": "[encoded data removed]",
            "text/plain": [
              "<Figure size 1000x800 with 1 Axes>"
            ]
          },
          "metadata": {},
          "output_type": "display_data"
        }
      ],
      "source": [
        "plt.figure(figsize=(10,8))\n",
        "plt.bar(df['weather'], df['cnt'])\n",
        "plt.title('Counts vs. Weather')\n",
        "plt.xlabel('Weather')\n",
        "plt.ylabel('Count')\n",
        "plt.show()"
      ]
    },
    {
      "cell_type": "markdown",
      "metadata": {
        "id": "8Srzd6ePnWyt"
      },
      "source": [
        "# Regression\n"
      ]
    },
    {
      "cell_type": "markdown",
      "metadata": {
        "id": "D_oX9tLWh_ZO"
      },
      "source": [
        "## Splitting into Train and Test sets\n",
        "Now it's time prepare our train and test sets.\n",
        "First we need to define our target.\n"
      ]
    },
    {
      "cell_type": "code",
      "execution_count": null,
      "metadata": {
        "id": "f5dn7CqcibSe"
      },
      "outputs": [],
      "source": [
        "df_copy = df.copy()\n",
        "y = df_copy.pop('cnt')\n",
        "X = df_copy"
      ]
    },
    {
      "cell_type": "code",
      "execution_count": null,
      "metadata": {
        "id": "xYDj8rQQiJXT"
      },
      "outputs": [],
      "source": [
        "from sklearn.model_selection import train_test_split\n",
        "X_train, X_test, y_train, y_test = train_test_split(X, y, test_size=0.2)"
      ]
    },
    {
      "cell_type": "code",
      "execution_count": null,
      "metadata": {
        "colab": {
          "base_uri": "https://localhost:8080/"
        },
        "id": "0Cti_oMti4ly",
        "outputId": "a49f4377-7551-4f5e-b1fe-aaeed7b56415"
      },
      "outputs": [
        {
          "name": "stdout",
          "output_type": "stream",
          "text": [
            "(13931, 13)\n",
            "(3483, 13)\n"
          ]
        }
      ],
      "source": [
        "print(X_train.shape)\n",
        "print(X_test.shape)"
      ]
    },
    {
      "cell_type": "markdown",
      "metadata": {
        "id": "WADbb9W3i60a"
      },
      "source": [
        "## Normalization/Standardization\n",
        "Now we normalize all our columns(except encoded ones), so they would be in the same range."
      ]
    },
    {
      "cell_type": "code",
      "execution_count": null,
      "metadata": {
        "id": "3REfs1o1jVZt"
      },
      "outputs": [],
      "source": [
        "from sklearn.preprocessing import MinMaxScaler\n",
        "scaler = MinMaxScaler()\n",
        "to_normalize = ['t1','t2','hum','wind_speed','Year','Month','Day','Hour']\n",
        "standard_scaling_columns = list(to_normalize)\n",
        "X_train[standard_scaling_columns] = scaler.fit_transform(X_train[standard_scaling_columns])\n",
        "X_test[standard_scaling_columns] = scaler.fit_transform(X_test[standard_scaling_columns])\n",
        "X_train.describe()\n",
        "y_train = pd.Series(scaler.fit_transform(y_train.values.reshape(-1, 1)).flatten(), index=y_train.index, name=y_train.name)\n",
        "y_test = pd.Series(scaler.transform(y_test.values.reshape(-1, 1)).flatten(), index=y_test.index, name=y_test.name)"
      ]
    },
    {
      "cell_type": "code",
      "execution_count": null,
      "metadata": {
        "colab": {
          "base_uri": "https://localhost:8080/",
          "height": 317
        },
        "id": "--QLHNj2nJDk",
        "outputId": "10b33814-1d1d-4d29-eae6-4b3692f6914c"
      },
      "outputs": [
        {
          "data": {
            "application/vnd.google.colaboratory.intrinsic+json": {
              "summary": "{\n  \"name\": \"X_train\",\n  \"rows\": 8,\n  \"fields\": [\n    {\n      \"column\": \"t1\",\n      \"properties\": {\n        \"dtype\": \"number\",\n        \"std\": 4925.214515382161,\n        \"min\": 0.0,\n        \"max\": 13931.0,\n        \"num_unique_values\": 8,\n        \"samples\": [\n          0.39814972432157136,\n          0.40000000000000013,\n          13931.0\n        ],\n        \"semantic_type\": \"\",\n        \"description\": \"\"\n      }\n    },\n    {\n      \"column\": \"t2\",\n      \"properties\": {\n        \"dtype\": \"number\",\n        \"std\": 4925.203874293599,\n        \"min\": 0.0,\n        \"max\": 13931.0,\n        \"num_unique_values\": 8,\n        \"samples\": [\n          0.4426560440895104,\n          0.4683544303797469,\n          13931.0\n        ],\n        \"semantic_type\": \"\",\n        \"description\": \"\"\n      }\n    },\n    {\n      \"column\": \"hum\",\n      \"properties\": {\n        \"dtype\": \"number\",\n        \"std\": 4925.1603083235095,\n        \"min\": 0.0,\n        \"max\": 13931.0,\n        \"num_unique_values\": 8,\n        \"samples\": [\n          0.6420756940281742,\n          0.6753246753246753,\n          13931.0\n        ],\n        \"semantic_type\": \"\",\n        \"description\": \"\"\n      }\n    },\n    {\n      \"column\": \"wind_speed\",\n      \"properties\": {\n        \"dtype\": \"number\",\n        \"std\": 4925.239844241953,\n        \"min\": 0.0,\n        \"max\": 13931.0,\n        \"num_unique_values\": 8,\n        \"samples\": [\n          0.2816048290256508,\n          0.2654867256637168,\n          13931.0\n        ],\n        \"semantic_type\": \"\",\n        \"description\": \"\"\n      }\n    },\n    {\n      \"column\": \"weather_code\",\n      \"properties\": {\n        \"dtype\": \"number\",\n        \"std\": 4923.436781715241,\n        \"min\": 1.0,\n        \"max\": 13931.0,\n        \"num_unique_values\": 7,\n        \"samples\": [\n          13931.0,\n          2.7323953772162803,\n          3.0\n        ],\n        \"semantic_type\": \"\",\n        \"description\": \"\"\n      }\n    },\n    {\n      \"column\": \"is_holiday\",\n      \"properties\": {\n        \"dtype\": \"number\",\n        \"std\": 4925.293137869391,\n        \"min\": 0.0,\n        \"max\": 13931.0,\n        \"num_unique_values\": 5,\n        \"samples\": [\n          0.02261144210752997,\n          1.0,\n          0.1486665776465123\n        ],\n        \"semantic_type\": \"\",\n        \"description\": \"\"\n      }\n    },\n    {\n      \"column\": \"is_weekend\",\n      \"properties\": {\n        \"dtype\": \"number\",\n        \"std\": 4925.214071748432,\n        \"min\": 0.0,\n        \"max\": 13931.0,\n        \"num_unique_values\": 5,\n        \"samples\": [\n          0.2852630823343622,\n          1.0,\n          0.45155585790366054\n        ],\n        \"semantic_type\": \"\",\n        \"description\": \"\"\n      }\n    },\n    {\n      \"column\": \"season\",\n      \"properties\": {\n        \"dtype\": \"number\",\n        \"std\": 4924.765379538497,\n        \"min\": 0.0,\n        \"max\": 13931.0,\n        \"num_unique_values\": 7,\n        \"samples\": [\n          13931.0,\n          1.503194314837413,\n          2.0\n        ],\n        \"semantic_type\": \"\",\n        \"description\": \"\"\n      }\n    },\n    {\n      \"column\": \"Year\",\n      \"properties\": {\n        \"dtype\": \"number\",\n        \"std\": 4925.225636013556,\n        \"min\": 0.0,\n        \"max\": 13931.0,\n        \"num_unique_values\": 6,\n        \"samples\": [\n          13931.0,\n          0.25331993396023256,\n          1.0\n        ],\n        \"semantic_type\": \"\",\n        \"description\": \"\"\n      }\n    },\n    {\n      \"column\": \"Month\",\n      \"properties\": {\n        \"dtype\": \"number\",\n        \"std\": 4925.177876385377,\n        \"min\": 0.0,\n        \"max\": 13931.0,\n        \"num_unique_values\": 8,\n        \"samples\": [\n          0.5020327458056265,\n          0.5454545454545455,\n          13931.0\n        ],\n        \"semantic_type\": \"\",\n        \"description\": \"\"\n      }\n    },\n    {\n      \"column\": \"Day\",\n      \"properties\": {\n        \"dtype\": \"number\",\n        \"std\": 4925.1880445568995,\n        \"min\": 0.0,\n        \"max\": 13931.0,\n        \"num_unique_values\": 8,\n        \"samples\": [\n          0.49199866006269,\n          0.5000000000000001,\n          13931.0\n        ],\n        \"semantic_type\": \"\",\n        \"description\": \"\"\n      }\n    },\n    {\n      \"column\": \"Hour\",\n      \"properties\": {\n        \"dtype\": \"number\",\n        \"std\": 4925.1844647464495,\n        \"min\": 0.0,\n        \"max\": 13931.0,\n        \"num_unique_values\": 8,\n        \"samples\": [\n          0.49969570523043694,\n          0.5217391304347826,\n          13931.0\n        ],\n        \"semantic_type\": \"\",\n        \"description\": \"\"\n      }\n    }\n  ]\n}",
              "type": "dataframe"
            },
            "text/html": [
              "\n",
              "  <div id=\"df-6a5e401b-15d4-47ff-961e-016b67402ed4\" class=\"colab-df-container\">\n",
              "    <div>\n",
              "<style scoped>\n",
              "    .dataframe tbody tr th:only-of-type {\n",
              "        vertical-align: middle;\n",
              "    }\n",
              "\n",
              "    .dataframe tbody tr th {\n",
              "        vertical-align: top;\n",
              "    }\n",
              "\n",
              "    .dataframe thead th {\n",
              "        text-align: right;\n",
              "    }\n",
              "</style>\n",
              "<table border=\"1\" class=\"dataframe\">\n",
              "  <thead>\n",
              "    <tr style=\"text-align: right;\">\n",
              "      <th></th>\n",
              "      <th>t1</th>\n",
              "      <th>t2</th>\n",
              "      <th>hum</th>\n",
              "      <th>wind_speed</th>\n",
              "      <th>weather_code</th>\n",
              "      <th>is_holiday</th>\n",
              "      <th>is_weekend</th>\n",
              "      <th>season</th>\n",
              "      <th>Year</th>\n",
              "      <th>Month</th>\n",
              "      <th>Day</th>\n",
              "      <th>Hour</th>\n",
              "    </tr>\n",
              "  </thead>\n",
              "  <tbody>\n",
              "    <tr>\n",
              "      <th>count</th>\n",
              "      <td>13931.000000</td>\n",
              "      <td>13931.000000</td>\n",
              "      <td>13931.000000</td>\n",
              "      <td>13931.000000</td>\n",
              "      <td>13931.000000</td>\n",
              "      <td>13931.000000</td>\n",
              "      <td>13931.000000</td>\n",
              "      <td>13931.000000</td>\n",
              "      <td>13931.000000</td>\n",
              "      <td>13931.000000</td>\n",
              "      <td>13931.000000</td>\n",
              "      <td>13931.000000</td>\n",
              "    </tr>\n",
              "    <tr>\n",
              "      <th>mean</th>\n",
              "      <td>0.398150</td>\n",
              "      <td>0.442656</td>\n",
              "      <td>0.642076</td>\n",
              "      <td>0.281605</td>\n",
              "      <td>2.732395</td>\n",
              "      <td>0.022611</td>\n",
              "      <td>0.285263</td>\n",
              "      <td>1.503194</td>\n",
              "      <td>0.253320</td>\n",
              "      <td>0.502033</td>\n",
              "      <td>0.491999</td>\n",
              "      <td>0.499696</td>\n",
              "    </tr>\n",
              "    <tr>\n",
              "      <th>std</th>\n",
              "      <td>0.158282</td>\n",
              "      <td>0.166775</td>\n",
              "      <td>0.185035</td>\n",
              "      <td>0.139465</td>\n",
              "      <td>2.335352</td>\n",
              "      <td>0.148667</td>\n",
              "      <td>0.451556</td>\n",
              "      <td>1.119000</td>\n",
              "      <td>0.254399</td>\n",
              "      <td>0.314903</td>\n",
              "      <td>0.293306</td>\n",
              "      <td>0.301423</td>\n",
              "    </tr>\n",
              "    <tr>\n",
              "      <th>min</th>\n",
              "      <td>0.000000</td>\n",
              "      <td>0.000000</td>\n",
              "      <td>0.000000</td>\n",
              "      <td>0.000000</td>\n",
              "      <td>1.000000</td>\n",
              "      <td>0.000000</td>\n",
              "      <td>0.000000</td>\n",
              "      <td>0.000000</td>\n",
              "      <td>0.000000</td>\n",
              "      <td>0.000000</td>\n",
              "      <td>0.000000</td>\n",
              "      <td>0.000000</td>\n",
              "    </tr>\n",
              "    <tr>\n",
              "      <th>25%</th>\n",
              "      <td>0.271429</td>\n",
              "      <td>0.303797</td>\n",
              "      <td>0.519481</td>\n",
              "      <td>0.176991</td>\n",
              "      <td>1.000000</td>\n",
              "      <td>0.000000</td>\n",
              "      <td>0.000000</td>\n",
              "      <td>1.000000</td>\n",
              "      <td>0.000000</td>\n",
              "      <td>0.272727</td>\n",
              "      <td>0.233333</td>\n",
              "      <td>0.217391</td>\n",
              "    </tr>\n",
              "    <tr>\n",
              "      <th>50%</th>\n",
              "      <td>0.400000</td>\n",
              "      <td>0.468354</td>\n",
              "      <td>0.675325</td>\n",
              "      <td>0.265487</td>\n",
              "      <td>2.000000</td>\n",
              "      <td>0.000000</td>\n",
              "      <td>0.000000</td>\n",
              "      <td>2.000000</td>\n",
              "      <td>0.500000</td>\n",
              "      <td>0.545455</td>\n",
              "      <td>0.500000</td>\n",
              "      <td>0.521739</td>\n",
              "    </tr>\n",
              "    <tr>\n",
              "      <th>75%</th>\n",
              "      <td>0.500000</td>\n",
              "      <td>0.556962</td>\n",
              "      <td>0.779221</td>\n",
              "      <td>0.362832</td>\n",
              "      <td>3.000000</td>\n",
              "      <td>0.000000</td>\n",
              "      <td>1.000000</td>\n",
              "      <td>3.000000</td>\n",
              "      <td>0.500000</td>\n",
              "      <td>0.818182</td>\n",
              "      <td>0.733333</td>\n",
              "      <td>0.782609</td>\n",
              "    </tr>\n",
              "    <tr>\n",
              "      <th>max</th>\n",
              "      <td>1.000000</td>\n",
              "      <td>1.000000</td>\n",
              "      <td>1.000000</td>\n",
              "      <td>1.000000</td>\n",
              "      <td>26.000000</td>\n",
              "      <td>1.000000</td>\n",
              "      <td>1.000000</td>\n",
              "      <td>3.000000</td>\n",
              "      <td>1.000000</td>\n",
              "      <td>1.000000</td>\n",
              "      <td>1.000000</td>\n",
              "      <td>1.000000</td>\n",
              "    </tr>\n",
              "  </tbody>\n",
              "</table>\n",
              "</div>\n",
              "    <div class=\"colab-df-buttons\">\n",
              "\n",
              "  <div class=\"colab-df-container\">\n",
              "    <button class=\"colab-df-convert\" onclick=\"convertToInteractive('df-6a5e401b-15d4-47ff-961e-016b67402ed4')\"\n",
              "            title=\"Convert this dataframe to an interactive table.\"\n",
              "            style=\"display:none;\">\n",
              "\n",
              "  <svg xmlns=\"http://www.w3.org/2000/svg\" height=\"24px\" viewBox=\"0 -960 960 960\">\n",
              "    <path d=\"M120-120v-720h720v720H120Zm60-500h600v-160H180v160Zm220 220h160v-160H400v160Zm0 220h160v-160H400v160ZM180-400h160v-160H180v160Zm440 0h160v-160H620v160ZM180-180h160v-160H180v160Zm440 0h160v-160H620v160Z\"/>\n",
              "  </svg>\n",
              "    </button>\n",
              "\n",
              "  <style>\n",
              "    .colab-df-container {\n",
              "      display:flex;\n",
              "      gap: 12px;\n",
              "    }\n",
              "\n",
              "    .colab-df-convert {\n",
              "      background-color: #E8F0FE;\n",
              "      border: none;\n",
              "      border-radius: 50%;\n",
              "      cursor: pointer;\n",
              "      display: none;\n",
              "      fill: #1967D2;\n",
              "      height: 32px;\n",
              "      padding: 0 0 0 0;\n",
              "      width: 32px;\n",
              "    }\n",
              "\n",
              "    .colab-df-convert:hover {\n",
              "      background-color: #E2EBFA;\n",
              "      box-shadow: 0px 1px 2px rgba(60, 64, 67, 0.3), 0px 1px 3px 1px rgba(60, 64, 67, 0.15);\n",
              "      fill: #174EA6;\n",
              "    }\n",
              "\n",
              "    .colab-df-buttons div {\n",
              "      margin-bottom: 4px;\n",
              "    }\n",
              "\n",
              "    [theme=dark] .colab-df-convert {\n",
              "      background-color: #3B4455;\n",
              "      fill: #D2E3FC;\n",
              "    }\n",
              "\n",
              "    [theme=dark] .colab-df-convert:hover {\n",
              "      background-color: #434B5C;\n",
              "      box-shadow: 0px 1px 3px 1px rgba(0, 0, 0, 0.15);\n",
              "      filter: drop-shadow(0px 1px 2px rgba(0, 0, 0, 0.3));\n",
              "      fill: #FFFFFF;\n",
              "    }\n",
              "  </style>\n",
              "\n",
              "    <script>\n",
              "      const buttonEl =\n",
              "        document.querySelector('#df-6a5e401b-15d4-47ff-961e-016b67402ed4 button.colab-df-convert');\n",
              "      buttonEl.style.display =\n",
              "        google.colab.kernel.accessAllowed ? 'block' : 'none';\n",
              "\n",
              "      async function convertToInteractive(key) {\n",
              "        const element = document.querySelector('#df-6a5e401b-15d4-47ff-961e-016b67402ed4');\n",
              "        const dataTable =\n",
              "          await google.colab.kernel.invokeFunction('convertToInteractive',\n",
              "                                                    [key], {});\n",
              "        if (!dataTable) return;\n",
              "\n",
              "        const docLinkHtml = 'Like what you see? Visit the ' +\n",
              "          '<a target=\"_blank\" href=https://colab.research.google.com/notebooks/data_table.ipynb>data table notebook</a>'\n",
              "          + ' to learn more about interactive tables.';\n",
              "        element.innerHTML = '';\n",
              "        dataTable['output_type'] = 'display_data';\n",
              "        await google.colab.output.renderOutput(dataTable, element);\n",
              "        const docLink = document.createElement('div');\n",
              "        docLink.innerHTML = docLinkHtml;\n",
              "        element.appendChild(docLink);\n",
              "      }\n",
              "    </script>\n",
              "  </div>\n",
              "\n",
              "\n",
              "    <div id=\"df-b65402db-31f6-473e-899b-089e3df52d27\">\n",
              "      <button class=\"colab-df-quickchart\" onclick=\"quickchart('df-b65402db-31f6-473e-899b-089e3df52d27')\"\n",
              "                title=\"Suggest charts\"\n",
              "                style=\"display:none;\">\n",
              "\n",
              "<svg xmlns=\"http://www.w3.org/2000/svg\" height=\"24px\"viewBox=\"0 0 24 24\"\n",
              "     width=\"24px\">\n",
              "    <g>\n",
              "        <path d=\"M19 3H5c-1.1 0-2 .9-2 2v14c0 1.1.9 2 2 2h14c1.1 0 2-.9 2-2V5c0-1.1-.9-2-2-2zM9 17H7v-7h2v7zm4 0h-2V7h2v10zm4 0h-2v-4h2v4z\"/>\n",
              "    </g>\n",
              "</svg>\n",
              "      </button>\n",
              "\n",
              "<style>\n",
              "  .colab-df-quickchart {\n",
              "      --bg-color: #E8F0FE;\n",
              "      --fill-color: #1967D2;\n",
              "      --hover-bg-color: #E2EBFA;\n",
              "      --hover-fill-color: #174EA6;\n",
              "      --disabled-fill-color: #AAA;\n",
              "      --disabled-bg-color: #DDD;\n",
              "  }\n",
              "\n",
              "  [theme=dark] .colab-df-quickchart {\n",
              "      --bg-color: #3B4455;\n",
              "      --fill-color: #D2E3FC;\n",
              "      --hover-bg-color: #434B5C;\n",
              "      --hover-fill-color: #FFFFFF;\n",
              "      --disabled-bg-color: #3B4455;\n",
              "      --disabled-fill-color: #666;\n",
              "  }\n",
              "\n",
              "  .colab-df-quickchart {\n",
              "    background-color: var(--bg-color);\n",
              "    border: none;\n",
              "    border-radius: 50%;\n",
              "    cursor: pointer;\n",
              "    display: none;\n",
              "    fill: var(--fill-color);\n",
              "    height: 32px;\n",
              "    padding: 0;\n",
              "    width: 32px;\n",
              "  }\n",
              "\n",
              "  .colab-df-quickchart:hover {\n",
              "    background-color: var(--hover-bg-color);\n",
              "    box-shadow: 0 1px 2px rgba(60, 64, 67, 0.3), 0 1px 3px 1px rgba(60, 64, 67, 0.15);\n",
              "    fill: var(--button-hover-fill-color);\n",
              "  }\n",
              "\n",
              "  .colab-df-quickchart-complete:disabled,\n",
              "  .colab-df-quickchart-complete:disabled:hover {\n",
              "    background-color: var(--disabled-bg-color);\n",
              "    fill: var(--disabled-fill-color);\n",
              "    box-shadow: none;\n",
              "  }\n",
              "\n",
              "  .colab-df-spinner {\n",
              "    border: 2px solid var(--fill-color);\n",
              "    border-color: transparent;\n",
              "    border-bottom-color: var(--fill-color);\n",
              "    animation:\n",
              "      spin 1s steps(1) infinite;\n",
              "  }\n",
              "\n",
              "  @keyframes spin {\n",
              "    0% {\n",
              "      border-color: transparent;\n",
              "      border-bottom-color: var(--fill-color);\n",
              "      border-left-color: var(--fill-color);\n",
              "    }\n",
              "    20% {\n",
              "      border-color: transparent;\n",
              "      border-left-color: var(--fill-color);\n",
              "      border-top-color: var(--fill-color);\n",
              "    }\n",
              "    30% {\n",
              "      border-color: transparent;\n",
              "      border-left-color: var(--fill-color);\n",
              "      border-top-color: var(--fill-color);\n",
              "      border-right-color: var(--fill-color);\n",
              "    }\n",
              "    40% {\n",
              "      border-color: transparent;\n",
              "      border-right-color: var(--fill-color);\n",
              "      border-top-color: var(--fill-color);\n",
              "    }\n",
              "    60% {\n",
              "      border-color: transparent;\n",
              "      border-right-color: var(--fill-color);\n",
              "    }\n",
              "    80% {\n",
              "      border-color: transparent;\n",
              "      border-right-color: var(--fill-color);\n",
              "      border-bottom-color: var(--fill-color);\n",
              "    }\n",
              "    90% {\n",
              "      border-color: transparent;\n",
              "      border-bottom-color: var(--fill-color);\n",
              "    }\n",
              "  }\n",
              "</style>\n",
              "\n",
              "      <script>\n",
              "        async function quickchart(key) {\n",
              "          const quickchartButtonEl =\n",
              "            document.querySelector('#' + key + ' button');\n",
              "          quickchartButtonEl.disabled = true;  // To prevent multiple clicks.\n",
              "          quickchartButtonEl.classList.add('colab-df-spinner');\n",
              "          try {\n",
              "            const charts = await google.colab.kernel.invokeFunction(\n",
              "                'suggestCharts', [key], {});\n",
              "          } catch (error) {\n",
              "            console.error('Error during call to suggestCharts:', error);\n",
              "          }\n",
              "          quickchartButtonEl.classList.remove('colab-df-spinner');\n",
              "          quickchartButtonEl.classList.add('colab-df-quickchart-complete');\n",
              "        }\n",
              "        (() => {\n",
              "          let quickchartButtonEl =\n",
              "            document.querySelector('#df-b65402db-31f6-473e-899b-089e3df52d27 button');\n",
              "          quickchartButtonEl.style.display =\n",
              "            google.colab.kernel.accessAllowed ? 'block' : 'none';\n",
              "        })();\n",
              "      </script>\n",
              "    </div>\n",
              "\n",
              "    </div>\n",
              "  </div>\n"
            ],
            "text/plain": [
              "                 t1            t2           hum    wind_speed  weather_code  \\\n",
              "count  13931.000000  13931.000000  13931.000000  13931.000000  13931.000000   \n",
              "mean       0.398150      0.442656      0.642076      0.281605      2.732395   \n",
              "std        0.158282      0.166775      0.185035      0.139465      2.335352   \n",
              "min        0.000000      0.000000      0.000000      0.000000      1.000000   \n",
              "25%        0.271429      0.303797      0.519481      0.176991      1.000000   \n",
              "50%        0.400000      0.468354      0.675325      0.265487      2.000000   \n",
              "75%        0.500000      0.556962      0.779221      0.362832      3.000000   \n",
              "max        1.000000      1.000000      1.000000      1.000000     26.000000   \n",
              "\n",
              "         is_holiday    is_weekend        season          Year         Month  \\\n",
              "count  13931.000000  13931.000000  13931.000000  13931.000000  13931.000000   \n",
              "mean       0.022611      0.285263      1.503194      0.253320      0.502033   \n",
              "std        0.148667      0.451556      1.119000      0.254399      0.314903   \n",
              "min        0.000000      0.000000      0.000000      0.000000      0.000000   \n",
              "25%        0.000000      0.000000      1.000000      0.000000      0.272727   \n",
              "50%        0.000000      0.000000      2.000000      0.500000      0.545455   \n",
              "75%        0.000000      1.000000      3.000000      0.500000      0.818182   \n",
              "max        1.000000      1.000000      3.000000      1.000000      1.000000   \n",
              "\n",
              "                Day          Hour  \n",
              "count  13931.000000  13931.000000  \n",
              "mean       0.491999      0.499696  \n",
              "std        0.293306      0.301423  \n",
              "min        0.000000      0.000000  \n",
              "25%        0.233333      0.217391  \n",
              "50%        0.500000      0.521739  \n",
              "75%        0.733333      0.782609  \n",
              "max        1.000000      1.000000  "
            ]
          },
          "execution_count": 112,
          "metadata": {},
          "output_type": "execute_result"
        }
      ],
      "source": [
        "X_train.describe()"
      ]
    },
    {
      "cell_type": "code",
      "execution_count": null,
      "metadata": {
        "colab": {
          "base_uri": "https://localhost:8080/",
          "height": 331
        },
        "id": "n_GSmUz4nRJa",
        "outputId": "8990a4a4-a192-4125-899d-f698e69d45d5"
      },
      "outputs": [
        {
          "data": {
            "text/html": [
              "<div>\n",
              "<style scoped>\n",
              "    .dataframe tbody tr th:only-of-type {\n",
              "        vertical-align: middle;\n",
              "    }\n",
              "\n",
              "    .dataframe tbody tr th {\n",
              "        vertical-align: top;\n",
              "    }\n",
              "\n",
              "    .dataframe thead th {\n",
              "        text-align: right;\n",
              "    }\n",
              "</style>\n",
              "<table border=\"1\" class=\"dataframe\">\n",
              "  <thead>\n",
              "    <tr style=\"text-align: right;\">\n",
              "      <th></th>\n",
              "      <th>cnt</th>\n",
              "    </tr>\n",
              "  </thead>\n",
              "  <tbody>\n",
              "    <tr>\n",
              "      <th>count</th>\n",
              "      <td>13931.000000</td>\n",
              "    </tr>\n",
              "    <tr>\n",
              "      <th>mean</th>\n",
              "      <td>0.145155</td>\n",
              "    </tr>\n",
              "    <tr>\n",
              "      <th>std</th>\n",
              "      <td>0.137616</td>\n",
              "    </tr>\n",
              "    <tr>\n",
              "      <th>min</th>\n",
              "      <td>0.000000</td>\n",
              "    </tr>\n",
              "    <tr>\n",
              "      <th>25%</th>\n",
              "      <td>0.033333</td>\n",
              "    </tr>\n",
              "    <tr>\n",
              "      <th>50%</th>\n",
              "      <td>0.107125</td>\n",
              "    </tr>\n",
              "    <tr>\n",
              "      <th>75%</th>\n",
              "      <td>0.211514</td>\n",
              "    </tr>\n",
              "    <tr>\n",
              "      <th>max</th>\n",
              "      <td>1.000000</td>\n",
              "    </tr>\n",
              "  </tbody>\n",
              "</table>\n",
              "</div><br><label><b>dtype:</b> float64</label>"
            ],
            "text/plain": [
              "count    13931.000000\n",
              "mean         0.145155\n",
              "std          0.137616\n",
              "min          0.000000\n",
              "25%          0.033333\n",
              "50%          0.107125\n",
              "75%          0.211514\n",
              "max          1.000000\n",
              "Name: cnt, dtype: float64"
            ]
          },
          "execution_count": 19,
          "metadata": {},
          "output_type": "execute_result"
        }
      ],
      "source": [
        "y_train.describe()"
      ]
    },
    {
      "cell_type": "markdown",
      "metadata": {
        "id": "2cykSkClnbiH"
      },
      "source": [
        "## Multilayer Perceptron using Scikit-learn\n",
        "For this task, we use MLPClassifier(Multi Layer Perceptron Classifier).\n",
        "\n",
        "I use relu for activation function since it has wroked pretty good for so many cases."
      ]
    },
    {
      "cell_type": "code",
      "execution_count": null,
      "metadata": {
        "colab": {
          "base_uri": "https://localhost:8080/",
          "height": 80
        },
        "id": "pO3ddPjWn3Tr",
        "outputId": "dead2823-1f10-4319-b0fb-81d6837deee1"
      },
      "outputs": [
        {
          "data": {
            "text/html": [
              "<style>#sk-container-id-1 {\n",
              "  /* Definition of color scheme common for light and dark mode */\n",
              "  --sklearn-color-text: #000;\n",
              "  --sklearn-color-text-muted: #666;\n",
              "  --sklearn-color-line: gray;\n",
              "  /* Definition of color scheme for unfitted estimators */\n",
              "  --sklearn-color-unfitted-level-0: #fff5e6;\n",
              "  --sklearn-color-unfitted-level-1: #f6e4d2;\n",
              "  --sklearn-color-unfitted-level-2: #ffe0b3;\n",
              "  --sklearn-color-unfitted-level-3: chocolate;\n",
              "  /* Definition of color scheme for fitted estimators */\n",
              "  --sklearn-color-fitted-level-0: #f0f8ff;\n",
              "  --sklearn-color-fitted-level-1: #d4ebff;\n",
              "  --sklearn-color-fitted-level-2: #b3dbfd;\n",
              "  --sklearn-color-fitted-level-3: cornflowerblue;\n",
              "\n",
              "  /* Specific color for light theme */\n",
              "  --sklearn-color-text-on-default-background: var(--sg-text-color, var(--theme-code-foreground, var(--jp-content-font-color1, black)));\n",
              "  --sklearn-color-background: var(--sg-background-color, var(--theme-background, var(--jp-layout-color0, white)));\n",
              "  --sklearn-color-border-box: var(--sg-text-color, var(--theme-code-foreground, var(--jp-content-font-color1, black)));\n",
              "  --sklearn-color-icon: #696969;\n",
              "\n",
              "  @media (prefers-color-scheme: dark) {\n",
              "    /* Redefinition of color scheme for dark theme */\n",
              "    --sklearn-color-text-on-default-background: var(--sg-text-color, var(--theme-code-foreground, var(--jp-content-font-color1, white)));\n",
              "    --sklearn-color-background: var(--sg-background-color, var(--theme-background, var(--jp-layout-color0, #111)));\n",
              "    --sklearn-color-border-box: var(--sg-text-color, var(--theme-code-foreground, var(--jp-content-font-color1, white)));\n",
              "    --sklearn-color-icon: #878787;\n",
              "  }\n",
              "}\n",
              "\n",
              "#sk-container-id-1 {\n",
              "  color: var(--sklearn-color-text);\n",
              "}\n",
              "\n",
              "#sk-container-id-1 pre {\n",
              "  padding: 0;\n",
              "}\n",
              "\n",
              "#sk-container-id-1 input.sk-hidden--visually {\n",
              "  border: 0;\n",
              "  clip: rect(1px 1px 1px 1px);\n",
              "  clip: rect(1px, 1px, 1px, 1px);\n",
              "  height: 1px;\n",
              "  margin: -1px;\n",
              "  overflow: hidden;\n",
              "  padding: 0;\n",
              "  position: absolute;\n",
              "  width: 1px;\n",
              "}\n",
              "\n",
              "#sk-container-id-1 div.sk-dashed-wrapped {\n",
              "  border: 1px dashed var(--sklearn-color-line);\n",
              "  margin: 0 0.4em 0.5em 0.4em;\n",
              "  box-sizing: border-box;\n",
              "  padding-bottom: 0.4em;\n",
              "  background-color: var(--sklearn-color-background);\n",
              "}\n",
              "\n",
              "#sk-container-id-1 div.sk-container {\n",
              "  /* jupyter's `normalize.less` sets `[hidden] { display: none; }`\n",
              "     but bootstrap.min.css set `[hidden] { display: none !important; }`\n",
              "     so we also need the `!important` here to be able to override the\n",
              "     default hidden behavior on the sphinx rendered scikit-learn.org.\n",
              "     See: https://github.com/scikit-learn/scikit-learn/issues/21755 */\n",
              "  display: inline-block !important;\n",
              "  position: relative;\n",
              "}\n",
              "\n",
              "#sk-container-id-1 div.sk-text-repr-fallback {\n",
              "  display: none;\n",
              "}\n",
              "\n",
              "div.sk-parallel-item,\n",
              "div.sk-serial,\n",
              "div.sk-item {\n",
              "  /* draw centered vertical line to link estimators */\n",
              "  background-image: linear-gradient(var(--sklearn-color-text-on-default-background), var(--sklearn-color-text-on-default-background));\n",
              "  background-size: 2px 100%;\n",
              "  background-repeat: no-repeat;\n",
              "  background-position: center center;\n",
              "}\n",
              "\n",
              "/* Parallel-specific style estimator block */\n",
              "\n",
              "#sk-container-id-1 div.sk-parallel-item::after {\n",
              "  content: \"\";\n",
              "  width: 100%;\n",
              "  border-bottom: 2px solid var(--sklearn-color-text-on-default-background);\n",
              "  flex-grow: 1;\n",
              "}\n",
              "\n",
              "#sk-container-id-1 div.sk-parallel {\n",
              "  display: flex;\n",
              "  align-items: stretch;\n",
              "  justify-content: center;\n",
              "  background-color: var(--sklearn-color-background);\n",
              "  position: relative;\n",
              "}\n",
              "\n",
              "#sk-container-id-1 div.sk-parallel-item {\n",
              "  display: flex;\n",
              "  flex-direction: column;\n",
              "}\n",
              "\n",
              "#sk-container-id-1 div.sk-parallel-item:first-child::after {\n",
              "  align-self: flex-end;\n",
              "  width: 50%;\n",
              "}\n",
              "\n",
              "#sk-container-id-1 div.sk-parallel-item:last-child::after {\n",
              "  align-self: flex-start;\n",
              "  width: 50%;\n",
              "}\n",
              "\n",
              "#sk-container-id-1 div.sk-parallel-item:only-child::after {\n",
              "  width: 0;\n",
              "}\n",
              "\n",
              "/* Serial-specific style estimator block */\n",
              "\n",
              "#sk-container-id-1 div.sk-serial {\n",
              "  display: flex;\n",
              "  flex-direction: column;\n",
              "  align-items: center;\n",
              "  background-color: var(--sklearn-color-background);\n",
              "  padding-right: 1em;\n",
              "  padding-left: 1em;\n",
              "}\n",
              "\n",
              "\n",
              "/* Toggleable style: style used for estimator/Pipeline/ColumnTransformer box that is\n",
              "clickable and can be expanded/collapsed.\n",
              "- Pipeline and ColumnTransformer use this feature and define the default style\n",
              "- Estimators will overwrite some part of the style using the `sk-estimator` class\n",
              "*/\n",
              "\n",
              "/* Pipeline and ColumnTransformer style (default) */\n",
              "\n",
              "#sk-container-id-1 div.sk-toggleable {\n",
              "  /* Default theme specific background. It is overwritten whether we have a\n",
              "  specific estimator or a Pipeline/ColumnTransformer */\n",
              "  background-color: var(--sklearn-color-background);\n",
              "}\n",
              "\n",
              "/* Toggleable label */\n",
              "#sk-container-id-1 label.sk-toggleable__label {\n",
              "  cursor: pointer;\n",
              "  display: flex;\n",
              "  width: 100%;\n",
              "  margin-bottom: 0;\n",
              "  padding: 0.5em;\n",
              "  box-sizing: border-box;\n",
              "  text-align: center;\n",
              "  align-items: start;\n",
              "  justify-content: space-between;\n",
              "  gap: 0.5em;\n",
              "}\n",
              "\n",
              "#sk-container-id-1 label.sk-toggleable__label .caption {\n",
              "  font-size: 0.6rem;\n",
              "  font-weight: lighter;\n",
              "  color: var(--sklearn-color-text-muted);\n",
              "}\n",
              "\n",
              "#sk-container-id-1 label.sk-toggleable__label-arrow:before {\n",
              "  /* Arrow on the left of the label */\n",
              "  content: \"▸\";\n",
              "  float: left;\n",
              "  margin-right: 0.25em;\n",
              "  color: var(--sklearn-color-icon);\n",
              "}\n",
              "\n",
              "#sk-container-id-1 label.sk-toggleable__label-arrow:hover:before {\n",
              "  color: var(--sklearn-color-text);\n",
              "}\n",
              "\n",
              "/* Toggleable content - dropdown */\n",
              "\n",
              "#sk-container-id-1 div.sk-toggleable__content {\n",
              "  max-height: 0;\n",
              "  max-width: 0;\n",
              "  overflow: hidden;\n",
              "  text-align: left;\n",
              "  /* unfitted */\n",
              "  background-color: var(--sklearn-color-unfitted-level-0);\n",
              "}\n",
              "\n",
              "#sk-container-id-1 div.sk-toggleable__content.fitted {\n",
              "  /* fitted */\n",
              "  background-color: var(--sklearn-color-fitted-level-0);\n",
              "}\n",
              "\n",
              "#sk-container-id-1 div.sk-toggleable__content pre {\n",
              "  margin: 0.2em;\n",
              "  border-radius: 0.25em;\n",
              "  color: var(--sklearn-color-text);\n",
              "  /* unfitted */\n",
              "  background-color: var(--sklearn-color-unfitted-level-0);\n",
              "}\n",
              "\n",
              "#sk-container-id-1 div.sk-toggleable__content.fitted pre {\n",
              "  /* unfitted */\n",
              "  background-color: var(--sklearn-color-fitted-level-0);\n",
              "}\n",
              "\n",
              "#sk-container-id-1 input.sk-toggleable__control:checked~div.sk-toggleable__content {\n",
              "  /* Expand drop-down */\n",
              "  max-height: 200px;\n",
              "  max-width: 100%;\n",
              "  overflow: auto;\n",
              "}\n",
              "\n",
              "#sk-container-id-1 input.sk-toggleable__control:checked~label.sk-toggleable__label-arrow:before {\n",
              "  content: \"▾\";\n",
              "}\n",
              "\n",
              "/* Pipeline/ColumnTransformer-specific style */\n",
              "\n",
              "#sk-container-id-1 div.sk-label input.sk-toggleable__control:checked~label.sk-toggleable__label {\n",
              "  color: var(--sklearn-color-text);\n",
              "  background-color: var(--sklearn-color-unfitted-level-2);\n",
              "}\n",
              "\n",
              "#sk-container-id-1 div.sk-label.fitted input.sk-toggleable__control:checked~label.sk-toggleable__label {\n",
              "  background-color: var(--sklearn-color-fitted-level-2);\n",
              "}\n",
              "\n",
              "/* Estimator-specific style */\n",
              "\n",
              "/* Colorize estimator box */\n",
              "#sk-container-id-1 div.sk-estimator input.sk-toggleable__control:checked~label.sk-toggleable__label {\n",
              "  /* unfitted */\n",
              "  background-color: var(--sklearn-color-unfitted-level-2);\n",
              "}\n",
              "\n",
              "#sk-container-id-1 div.sk-estimator.fitted input.sk-toggleable__control:checked~label.sk-toggleable__label {\n",
              "  /* fitted */\n",
              "  background-color: var(--sklearn-color-fitted-level-2);\n",
              "}\n",
              "\n",
              "#sk-container-id-1 div.sk-label label.sk-toggleable__label,\n",
              "#sk-container-id-1 div.sk-label label {\n",
              "  /* The background is the default theme color */\n",
              "  color: var(--sklearn-color-text-on-default-background);\n",
              "}\n",
              "\n",
              "/* On hover, darken the color of the background */\n",
              "#sk-container-id-1 div.sk-label:hover label.sk-toggleable__label {\n",
              "  color: var(--sklearn-color-text);\n",
              "  background-color: var(--sklearn-color-unfitted-level-2);\n",
              "}\n",
              "\n",
              "/* Label box, darken color on hover, fitted */\n",
              "#sk-container-id-1 div.sk-label.fitted:hover label.sk-toggleable__label.fitted {\n",
              "  color: var(--sklearn-color-text);\n",
              "  background-color: var(--sklearn-color-fitted-level-2);\n",
              "}\n",
              "\n",
              "/* Estimator label */\n",
              "\n",
              "#sk-container-id-1 div.sk-label label {\n",
              "  font-family: monospace;\n",
              "  font-weight: bold;\n",
              "  display: inline-block;\n",
              "  line-height: 1.2em;\n",
              "}\n",
              "\n",
              "#sk-container-id-1 div.sk-label-container {\n",
              "  text-align: center;\n",
              "}\n",
              "\n",
              "/* Estimator-specific */\n",
              "#sk-container-id-1 div.sk-estimator {\n",
              "  font-family: monospace;\n",
              "  border: 1px dotted var(--sklearn-color-border-box);\n",
              "  border-radius: 0.25em;\n",
              "  box-sizing: border-box;\n",
              "  margin-bottom: 0.5em;\n",
              "  /* unfitted */\n",
              "  background-color: var(--sklearn-color-unfitted-level-0);\n",
              "}\n",
              "\n",
              "#sk-container-id-1 div.sk-estimator.fitted {\n",
              "  /* fitted */\n",
              "  background-color: var(--sklearn-color-fitted-level-0);\n",
              "}\n",
              "\n",
              "/* on hover */\n",
              "#sk-container-id-1 div.sk-estimator:hover {\n",
              "  /* unfitted */\n",
              "  background-color: var(--sklearn-color-unfitted-level-2);\n",
              "}\n",
              "\n",
              "#sk-container-id-1 div.sk-estimator.fitted:hover {\n",
              "  /* fitted */\n",
              "  background-color: var(--sklearn-color-fitted-level-2);\n",
              "}\n",
              "\n",
              "/* Specification for estimator info (e.g. \"i\" and \"?\") */\n",
              "\n",
              "/* Common style for \"i\" and \"?\" */\n",
              "\n",
              ".sk-estimator-doc-link,\n",
              "a:link.sk-estimator-doc-link,\n",
              "a:visited.sk-estimator-doc-link {\n",
              "  float: right;\n",
              "  font-size: smaller;\n",
              "  line-height: 1em;\n",
              "  font-family: monospace;\n",
              "  background-color: var(--sklearn-color-background);\n",
              "  border-radius: 1em;\n",
              "  height: 1em;\n",
              "  width: 1em;\n",
              "  text-decoration: none !important;\n",
              "  margin-left: 0.5em;\n",
              "  text-align: center;\n",
              "  /* unfitted */\n",
              "  border: var(--sklearn-color-unfitted-level-1) 1pt solid;\n",
              "  color: var(--sklearn-color-unfitted-level-1);\n",
              "}\n",
              "\n",
              ".sk-estimator-doc-link.fitted,\n",
              "a:link.sk-estimator-doc-link.fitted,\n",
              "a:visited.sk-estimator-doc-link.fitted {\n",
              "  /* fitted */\n",
              "  border: var(--sklearn-color-fitted-level-1) 1pt solid;\n",
              "  color: var(--sklearn-color-fitted-level-1);\n",
              "}\n",
              "\n",
              "/* On hover */\n",
              "div.sk-estimator:hover .sk-estimator-doc-link:hover,\n",
              ".sk-estimator-doc-link:hover,\n",
              "div.sk-label-container:hover .sk-estimator-doc-link:hover,\n",
              ".sk-estimator-doc-link:hover {\n",
              "  /* unfitted */\n",
              "  background-color: var(--sklearn-color-unfitted-level-3);\n",
              "  color: var(--sklearn-color-background);\n",
              "  text-decoration: none;\n",
              "}\n",
              "\n",
              "div.sk-estimator.fitted:hover .sk-estimator-doc-link.fitted:hover,\n",
              ".sk-estimator-doc-link.fitted:hover,\n",
              "div.sk-label-container:hover .sk-estimator-doc-link.fitted:hover,\n",
              ".sk-estimator-doc-link.fitted:hover {\n",
              "  /* fitted */\n",
              "  background-color: var(--sklearn-color-fitted-level-3);\n",
              "  color: var(--sklearn-color-background);\n",
              "  text-decoration: none;\n",
              "}\n",
              "\n",
              "/* Span, style for the box shown on hovering the info icon */\n",
              ".sk-estimator-doc-link span {\n",
              "  display: none;\n",
              "  z-index: 9999;\n",
              "  position: relative;\n",
              "  font-weight: normal;\n",
              "  right: .2ex;\n",
              "  padding: .5ex;\n",
              "  margin: .5ex;\n",
              "  width: min-content;\n",
              "  min-width: 20ex;\n",
              "  max-width: 50ex;\n",
              "  color: var(--sklearn-color-text);\n",
              "  box-shadow: 2pt 2pt 4pt #999;\n",
              "  /* unfitted */\n",
              "  background: var(--sklearn-color-unfitted-level-0);\n",
              "  border: .5pt solid var(--sklearn-color-unfitted-level-3);\n",
              "}\n",
              "\n",
              ".sk-estimator-doc-link.fitted span {\n",
              "  /* fitted */\n",
              "  background: var(--sklearn-color-fitted-level-0);\n",
              "  border: var(--sklearn-color-fitted-level-3);\n",
              "}\n",
              "\n",
              ".sk-estimator-doc-link:hover span {\n",
              "  display: block;\n",
              "}\n",
              "\n",
              "/* \"?\"-specific style due to the `<a>` HTML tag */\n",
              "\n",
              "#sk-container-id-1 a.estimator_doc_link {\n",
              "  float: right;\n",
              "  font-size: 1rem;\n",
              "  line-height: 1em;\n",
              "  font-family: monospace;\n",
              "  background-color: var(--sklearn-color-background);\n",
              "  border-radius: 1rem;\n",
              "  height: 1rem;\n",
              "  width: 1rem;\n",
              "  text-decoration: none;\n",
              "  /* unfitted */\n",
              "  color: var(--sklearn-color-unfitted-level-1);\n",
              "  border: var(--sklearn-color-unfitted-level-1) 1pt solid;\n",
              "}\n",
              "\n",
              "#sk-container-id-1 a.estimator_doc_link.fitted {\n",
              "  /* fitted */\n",
              "  border: var(--sklearn-color-fitted-level-1) 1pt solid;\n",
              "  color: var(--sklearn-color-fitted-level-1);\n",
              "}\n",
              "\n",
              "/* On hover */\n",
              "#sk-container-id-1 a.estimator_doc_link:hover {\n",
              "  /* unfitted */\n",
              "  background-color: var(--sklearn-color-unfitted-level-3);\n",
              "  color: var(--sklearn-color-background);\n",
              "  text-decoration: none;\n",
              "}\n",
              "\n",
              "#sk-container-id-1 a.estimator_doc_link.fitted:hover {\n",
              "  /* fitted */\n",
              "  background-color: var(--sklearn-color-fitted-level-3);\n",
              "}\n",
              "</style><div id=\"sk-container-id-1\" class=\"sk-top-container\"><div class=\"sk-text-repr-fallback\"><pre>MLPRegressor(hidden_layer_sizes=(100, 80), max_iter=500)</pre><b>In a Jupyter environment, please rerun this cell to show the HTML representation or trust the notebook. <br />On GitHub, the HTML representation is unable to render, please try loading this page with nbviewer.org.</b></div><div class=\"sk-container\" hidden><div class=\"sk-item\"><div class=\"sk-estimator fitted sk-toggleable\"><input class=\"sk-toggleable__control sk-hidden--visually\" id=\"sk-estimator-id-1\" type=\"checkbox\" checked><label for=\"sk-estimator-id-1\" class=\"sk-toggleable__label fitted sk-toggleable__label-arrow\"><div><div>MLPRegressor</div></div><div><a class=\"sk-estimator-doc-link fitted\" rel=\"noreferrer\" target=\"_blank\" href=\"https://scikit-learn.org/1.6/modules/generated/sklearn.neural_network.MLPRegressor.html\">?<span>Documentation for MLPRegressor</span></a><span class=\"sk-estimator-doc-link fitted\">i<span>Fitted</span></span></div></label><div class=\"sk-toggleable__content fitted\"><pre>MLPRegressor(hidden_layer_sizes=(100, 80), max_iter=500)</pre></div> </div></div></div></div>"
            ],
            "text/plain": [
              "MLPRegressor(hidden_layer_sizes=(100, 80), max_iter=500)"
            ]
          },
          "execution_count": 20,
          "metadata": {},
          "output_type": "execute_result"
        }
      ],
      "source": [
        "from sklearn.neural_network import MLPRegressor\n",
        "model = MLPRegressor(hidden_layer_sizes=(100,80),\n",
        "                   activation='relu',\n",
        "                   max_iter=500)\n",
        "model.fit(X_train, y_train)"
      ]
    },
    {
      "cell_type": "markdown",
      "source": [
        "Now we use out model to predict on the test set."
      ],
      "metadata": {
        "id": "pRqeRcyKOfRu"
      }
    },
    {
      "cell_type": "code",
      "execution_count": null,
      "metadata": {
        "id": "Dvs-YggIpJok"
      },
      "outputs": [],
      "source": [
        "prediction = model.predict(X_test)"
      ]
    },
    {
      "cell_type": "markdown",
      "metadata": {
        "id": "sf47QREppOsB"
      },
      "source": [
        "Now let's measure the R2 score."
      ]
    },
    {
      "cell_type": "code",
      "execution_count": null,
      "metadata": {
        "colab": {
          "base_uri": "https://localhost:8080/"
        },
        "id": "ES_oYWqUpSds",
        "outputId": "8fe6e16f-107b-4c2b-99e2-34d70c0405ae"
      },
      "outputs": [
        {
          "name": "stdout",
          "output_type": "stream",
          "text": [
            "0.8462832665324663\n"
          ]
        }
      ],
      "source": [
        "from sklearn.metrics import r2_score\n",
        "score = r2_score(y_test, prediction)\n",
        "print(score)"
      ]
    },
    {
      "cell_type": "markdown",
      "metadata": {
        "id": "ThwmRDXzy_DD"
      },
      "source": [
        "## Multilayer Feedforward Network with Keras"
      ]
    },
    {
      "cell_type": "code",
      "execution_count": null,
      "metadata": {
        "id": "2YPWXM6bssiC"
      },
      "outputs": [],
      "source": [
        "from keras.models import Sequential\n",
        "from keras.layers import Dense\n",
        "from keras import callbacks\n",
        "import tensorflow as tf"
      ]
    },
    {
      "cell_type": "markdown",
      "source": [
        "First we need to define e sequential model."
      ],
      "metadata": {
        "id": "U85vVYSzOkdt"
      }
    },
    {
      "cell_type": "code",
      "execution_count": null,
      "metadata": {
        "id": "RNJj7ZeytZ-I"
      },
      "outputs": [],
      "source": [
        "model = Sequential()"
      ]
    },
    {
      "cell_type": "markdown",
      "metadata": {
        "id": "IM6S0YFbItxo"
      },
      "source": [
        "Let's start with 2 hidden layers and tune it based on what we get."
      ]
    },
    {
      "cell_type": "code",
      "execution_count": null,
      "metadata": {
        "colab": {
          "base_uri": "https://localhost:8080/"
        },
        "id": "OozqPiLutj9i",
        "outputId": "1dbe7484-f6c0-4e16-cf09-478f7b0bf7b9"
      },
      "outputs": [
        {
          "name": "stderr",
          "output_type": "stream",
          "text": [
            "/usr/local/lib/python3.11/dist-packages/keras/src/layers/core/dense.py:87: UserWarning: Do not pass an `input_shape`/`input_dim` argument to a layer. When using Sequential models, prefer using an `Input(shape)` object as the first layer in the model instead.\n",
            "  super().__init__(activity_regularizer=activity_regularizer, **kwargs)\n"
          ]
        }
      ],
      "source": [
        "model.add(Dense(30,input_dim=X_train.shape[1],activation='relu'))\n",
        "\n",
        "model.add(Dense(20,activation='relu'))\n",
        "\n",
        "model.add(Dense(10,activation='linear'))\n",
        "\n",
        "model.add(Dense(1))"
      ]
    },
    {
      "cell_type": "markdown",
      "source": [
        "I define early stopping so that if the change in the loss function was less than 0.001 and the number of epochs had exceeded 20, the training process would stop.\n"
      ],
      "metadata": {
        "id": "EBtkGBOiOqFi"
      }
    },
    {
      "cell_type": "code",
      "execution_count": null,
      "metadata": {
        "id": "USge_SarEy9b"
      },
      "outputs": [],
      "source": [
        "early_stopping = callbacks.EarlyStopping(min_delta=0.001,\n",
        "                                          patience=20,\n",
        "                                          restore_best_weights=True)"
      ]
    },
    {
      "cell_type": "markdown",
      "source": [
        "Since the problem we are working on, I use mean squared error as the loss function, also i use Adam as the optimizer to update the weights in the tarining process."
      ],
      "metadata": {
        "id": "roAvtrTTPHVa"
      }
    },
    {
      "cell_type": "code",
      "execution_count": null,
      "metadata": {
        "id": "4B7ymE5xE819"
      },
      "outputs": [],
      "source": [
        "model.compile(optimizer='adam', loss='mse')"
      ]
    },
    {
      "cell_type": "markdown",
      "source": [
        "I use %20 of the training data for validation set so the loss would be monitored during the training process.It helps to prevent from overfitting."
      ],
      "metadata": {
        "id": "XYLVSl-WPWCF"
      }
    },
    {
      "cell_type": "code",
      "execution_count": null,
      "metadata": {
        "colab": {
          "base_uri": "https://localhost:8080/"
        },
        "id": "GhIQgrzsFRIC",
        "outputId": "ab2c422e-7689-4656-c7b0-de9fedbc69b2"
      },
      "outputs": [
        {
          "name": "stdout",
          "output_type": "stream",
          "text": [
            "Epoch 1/30\n",
            "\u001b[1m349/349\u001b[0m \u001b[32m━━━━━━━━━━━━━━━━━━━━\u001b[0m\u001b[37m\u001b[0m \u001b[1m4s\u001b[0m 5ms/step - loss: 0.0394 - val_loss: 0.0136\n",
            "Epoch 2/30\n",
            "\u001b[1m349/349\u001b[0m \u001b[32m━━━━━━━━━━━━━━━━━━━━\u001b[0m\u001b[37m\u001b[0m \u001b[1m1s\u001b[0m 3ms/step - loss: 0.0134 - val_loss: 0.0127\n",
            "Epoch 3/30\n",
            "\u001b[1m349/349\u001b[0m \u001b[32m━━━━━━━━━━━━━━━━━━━━\u001b[0m\u001b[37m\u001b[0m \u001b[1m1s\u001b[0m 2ms/step - loss: 0.0127 - val_loss: 0.0116\n",
            "Epoch 4/30\n",
            "\u001b[1m349/349\u001b[0m \u001b[32m━━━━━━━━━━━━━━━━━━━━\u001b[0m\u001b[37m\u001b[0m \u001b[1m1s\u001b[0m 2ms/step - loss: 0.0116 - val_loss: 0.0102\n",
            "Epoch 5/30\n",
            "\u001b[1m349/349\u001b[0m \u001b[32m━━━━━━━━━━━━━━━━━━━━\u001b[0m\u001b[37m\u001b[0m \u001b[1m1s\u001b[0m 2ms/step - loss: 0.0104 - val_loss: 0.0095\n",
            "Epoch 6/30\n",
            "\u001b[1m349/349\u001b[0m \u001b[32m━━━━━━━━━━━━━━━━━━━━\u001b[0m\u001b[37m\u001b[0m \u001b[1m1s\u001b[0m 2ms/step - loss: 0.0096 - val_loss: 0.0093\n",
            "Epoch 7/30\n",
            "\u001b[1m349/349\u001b[0m \u001b[32m━━━━━━━━━━━━━━━━━━━━\u001b[0m\u001b[37m\u001b[0m \u001b[1m1s\u001b[0m 2ms/step - loss: 0.0095 - val_loss: 0.0092\n",
            "Epoch 8/30\n",
            "\u001b[1m349/349\u001b[0m \u001b[32m━━━━━━━━━━━━━━━━━━━━\u001b[0m\u001b[37m\u001b[0m \u001b[1m1s\u001b[0m 2ms/step - loss: 0.0092 - val_loss: 0.0105\n",
            "Epoch 9/30\n",
            "\u001b[1m349/349\u001b[0m \u001b[32m━━━━━━━━━━━━━━━━━━━━\u001b[0m\u001b[37m\u001b[0m \u001b[1m1s\u001b[0m 2ms/step - loss: 0.0093 - val_loss: 0.0092\n",
            "Epoch 10/30\n",
            "\u001b[1m349/349\u001b[0m \u001b[32m━━━━━━━━━━━━━━━━━━━━\u001b[0m\u001b[37m\u001b[0m \u001b[1m1s\u001b[0m 2ms/step - loss: 0.0085 - val_loss: 0.0084\n",
            "Epoch 11/30\n",
            "\u001b[1m349/349\u001b[0m \u001b[32m━━━━━━━━━━━━━━━━━━━━\u001b[0m\u001b[37m\u001b[0m \u001b[1m1s\u001b[0m 2ms/step - loss: 0.0084 - val_loss: 0.0082\n",
            "Epoch 12/30\n",
            "\u001b[1m349/349\u001b[0m \u001b[32m━━━━━━━━━━━━━━━━━━━━\u001b[0m\u001b[37m\u001b[0m \u001b[1m1s\u001b[0m 4ms/step - loss: 0.0086 - val_loss: 0.0084\n",
            "Epoch 13/30\n",
            "\u001b[1m349/349\u001b[0m \u001b[32m━━━━━━━━━━━━━━━━━━━━\u001b[0m\u001b[37m\u001b[0m \u001b[1m1s\u001b[0m 4ms/step - loss: 0.0080 - val_loss: 0.0074\n",
            "Epoch 14/30\n",
            "\u001b[1m349/349\u001b[0m \u001b[32m━━━━━━━━━━━━━━━━━━━━\u001b[0m\u001b[37m\u001b[0m \u001b[1m2s\u001b[0m 2ms/step - loss: 0.0075 - val_loss: 0.0081\n",
            "Epoch 15/30\n",
            "\u001b[1m349/349\u001b[0m \u001b[32m━━━━━━━━━━━━━━━━━━━━\u001b[0m\u001b[37m\u001b[0m \u001b[1m1s\u001b[0m 2ms/step - loss: 0.0076 - val_loss: 0.0070\n",
            "Epoch 16/30\n",
            "\u001b[1m349/349\u001b[0m \u001b[32m━━━━━━━━━━━━━━━━━━━━\u001b[0m\u001b[37m\u001b[0m \u001b[1m1s\u001b[0m 2ms/step - loss: 0.0070 - val_loss: 0.0067\n",
            "Epoch 17/30\n",
            "\u001b[1m349/349\u001b[0m \u001b[32m━━━━━━━━━━━━━━━━━━━━\u001b[0m\u001b[37m\u001b[0m \u001b[1m1s\u001b[0m 2ms/step - loss: 0.0067 - val_loss: 0.0067\n",
            "Epoch 18/30\n",
            "\u001b[1m349/349\u001b[0m \u001b[32m━━━━━━━━━━━━━━━━━━━━\u001b[0m\u001b[37m\u001b[0m \u001b[1m1s\u001b[0m 2ms/step - loss: 0.0065 - val_loss: 0.0064\n",
            "Epoch 19/30\n",
            "\u001b[1m349/349\u001b[0m \u001b[32m━━━━━━━━━━━━━━━━━━━━\u001b[0m\u001b[37m\u001b[0m \u001b[1m1s\u001b[0m 2ms/step - loss: 0.0060 - val_loss: 0.0056\n",
            "Epoch 20/30\n",
            "\u001b[1m349/349\u001b[0m \u001b[32m━━━━━━━━━━━━━━━━━━━━\u001b[0m\u001b[37m\u001b[0m \u001b[1m1s\u001b[0m 2ms/step - loss: 0.0057 - val_loss: 0.0055\n",
            "Epoch 21/30\n",
            "\u001b[1m349/349\u001b[0m \u001b[32m━━━━━━━━━━━━━━━━━━━━\u001b[0m\u001b[37m\u001b[0m \u001b[1m1s\u001b[0m 2ms/step - loss: 0.0051 - val_loss: 0.0052\n",
            "Epoch 22/30\n",
            "\u001b[1m349/349\u001b[0m \u001b[32m━━━━━━━━━━━━━━━━━━━━\u001b[0m\u001b[37m\u001b[0m \u001b[1m2s\u001b[0m 3ms/step - loss: 0.0047 - val_loss: 0.0046\n",
            "Epoch 23/30\n",
            "\u001b[1m349/349\u001b[0m \u001b[32m━━━━━━━━━━━━━━━━━━━━\u001b[0m\u001b[37m\u001b[0m \u001b[1m1s\u001b[0m 4ms/step - loss: 0.0045 - val_loss: 0.0047\n",
            "Epoch 24/30\n",
            "\u001b[1m349/349\u001b[0m \u001b[32m━━━━━━━━━━━━━━━━━━━━\u001b[0m\u001b[37m\u001b[0m \u001b[1m2s\u001b[0m 2ms/step - loss: 0.0046 - val_loss: 0.0038\n",
            "Epoch 25/30\n",
            "\u001b[1m349/349\u001b[0m \u001b[32m━━━━━━━━━━━━━━━━━━━━\u001b[0m\u001b[37m\u001b[0m \u001b[1m1s\u001b[0m 2ms/step - loss: 0.0038 - val_loss: 0.0041\n",
            "Epoch 26/30\n",
            "\u001b[1m349/349\u001b[0m \u001b[32m━━━━━━━━━━━━━━━━━━━━\u001b[0m\u001b[37m\u001b[0m \u001b[1m1s\u001b[0m 2ms/step - loss: 0.0036 - val_loss: 0.0033\n",
            "Epoch 27/30\n",
            "\u001b[1m349/349\u001b[0m \u001b[32m━━━━━━━━━━━━━━━━━━━━\u001b[0m\u001b[37m\u001b[0m \u001b[1m1s\u001b[0m 2ms/step - loss: 0.0034 - val_loss: 0.0034\n",
            "Epoch 28/30\n",
            "\u001b[1m349/349\u001b[0m \u001b[32m━━━━━━━━━━━━━━━━━━━━\u001b[0m\u001b[37m\u001b[0m \u001b[1m1s\u001b[0m 2ms/step - loss: 0.0031 - val_loss: 0.0031\n",
            "Epoch 29/30\n",
            "\u001b[1m349/349\u001b[0m \u001b[32m━━━━━━━━━━━━━━━━━━━━\u001b[0m\u001b[37m\u001b[0m \u001b[1m1s\u001b[0m 2ms/step - loss: 0.0029 - val_loss: 0.0029\n",
            "Epoch 30/30\n",
            "\u001b[1m349/349\u001b[0m \u001b[32m━━━━━━━━━━━━━━━━━━━━\u001b[0m\u001b[37m\u001b[0m \u001b[1m1s\u001b[0m 2ms/step - loss: 0.0027 - val_loss: 0.0024\n"
          ]
        }
      ],
      "source": [
        "history=model.fit(X_train,\n",
        "                  y_train,\n",
        "                  epochs=30,\n",
        "                  batch_size=32,\n",
        "                  validation_split=0.2,\n",
        "                  callbacks=[early_stopping])"
      ]
    },
    {
      "cell_type": "code",
      "execution_count": null,
      "metadata": {
        "colab": {
          "base_uri": "https://localhost:8080/"
        },
        "id": "4Dd-tmc8FrOA",
        "outputId": "d54e67d6-f0b7-428e-8a57-133cd6a6b463"
      },
      "outputs": [
        {
          "name": "stdout",
          "output_type": "stream",
          "text": [
            "\u001b[1m109/109\u001b[0m \u001b[32m━━━━━━━━━━━━━━━━━━━━\u001b[0m\u001b[37m\u001b[0m \u001b[1m0s\u001b[0m 2ms/step\n",
            "R2-score is 0.88\n"
          ]
        }
      ],
      "source": [
        "from sklearn.metrics import r2_score\n",
        "predictions=model.predict(X_test)\n",
        "print('R2-score is %.2f' %r2_score(y_test, predictions))"
      ]
    },
    {
      "cell_type": "markdown",
      "metadata": {
        "id": "wlU-fqwaK3Pu"
      },
      "source": [
        "We can also change the loss function to mae as well."
      ]
    },
    {
      "cell_type": "code",
      "execution_count": null,
      "metadata": {
        "id": "VHK-eHmxK-Kf"
      },
      "outputs": [],
      "source": [
        "model = Sequential()"
      ]
    },
    {
      "cell_type": "code",
      "execution_count": null,
      "metadata": {
        "colab": {
          "base_uri": "https://localhost:8080/"
        },
        "id": "LNS_pUozLuKT",
        "outputId": "ada4a218-36d9-42e5-ef23-e318a807a85a"
      },
      "outputs": [
        {
          "name": "stderr",
          "output_type": "stream",
          "text": [
            "/usr/local/lib/python3.11/dist-packages/keras/src/layers/core/dense.py:87: UserWarning: Do not pass an `input_shape`/`input_dim` argument to a layer. When using Sequential models, prefer using an `Input(shape)` object as the first layer in the model instead.\n",
            "  super().__init__(activity_regularizer=activity_regularizer, **kwargs)\n"
          ]
        }
      ],
      "source": [
        "model.add(Dense(30,input_dim=X_train.shape[1],activation='relu'))\n",
        "\n",
        "model.add(Dense(20,activation='relu'))\n",
        "\n",
        "model.add(Dense(10,activation='relu'))\n",
        "\n",
        "model.add(Dense(1,activation='relu'))"
      ]
    },
    {
      "cell_type": "code",
      "execution_count": null,
      "metadata": {
        "id": "ex4u99P3L4od"
      },
      "outputs": [],
      "source": [
        "model.compile(optimizer='adam',loss='mae')"
      ]
    },
    {
      "cell_type": "code",
      "execution_count": null,
      "metadata": {
        "colab": {
          "base_uri": "https://localhost:8080/"
        },
        "id": "vCNFJcrYL9Oo",
        "outputId": "afb8acce-b0ce-4305-e33b-ff9ba6c953bf"
      },
      "outputs": [
        {
          "name": "stdout",
          "output_type": "stream",
          "text": [
            "Epoch 1/30\n",
            "\u001b[1m349/349\u001b[0m \u001b[32m━━━━━━━━━━━━━━━━━━━━\u001b[0m\u001b[37m\u001b[0m \u001b[1m5s\u001b[0m 3ms/step - loss: 0.0958 - val_loss: 0.0714\n",
            "Epoch 2/30\n",
            "\u001b[1m349/349\u001b[0m \u001b[32m━━━━━━━━━━━━━━━━━━━━\u001b[0m\u001b[37m\u001b[0m \u001b[1m1s\u001b[0m 2ms/step - loss: 0.0715 - val_loss: 0.0697\n",
            "Epoch 3/30\n",
            "\u001b[1m349/349\u001b[0m \u001b[32m━━━━━━━━━━━━━━━━━━━━\u001b[0m\u001b[37m\u001b[0m \u001b[1m1s\u001b[0m 2ms/step - loss: 0.0678 - val_loss: 0.0646\n",
            "Epoch 4/30\n",
            "\u001b[1m349/349\u001b[0m \u001b[32m━━━━━━━━━━━━━━━━━━━━\u001b[0m\u001b[37m\u001b[0m \u001b[1m1s\u001b[0m 2ms/step - loss: 0.0657 - val_loss: 0.0637\n",
            "Epoch 5/30\n",
            "\u001b[1m349/349\u001b[0m \u001b[32m━━━━━━━━━━━━━━━━━━━━\u001b[0m\u001b[37m\u001b[0m \u001b[1m1s\u001b[0m 2ms/step - loss: 0.0624 - val_loss: 0.0586\n",
            "Epoch 6/30\n",
            "\u001b[1m349/349\u001b[0m \u001b[32m━━━━━━━━━━━━━━━━━━━━\u001b[0m\u001b[37m\u001b[0m \u001b[1m1s\u001b[0m 2ms/step - loss: 0.0586 - val_loss: 0.0569\n",
            "Epoch 7/30\n",
            "\u001b[1m349/349\u001b[0m \u001b[32m━━━━━━━━━━━━━━━━━━━━\u001b[0m\u001b[37m\u001b[0m \u001b[1m1s\u001b[0m 2ms/step - loss: 0.0572 - val_loss: 0.0564\n",
            "Epoch 8/30\n",
            "\u001b[1m349/349\u001b[0m \u001b[32m━━━━━━━━━━━━━━━━━━━━\u001b[0m\u001b[37m\u001b[0m \u001b[1m1s\u001b[0m 2ms/step - loss: 0.0541 - val_loss: 0.0537\n",
            "Epoch 9/30\n",
            "\u001b[1m349/349\u001b[0m \u001b[32m━━━━━━━━━━━━━━━━━━━━\u001b[0m\u001b[37m\u001b[0m \u001b[1m1s\u001b[0m 3ms/step - loss: 0.0546 - val_loss: 0.0547\n",
            "Epoch 10/30\n",
            "\u001b[1m349/349\u001b[0m \u001b[32m━━━━━━━━━━━━━━━━━━━━\u001b[0m\u001b[37m\u001b[0m \u001b[1m1s\u001b[0m 4ms/step - loss: 0.0525 - val_loss: 0.0527\n",
            "Epoch 11/30\n",
            "\u001b[1m349/349\u001b[0m \u001b[32m━━━━━━━━━━━━━━━━━━━━\u001b[0m\u001b[37m\u001b[0m \u001b[1m2s\u001b[0m 2ms/step - loss: 0.0529 - val_loss: 0.0513\n",
            "Epoch 12/30\n",
            "\u001b[1m349/349\u001b[0m \u001b[32m━━━━━━━━━━━━━━━━━━━━\u001b[0m\u001b[37m\u001b[0m \u001b[1m1s\u001b[0m 2ms/step - loss: 0.0503 - val_loss: 0.0519\n",
            "Epoch 13/30\n",
            "\u001b[1m349/349\u001b[0m \u001b[32m━━━━━━━━━━━━━━━━━━━━\u001b[0m\u001b[37m\u001b[0m \u001b[1m1s\u001b[0m 2ms/step - loss: 0.0507 - val_loss: 0.0491\n",
            "Epoch 14/30\n",
            "\u001b[1m349/349\u001b[0m \u001b[32m━━━━━━━━━━━━━━━━━━━━\u001b[0m\u001b[37m\u001b[0m \u001b[1m1s\u001b[0m 2ms/step - loss: 0.0501 - val_loss: 0.0489\n",
            "Epoch 15/30\n",
            "\u001b[1m349/349\u001b[0m \u001b[32m━━━━━━━━━━━━━━━━━━━━\u001b[0m\u001b[37m\u001b[0m \u001b[1m1s\u001b[0m 2ms/step - loss: 0.0480 - val_loss: 0.0483\n",
            "Epoch 16/30\n",
            "\u001b[1m349/349\u001b[0m \u001b[32m━━━━━━━━━━━━━━━━━━━━\u001b[0m\u001b[37m\u001b[0m \u001b[1m1s\u001b[0m 2ms/step - loss: 0.0470 - val_loss: 0.0465\n",
            "Epoch 17/30\n",
            "\u001b[1m349/349\u001b[0m \u001b[32m━━━━━━━━━━━━━━━━━━━━\u001b[0m\u001b[37m\u001b[0m \u001b[1m1s\u001b[0m 2ms/step - loss: 0.0470 - val_loss: 0.0468\n",
            "Epoch 18/30\n",
            "\u001b[1m349/349\u001b[0m \u001b[32m━━━━━━━━━━━━━━━━━━━━\u001b[0m\u001b[37m\u001b[0m \u001b[1m1s\u001b[0m 2ms/step - loss: 0.0479 - val_loss: 0.0454\n",
            "Epoch 19/30\n",
            "\u001b[1m349/349\u001b[0m \u001b[32m━━━━━━━━━━━━━━━━━━━━\u001b[0m\u001b[37m\u001b[0m \u001b[1m1s\u001b[0m 2ms/step - loss: 0.0464 - val_loss: 0.0442\n",
            "Epoch 20/30\n",
            "\u001b[1m349/349\u001b[0m \u001b[32m━━━━━━━━━━━━━━━━━━━━\u001b[0m\u001b[37m\u001b[0m \u001b[1m2s\u001b[0m 3ms/step - loss: 0.0449 - val_loss: 0.0431\n",
            "Epoch 21/30\n",
            "\u001b[1m349/349\u001b[0m \u001b[32m━━━━━━━━━━━━━━━━━━━━\u001b[0m\u001b[37m\u001b[0m \u001b[1m1s\u001b[0m 4ms/step - loss: 0.0438 - val_loss: 0.0438\n",
            "Epoch 22/30\n",
            "\u001b[1m349/349\u001b[0m \u001b[32m━━━━━━━━━━━━━━━━━━━━\u001b[0m\u001b[37m\u001b[0m \u001b[1m1s\u001b[0m 4ms/step - loss: 0.0429 - val_loss: 0.0429\n",
            "Epoch 23/30\n",
            "\u001b[1m349/349\u001b[0m \u001b[32m━━━━━━━━━━━━━━━━━━━━\u001b[0m\u001b[37m\u001b[0m \u001b[1m2s\u001b[0m 2ms/step - loss: 0.0412 - val_loss: 0.0417\n",
            "Epoch 24/30\n",
            "\u001b[1m349/349\u001b[0m \u001b[32m━━━━━━━━━━━━━━━━━━━━\u001b[0m\u001b[37m\u001b[0m \u001b[1m1s\u001b[0m 2ms/step - loss: 0.0416 - val_loss: 0.0411\n",
            "Epoch 25/30\n",
            "\u001b[1m349/349\u001b[0m \u001b[32m━━━━━━━━━━━━━━━━━━━━\u001b[0m\u001b[37m\u001b[0m \u001b[1m1s\u001b[0m 2ms/step - loss: 0.0405 - val_loss: 0.0401\n",
            "Epoch 26/30\n",
            "\u001b[1m349/349\u001b[0m \u001b[32m━━━━━━━━━━━━━━━━━━━━\u001b[0m\u001b[37m\u001b[0m \u001b[1m1s\u001b[0m 2ms/step - loss: 0.0398 - val_loss: 0.0394\n",
            "Epoch 27/30\n",
            "\u001b[1m349/349\u001b[0m \u001b[32m━━━━━━━━━━━━━━━━━━━━\u001b[0m\u001b[37m\u001b[0m \u001b[1m1s\u001b[0m 2ms/step - loss: 0.0382 - val_loss: 0.0380\n",
            "Epoch 28/30\n",
            "\u001b[1m349/349\u001b[0m \u001b[32m━━━━━━━━━━━━━━━━━━━━\u001b[0m\u001b[37m\u001b[0m \u001b[1m1s\u001b[0m 2ms/step - loss: 0.0384 - val_loss: 0.0381\n",
            "Epoch 29/30\n",
            "\u001b[1m349/349\u001b[0m \u001b[32m━━━━━━━━━━━━━━━━━━━━\u001b[0m\u001b[37m\u001b[0m \u001b[1m1s\u001b[0m 2ms/step - loss: 0.0376 - val_loss: 0.0371\n",
            "Epoch 30/30\n",
            "\u001b[1m349/349\u001b[0m \u001b[32m━━━━━━━━━━━━━━━━━━━━\u001b[0m\u001b[37m\u001b[0m \u001b[1m3s\u001b[0m 8ms/step - loss: 0.0365 - val_loss: 0.0362\n"
          ]
        },
        {
          "data": {
            "text/plain": [
              "<keras.src.callbacks.history.History at 0x78f43ae3d110>"
            ]
          },
          "execution_count": 64,
          "metadata": {},
          "output_type": "execute_result"
        }
      ],
      "source": [
        "model.fit(X_train,\n",
        "          y_train,\n",
        "          epochs=30,\n",
        "          batch_size=32,\n",
        "          validation_split=0.2,\n",
        "          callbacks=[early_stopping])"
      ]
    },
    {
      "cell_type": "code",
      "execution_count": null,
      "metadata": {
        "colab": {
          "base_uri": "https://localhost:8080/"
        },
        "id": "QEgq3ID0MZoq",
        "outputId": "1d6397c3-99bd-42e7-c56b-0d98810818af"
      },
      "outputs": [
        {
          "name": "stdout",
          "output_type": "stream",
          "text": [
            "\u001b[1m109/109\u001b[0m \u001b[32m━━━━━━━━━━━━━━━━━━━━\u001b[0m\u001b[37m\u001b[0m \u001b[1m0s\u001b[0m 2ms/step\n"
          ]
        }
      ],
      "source": [
        "predictions = model.predict(X_test)"
      ]
    },
    {
      "cell_type": "code",
      "execution_count": null,
      "metadata": {
        "colab": {
          "base_uri": "https://localhost:8080/"
        },
        "id": "TkV0b8QgMeHp",
        "outputId": "0df1f072-9587-40aa-fd2f-9c3543a94773"
      },
      "outputs": [
        {
          "name": "stdout",
          "output_type": "stream",
          "text": [
            "R2-score is 0.80\n"
          ]
        }
      ],
      "source": [
        "print('R2-score is %.2f' %r2_score(y_test,predictions))"
      ]
    },
    {
      "cell_type": "markdown",
      "metadata": {
        "id": "sCfF973_MwpJ"
      },
      "source": [
        "So changing loss function from mse to mae made our predictions slightly worse."
      ]
    },
    {
      "cell_type": "markdown",
      "metadata": {
        "id": "Cl4Z2AnIM9D3"
      },
      "source": [
        "## Multilayer Feedforward Network with PyTorch\n",
        "\n",
        "Now, we will implement multilayer feedforwarding again, but this time using PyTorch.\n",
        "\n",
        "First we need to import libraries we need.\n"
      ]
    },
    {
      "cell_type": "code",
      "execution_count": null,
      "metadata": {
        "id": "H-gDCOFSNDQF"
      },
      "outputs": [],
      "source": [
        "import torch.nn as nn\n",
        "import torch.nn.functional as F\n",
        "from torch.utils.data import TensorDataset, DataLoader\n",
        "from torch import Tensor"
      ]
    },
    {
      "cell_type": "markdown",
      "source": [
        "For using Pytorch models we need to convert our training and test set to PyTorch tensors.\n",
        "\n",
        "Also we need to convert everything to float type which is the default type PyTorch tensors."
      ],
      "metadata": {
        "id": "U1PHZPDMRD7m"
      }
    },
    {
      "cell_type": "code",
      "execution_count": null,
      "metadata": {
        "id": "hvz_IpSHN4Sk"
      },
      "outputs": [],
      "source": [
        "tensor_X_train = Tensor(X_train.values.astype(np.float32))\n",
        "tensor_y_train = Tensor(y_train.values.astype(np.float32))\n",
        "tensor_X_test = Tensor(X_test.values.astype(np.float32))\n",
        "tensor_y_test = Tensor(y_test.values.astype(np.float32))"
      ]
    },
    {
      "cell_type": "markdown",
      "source": [
        "We make Tensor Dataset so each datapoint would be paired with its target value."
      ],
      "metadata": {
        "id": "ApNATVeuSTgV"
      }
    },
    {
      "cell_type": "code",
      "execution_count": null,
      "metadata": {
        "id": "8Upt3CwsOYfB"
      },
      "outputs": [],
      "source": [
        "train_set=TensorDataset(tensor_X_train,tensor_y_train)\n",
        "test_set=TensorDataset(tensor_X_test,tensor_y_test)"
      ]
    },
    {
      "cell_type": "markdown",
      "source": [
        "Now, we use TensorDataset along with a DataLoader so that during training, random batches are output for each iteration (since the `shuffle` parameter is set to `True`).\n"
      ],
      "metadata": {
        "id": "OmeCJpl0SigT"
      }
    },
    {
      "cell_type": "code",
      "execution_count": null,
      "metadata": {
        "id": "4gEzYHiPO27Y"
      },
      "outputs": [],
      "source": [
        "train_dl = DataLoader(train_set,batch_size=16,shuffle=True)\n",
        "test_dl = DataLoader(test_set,batch_size=16,shuffle=True)"
      ]
    },
    {
      "cell_type": "markdown",
      "source": [
        "Now it's time to make the layers.It's like what we did in feedforwarding with Keras with small changes in the syntax.\n",
        "\n",
        "Each time we add a layer and then set an activation function for the output of that layer."
      ],
      "metadata": {
        "id": "wZI5hde9TRel"
      }
    },
    {
      "cell_type": "code",
      "execution_count": null,
      "metadata": {
        "id": "1ldMAZwlPPU9"
      },
      "outputs": [],
      "source": [
        "layers=[]\n",
        "\n",
        "layers.append(nn.Linear(X_train.shape[1],30))\n",
        "layers.append(nn.ReLU())\n",
        "\n",
        "layers.append(nn.Linear(30,20))\n",
        "layers.append(nn.Sigmoid())\n",
        "\n",
        "layers.append(nn.Linear(20,5))\n",
        "layers.append(nn.Sigmoid())\n",
        "\n",
        "layers.append(nn.Linear(5,1))\n",
        "layers.append(nn.Sigmoid())\n",
        "\n",
        "model=nn.Sequential(*layers)"
      ]
    },
    {
      "cell_type": "markdown",
      "source": [
        "Like what we did in Keras, we use mean squared error for loss function and Adam for the optimizer."
      ],
      "metadata": {
        "id": "DgMXOLz-URjk"
      }
    },
    {
      "cell_type": "code",
      "execution_count": null,
      "metadata": {
        "id": "kCFE2VeoQLgI"
      },
      "outputs": [],
      "source": [
        "import torch\n",
        "from torch import nn\n",
        "\n",
        "criterion = nn.MSELoss()\n",
        "optimizer = torch.optim.Adam(model.parameters())"
      ]
    },
    {
      "cell_type": "markdown",
      "source": [
        "Unlike in Keras, we need to implement to training process by looping the number of epochs."
      ],
      "metadata": {
        "id": "BVtkNUYXUa7c"
      }
    },
    {
      "cell_type": "code",
      "execution_count": null,
      "metadata": {
        "colab": {
          "base_uri": "https://localhost:8080/"
        },
        "id": "HowA2i2XQvKp",
        "outputId": "c35b255f-d58a-4701-e6b2-b343cd62aefa"
      },
      "outputs": [
        {
          "output_type": "stream",
          "name": "stdout",
          "text": [
            "[1,     1] Loss: 0.0049\n",
            "[1,    51] Loss: 0.2413\n",
            "[1,   101] Loss: 0.2340\n",
            "[1,   151] Loss: 0.2339\n",
            "[1,   201] Loss: 0.2361\n",
            "[1,   251] Loss: 0.2319\n",
            "[1,   301] Loss: 0.2337\n",
            "[1,   351] Loss: 0.2266\n",
            "[1,   401] Loss: 0.2178\n",
            "[1,   451] Loss: 0.2129\n",
            "[1,   501] Loss: 0.2083\n",
            "[1,   551] Loss: 0.1972\n",
            "[1,   601] Loss: 0.2007\n",
            "[1,   651] Loss: 0.1912\n",
            "[1,   701] Loss: 0.1883\n",
            "[1,   751] Loss: 0.1848\n",
            "[1,   801] Loss: 0.1853\n",
            "[1,   851] Loss: 0.1843\n",
            "[2,     1] Loss: 0.0030\n",
            "[2,    51] Loss: 0.1860\n",
            "[2,   101] Loss: 0.1762\n",
            "[2,   151] Loss: 0.1792\n",
            "[2,   201] Loss: 0.1812\n",
            "[2,   251] Loss: 0.1704\n",
            "[2,   301] Loss: 0.1753\n",
            "[2,   351] Loss: 0.1582\n",
            "[2,   401] Loss: 0.1694\n",
            "[2,   451] Loss: 0.1729\n",
            "[2,   501] Loss: 0.1646\n",
            "[2,   551] Loss: 0.1593\n",
            "[2,   601] Loss: 0.1599\n",
            "[2,   651] Loss: 0.1701\n",
            "[2,   701] Loss: 0.1754\n",
            "[2,   751] Loss: 0.1665\n",
            "[2,   801] Loss: 0.1632\n",
            "[2,   851] Loss: 0.1578\n",
            "[3,     1] Loss: 0.0025\n",
            "[3,    51] Loss: 0.1726\n",
            "[3,   101] Loss: 0.1489\n",
            "[3,   151] Loss: 0.1561\n",
            "[3,   201] Loss: 0.1597\n",
            "[3,   251] Loss: 0.1600\n",
            "[3,   301] Loss: 0.1645\n",
            "[3,   351] Loss: 0.1528\n",
            "[3,   401] Loss: 0.1622\n",
            "[3,   451] Loss: 0.1569\n",
            "[3,   501] Loss: 0.1534\n",
            "[3,   551] Loss: 0.1479\n",
            "[3,   601] Loss: 0.1542\n",
            "[3,   651] Loss: 0.1648\n",
            "[3,   701] Loss: 0.1567\n",
            "[3,   751] Loss: 0.1411\n",
            "[3,   801] Loss: 0.1633\n",
            "[3,   851] Loss: 0.1361\n",
            "[4,     1] Loss: 0.0026\n",
            "[4,    51] Loss: 0.1519\n",
            "[4,   101] Loss: 0.1509\n",
            "[4,   151] Loss: 0.1462\n",
            "[4,   201] Loss: 0.1338\n",
            "[4,   251] Loss: 0.1506\n",
            "[4,   301] Loss: 0.1435\n",
            "[4,   351] Loss: 0.1354\n",
            "[4,   401] Loss: 0.1418\n",
            "[4,   451] Loss: 0.1372\n",
            "[4,   501] Loss: 0.1527\n",
            "[4,   551] Loss: 0.1384\n",
            "[4,   601] Loss: 0.1344\n",
            "[4,   651] Loss: 0.1295\n",
            "[4,   701] Loss: 0.1355\n",
            "[4,   751] Loss: 0.1371\n",
            "[4,   801] Loss: 0.1475\n",
            "[4,   851] Loss: 0.1301\n",
            "[5,     1] Loss: 0.0020\n",
            "[5,    51] Loss: 0.1476\n",
            "[5,   101] Loss: 0.1244\n",
            "[5,   151] Loss: 0.1220\n",
            "[5,   201] Loss: 0.1231\n",
            "[5,   251] Loss: 0.1298\n",
            "[5,   301] Loss: 0.1241\n",
            "[5,   351] Loss: 0.1320\n",
            "[5,   401] Loss: 0.1354\n",
            "[5,   451] Loss: 0.1271\n",
            "[5,   501] Loss: 0.1227\n",
            "[5,   551] Loss: 0.1213\n",
            "[5,   601] Loss: 0.1189\n",
            "[5,   651] Loss: 0.1161\n",
            "[5,   701] Loss: 0.1315\n",
            "[5,   751] Loss: 0.1114\n",
            "[5,   801] Loss: 0.1092\n",
            "[5,   851] Loss: 0.1285\n",
            "[6,     1] Loss: 0.0017\n",
            "[6,    51] Loss: 0.1209\n",
            "[6,   101] Loss: 0.1148\n",
            "[6,   151] Loss: 0.1180\n",
            "[6,   201] Loss: 0.1142\n",
            "[6,   251] Loss: 0.1082\n",
            "[6,   301] Loss: 0.1098\n",
            "[6,   351] Loss: 0.1235\n",
            "[6,   401] Loss: 0.1184\n",
            "[6,   451] Loss: 0.1106\n",
            "[6,   501] Loss: 0.1111\n",
            "[6,   551] Loss: 0.1190\n",
            "[6,   601] Loss: 0.1146\n",
            "[6,   651] Loss: 0.1063\n",
            "[6,   701] Loss: 0.1138\n",
            "[6,   751] Loss: 0.1238\n",
            "[6,   801] Loss: 0.1087\n",
            "[6,   851] Loss: 0.1084\n",
            "[7,     1] Loss: 0.0008\n",
            "[7,    51] Loss: 0.1131\n",
            "[7,   101] Loss: 0.1194\n",
            "[7,   151] Loss: 0.1046\n",
            "[7,   201] Loss: 0.1096\n",
            "[7,   251] Loss: 0.1082\n",
            "[7,   301] Loss: 0.1022\n",
            "[7,   351] Loss: 0.1011\n",
            "[7,   401] Loss: 0.1087\n",
            "[7,   451] Loss: 0.1057\n",
            "[7,   501] Loss: 0.1120\n",
            "[7,   551] Loss: 0.1175\n",
            "[7,   601] Loss: 0.1067\n",
            "[7,   651] Loss: 0.1056\n",
            "[7,   701] Loss: 0.0989\n",
            "[7,   751] Loss: 0.1027\n",
            "[7,   801] Loss: 0.1027\n",
            "[7,   851] Loss: 0.1094\n",
            "[8,     1] Loss: 0.0032\n",
            "[8,    51] Loss: 0.1020\n",
            "[8,   101] Loss: 0.1123\n",
            "[8,   151] Loss: 0.1082\n",
            "[8,   201] Loss: 0.1005\n",
            "[8,   251] Loss: 0.1068\n",
            "[8,   301] Loss: 0.0942\n",
            "[8,   351] Loss: 0.1012\n",
            "[8,   401] Loss: 0.1092\n",
            "[8,   451] Loss: 0.1037\n",
            "[8,   501] Loss: 0.0985\n",
            "[8,   551] Loss: 0.1069\n",
            "[8,   601] Loss: 0.1078\n",
            "[8,   651] Loss: 0.1006\n",
            "[8,   701] Loss: 0.1027\n",
            "[8,   751] Loss: 0.1057\n",
            "[8,   801] Loss: 0.0946\n",
            "[8,   851] Loss: 0.0977\n",
            "[9,     1] Loss: 0.0025\n",
            "[9,    51] Loss: 0.1040\n",
            "[9,   101] Loss: 0.0962\n",
            "[9,   151] Loss: 0.1029\n",
            "[9,   201] Loss: 0.0975\n",
            "[9,   251] Loss: 0.0956\n",
            "[9,   301] Loss: 0.1037\n",
            "[9,   351] Loss: 0.0913\n",
            "[9,   401] Loss: 0.1043\n",
            "[9,   451] Loss: 0.0989\n",
            "[9,   501] Loss: 0.0963\n",
            "[9,   551] Loss: 0.0934\n",
            "[9,   601] Loss: 0.1036\n",
            "[9,   651] Loss: 0.1035\n",
            "[9,   701] Loss: 0.1044\n",
            "[9,   751] Loss: 0.1040\n",
            "[9,   801] Loss: 0.1036\n",
            "[9,   851] Loss: 0.0948\n",
            "[10,     1] Loss: 0.0020\n",
            "[10,    51] Loss: 0.0991\n",
            "[10,   101] Loss: 0.0919\n",
            "[10,   151] Loss: 0.1046\n",
            "[10,   201] Loss: 0.1024\n",
            "[10,   251] Loss: 0.0950\n",
            "[10,   301] Loss: 0.0953\n",
            "[10,   351] Loss: 0.0915\n",
            "[10,   401] Loss: 0.1002\n",
            "[10,   451] Loss: 0.0932\n",
            "[10,   501] Loss: 0.1079\n",
            "[10,   551] Loss: 0.0805\n",
            "[10,   601] Loss: 0.1042\n",
            "[10,   651] Loss: 0.1036\n",
            "[10,   701] Loss: 0.0810\n",
            "[10,   751] Loss: 0.0913\n",
            "[10,   801] Loss: 0.1004\n",
            "[10,   851] Loss: 0.1018\n",
            "[11,     1] Loss: 0.0019\n",
            "[11,    51] Loss: 0.1023\n",
            "[11,   101] Loss: 0.1018\n",
            "[11,   151] Loss: 0.0940\n",
            "[11,   201] Loss: 0.0924\n",
            "[11,   251] Loss: 0.0870\n",
            "[11,   301] Loss: 0.0938\n",
            "[11,   351] Loss: 0.0950\n",
            "[11,   401] Loss: 0.0945\n",
            "[11,   451] Loss: 0.1041\n",
            "[11,   501] Loss: 0.0910\n",
            "[11,   551] Loss: 0.0969\n",
            "[11,   601] Loss: 0.0949\n",
            "[11,   651] Loss: 0.0897\n",
            "[11,   701] Loss: 0.1034\n",
            "[11,   751] Loss: 0.1001\n",
            "[11,   801] Loss: 0.0885\n",
            "[11,   851] Loss: 0.0891\n",
            "[12,     1] Loss: 0.0028\n",
            "[12,    51] Loss: 0.0896\n",
            "[12,   101] Loss: 0.0898\n",
            "[12,   151] Loss: 0.1090\n",
            "[12,   201] Loss: 0.0972\n",
            "[12,   251] Loss: 0.0986\n",
            "[12,   301] Loss: 0.1088\n",
            "[12,   351] Loss: 0.0851\n",
            "[12,   401] Loss: 0.1017\n",
            "[12,   451] Loss: 0.0895\n",
            "[12,   501] Loss: 0.0936\n",
            "[12,   551] Loss: 0.0886\n",
            "[12,   601] Loss: 0.0854\n",
            "[12,   651] Loss: 0.0917\n",
            "[12,   701] Loss: 0.0843\n",
            "[12,   751] Loss: 0.0912\n",
            "[12,   801] Loss: 0.0937\n",
            "[12,   851] Loss: 0.0891\n",
            "[13,     1] Loss: 0.0026\n",
            "[13,    51] Loss: 0.1014\n",
            "[13,   101] Loss: 0.0891\n",
            "[13,   151] Loss: 0.0964\n",
            "[13,   201] Loss: 0.0916\n",
            "[13,   251] Loss: 0.0919\n",
            "[13,   301] Loss: 0.0877\n",
            "[13,   351] Loss: 0.0851\n",
            "[13,   401] Loss: 0.0969\n",
            "[13,   451] Loss: 0.0947\n",
            "[13,   501] Loss: 0.0920\n",
            "[13,   551] Loss: 0.0957\n",
            "[13,   601] Loss: 0.0843\n",
            "[13,   651] Loss: 0.0833\n",
            "[13,   701] Loss: 0.0906\n",
            "[13,   751] Loss: 0.0800\n",
            "[13,   801] Loss: 0.0864\n",
            "[13,   851] Loss: 0.0958\n",
            "[14,     1] Loss: 0.0016\n",
            "[14,    51] Loss: 0.0866\n",
            "[14,   101] Loss: 0.0977\n",
            "[14,   151] Loss: 0.0913\n",
            "[14,   201] Loss: 0.0895\n",
            "[14,   251] Loss: 0.0768\n",
            "[14,   301] Loss: 0.0869\n",
            "[14,   351] Loss: 0.0913\n",
            "[14,   401] Loss: 0.0958\n",
            "[14,   451] Loss: 0.0893\n",
            "[14,   501] Loss: 0.0823\n",
            "[14,   551] Loss: 0.0980\n",
            "[14,   601] Loss: 0.0848\n",
            "[14,   651] Loss: 0.0925\n",
            "[14,   701] Loss: 0.0820\n",
            "[14,   751] Loss: 0.0963\n",
            "[14,   801] Loss: 0.0888\n",
            "[14,   851] Loss: 0.0842\n",
            "[15,     1] Loss: 0.0029\n",
            "[15,    51] Loss: 0.0935\n",
            "[15,   101] Loss: 0.0795\n",
            "[15,   151] Loss: 0.0907\n",
            "[15,   201] Loss: 0.0891\n",
            "[15,   251] Loss: 0.0881\n",
            "[15,   301] Loss: 0.0937\n",
            "[15,   351] Loss: 0.0825\n",
            "[15,   401] Loss: 0.0842\n",
            "[15,   451] Loss: 0.0902\n",
            "[15,   501] Loss: 0.0917\n",
            "[15,   551] Loss: 0.0921\n",
            "[15,   601] Loss: 0.0863\n",
            "[15,   651] Loss: 0.0856\n",
            "[15,   701] Loss: 0.0816\n",
            "[15,   751] Loss: 0.0945\n",
            "[15,   801] Loss: 0.0940\n",
            "[15,   851] Loss: 0.0730\n",
            "[16,     1] Loss: 0.0012\n",
            "[16,    51] Loss: 0.0885\n",
            "[16,   101] Loss: 0.0803\n",
            "[16,   151] Loss: 0.0922\n",
            "[16,   201] Loss: 0.0891\n",
            "[16,   251] Loss: 0.0825\n",
            "[16,   301] Loss: 0.0767\n",
            "[16,   351] Loss: 0.0893\n",
            "[16,   401] Loss: 0.0845\n",
            "[16,   451] Loss: 0.0889\n",
            "[16,   501] Loss: 0.0927\n",
            "[16,   551] Loss: 0.0913\n",
            "[16,   601] Loss: 0.0779\n",
            "[16,   651] Loss: 0.0918\n",
            "[16,   701] Loss: 0.0791\n",
            "[16,   751] Loss: 0.0917\n",
            "[16,   801] Loss: 0.0812\n",
            "[16,   851] Loss: 0.0959\n",
            "[17,     1] Loss: 0.0029\n",
            "[17,    51] Loss: 0.0735\n",
            "[17,   101] Loss: 0.0841\n",
            "[17,   151] Loss: 0.0826\n",
            "[17,   201] Loss: 0.0808\n",
            "[17,   251] Loss: 0.0932\n",
            "[17,   301] Loss: 0.0861\n",
            "[17,   351] Loss: 0.0893\n",
            "[17,   401] Loss: 0.0960\n",
            "[17,   451] Loss: 0.0887\n",
            "[17,   501] Loss: 0.0803\n",
            "[17,   551] Loss: 0.0778\n",
            "[17,   601] Loss: 0.0866\n",
            "[17,   651] Loss: 0.0814\n",
            "[17,   701] Loss: 0.0829\n",
            "[17,   751] Loss: 0.0771\n",
            "[17,   801] Loss: 0.0933\n",
            "[17,   851] Loss: 0.0955\n",
            "[18,     1] Loss: 0.0021\n",
            "[18,    51] Loss: 0.0884\n",
            "[18,   101] Loss: 0.0871\n",
            "[18,   151] Loss: 0.0798\n",
            "[18,   201] Loss: 0.0919\n",
            "[18,   251] Loss: 0.0839\n",
            "[18,   301] Loss: 0.0697\n",
            "[18,   351] Loss: 0.0881\n",
            "[18,   401] Loss: 0.0774\n",
            "[18,   451] Loss: 0.0834\n",
            "[18,   501] Loss: 0.0743\n",
            "[18,   551] Loss: 0.0847\n",
            "[18,   601] Loss: 0.0931\n",
            "[18,   651] Loss: 0.0814\n",
            "[18,   701] Loss: 0.0859\n",
            "[18,   751] Loss: 0.0896\n",
            "[18,   801] Loss: 0.0769\n",
            "[18,   851] Loss: 0.0892\n",
            "[19,     1] Loss: 0.0018\n",
            "[19,    51] Loss: 0.0784\n",
            "[19,   101] Loss: 0.0848\n",
            "[19,   151] Loss: 0.0828\n",
            "[19,   201] Loss: 0.0875\n",
            "[19,   251] Loss: 0.0928\n",
            "[19,   301] Loss: 0.0887\n",
            "[19,   351] Loss: 0.0779\n",
            "[19,   401] Loss: 0.0806\n",
            "[19,   451] Loss: 0.0803\n",
            "[19,   501] Loss: 0.0901\n",
            "[19,   551] Loss: 0.0861\n",
            "[19,   601] Loss: 0.0793\n",
            "[19,   651] Loss: 0.0811\n",
            "[19,   701] Loss: 0.0808\n",
            "[19,   751] Loss: 0.0862\n",
            "[19,   801] Loss: 0.0756\n",
            "[19,   851] Loss: 0.0754\n",
            "[20,     1] Loss: 0.0021\n",
            "[20,    51] Loss: 0.0863\n",
            "[20,   101] Loss: 0.0752\n",
            "[20,   151] Loss: 0.0870\n",
            "[20,   201] Loss: 0.0808\n",
            "[20,   251] Loss: 0.0866\n",
            "[20,   301] Loss: 0.0823\n",
            "[20,   351] Loss: 0.0762\n",
            "[20,   401] Loss: 0.0809\n",
            "[20,   451] Loss: 0.0747\n",
            "[20,   501] Loss: 0.0870\n",
            "[20,   551] Loss: 0.0772\n",
            "[20,   601] Loss: 0.0910\n",
            "[20,   651] Loss: 0.0801\n",
            "[20,   701] Loss: 0.0783\n",
            "[20,   751] Loss: 0.0889\n",
            "[20,   801] Loss: 0.0819\n",
            "[20,   851] Loss: 0.0788\n",
            "[21,     1] Loss: 0.0011\n",
            "[21,    51] Loss: 0.0838\n",
            "[21,   101] Loss: 0.0779\n",
            "[21,   151] Loss: 0.0790\n",
            "[21,   201] Loss: 0.0747\n",
            "[21,   251] Loss: 0.0721\n",
            "[21,   301] Loss: 0.0781\n",
            "[21,   351] Loss: 0.0769\n",
            "[21,   401] Loss: 0.0926\n",
            "[21,   451] Loss: 0.0896\n",
            "[21,   501] Loss: 0.0834\n",
            "[21,   551] Loss: 0.0857\n",
            "[21,   601] Loss: 0.0856\n",
            "[21,   651] Loss: 0.0853\n",
            "[21,   701] Loss: 0.0928\n",
            "[21,   751] Loss: 0.0781\n",
            "[21,   801] Loss: 0.0815\n",
            "[21,   851] Loss: 0.0748\n",
            "[22,     1] Loss: 0.0010\n",
            "[22,    51] Loss: 0.0852\n",
            "[22,   101] Loss: 0.0799\n",
            "[22,   151] Loss: 0.0748\n",
            "[22,   201] Loss: 0.0850\n",
            "[22,   251] Loss: 0.0829\n",
            "[22,   301] Loss: 0.0822\n",
            "[22,   351] Loss: 0.0877\n",
            "[22,   401] Loss: 0.0790\n",
            "[22,   451] Loss: 0.0832\n",
            "[22,   501] Loss: 0.0770\n",
            "[22,   551] Loss: 0.0780\n",
            "[22,   601] Loss: 0.0823\n",
            "[22,   651] Loss: 0.0834\n",
            "[22,   701] Loss: 0.0800\n",
            "[22,   751] Loss: 0.0775\n",
            "[22,   801] Loss: 0.0785\n",
            "[22,   851] Loss: 0.0772\n",
            "[23,     1] Loss: 0.0021\n",
            "[23,    51] Loss: 0.0903\n",
            "[23,   101] Loss: 0.0708\n",
            "[23,   151] Loss: 0.0869\n",
            "[23,   201] Loss: 0.0707\n",
            "[23,   251] Loss: 0.0822\n",
            "[23,   301] Loss: 0.0807\n",
            "[23,   351] Loss: 0.0766\n",
            "[23,   401] Loss: 0.0805\n",
            "[23,   451] Loss: 0.0712\n",
            "[23,   501] Loss: 0.0946\n",
            "[23,   551] Loss: 0.0851\n",
            "[23,   601] Loss: 0.0707\n",
            "[23,   651] Loss: 0.0844\n",
            "[23,   701] Loss: 0.0813\n",
            "[23,   751] Loss: 0.0834\n",
            "[23,   801] Loss: 0.0754\n",
            "[23,   851] Loss: 0.0798\n",
            "[24,     1] Loss: 0.0021\n",
            "[24,    51] Loss: 0.0854\n",
            "[24,   101] Loss: 0.0747\n",
            "[24,   151] Loss: 0.0714\n",
            "[24,   201] Loss: 0.0861\n",
            "[24,   251] Loss: 0.0799\n",
            "[24,   301] Loss: 0.0727\n",
            "[24,   351] Loss: 0.0787\n",
            "[24,   401] Loss: 0.0873\n",
            "[24,   451] Loss: 0.0963\n",
            "[24,   501] Loss: 0.0901\n",
            "[24,   551] Loss: 0.0706\n",
            "[24,   601] Loss: 0.0698\n",
            "[24,   651] Loss: 0.0845\n",
            "[24,   701] Loss: 0.0862\n",
            "[24,   751] Loss: 0.0811\n",
            "[24,   801] Loss: 0.0794\n",
            "[24,   851] Loss: 0.0738\n",
            "[25,     1] Loss: 0.0009\n",
            "[25,    51] Loss: 0.0893\n",
            "[25,   101] Loss: 0.0821\n",
            "[25,   151] Loss: 0.0654\n",
            "[25,   201] Loss: 0.0822\n",
            "[25,   251] Loss: 0.0788\n",
            "[25,   301] Loss: 0.0808\n",
            "[25,   351] Loss: 0.0780\n",
            "[25,   401] Loss: 0.0816\n",
            "[25,   451] Loss: 0.0761\n",
            "[25,   501] Loss: 0.0813\n",
            "[25,   551] Loss: 0.0760\n",
            "[25,   601] Loss: 0.0738\n",
            "[25,   651] Loss: 0.0889\n",
            "[25,   701] Loss: 0.0755\n",
            "[25,   751] Loss: 0.0874\n",
            "[25,   801] Loss: 0.0802\n",
            "[25,   851] Loss: 0.0736\n",
            "[26,     1] Loss: 0.0003\n",
            "[26,    51] Loss: 0.0766\n",
            "[26,   101] Loss: 0.0794\n",
            "[26,   151] Loss: 0.0790\n",
            "[26,   201] Loss: 0.0856\n",
            "[26,   251] Loss: 0.0794\n",
            "[26,   301] Loss: 0.0790\n",
            "[26,   351] Loss: 0.0827\n",
            "[26,   401] Loss: 0.0788\n",
            "[26,   451] Loss: 0.0856\n",
            "[26,   501] Loss: 0.0769\n",
            "[26,   551] Loss: 0.0787\n",
            "[26,   601] Loss: 0.0812\n",
            "[26,   651] Loss: 0.0762\n",
            "[26,   701] Loss: 0.0781\n",
            "[26,   751] Loss: 0.0722\n",
            "[26,   801] Loss: 0.0835\n",
            "[26,   851] Loss: 0.0865\n",
            "[27,     1] Loss: 0.0042\n",
            "[27,    51] Loss: 0.0711\n",
            "[27,   101] Loss: 0.0757\n",
            "[27,   151] Loss: 0.0705\n",
            "[27,   201] Loss: 0.0793\n",
            "[27,   251] Loss: 0.0874\n",
            "[27,   301] Loss: 0.0783\n",
            "[27,   351] Loss: 0.0757\n",
            "[27,   401] Loss: 0.0778\n",
            "[27,   451] Loss: 0.0809\n",
            "[27,   501] Loss: 0.0813\n",
            "[27,   551] Loss: 0.0727\n",
            "[27,   601] Loss: 0.0838\n",
            "[27,   651] Loss: 0.0778\n",
            "[27,   701] Loss: 0.0848\n",
            "[27,   751] Loss: 0.0879\n",
            "[27,   801] Loss: 0.0804\n",
            "[27,   851] Loss: 0.0706\n",
            "[28,     1] Loss: 0.0031\n",
            "[28,    51] Loss: 0.0780\n",
            "[28,   101] Loss: 0.0761\n",
            "[28,   151] Loss: 0.0797\n",
            "[28,   201] Loss: 0.0801\n",
            "[28,   251] Loss: 0.0774\n",
            "[28,   301] Loss: 0.0804\n",
            "[28,   351] Loss: 0.0725\n",
            "[28,   401] Loss: 0.0716\n",
            "[28,   451] Loss: 0.0816\n",
            "[28,   501] Loss: 0.0835\n",
            "[28,   551] Loss: 0.0787\n",
            "[28,   601] Loss: 0.0771\n",
            "[28,   651] Loss: 0.0880\n",
            "[28,   701] Loss: 0.0765\n",
            "[28,   751] Loss: 0.0738\n",
            "[28,   801] Loss: 0.0705\n",
            "[28,   851] Loss: 0.0770\n",
            "[29,     1] Loss: 0.0028\n",
            "[29,    51] Loss: 0.0773\n",
            "[29,   101] Loss: 0.0836\n",
            "[29,   151] Loss: 0.0872\n",
            "[29,   201] Loss: 0.0721\n",
            "[29,   251] Loss: 0.0798\n",
            "[29,   301] Loss: 0.0788\n",
            "[29,   351] Loss: 0.0749\n",
            "[29,   401] Loss: 0.0771\n",
            "[29,   451] Loss: 0.0792\n",
            "[29,   501] Loss: 0.0770\n",
            "[29,   551] Loss: 0.0790\n",
            "[29,   601] Loss: 0.0732\n",
            "[29,   651] Loss: 0.0735\n",
            "[29,   701] Loss: 0.0810\n",
            "[29,   751] Loss: 0.0762\n",
            "[29,   801] Loss: 0.0821\n",
            "[29,   851] Loss: 0.0639\n",
            "[30,     1] Loss: 0.0009\n",
            "[30,    51] Loss: 0.0821\n",
            "[30,   101] Loss: 0.0665\n",
            "[30,   151] Loss: 0.0725\n",
            "[30,   201] Loss: 0.0809\n",
            "[30,   251] Loss: 0.0785\n",
            "[30,   301] Loss: 0.0734\n",
            "[30,   351] Loss: 0.0829\n",
            "[30,   401] Loss: 0.0835\n",
            "[30,   451] Loss: 0.0704\n",
            "[30,   501] Loss: 0.0743\n",
            "[30,   551] Loss: 0.0722\n",
            "[30,   601] Loss: 0.0768\n",
            "[30,   651] Loss: 0.0715\n",
            "[30,   701] Loss: 0.0787\n",
            "[30,   751] Loss: 0.0676\n",
            "[30,   801] Loss: 0.0868\n",
            "[30,   851] Loss: 0.0713\n",
            "[31,     1] Loss: 0.0016\n",
            "[31,    51] Loss: 0.0745\n",
            "[31,   101] Loss: 0.0740\n",
            "[31,   151] Loss: 0.0733\n",
            "[31,   201] Loss: 0.0742\n",
            "[31,   251] Loss: 0.0678\n",
            "[31,   301] Loss: 0.0827\n",
            "[31,   351] Loss: 0.0792\n",
            "[31,   401] Loss: 0.0828\n",
            "[31,   451] Loss: 0.0765\n",
            "[31,   501] Loss: 0.0875\n",
            "[31,   551] Loss: 0.0737\n",
            "[31,   601] Loss: 0.0772\n",
            "[31,   651] Loss: 0.0662\n",
            "[31,   701] Loss: 0.0809\n",
            "[31,   751] Loss: 0.0691\n",
            "[31,   801] Loss: 0.0638\n",
            "[31,   851] Loss: 0.0792\n",
            "[32,     1] Loss: 0.0020\n",
            "[32,    51] Loss: 0.0813\n",
            "[32,   101] Loss: 0.0759\n",
            "[32,   151] Loss: 0.0728\n",
            "[32,   201] Loss: 0.0810\n",
            "[32,   251] Loss: 0.0728\n",
            "[32,   301] Loss: 0.0634\n",
            "[32,   351] Loss: 0.0649\n",
            "[32,   401] Loss: 0.0768\n",
            "[32,   451] Loss: 0.0644\n",
            "[32,   501] Loss: 0.0700\n",
            "[32,   551] Loss: 0.0806\n",
            "[32,   601] Loss: 0.0743\n",
            "[32,   651] Loss: 0.0848\n",
            "[32,   701] Loss: 0.0709\n",
            "[32,   751] Loss: 0.0720\n",
            "[32,   801] Loss: 0.0788\n",
            "[32,   851] Loss: 0.0795\n",
            "[33,     1] Loss: 0.0014\n",
            "[33,    51] Loss: 0.0793\n",
            "[33,   101] Loss: 0.0720\n",
            "[33,   151] Loss: 0.0684\n",
            "[33,   201] Loss: 0.0648\n",
            "[33,   251] Loss: 0.0780\n",
            "[33,   301] Loss: 0.0678\n",
            "[33,   351] Loss: 0.0810\n",
            "[33,   401] Loss: 0.0726\n",
            "[33,   451] Loss: 0.0670\n",
            "[33,   501] Loss: 0.0855\n",
            "[33,   551] Loss: 0.0748\n",
            "[33,   601] Loss: 0.0801\n",
            "[33,   651] Loss: 0.0732\n",
            "[33,   701] Loss: 0.0729\n",
            "[33,   751] Loss: 0.0708\n",
            "[33,   801] Loss: 0.0741\n",
            "[33,   851] Loss: 0.0781\n",
            "[34,     1] Loss: 0.0021\n",
            "[34,    51] Loss: 0.0721\n",
            "[34,   101] Loss: 0.0664\n",
            "[34,   151] Loss: 0.0711\n",
            "[34,   201] Loss: 0.0673\n",
            "[34,   251] Loss: 0.0742\n",
            "[34,   301] Loss: 0.0708\n",
            "[34,   351] Loss: 0.0710\n",
            "[34,   401] Loss: 0.0728\n",
            "[34,   451] Loss: 0.0736\n",
            "[34,   501] Loss: 0.0755\n",
            "[34,   551] Loss: 0.0731\n",
            "[34,   601] Loss: 0.0738\n",
            "[34,   651] Loss: 0.0798\n",
            "[34,   701] Loss: 0.0813\n",
            "[34,   751] Loss: 0.0684\n",
            "[34,   801] Loss: 0.0658\n",
            "[34,   851] Loss: 0.0736\n",
            "[35,     1] Loss: 0.0020\n",
            "[35,    51] Loss: 0.0757\n",
            "[35,   101] Loss: 0.0720\n",
            "[35,   151] Loss: 0.0760\n",
            "[35,   201] Loss: 0.0667\n",
            "[35,   251] Loss: 0.0684\n",
            "[35,   301] Loss: 0.0707\n",
            "[35,   351] Loss: 0.0761\n",
            "[35,   401] Loss: 0.0729\n",
            "[35,   451] Loss: 0.0696\n",
            "[35,   501] Loss: 0.0628\n",
            "[35,   551] Loss: 0.0699\n",
            "[35,   601] Loss: 0.0728\n",
            "[35,   651] Loss: 0.0687\n",
            "[35,   701] Loss: 0.0650\n",
            "[35,   751] Loss: 0.0651\n",
            "[35,   801] Loss: 0.0790\n",
            "[35,   851] Loss: 0.0779\n",
            "[36,     1] Loss: 0.0014\n",
            "[36,    51] Loss: 0.0662\n",
            "[36,   101] Loss: 0.0801\n",
            "[36,   151] Loss: 0.0575\n",
            "[36,   201] Loss: 0.0687\n",
            "[36,   251] Loss: 0.0734\n",
            "[36,   301] Loss: 0.0659\n",
            "[36,   351] Loss: 0.0719\n",
            "[36,   401] Loss: 0.0685\n",
            "[36,   451] Loss: 0.0690\n",
            "[36,   501] Loss: 0.0694\n",
            "[36,   551] Loss: 0.0735\n",
            "[36,   601] Loss: 0.0760\n",
            "[36,   651] Loss: 0.0797\n",
            "[36,   701] Loss: 0.0765\n",
            "[36,   751] Loss: 0.0720\n",
            "[36,   801] Loss: 0.0706\n",
            "[36,   851] Loss: 0.0627\n",
            "[37,     1] Loss: 0.0007\n",
            "[37,    51] Loss: 0.0670\n",
            "[37,   101] Loss: 0.0675\n",
            "[37,   151] Loss: 0.0702\n",
            "[37,   201] Loss: 0.0634\n",
            "[37,   251] Loss: 0.0742\n",
            "[37,   301] Loss: 0.0726\n",
            "[37,   351] Loss: 0.0650\n",
            "[37,   401] Loss: 0.0712\n",
            "[37,   451] Loss: 0.0816\n",
            "[37,   501] Loss: 0.0750\n",
            "[37,   551] Loss: 0.0578\n",
            "[37,   601] Loss: 0.0613\n",
            "[37,   651] Loss: 0.0781\n",
            "[37,   701] Loss: 0.0699\n",
            "[37,   751] Loss: 0.0737\n",
            "[37,   801] Loss: 0.0682\n",
            "[37,   851] Loss: 0.0649\n",
            "[38,     1] Loss: 0.0017\n",
            "[38,    51] Loss: 0.0747\n",
            "[38,   101] Loss: 0.0628\n",
            "[38,   151] Loss: 0.0695\n",
            "[38,   201] Loss: 0.0784\n",
            "[38,   251] Loss: 0.0676\n",
            "[38,   301] Loss: 0.0692\n",
            "[38,   351] Loss: 0.0720\n",
            "[38,   401] Loss: 0.0679\n",
            "[38,   451] Loss: 0.0760\n",
            "[38,   501] Loss: 0.0630\n",
            "[38,   551] Loss: 0.0661\n",
            "[38,   601] Loss: 0.0607\n",
            "[38,   651] Loss: 0.0740\n",
            "[38,   701] Loss: 0.0633\n",
            "[38,   751] Loss: 0.0646\n",
            "[38,   801] Loss: 0.0728\n",
            "[38,   851] Loss: 0.0599\n",
            "[39,     1] Loss: 0.0014\n",
            "[39,    51] Loss: 0.0730\n",
            "[39,   101] Loss: 0.0660\n",
            "[39,   151] Loss: 0.0650\n",
            "[39,   201] Loss: 0.0603\n",
            "[39,   251] Loss: 0.0659\n",
            "[39,   301] Loss: 0.0648\n",
            "[39,   351] Loss: 0.0678\n",
            "[39,   401] Loss: 0.0627\n",
            "[39,   451] Loss: 0.0739\n",
            "[39,   501] Loss: 0.0623\n",
            "[39,   551] Loss: 0.0560\n",
            "[39,   601] Loss: 0.0701\n",
            "[39,   651] Loss: 0.0681\n",
            "[39,   701] Loss: 0.0643\n",
            "[39,   751] Loss: 0.0649\n",
            "[39,   801] Loss: 0.0599\n",
            "[39,   851] Loss: 0.0600\n",
            "[40,     1] Loss: 0.0006\n",
            "[40,    51] Loss: 0.0602\n",
            "[40,   101] Loss: 0.0575\n",
            "[40,   151] Loss: 0.0656\n",
            "[40,   201] Loss: 0.0619\n",
            "[40,   251] Loss: 0.0577\n",
            "[40,   301] Loss: 0.0646\n",
            "[40,   351] Loss: 0.0588\n",
            "[40,   401] Loss: 0.0682\n",
            "[40,   451] Loss: 0.0622\n",
            "[40,   501] Loss: 0.0540\n",
            "[40,   551] Loss: 0.0656\n",
            "[40,   601] Loss: 0.0612\n",
            "[40,   651] Loss: 0.0645\n",
            "[40,   701] Loss: 0.0631\n",
            "[40,   751] Loss: 0.0697\n",
            "[40,   801] Loss: 0.0624\n",
            "[40,   851] Loss: 0.0642\n",
            "[41,     1] Loss: 0.0011\n",
            "[41,    51] Loss: 0.0688\n",
            "[41,   101] Loss: 0.0665\n",
            "[41,   151] Loss: 0.0548\n",
            "[41,   201] Loss: 0.0571\n",
            "[41,   251] Loss: 0.0663\n",
            "[41,   301] Loss: 0.0733\n",
            "[41,   351] Loss: 0.0614\n",
            "[41,   401] Loss: 0.0551\n",
            "[41,   451] Loss: 0.0555\n",
            "[41,   501] Loss: 0.0606\n",
            "[41,   551] Loss: 0.0674\n",
            "[41,   601] Loss: 0.0628\n",
            "[41,   651] Loss: 0.0558\n",
            "[41,   701] Loss: 0.0648\n",
            "[41,   751] Loss: 0.0646\n",
            "[41,   801] Loss: 0.0594\n",
            "[41,   851] Loss: 0.0614\n",
            "[42,     1] Loss: 0.0005\n",
            "[42,    51] Loss: 0.0565\n",
            "[42,   101] Loss: 0.0579\n",
            "[42,   151] Loss: 0.0659\n",
            "[42,   201] Loss: 0.0618\n",
            "[42,   251] Loss: 0.0504\n",
            "[42,   301] Loss: 0.0636\n",
            "[42,   351] Loss: 0.0651\n",
            "[42,   401] Loss: 0.0566\n",
            "[42,   451] Loss: 0.0672\n",
            "[42,   501] Loss: 0.0618\n",
            "[42,   551] Loss: 0.0629\n",
            "[42,   601] Loss: 0.0605\n",
            "[42,   651] Loss: 0.0608\n",
            "[42,   701] Loss: 0.0620\n",
            "[42,   751] Loss: 0.0597\n",
            "[42,   801] Loss: 0.0571\n",
            "[42,   851] Loss: 0.0646\n",
            "[43,     1] Loss: 0.0010\n",
            "[43,    51] Loss: 0.0522\n",
            "[43,   101] Loss: 0.0612\n",
            "[43,   151] Loss: 0.0658\n",
            "[43,   201] Loss: 0.0481\n",
            "[43,   251] Loss: 0.0436\n",
            "[43,   301] Loss: 0.0570\n",
            "[43,   351] Loss: 0.0584\n",
            "[43,   401] Loss: 0.0683\n",
            "[43,   451] Loss: 0.0600\n",
            "[43,   501] Loss: 0.0555\n",
            "[43,   551] Loss: 0.0600\n",
            "[43,   601] Loss: 0.0648\n",
            "[43,   651] Loss: 0.0593\n",
            "[43,   701] Loss: 0.0575\n",
            "[43,   751] Loss: 0.0529\n",
            "[43,   801] Loss: 0.0603\n",
            "[43,   851] Loss: 0.0587\n",
            "[44,     1] Loss: 0.0011\n",
            "[44,    51] Loss: 0.0515\n",
            "[44,   101] Loss: 0.0526\n",
            "[44,   151] Loss: 0.0560\n",
            "[44,   201] Loss: 0.0488\n",
            "[44,   251] Loss: 0.0515\n",
            "[44,   301] Loss: 0.0636\n",
            "[44,   351] Loss: 0.0579\n",
            "[44,   401] Loss: 0.0515\n",
            "[44,   451] Loss: 0.0508\n",
            "[44,   501] Loss: 0.0576\n",
            "[44,   551] Loss: 0.0606\n",
            "[44,   601] Loss: 0.0487\n",
            "[44,   651] Loss: 0.0507\n",
            "[44,   701] Loss: 0.0675\n",
            "[44,   751] Loss: 0.0561\n",
            "[44,   801] Loss: 0.0675\n",
            "[44,   851] Loss: 0.0637\n",
            "[45,     1] Loss: 0.0007\n",
            "[45,    51] Loss: 0.0603\n",
            "[45,   101] Loss: 0.0543\n",
            "[45,   151] Loss: 0.0577\n",
            "[45,   201] Loss: 0.0568\n",
            "[45,   251] Loss: 0.0480\n",
            "[45,   301] Loss: 0.0509\n",
            "[45,   351] Loss: 0.0580\n",
            "[45,   401] Loss: 0.0631\n",
            "[45,   451] Loss: 0.0501\n",
            "[45,   501] Loss: 0.0490\n",
            "[45,   551] Loss: 0.0590\n",
            "[45,   601] Loss: 0.0507\n",
            "[45,   651] Loss: 0.0590\n",
            "[45,   701] Loss: 0.0465\n",
            "[45,   751] Loss: 0.0636\n",
            "[45,   801] Loss: 0.0696\n",
            "[45,   851] Loss: 0.0562\n",
            "[46,     1] Loss: 0.0015\n",
            "[46,    51] Loss: 0.0537\n",
            "[46,   101] Loss: 0.0464\n",
            "[46,   151] Loss: 0.0475\n",
            "[46,   201] Loss: 0.0547\n",
            "[46,   251] Loss: 0.0687\n",
            "[46,   301] Loss: 0.0608\n",
            "[46,   351] Loss: 0.0593\n",
            "[46,   401] Loss: 0.0416\n",
            "[46,   451] Loss: 0.0623\n",
            "[46,   501] Loss: 0.0620\n",
            "[46,   551] Loss: 0.0427\n",
            "[46,   601] Loss: 0.0515\n",
            "[46,   651] Loss: 0.0596\n",
            "[46,   701] Loss: 0.0516\n",
            "[46,   751] Loss: 0.0660\n",
            "[46,   801] Loss: 0.0627\n",
            "[46,   851] Loss: 0.0522\n",
            "[47,     1] Loss: 0.0001\n",
            "[47,    51] Loss: 0.0648\n",
            "[47,   101] Loss: 0.0472\n",
            "[47,   151] Loss: 0.0502\n",
            "[47,   201] Loss: 0.0472\n",
            "[47,   251] Loss: 0.0577\n",
            "[47,   301] Loss: 0.0584\n",
            "[47,   351] Loss: 0.0521\n",
            "[47,   401] Loss: 0.0464\n",
            "[47,   451] Loss: 0.0558\n",
            "[47,   501] Loss: 0.0617\n",
            "[47,   551] Loss: 0.0538\n",
            "[47,   601] Loss: 0.0516\n",
            "[47,   651] Loss: 0.0512\n",
            "[47,   701] Loss: 0.0531\n",
            "[47,   751] Loss: 0.0462\n",
            "[47,   801] Loss: 0.0576\n",
            "[47,   851] Loss: 0.0467\n",
            "[48,     1] Loss: 0.0025\n",
            "[48,    51] Loss: 0.0487\n",
            "[48,   101] Loss: 0.0578\n",
            "[48,   151] Loss: 0.0599\n",
            "[48,   201] Loss: 0.0536\n",
            "[48,   251] Loss: 0.0562\n",
            "[48,   301] Loss: 0.0601\n",
            "[48,   351] Loss: 0.0538\n",
            "[48,   401] Loss: 0.0476\n",
            "[48,   451] Loss: 0.0536\n",
            "[48,   501] Loss: 0.0497\n",
            "[48,   551] Loss: 0.0556\n",
            "[48,   601] Loss: 0.0477\n",
            "[48,   651] Loss: 0.0530\n",
            "[48,   701] Loss: 0.0481\n",
            "[48,   751] Loss: 0.0439\n",
            "[48,   801] Loss: 0.0475\n",
            "[48,   851] Loss: 0.0669\n",
            "[49,     1] Loss: 0.0015\n",
            "[49,    51] Loss: 0.0547\n",
            "[49,   101] Loss: 0.0597\n",
            "[49,   151] Loss: 0.0555\n",
            "[49,   201] Loss: 0.0516\n",
            "[49,   251] Loss: 0.0506\n",
            "[49,   301] Loss: 0.0579\n",
            "[49,   351] Loss: 0.0550\n",
            "[49,   401] Loss: 0.0484\n",
            "[49,   451] Loss: 0.0471\n",
            "[49,   501] Loss: 0.0567\n",
            "[49,   551] Loss: 0.0552\n",
            "[49,   601] Loss: 0.0590\n",
            "[49,   651] Loss: 0.0484\n",
            "[49,   701] Loss: 0.0647\n",
            "[49,   751] Loss: 0.0545\n",
            "[49,   801] Loss: 0.0451\n",
            "[49,   851] Loss: 0.0545\n",
            "[50,     1] Loss: 0.0012\n",
            "[50,    51] Loss: 0.0449\n",
            "[50,   101] Loss: 0.0536\n",
            "[50,   151] Loss: 0.0516\n",
            "[50,   201] Loss: 0.0491\n",
            "[50,   251] Loss: 0.0518\n",
            "[50,   301] Loss: 0.0530\n",
            "[50,   351] Loss: 0.0604\n",
            "[50,   401] Loss: 0.0454\n",
            "[50,   451] Loss: 0.0505\n",
            "[50,   501] Loss: 0.0503\n",
            "[50,   551] Loss: 0.0484\n",
            "[50,   601] Loss: 0.0561\n",
            "[50,   651] Loss: 0.0545\n",
            "[50,   701] Loss: 0.0569\n",
            "[50,   751] Loss: 0.0490\n",
            "[50,   801] Loss: 0.0465\n",
            "[50,   851] Loss: 0.0583\n",
            "[51,     1] Loss: 0.0026\n",
            "[51,    51] Loss: 0.0616\n",
            "[51,   101] Loss: 0.0540\n",
            "[51,   151] Loss: 0.0516\n",
            "[51,   201] Loss: 0.0458\n",
            "[51,   251] Loss: 0.0565\n",
            "[51,   301] Loss: 0.0644\n",
            "[51,   351] Loss: 0.0493\n",
            "[51,   401] Loss: 0.0575\n",
            "[51,   451] Loss: 0.0405\n",
            "[51,   501] Loss: 0.0456\n",
            "[51,   551] Loss: 0.0444\n",
            "[51,   601] Loss: 0.0485\n",
            "[51,   651] Loss: 0.0542\n",
            "[51,   701] Loss: 0.0500\n",
            "[51,   751] Loss: 0.0465\n",
            "[51,   801] Loss: 0.0548\n",
            "[51,   851] Loss: 0.0434\n",
            "[52,     1] Loss: 0.0002\n",
            "[52,    51] Loss: 0.0605\n",
            "[52,   101] Loss: 0.0582\n",
            "[52,   151] Loss: 0.0474\n",
            "[52,   201] Loss: 0.0426\n",
            "[52,   251] Loss: 0.0544\n",
            "[52,   301] Loss: 0.0651\n",
            "[52,   351] Loss: 0.0581\n",
            "[52,   401] Loss: 0.0483\n",
            "[52,   451] Loss: 0.0469\n",
            "[52,   501] Loss: 0.0469\n",
            "[52,   551] Loss: 0.0535\n",
            "[52,   601] Loss: 0.0450\n",
            "[52,   651] Loss: 0.0513\n",
            "[52,   701] Loss: 0.0430\n",
            "[52,   751] Loss: 0.0514\n",
            "[52,   801] Loss: 0.0539\n",
            "[52,   851] Loss: 0.0519\n",
            "[53,     1] Loss: 0.0010\n",
            "[53,    51] Loss: 0.0592\n",
            "[53,   101] Loss: 0.0495\n",
            "[53,   151] Loss: 0.0511\n",
            "[53,   201] Loss: 0.0446\n",
            "[53,   251] Loss: 0.0617\n",
            "[53,   301] Loss: 0.0488\n",
            "[53,   351] Loss: 0.0554\n",
            "[53,   401] Loss: 0.0462\n",
            "[53,   451] Loss: 0.0580\n",
            "[53,   501] Loss: 0.0510\n",
            "[53,   551] Loss: 0.0465\n",
            "[53,   601] Loss: 0.0495\n",
            "[53,   651] Loss: 0.0545\n",
            "[53,   701] Loss: 0.0492\n",
            "[53,   751] Loss: 0.0515\n",
            "[53,   801] Loss: 0.0504\n",
            "[53,   851] Loss: 0.0483\n",
            "[54,     1] Loss: 0.0006\n",
            "[54,    51] Loss: 0.0546\n",
            "[54,   101] Loss: 0.0614\n",
            "[54,   151] Loss: 0.0450\n",
            "[54,   201] Loss: 0.0442\n",
            "[54,   251] Loss: 0.0505\n",
            "[54,   301] Loss: 0.0573\n",
            "[54,   351] Loss: 0.0479\n",
            "[54,   401] Loss: 0.0529\n",
            "[54,   451] Loss: 0.0417\n",
            "[54,   501] Loss: 0.0467\n",
            "[54,   551] Loss: 0.0436\n",
            "[54,   601] Loss: 0.0521\n",
            "[54,   651] Loss: 0.0577\n",
            "[54,   701] Loss: 0.0525\n",
            "[54,   751] Loss: 0.0437\n",
            "[54,   801] Loss: 0.0529\n",
            "[54,   851] Loss: 0.0547\n",
            "[55,     1] Loss: 0.0019\n",
            "[55,    51] Loss: 0.0429\n",
            "[55,   101] Loss: 0.0442\n",
            "[55,   151] Loss: 0.0446\n",
            "[55,   201] Loss: 0.0518\n",
            "[55,   251] Loss: 0.0552\n",
            "[55,   301] Loss: 0.0509\n",
            "[55,   351] Loss: 0.0488\n",
            "[55,   401] Loss: 0.0480\n",
            "[55,   451] Loss: 0.0507\n",
            "[55,   501] Loss: 0.0417\n",
            "[55,   551] Loss: 0.0512\n",
            "[55,   601] Loss: 0.0521\n",
            "[55,   651] Loss: 0.0552\n",
            "[55,   701] Loss: 0.0522\n",
            "[55,   751] Loss: 0.0505\n",
            "[55,   801] Loss: 0.0552\n",
            "[55,   851] Loss: 0.0559\n",
            "[56,     1] Loss: 0.0008\n",
            "[56,    51] Loss: 0.0674\n",
            "[56,   101] Loss: 0.0448\n",
            "[56,   151] Loss: 0.0422\n",
            "[56,   201] Loss: 0.0409\n",
            "[56,   251] Loss: 0.0495\n",
            "[56,   301] Loss: 0.0459\n",
            "[56,   351] Loss: 0.0581\n",
            "[56,   401] Loss: 0.0523\n",
            "[56,   451] Loss: 0.0484\n",
            "[56,   501] Loss: 0.0524\n",
            "[56,   551] Loss: 0.0561\n",
            "[56,   601] Loss: 0.0506\n",
            "[56,   651] Loss: 0.0519\n",
            "[56,   701] Loss: 0.0605\n",
            "[56,   751] Loss: 0.0450\n",
            "[56,   801] Loss: 0.0503\n",
            "[56,   851] Loss: 0.0546\n",
            "[57,     1] Loss: 0.0011\n",
            "[57,    51] Loss: 0.0452\n",
            "[57,   101] Loss: 0.0534\n",
            "[57,   151] Loss: 0.0469\n",
            "[57,   201] Loss: 0.0587\n",
            "[57,   251] Loss: 0.0498\n",
            "[57,   301] Loss: 0.0524\n",
            "[57,   351] Loss: 0.0435\n",
            "[57,   401] Loss: 0.0370\n",
            "[57,   451] Loss: 0.0586\n",
            "[57,   501] Loss: 0.0486\n",
            "[57,   551] Loss: 0.0484\n",
            "[57,   601] Loss: 0.0556\n",
            "[57,   651] Loss: 0.0424\n",
            "[57,   701] Loss: 0.0524\n",
            "[57,   751] Loss: 0.0479\n",
            "[57,   801] Loss: 0.0455\n",
            "[57,   851] Loss: 0.0570\n",
            "[58,     1] Loss: 0.0001\n",
            "[58,    51] Loss: 0.0426\n",
            "[58,   101] Loss: 0.0440\n",
            "[58,   151] Loss: 0.0582\n",
            "[58,   201] Loss: 0.0530\n",
            "[58,   251] Loss: 0.0484\n",
            "[58,   301] Loss: 0.0519\n",
            "[58,   351] Loss: 0.0505\n",
            "[58,   401] Loss: 0.0460\n",
            "[58,   451] Loss: 0.0490\n",
            "[58,   501] Loss: 0.0480\n",
            "[58,   551] Loss: 0.0494\n",
            "[58,   601] Loss: 0.0509\n",
            "[58,   651] Loss: 0.0524\n",
            "[58,   701] Loss: 0.0501\n",
            "[58,   751] Loss: 0.0504\n",
            "[58,   801] Loss: 0.0452\n",
            "[58,   851] Loss: 0.0507\n",
            "[59,     1] Loss: 0.0004\n",
            "[59,    51] Loss: 0.0427\n",
            "[59,   101] Loss: 0.0558\n",
            "[59,   151] Loss: 0.0556\n",
            "[59,   201] Loss: 0.0527\n",
            "[59,   251] Loss: 0.0470\n",
            "[59,   301] Loss: 0.0461\n",
            "[59,   351] Loss: 0.0481\n",
            "[59,   401] Loss: 0.0571\n",
            "[59,   451] Loss: 0.0474\n",
            "[59,   501] Loss: 0.0441\n",
            "[59,   551] Loss: 0.0524\n",
            "[59,   601] Loss: 0.0447\n",
            "[59,   651] Loss: 0.0515\n",
            "[59,   701] Loss: 0.0377\n",
            "[59,   751] Loss: 0.0453\n",
            "[59,   801] Loss: 0.0450\n",
            "[59,   851] Loss: 0.0535\n",
            "[60,     1] Loss: 0.0026\n",
            "[60,    51] Loss: 0.0502\n",
            "[60,   101] Loss: 0.0590\n",
            "[60,   151] Loss: 0.0400\n",
            "[60,   201] Loss: 0.0492\n",
            "[60,   251] Loss: 0.0511\n",
            "[60,   301] Loss: 0.0493\n",
            "[60,   351] Loss: 0.0403\n",
            "[60,   401] Loss: 0.0485\n",
            "[60,   451] Loss: 0.0569\n",
            "[60,   501] Loss: 0.0454\n",
            "[60,   551] Loss: 0.0508\n",
            "[60,   601] Loss: 0.0571\n",
            "[60,   651] Loss: 0.0509\n",
            "[60,   701] Loss: 0.0495\n",
            "[60,   751] Loss: 0.0381\n",
            "[60,   801] Loss: 0.0521\n",
            "[60,   851] Loss: 0.0519\n",
            "[61,     1] Loss: 0.0014\n",
            "[61,    51] Loss: 0.0530\n",
            "[61,   101] Loss: 0.0517\n",
            "[61,   151] Loss: 0.0516\n",
            "[61,   201] Loss: 0.0493\n",
            "[61,   251] Loss: 0.0596\n",
            "[61,   301] Loss: 0.0538\n",
            "[61,   351] Loss: 0.0458\n",
            "[61,   401] Loss: 0.0396\n",
            "[61,   451] Loss: 0.0483\n",
            "[61,   501] Loss: 0.0442\n",
            "[61,   551] Loss: 0.0410\n",
            "[61,   601] Loss: 0.0516\n",
            "[61,   651] Loss: 0.0500\n",
            "[61,   701] Loss: 0.0392\n",
            "[61,   751] Loss: 0.0507\n",
            "[61,   801] Loss: 0.0483\n",
            "[61,   851] Loss: 0.0406\n",
            "[62,     1] Loss: 0.0020\n",
            "[62,    51] Loss: 0.0403\n",
            "[62,   101] Loss: 0.0518\n",
            "[62,   151] Loss: 0.0503\n",
            "[62,   201] Loss: 0.0504\n",
            "[62,   251] Loss: 0.0542\n",
            "[62,   301] Loss: 0.0448\n",
            "[62,   351] Loss: 0.0380\n",
            "[62,   401] Loss: 0.0504\n",
            "[62,   451] Loss: 0.0653\n",
            "[62,   501] Loss: 0.0407\n",
            "[62,   551] Loss: 0.0449\n",
            "[62,   601] Loss: 0.0538\n",
            "[62,   651] Loss: 0.0517\n",
            "[62,   701] Loss: 0.0431\n",
            "[62,   751] Loss: 0.0465\n",
            "[62,   801] Loss: 0.0503\n",
            "[62,   851] Loss: 0.0541\n",
            "[63,     1] Loss: 0.0001\n",
            "[63,    51] Loss: 0.0519\n",
            "[63,   101] Loss: 0.0621\n",
            "[63,   151] Loss: 0.0438\n",
            "[63,   201] Loss: 0.0466\n",
            "[63,   251] Loss: 0.0412\n",
            "[63,   301] Loss: 0.0628\n",
            "[63,   351] Loss: 0.0461\n",
            "[63,   401] Loss: 0.0471\n",
            "[63,   451] Loss: 0.0583\n",
            "[63,   501] Loss: 0.0480\n",
            "[63,   551] Loss: 0.0495\n",
            "[63,   601] Loss: 0.0397\n",
            "[63,   651] Loss: 0.0496\n",
            "[63,   701] Loss: 0.0438\n",
            "[63,   751] Loss: 0.0469\n",
            "[63,   801] Loss: 0.0373\n",
            "[63,   851] Loss: 0.0528\n",
            "[64,     1] Loss: 0.0003\n",
            "[64,    51] Loss: 0.0546\n",
            "[64,   101] Loss: 0.0432\n",
            "[64,   151] Loss: 0.0494\n",
            "[64,   201] Loss: 0.0535\n",
            "[64,   251] Loss: 0.0457\n",
            "[64,   301] Loss: 0.0369\n",
            "[64,   351] Loss: 0.0473\n",
            "[64,   401] Loss: 0.0564\n",
            "[64,   451] Loss: 0.0470\n",
            "[64,   501] Loss: 0.0496\n",
            "[64,   551] Loss: 0.0450\n",
            "[64,   601] Loss: 0.0525\n",
            "[64,   651] Loss: 0.0537\n",
            "[64,   701] Loss: 0.0432\n",
            "[64,   751] Loss: 0.0520\n",
            "[64,   801] Loss: 0.0596\n",
            "[64,   851] Loss: 0.0442\n",
            "[65,     1] Loss: 0.0002\n",
            "[65,    51] Loss: 0.0501\n",
            "[65,   101] Loss: 0.0468\n",
            "[65,   151] Loss: 0.0502\n",
            "[65,   201] Loss: 0.0461\n",
            "[65,   251] Loss: 0.0478\n",
            "[65,   301] Loss: 0.0505\n",
            "[65,   351] Loss: 0.0376\n",
            "[65,   401] Loss: 0.0495\n",
            "[65,   451] Loss: 0.0432\n",
            "[65,   501] Loss: 0.0445\n",
            "[65,   551] Loss: 0.0567\n",
            "[65,   601] Loss: 0.0537\n",
            "[65,   651] Loss: 0.0433\n",
            "[65,   701] Loss: 0.0575\n",
            "[65,   751] Loss: 0.0436\n",
            "[65,   801] Loss: 0.0507\n",
            "[65,   851] Loss: 0.0571\n",
            "[66,     1] Loss: 0.0004\n",
            "[66,    51] Loss: 0.0430\n",
            "[66,   101] Loss: 0.0499\n",
            "[66,   151] Loss: 0.0485\n",
            "[66,   201] Loss: 0.0379\n",
            "[66,   251] Loss: 0.0464\n",
            "[66,   301] Loss: 0.0455\n",
            "[66,   351] Loss: 0.0485\n",
            "[66,   401] Loss: 0.0404\n",
            "[66,   451] Loss: 0.0483\n",
            "[66,   501] Loss: 0.0459\n",
            "[66,   551] Loss: 0.0525\n",
            "[66,   601] Loss: 0.0552\n",
            "[66,   651] Loss: 0.0397\n",
            "[66,   701] Loss: 0.0519\n",
            "[66,   751] Loss: 0.0429\n",
            "[66,   801] Loss: 0.0577\n",
            "[66,   851] Loss: 0.0626\n",
            "[67,     1] Loss: 0.0000\n",
            "[67,    51] Loss: 0.0433\n",
            "[67,   101] Loss: 0.0507\n",
            "[67,   151] Loss: 0.0350\n",
            "[67,   201] Loss: 0.0505\n",
            "[67,   251] Loss: 0.0485\n",
            "[67,   301] Loss: 0.0450\n",
            "[67,   351] Loss: 0.0482\n",
            "[67,   401] Loss: 0.0528\n",
            "[67,   451] Loss: 0.0454\n",
            "[67,   501] Loss: 0.0398\n",
            "[67,   551] Loss: 0.0590\n",
            "[67,   601] Loss: 0.0465\n",
            "[67,   651] Loss: 0.0447\n",
            "[67,   701] Loss: 0.0526\n",
            "[67,   751] Loss: 0.0532\n",
            "[67,   801] Loss: 0.0436\n",
            "[67,   851] Loss: 0.0529\n",
            "[68,     1] Loss: 0.0006\n",
            "[68,    51] Loss: 0.0409\n",
            "[68,   101] Loss: 0.0456\n",
            "[68,   151] Loss: 0.0621\n",
            "[68,   201] Loss: 0.0432\n",
            "[68,   251] Loss: 0.0473\n",
            "[68,   301] Loss: 0.0473\n",
            "[68,   351] Loss: 0.0482\n",
            "[68,   401] Loss: 0.0433\n",
            "[68,   451] Loss: 0.0398\n",
            "[68,   501] Loss: 0.0462\n",
            "[68,   551] Loss: 0.0466\n",
            "[68,   601] Loss: 0.0545\n",
            "[68,   651] Loss: 0.0570\n",
            "[68,   701] Loss: 0.0490\n",
            "[68,   751] Loss: 0.0642\n",
            "[68,   801] Loss: 0.0375\n",
            "[68,   851] Loss: 0.0601\n",
            "[69,     1] Loss: 0.0010\n",
            "[69,    51] Loss: 0.0411\n",
            "[69,   101] Loss: 0.0490\n",
            "[69,   151] Loss: 0.0419\n",
            "[69,   201] Loss: 0.0480\n",
            "[69,   251] Loss: 0.0461\n",
            "[69,   301] Loss: 0.0435\n",
            "[69,   351] Loss: 0.0723\n",
            "[69,   401] Loss: 0.0606\n",
            "[69,   451] Loss: 0.0461\n",
            "[69,   501] Loss: 0.0436\n",
            "[69,   551] Loss: 0.0529\n",
            "[69,   601] Loss: 0.0437\n",
            "[69,   651] Loss: 0.0478\n",
            "[69,   701] Loss: 0.0383\n",
            "[69,   751] Loss: 0.0490\n",
            "[69,   801] Loss: 0.0484\n",
            "[69,   851] Loss: 0.0420\n",
            "[70,     1] Loss: 0.0008\n",
            "[70,    51] Loss: 0.0418\n",
            "[70,   101] Loss: 0.0389\n",
            "[70,   151] Loss: 0.0475\n",
            "[70,   201] Loss: 0.0455\n",
            "[70,   251] Loss: 0.0384\n",
            "[70,   301] Loss: 0.0520\n",
            "[70,   351] Loss: 0.0493\n",
            "[70,   401] Loss: 0.0509\n",
            "[70,   451] Loss: 0.0512\n",
            "[70,   501] Loss: 0.0451\n",
            "[70,   551] Loss: 0.0557\n",
            "[70,   601] Loss: 0.0431\n",
            "[70,   651] Loss: 0.0515\n",
            "[70,   701] Loss: 0.0565\n",
            "[70,   751] Loss: 0.0499\n",
            "[70,   801] Loss: 0.0490\n",
            "[70,   851] Loss: 0.0412\n",
            "[71,     1] Loss: 0.0010\n",
            "[71,    51] Loss: 0.0518\n",
            "[71,   101] Loss: 0.0542\n",
            "[71,   151] Loss: 0.0345\n",
            "[71,   201] Loss: 0.0518\n",
            "[71,   251] Loss: 0.0456\n",
            "[71,   301] Loss: 0.0495\n",
            "[71,   351] Loss: 0.0451\n",
            "[71,   401] Loss: 0.0446\n",
            "[71,   451] Loss: 0.0410\n",
            "[71,   501] Loss: 0.0439\n",
            "[71,   551] Loss: 0.0502\n",
            "[71,   601] Loss: 0.0566\n",
            "[71,   651] Loss: 0.0509\n",
            "[71,   701] Loss: 0.0417\n",
            "[71,   751] Loss: 0.0524\n",
            "[71,   801] Loss: 0.0452\n",
            "[71,   851] Loss: 0.0439\n",
            "[72,     1] Loss: 0.0009\n",
            "[72,    51] Loss: 0.0558\n",
            "[72,   101] Loss: 0.0486\n",
            "[72,   151] Loss: 0.0493\n",
            "[72,   201] Loss: 0.0427\n",
            "[72,   251] Loss: 0.0408\n",
            "[72,   301] Loss: 0.0539\n",
            "[72,   351] Loss: 0.0419\n",
            "[72,   401] Loss: 0.0475\n",
            "[72,   451] Loss: 0.0396\n",
            "[72,   501] Loss: 0.0465\n",
            "[72,   551] Loss: 0.0499\n",
            "[72,   601] Loss: 0.0526\n",
            "[72,   651] Loss: 0.0413\n",
            "[72,   701] Loss: 0.0436\n",
            "[72,   751] Loss: 0.0614\n",
            "[72,   801] Loss: 0.0513\n",
            "[72,   851] Loss: 0.0504\n",
            "[73,     1] Loss: 0.0006\n",
            "[73,    51] Loss: 0.0454\n",
            "[73,   101] Loss: 0.0408\n",
            "[73,   151] Loss: 0.0359\n",
            "[73,   201] Loss: 0.0440\n",
            "[73,   251] Loss: 0.0390\n",
            "[73,   301] Loss: 0.0480\n",
            "[73,   351] Loss: 0.0456\n",
            "[73,   401] Loss: 0.0558\n",
            "[73,   451] Loss: 0.0392\n",
            "[73,   501] Loss: 0.0591\n",
            "[73,   551] Loss: 0.0484\n",
            "[73,   601] Loss: 0.0567\n",
            "[73,   651] Loss: 0.0531\n",
            "[73,   701] Loss: 0.0511\n",
            "[73,   751] Loss: 0.0457\n",
            "[73,   801] Loss: 0.0404\n",
            "[73,   851] Loss: 0.0483\n",
            "[74,     1] Loss: 0.0011\n",
            "[74,    51] Loss: 0.0424\n",
            "[74,   101] Loss: 0.0462\n",
            "[74,   151] Loss: 0.0418\n",
            "[74,   201] Loss: 0.0523\n",
            "[74,   251] Loss: 0.0532\n",
            "[74,   301] Loss: 0.0388\n",
            "[74,   351] Loss: 0.0519\n",
            "[74,   401] Loss: 0.0493\n",
            "[74,   451] Loss: 0.0578\n",
            "[74,   501] Loss: 0.0443\n",
            "[74,   551] Loss: 0.0454\n",
            "[74,   601] Loss: 0.0447\n",
            "[74,   651] Loss: 0.0475\n",
            "[74,   701] Loss: 0.0581\n",
            "[74,   751] Loss: 0.0473\n",
            "[74,   801] Loss: 0.0418\n",
            "[74,   851] Loss: 0.0597\n",
            "[75,     1] Loss: 0.0001\n",
            "[75,    51] Loss: 0.0473\n",
            "[75,   101] Loss: 0.0437\n",
            "[75,   151] Loss: 0.0535\n",
            "[75,   201] Loss: 0.0464\n",
            "[75,   251] Loss: 0.0397\n",
            "[75,   301] Loss: 0.0596\n",
            "[75,   351] Loss: 0.0436\n",
            "[75,   401] Loss: 0.0439\n",
            "[75,   451] Loss: 0.0416\n",
            "[75,   501] Loss: 0.0490\n",
            "[75,   551] Loss: 0.0438\n",
            "[75,   601] Loss: 0.0428\n",
            "[75,   651] Loss: 0.0427\n",
            "[75,   701] Loss: 0.0542\n",
            "[75,   751] Loss: 0.0451\n",
            "[75,   801] Loss: 0.0548\n",
            "[75,   851] Loss: 0.0440\n",
            "[76,     1] Loss: 0.0003\n",
            "[76,    51] Loss: 0.0468\n",
            "[76,   101] Loss: 0.0572\n",
            "[76,   151] Loss: 0.0524\n",
            "[76,   201] Loss: 0.0579\n",
            "[76,   251] Loss: 0.0377\n",
            "[76,   301] Loss: 0.0506\n",
            "[76,   351] Loss: 0.0463\n",
            "[76,   401] Loss: 0.0402\n",
            "[76,   451] Loss: 0.0458\n",
            "[76,   501] Loss: 0.0464\n",
            "[76,   551] Loss: 0.0440\n",
            "[76,   601] Loss: 0.0415\n",
            "[76,   651] Loss: 0.0479\n",
            "[76,   701] Loss: 0.0449\n",
            "[76,   751] Loss: 0.0476\n",
            "[76,   801] Loss: 0.0434\n",
            "[76,   851] Loss: 0.0380\n",
            "[77,     1] Loss: 0.0000\n",
            "[77,    51] Loss: 0.0465\n",
            "[77,   101] Loss: 0.0409\n",
            "[77,   151] Loss: 0.0528\n",
            "[77,   201] Loss: 0.0571\n",
            "[77,   251] Loss: 0.0437\n",
            "[77,   301] Loss: 0.0408\n",
            "[77,   351] Loss: 0.0549\n",
            "[77,   401] Loss: 0.0402\n",
            "[77,   451] Loss: 0.0415\n",
            "[77,   501] Loss: 0.0510\n",
            "[77,   551] Loss: 0.0418\n",
            "[77,   601] Loss: 0.0513\n",
            "[77,   651] Loss: 0.0496\n",
            "[77,   701] Loss: 0.0530\n",
            "[77,   751] Loss: 0.0468\n",
            "[77,   801] Loss: 0.0345\n",
            "[77,   851] Loss: 0.0480\n",
            "[78,     1] Loss: 0.0001\n",
            "[78,    51] Loss: 0.0524\n",
            "[78,   101] Loss: 0.0466\n",
            "[78,   151] Loss: 0.0510\n",
            "[78,   201] Loss: 0.0412\n",
            "[78,   251] Loss: 0.0441\n",
            "[78,   301] Loss: 0.0483\n",
            "[78,   351] Loss: 0.0446\n",
            "[78,   401] Loss: 0.0445\n",
            "[78,   451] Loss: 0.0495\n",
            "[78,   501] Loss: 0.0393\n",
            "[78,   551] Loss: 0.0472\n",
            "[78,   601] Loss: 0.0477\n",
            "[78,   651] Loss: 0.0439\n",
            "[78,   701] Loss: 0.0488\n",
            "[78,   751] Loss: 0.0533\n",
            "[78,   801] Loss: 0.0493\n",
            "[78,   851] Loss: 0.0595\n",
            "[79,     1] Loss: 0.0016\n",
            "[79,    51] Loss: 0.0539\n",
            "[79,   101] Loss: 0.0457\n",
            "[79,   151] Loss: 0.0493\n",
            "[79,   201] Loss: 0.0423\n",
            "[79,   251] Loss: 0.0487\n",
            "[79,   301] Loss: 0.0427\n",
            "[79,   351] Loss: 0.0417\n",
            "[79,   401] Loss: 0.0416\n",
            "[79,   451] Loss: 0.0360\n",
            "[79,   501] Loss: 0.0484\n",
            "[79,   551] Loss: 0.0383\n",
            "[79,   601] Loss: 0.0493\n",
            "[79,   651] Loss: 0.0431\n",
            "[79,   701] Loss: 0.0533\n",
            "[79,   751] Loss: 0.0450\n",
            "[79,   801] Loss: 0.0469\n",
            "[79,   851] Loss: 0.0563\n",
            "[80,     1] Loss: 0.0018\n",
            "[80,    51] Loss: 0.0395\n",
            "[80,   101] Loss: 0.0644\n",
            "[80,   151] Loss: 0.0461\n",
            "[80,   201] Loss: 0.0429\n",
            "[80,   251] Loss: 0.0495\n",
            "[80,   301] Loss: 0.0404\n",
            "[80,   351] Loss: 0.0435\n",
            "[80,   401] Loss: 0.0453\n",
            "[80,   451] Loss: 0.0468\n",
            "[80,   501] Loss: 0.0478\n",
            "[80,   551] Loss: 0.0599\n",
            "[80,   601] Loss: 0.0384\n",
            "[80,   651] Loss: 0.0457\n",
            "[80,   701] Loss: 0.0542\n",
            "[80,   751] Loss: 0.0495\n",
            "[80,   801] Loss: 0.0410\n",
            "[80,   851] Loss: 0.0468\n"
          ]
        }
      ],
      "source": [
        "for epoch in range(80):\n",
        "    running_loss = 0.0 #initialize a variable to track the loss in the current epoch\n",
        "    for i, (inputs, targets) in enumerate(train_dl):\n",
        "        optimizer.zero_grad() #clears gradiant from the previous epoch\n",
        "\n",
        "        yhat = model(inputs) #takes a batch and produces a prediction vector for that batch.\n",
        "\n",
        "        loss = criterion(yhat.ravel(), targets) #calculates the loss between the prediction and avtual values.\n",
        "\n",
        "        loss.backward() #computes the gradiants of the loss using backpropagation\n",
        "\n",
        "        optimizer.step() #updates the model's parameters using the gradiants in loss.backward() method.\n",
        "\n",
        "        running_loss += loss.item() #adds the loss of the current batch to tunning loss of the current epoch\n",
        "        if not i % 50: #periodic logging of the loss\n",
        "            print('[%d, %5d] Loss: %.4f' % (epoch + 1, i + 1, running_loss / 50))\n",
        "            running_loss = 0.0"
      ]
    },
    {
      "cell_type": "code",
      "execution_count": null,
      "metadata": {
        "colab": {
          "base_uri": "https://localhost:8080/"
        },
        "id": "GZS6f8CGXxcK",
        "outputId": "b0856656-f543-4b05-b6e9-532fc154bd7e"
      },
      "outputs": [
        {
          "output_type": "stream",
          "name": "stdout",
          "text": [
            "R² score: 0.82\n"
          ]
        }
      ],
      "source": [
        "all_targets = [] # a list to store all target values from the test set\n",
        "with torch.no_grad():\n",
        "    for inputs, targets in test_dl:\n",
        "        all_targets.append(targets.detach().numpy()) #converts the targets to numpy array and stores it in the list\n",
        "all_targets = np.concatenate(all_targets) #concatenate all target arrays into a single array.\n",
        "y_mean = np.mean(all_targets) #computes the mean of all target values for computing r2 score later.\n",
        "\n",
        "\n",
        "ssr = 0.0 # a variable for the sum of squared erros between predictions and the actual values.\n",
        "sst = 0.0 # a variable for the total sum of the squares\n",
        "\n",
        "with torch.no_grad():\n",
        "    for i, (inputs, targets) in enumerate(test_dl): #iterates over the test dataloader to compute ssr and sst\n",
        "\n",
        "        yhat = model(inputs).ravel().detach().numpy()\n",
        "        targets = targets.detach().numpy()\n",
        "\n",
        "        ssr += np.sum((targets - yhat) ** 2)\n",
        "        sst += np.sum((targets - y_mean) ** 2)\n",
        "\n",
        "r2 = 1 - (ssr / sst)\n",
        "print(f'R² score: {r2:.2f}')"
      ]
    },
    {
      "cell_type": "markdown",
      "metadata": {
        "id": "JbxlfQw6vy2-"
      },
      "source": [
        "## Non-Sequential Feedforward Network using Keras\n",
        "\n",
        "The non-sequential feedforwarding process is similar, but the key difference is that a layer can be connected not only to the next layer, but also to deeper layers beyond it.\n"
      ]
    },
    {
      "cell_type": "code",
      "execution_count": 294,
      "metadata": {
        "id": "H9vn2UBlv4kD"
      },
      "outputs": [],
      "source": [
        "from tensorflow.keras.layers import Input, Dense, Concatenate\n",
        "from tensorflow.keras.models import Model"
      ]
    },
    {
      "cell_type": "code",
      "execution_count": 307,
      "metadata": {
        "id": "bmuGP87EwmJt"
      },
      "outputs": [],
      "source": [
        "input_layer = Input(shape=(X_train.shape[1],))\n",
        "\n",
        "hidden_layer_1 = Dense(20,activation='relu')(input_layer)\n",
        "\n",
        "hidden_layer_2 = Dense(10,activation='relu')(hidden_layer_1)\n",
        "\n",
        "hidden_layer_3 = Dense(5,activation='relu')(hidden_layer_1)\n",
        "\n",
        "add_layer = Concatenate()([hidden_layer_3,hidden_layer_2]) #combines the output of hidden layers 1 and 2\n",
        "\n",
        "output_layer = Dense(1,activation = 'linear')(add_layer)\n",
        "\n",
        "model = Model(inputs=input_layer, outputs=output_layer)"
      ]
    },
    {
      "cell_type": "markdown",
      "source": [
        "Similar to the las models, we set optimizar to Adams and loss function to mse and also track the mse as well."
      ],
      "metadata": {
        "id": "Wd2OnjEZcM6Y"
      }
    },
    {
      "cell_type": "code",
      "execution_count": 308,
      "metadata": {
        "id": "vHx5EQy0xK4o"
      },
      "outputs": [],
      "source": [
        "model.compile(optimizer='adam',loss='mse',metrics = [tf.keras.metrics.RootMeanSquaredError()])"
      ]
    },
    {
      "cell_type": "markdown",
      "source": [
        "We can also visualize the neural netwrok to get a better sense of it.(The `show_shapes` arg, shows the input and output shape of each layer)"
      ],
      "metadata": {
        "id": "Vhg86f9HcXmJ"
      }
    },
    {
      "cell_type": "code",
      "execution_count": 309,
      "metadata": {
        "colab": {
          "base_uri": "https://localhost:8080/",
          "height": 731
        },
        "id": "MMJa7SeZxQJh",
        "outputId": "74ab53a4-5472-460c-fa46-d308e3d3afe5"
      },
      "outputs": [
        {
          "output_type": "execute_result",
          "data": {
            "image/png": "[encoded data removed]",
            "text/plain": [
              "<IPython.core.display.Image object>"
            ]
          },
          "metadata": {},
          "execution_count": 309
        }
      ],
      "source": [
        "from tensorflow.keras.utils import plot_model\n",
        "plot_model(model,show_shapes=True)"
      ]
    },
    {
      "cell_type": "code",
      "execution_count": 310,
      "metadata": {
        "colab": {
          "base_uri": "https://localhost:8080/"
        },
        "id": "BVeLgyucx9AP",
        "outputId": "c3c3aa2a-b6aa-4efb-821d-53b9b5afd7f0"
      },
      "outputs": [
        {
          "output_type": "stream",
          "name": "stdout",
          "text": [
            "Epoch 1/60\n",
            "\u001b[1m558/558\u001b[0m \u001b[32m━━━━━━━━━━━━━━━━━━━━\u001b[0m\u001b[37m\u001b[0m \u001b[1m3s\u001b[0m 3ms/step - loss: 0.7448 - root_mean_squared_error: 0.8502 - val_loss: 0.2051 - val_root_mean_squared_error: 0.4529\n",
            "Epoch 2/60\n",
            "\u001b[1m558/558\u001b[0m \u001b[32m━━━━━━━━━━━━━━━━━━━━\u001b[0m\u001b[37m\u001b[0m \u001b[1m3s\u001b[0m 3ms/step - loss: 0.1570 - root_mean_squared_error: 0.3956 - val_loss: 0.0915 - val_root_mean_squared_error: 0.3026\n",
            "Epoch 3/60\n",
            "\u001b[1m558/558\u001b[0m \u001b[32m━━━━━━━━━━━━━━━━━━━━\u001b[0m\u001b[37m\u001b[0m \u001b[1m3s\u001b[0m 4ms/step - loss: 0.0839 - root_mean_squared_error: 0.2896 - val_loss: 0.0610 - val_root_mean_squared_error: 0.2470\n",
            "Epoch 4/60\n",
            "\u001b[1m558/558\u001b[0m \u001b[32m━━━━━━━━━━━━━━━━━━━━\u001b[0m\u001b[37m\u001b[0m \u001b[1m1s\u001b[0m 3ms/step - loss: 0.0621 - root_mean_squared_error: 0.2492 - val_loss: 0.0575 - val_root_mean_squared_error: 0.2399\n",
            "Epoch 5/60\n",
            "\u001b[1m558/558\u001b[0m \u001b[32m━━━━━━━━━━━━━━━━━━━━\u001b[0m\u001b[37m\u001b[0m \u001b[1m1s\u001b[0m 3ms/step - loss: 0.0532 - root_mean_squared_error: 0.2305 - val_loss: 0.0452 - val_root_mean_squared_error: 0.2127\n",
            "Epoch 6/60\n",
            "\u001b[1m558/558\u001b[0m \u001b[32m━━━━━━━━━━━━━━━━━━━━\u001b[0m\u001b[37m\u001b[0m \u001b[1m3s\u001b[0m 3ms/step - loss: 0.0493 - root_mean_squared_error: 0.2219 - val_loss: 0.0402 - val_root_mean_squared_error: 0.2005\n",
            "Epoch 7/60\n",
            "\u001b[1m558/558\u001b[0m \u001b[32m━━━━━━━━━━━━━━━━━━━━\u001b[0m\u001b[37m\u001b[0m \u001b[1m2s\u001b[0m 3ms/step - loss: 0.0469 - root_mean_squared_error: 0.2166 - val_loss: 0.0386 - val_root_mean_squared_error: 0.1966\n",
            "Epoch 8/60\n",
            "\u001b[1m558/558\u001b[0m \u001b[32m━━━━━━━━━━━━━━━━━━━━\u001b[0m\u001b[37m\u001b[0m \u001b[1m3s\u001b[0m 4ms/step - loss: 0.0454 - root_mean_squared_error: 0.2131 - val_loss: 0.0410 - val_root_mean_squared_error: 0.2025\n",
            "Epoch 9/60\n",
            "\u001b[1m558/558\u001b[0m \u001b[32m━━━━━━━━━━━━━━━━━━━━\u001b[0m\u001b[37m\u001b[0m \u001b[1m3s\u001b[0m 4ms/step - loss: 0.0469 - root_mean_squared_error: 0.2163 - val_loss: 0.0427 - val_root_mean_squared_error: 0.2066\n",
            "Epoch 10/60\n",
            "\u001b[1m558/558\u001b[0m \u001b[32m━━━━━━━━━━━━━━━━━━━━\u001b[0m\u001b[37m\u001b[0m \u001b[1m2s\u001b[0m 3ms/step - loss: 0.0449 - root_mean_squared_error: 0.2119 - val_loss: 0.0410 - val_root_mean_squared_error: 0.2024\n",
            "Epoch 11/60\n",
            "\u001b[1m558/558\u001b[0m \u001b[32m━━━━━━━━━━━━━━━━━━━━\u001b[0m\u001b[37m\u001b[0m \u001b[1m1s\u001b[0m 3ms/step - loss: 0.0421 - root_mean_squared_error: 0.2048 - val_loss: 0.0391 - val_root_mean_squared_error: 0.1977\n",
            "Epoch 12/60\n",
            "\u001b[1m558/558\u001b[0m \u001b[32m━━━━━━━━━━━━━━━━━━━━\u001b[0m\u001b[37m\u001b[0m \u001b[1m2s\u001b[0m 2ms/step - loss: 0.0437 - root_mean_squared_error: 0.2089 - val_loss: 0.0395 - val_root_mean_squared_error: 0.1987\n",
            "Epoch 13/60\n",
            "\u001b[1m558/558\u001b[0m \u001b[32m━━━━━━━━━━━━━━━━━━━━\u001b[0m\u001b[37m\u001b[0m \u001b[1m3s\u001b[0m 3ms/step - loss: 0.0408 - root_mean_squared_error: 0.2020 - val_loss: 0.0347 - val_root_mean_squared_error: 0.1862\n",
            "Epoch 14/60\n",
            "\u001b[1m558/558\u001b[0m \u001b[32m━━━━━━━━━━━━━━━━━━━━\u001b[0m\u001b[37m\u001b[0m \u001b[1m2s\u001b[0m 3ms/step - loss: 0.0377 - root_mean_squared_error: 0.1940 - val_loss: 0.0359 - val_root_mean_squared_error: 0.1895\n",
            "Epoch 15/60\n",
            "\u001b[1m558/558\u001b[0m \u001b[32m━━━━━━━━━━━━━━━━━━━━\u001b[0m\u001b[37m\u001b[0m \u001b[1m3s\u001b[0m 4ms/step - loss: 0.0400 - root_mean_squared_error: 0.1998 - val_loss: 0.0359 - val_root_mean_squared_error: 0.1895\n",
            "Epoch 16/60\n",
            "\u001b[1m558/558\u001b[0m \u001b[32m━━━━━━━━━━━━━━━━━━━━\u001b[0m\u001b[37m\u001b[0m \u001b[1m2s\u001b[0m 3ms/step - loss: 0.0393 - root_mean_squared_error: 0.1981 - val_loss: 0.0360 - val_root_mean_squared_error: 0.1898\n",
            "Epoch 17/60\n",
            "\u001b[1m558/558\u001b[0m \u001b[32m━━━━━━━━━━━━━━━━━━━━\u001b[0m\u001b[37m\u001b[0m \u001b[1m3s\u001b[0m 3ms/step - loss: 0.0368 - root_mean_squared_error: 0.1919 - val_loss: 0.0372 - val_root_mean_squared_error: 0.1930\n",
            "Epoch 18/60\n",
            "\u001b[1m558/558\u001b[0m \u001b[32m━━━━━━━━━━━━━━━━━━━━\u001b[0m\u001b[37m\u001b[0m \u001b[1m2s\u001b[0m 3ms/step - loss: 0.0424 - root_mean_squared_error: 0.2051 - val_loss: 0.0392 - val_root_mean_squared_error: 0.1979\n",
            "Epoch 19/60\n",
            "\u001b[1m558/558\u001b[0m \u001b[32m━━━━━━━━━━━━━━━━━━━━\u001b[0m\u001b[37m\u001b[0m \u001b[1m2s\u001b[0m 4ms/step - loss: 0.0383 - root_mean_squared_error: 0.1954 - val_loss: 0.0369 - val_root_mean_squared_error: 0.1921\n",
            "Epoch 20/60\n",
            "\u001b[1m558/558\u001b[0m \u001b[32m━━━━━━━━━━━━━━━━━━━━\u001b[0m\u001b[37m\u001b[0m \u001b[1m2s\u001b[0m 3ms/step - loss: 0.0383 - root_mean_squared_error: 0.1956 - val_loss: 0.0385 - val_root_mean_squared_error: 0.1963\n",
            "Epoch 21/60\n",
            "\u001b[1m558/558\u001b[0m \u001b[32m━━━━━━━━━━━━━━━━━━━━\u001b[0m\u001b[37m\u001b[0m \u001b[1m3s\u001b[0m 4ms/step - loss: 0.0390 - root_mean_squared_error: 0.1968 - val_loss: 0.0353 - val_root_mean_squared_error: 0.1878\n",
            "Epoch 22/60\n",
            "\u001b[1m558/558\u001b[0m \u001b[32m━━━━━━━━━━━━━━━━━━━━\u001b[0m\u001b[37m\u001b[0m \u001b[1m2s\u001b[0m 2ms/step - loss: 0.0346 - root_mean_squared_error: 0.1860 - val_loss: 0.0349 - val_root_mean_squared_error: 0.1868\n",
            "Epoch 23/60\n",
            "\u001b[1m558/558\u001b[0m \u001b[32m━━━━━━━━━━━━━━━━━━━━\u001b[0m\u001b[37m\u001b[0m \u001b[1m1s\u001b[0m 3ms/step - loss: 0.0354 - root_mean_squared_error: 0.1880 - val_loss: 0.0322 - val_root_mean_squared_error: 0.1794\n",
            "Epoch 24/60\n",
            "\u001b[1m558/558\u001b[0m \u001b[32m━━━━━━━━━━━━━━━━━━━━\u001b[0m\u001b[37m\u001b[0m \u001b[1m3s\u001b[0m 3ms/step - loss: 0.0359 - root_mean_squared_error: 0.1894 - val_loss: 0.0362 - val_root_mean_squared_error: 0.1903\n",
            "Epoch 25/60\n",
            "\u001b[1m558/558\u001b[0m \u001b[32m━━━━━━━━━━━━━━━━━━━━\u001b[0m\u001b[37m\u001b[0m \u001b[1m3s\u001b[0m 3ms/step - loss: 0.0371 - root_mean_squared_error: 0.1925 - val_loss: 0.0346 - val_root_mean_squared_error: 0.1861\n",
            "Epoch 26/60\n",
            "\u001b[1m558/558\u001b[0m \u001b[32m━━━━━━━━━━━━━━━━━━━━\u001b[0m\u001b[37m\u001b[0m \u001b[1m1s\u001b[0m 3ms/step - loss: 0.0352 - root_mean_squared_error: 0.1876 - val_loss: 0.0339 - val_root_mean_squared_error: 0.1841\n",
            "Epoch 27/60\n",
            "\u001b[1m558/558\u001b[0m \u001b[32m━━━━━━━━━━━━━━━━━━━━\u001b[0m\u001b[37m\u001b[0m \u001b[1m3s\u001b[0m 4ms/step - loss: 0.0365 - root_mean_squared_error: 0.1910 - val_loss: 0.0372 - val_root_mean_squared_error: 0.1929\n",
            "Epoch 28/60\n",
            "\u001b[1m558/558\u001b[0m \u001b[32m━━━━━━━━━━━━━━━━━━━━\u001b[0m\u001b[37m\u001b[0m \u001b[1m2s\u001b[0m 3ms/step - loss: 0.0341 - root_mean_squared_error: 0.1845 - val_loss: 0.0362 - val_root_mean_squared_error: 0.1902\n",
            "Epoch 29/60\n",
            "\u001b[1m558/558\u001b[0m \u001b[32m━━━━━━━━━━━━━━━━━━━━\u001b[0m\u001b[37m\u001b[0m \u001b[1m3s\u001b[0m 3ms/step - loss: 0.0363 - root_mean_squared_error: 0.1903 - val_loss: 0.0361 - val_root_mean_squared_error: 0.1901\n",
            "Epoch 30/60\n",
            "\u001b[1m558/558\u001b[0m \u001b[32m━━━━━━━━━━━━━━━━━━━━\u001b[0m\u001b[37m\u001b[0m \u001b[1m3s\u001b[0m 3ms/step - loss: 0.0373 - root_mean_squared_error: 0.1930 - val_loss: 0.0369 - val_root_mean_squared_error: 0.1920\n",
            "Epoch 31/60\n",
            "\u001b[1m558/558\u001b[0m \u001b[32m━━━━━━━━━━━━━━━━━━━━\u001b[0m\u001b[37m\u001b[0m \u001b[1m1s\u001b[0m 3ms/step - loss: 0.0345 - root_mean_squared_error: 0.1856 - val_loss: 0.0338 - val_root_mean_squared_error: 0.1839\n",
            "Epoch 32/60\n",
            "\u001b[1m558/558\u001b[0m \u001b[32m━━━━━━━━━━━━━━━━━━━━\u001b[0m\u001b[37m\u001b[0m \u001b[1m4s\u001b[0m 4ms/step - loss: 0.0345 - root_mean_squared_error: 0.1858 - val_loss: 0.0349 - val_root_mean_squared_error: 0.1869\n",
            "Epoch 33/60\n",
            "\u001b[1m558/558\u001b[0m \u001b[32m━━━━━━━━━━━━━━━━━━━━\u001b[0m\u001b[37m\u001b[0m \u001b[1m2s\u001b[0m 4ms/step - loss: 0.0364 - root_mean_squared_error: 0.1905 - val_loss: 0.0347 - val_root_mean_squared_error: 0.1862\n",
            "Epoch 34/60\n",
            "\u001b[1m558/558\u001b[0m \u001b[32m━━━━━━━━━━━━━━━━━━━━\u001b[0m\u001b[37m\u001b[0m \u001b[1m1s\u001b[0m 3ms/step - loss: 0.0393 - root_mean_squared_error: 0.1978 - val_loss: 0.0357 - val_root_mean_squared_error: 0.1888\n",
            "Epoch 35/60\n",
            "\u001b[1m558/558\u001b[0m \u001b[32m━━━━━━━━━━━━━━━━━━━━\u001b[0m\u001b[37m\u001b[0m \u001b[1m2s\u001b[0m 3ms/step - loss: 0.0366 - root_mean_squared_error: 0.1910 - val_loss: 0.0343 - val_root_mean_squared_error: 0.1853\n",
            "Epoch 36/60\n",
            "\u001b[1m558/558\u001b[0m \u001b[32m━━━━━━━━━━━━━━━━━━━━\u001b[0m\u001b[37m\u001b[0m \u001b[1m1s\u001b[0m 3ms/step - loss: 0.0354 - root_mean_squared_error: 0.1881 - val_loss: 0.0339 - val_root_mean_squared_error: 0.1841\n",
            "Epoch 37/60\n",
            "\u001b[1m558/558\u001b[0m \u001b[32m━━━━━━━━━━━━━━━━━━━━\u001b[0m\u001b[37m\u001b[0m \u001b[1m1s\u001b[0m 3ms/step - loss: 0.0344 - root_mean_squared_error: 0.1854 - val_loss: 0.0350 - val_root_mean_squared_error: 0.1872\n",
            "Epoch 38/60\n",
            "\u001b[1m558/558\u001b[0m \u001b[32m━━━━━━━━━━━━━━━━━━━━\u001b[0m\u001b[37m\u001b[0m \u001b[1m3s\u001b[0m 3ms/step - loss: 0.0329 - root_mean_squared_error: 0.1812 - val_loss: 0.0359 - val_root_mean_squared_error: 0.1894\n",
            "Epoch 39/60\n",
            "\u001b[1m558/558\u001b[0m \u001b[32m━━━━━━━━━━━━━━━━━━━━\u001b[0m\u001b[37m\u001b[0m \u001b[1m3s\u001b[0m 4ms/step - loss: 0.0336 - root_mean_squared_error: 0.1833 - val_loss: 0.0341 - val_root_mean_squared_error: 0.1845\n",
            "Epoch 40/60\n",
            "\u001b[1m558/558\u001b[0m \u001b[32m━━━━━━━━━━━━━━━━━━━━\u001b[0m\u001b[37m\u001b[0m \u001b[1m2s\u001b[0m 4ms/step - loss: 0.0410 - root_mean_squared_error: 0.2018 - val_loss: 0.0350 - val_root_mean_squared_error: 0.1870\n",
            "Epoch 41/60\n",
            "\u001b[1m558/558\u001b[0m \u001b[32m━━━━━━━━━━━━━━━━━━━━\u001b[0m\u001b[37m\u001b[0m \u001b[1m1s\u001b[0m 3ms/step - loss: 0.0346 - root_mean_squared_error: 0.1858 - val_loss: 0.0374 - val_root_mean_squared_error: 0.1933\n",
            "Epoch 42/60\n",
            "\u001b[1m558/558\u001b[0m \u001b[32m━━━━━━━━━━━━━━━━━━━━\u001b[0m\u001b[37m\u001b[0m \u001b[1m3s\u001b[0m 3ms/step - loss: 0.0390 - root_mean_squared_error: 0.1969 - val_loss: 0.0361 - val_root_mean_squared_error: 0.1901\n",
            "Epoch 43/60\n",
            "\u001b[1m558/558\u001b[0m \u001b[32m━━━━━━━━━━━━━━━━━━━━\u001b[0m\u001b[37m\u001b[0m \u001b[1m3s\u001b[0m 3ms/step - loss: 0.0348 - root_mean_squared_error: 0.1863 - val_loss: 0.0347 - val_root_mean_squared_error: 0.1863\n"
          ]
        },
        {
          "output_type": "execute_result",
          "data": {
            "text/plain": [
              "<keras.src.callbacks.history.History at 0x785973607190>"
            ]
          },
          "metadata": {},
          "execution_count": 310
        }
      ],
      "source": [
        "model.fit(X_train,\n",
        "          y_train,\n",
        "          batch_size = 16,\n",
        "          epochs = 60,\n",
        "          validation_split=0.2,\n",
        "          callbacks=[early_stopping])"
      ]
    },
    {
      "cell_type": "code",
      "execution_count": 311,
      "metadata": {
        "colab": {
          "base_uri": "https://localhost:8080/"
        },
        "id": "bM2RSVlzy53S",
        "outputId": "66645a70-e57e-400f-8d9c-58587b329cfe"
      },
      "outputs": [
        {
          "output_type": "stream",
          "name": "stdout",
          "text": [
            "\u001b[1m109/109\u001b[0m \u001b[32m━━━━━━━━━━━━━━━━━━━━\u001b[0m\u001b[37m\u001b[0m \u001b[1m0s\u001b[0m 2ms/step\n",
            "R2 score : 0.95\n"
          ]
        }
      ],
      "source": [
        "prediction = model.predict(X_test)\n",
        "print('R2 score : %.2f' %r2_score(y_test,prediction))"
      ]
    },
    {
      "cell_type": "markdown",
      "metadata": {
        "id": "nEF-8DvyRp21"
      },
      "source": [
        "# Classification\n"
      ]
    },
    {
      "cell_type": "markdown",
      "metadata": {
        "id": "XhU3sc64TcAm"
      },
      "source": [
        "## Adding Target Column"
      ]
    },
    {
      "cell_type": "markdown",
      "source": [
        "For the classification task, we first add a target column indicating whether a specific hour was a high-demand period for bike rentals or not.\n"
      ],
      "metadata": {
        "id": "b0ItD4qWemGJ"
      }
    },
    {
      "cell_type": "code",
      "execution_count": 312,
      "metadata": {
        "id": "XGreXWUGRt91"
      },
      "outputs": [],
      "source": [
        "threshold = df['cnt'].mean()"
      ]
    },
    {
      "cell_type": "code",
      "execution_count": 313,
      "metadata": {
        "id": "2G1IwHQ7S9Tl"
      },
      "outputs": [],
      "source": [
        "df['demand'] = (df['cnt']>threshold).astype(int)"
      ]
    },
    {
      "cell_type": "markdown",
      "source": [
        "Let's check the balnce between classes."
      ],
      "metadata": {
        "id": "42kzqdFhe9lz"
      }
    },
    {
      "cell_type": "code",
      "execution_count": null,
      "metadata": {
        "colab": {
          "base_uri": "https://localhost:8080/",
          "height": 176
        },
        "id": "roalh8xxWkJz",
        "outputId": "9463f234-44de-4c17-818a-91e3ea97f437"
      },
      "outputs": [
        {
          "output_type": "execute_result",
          "data": {
            "text/plain": [
              "demand\n",
              "0    10605\n",
              "1     6809\n",
              "Name: count, dtype: int64"
            ],
            "text/html": [
              "<div>\n",
              "<style scoped>\n",
              "    .dataframe tbody tr th:only-of-type {\n",
              "        vertical-align: middle;\n",
              "    }\n",
              "\n",
              "    .dataframe tbody tr th {\n",
              "        vertical-align: top;\n",
              "    }\n",
              "\n",
              "    .dataframe thead th {\n",
              "        text-align: right;\n",
              "    }\n",
              "</style>\n",
              "<table border=\"1\" class=\"dataframe\">\n",
              "  <thead>\n",
              "    <tr style=\"text-align: right;\">\n",
              "      <th></th>\n",
              "      <th>count</th>\n",
              "    </tr>\n",
              "    <tr>\n",
              "      <th>demand</th>\n",
              "      <th></th>\n",
              "    </tr>\n",
              "  </thead>\n",
              "  <tbody>\n",
              "    <tr>\n",
              "      <th>0</th>\n",
              "      <td>10605</td>\n",
              "    </tr>\n",
              "    <tr>\n",
              "      <th>1</th>\n",
              "      <td>6809</td>\n",
              "    </tr>\n",
              "  </tbody>\n",
              "</table>\n",
              "</div><br><label><b>dtype:</b> int64</label>"
            ]
          },
          "metadata": {},
          "execution_count": 27
        }
      ],
      "source": [
        "df['demand'].value_counts()"
      ]
    },
    {
      "cell_type": "markdown",
      "source": [
        "The balance seems ok for a binary classification problem."
      ],
      "metadata": {
        "id": "nHKvSJqcfBG3"
      }
    },
    {
      "cell_type": "markdown",
      "metadata": {
        "id": "V5-ATP5nTy7s"
      },
      "source": [
        "## Splitting into Train and Test sets\n",
        "\n",
        "Next we split our dataset into the train and test sets."
      ]
    },
    {
      "cell_type": "code",
      "execution_count": 314,
      "metadata": {
        "id": "TlKBTGnPT1wF"
      },
      "outputs": [],
      "source": [
        "y = df.pop('demand')\n",
        "X = df.drop(columns=['cnt'])\n",
        "# features the same as the regression task"
      ]
    },
    {
      "cell_type": "code",
      "execution_count": 315,
      "metadata": {
        "id": "Ipo6qxBiUW6L"
      },
      "outputs": [],
      "source": [
        "from sklearn.model_selection import train_test_split\n",
        "X_train, X_test, y_train, y_test = train_test_split(X, y, test_size=0.2)"
      ]
    },
    {
      "cell_type": "markdown",
      "metadata": {
        "id": "VbK3o5N-XrwV"
      },
      "source": [
        "## Normalization/Standardization\n",
        "\n",
        "Now we need to normalize numerical values so they would be in the same range."
      ]
    },
    {
      "cell_type": "code",
      "execution_count": 316,
      "metadata": {
        "colab": {
          "base_uri": "https://localhost:8080/",
          "height": 317
        },
        "id": "g0HZ_FQOXuYO",
        "outputId": "cf7743c2-9f74-4d05-badd-12d89fff5be4"
      },
      "outputs": [
        {
          "output_type": "execute_result",
          "data": {
            "text/plain": [
              "                 t1            t2           hum    wind_speed  weather_code  \\\n",
              "count  13931.000000  13931.000000  13931.000000  13931.000000  13931.000000   \n",
              "mean       0.393951      0.438450      0.651048      0.282644      2.739717   \n",
              "std        0.157281      0.165668      0.181041      0.139871      2.367800   \n",
              "min        0.000000      0.000000      0.000000      0.000000      1.000000   \n",
              "25%        0.267606      0.300000      0.534591      0.176991      1.000000   \n",
              "50%        0.394366      0.462500      0.679245      0.265487      2.000000   \n",
              "75%        0.492958      0.550000      0.786164      0.362832      3.000000   \n",
              "max        1.000000      1.000000      1.000000      1.000000     26.000000   \n",
              "\n",
              "         is_holiday    is_weekend       season          Year         Month  \\\n",
              "count  13931.000000  13931.000000  13931.00000  13931.000000  13931.000000   \n",
              "mean       0.022109      0.289355      1.49013      0.254935      0.502379   \n",
              "std        0.147043      0.453479      1.11864      0.254302      0.313925   \n",
              "min        0.000000      0.000000      0.00000      0.000000      0.000000   \n",
              "25%        0.000000      0.000000      0.00000      0.000000      0.272727   \n",
              "50%        0.000000      0.000000      1.00000      0.500000      0.545455   \n",
              "75%        0.000000      1.000000      2.00000      0.500000      0.818182   \n",
              "max        1.000000      1.000000      3.00000      1.000000      1.000000   \n",
              "\n",
              "                Day          Hour  \n",
              "count  13931.000000  13931.000000  \n",
              "mean       0.492274      0.501659  \n",
              "std        0.293690      0.300572  \n",
              "min        0.000000      0.000000  \n",
              "25%        0.233333      0.260870  \n",
              "50%        0.500000      0.521739  \n",
              "75%        0.733333      0.782609  \n",
              "max        1.000000      1.000000  "
            ],
            "text/html": [
              "\n",
              "  <div id=\"df-07fa4daf-6ec4-4c8f-8e65-8e7375eace97\" class=\"colab-df-container\">\n",
              "    <div>\n",
              "<style scoped>\n",
              "    .dataframe tbody tr th:only-of-type {\n",
              "        vertical-align: middle;\n",
              "    }\n",
              "\n",
              "    .dataframe tbody tr th {\n",
              "        vertical-align: top;\n",
              "    }\n",
              "\n",
              "    .dataframe thead th {\n",
              "        text-align: right;\n",
              "    }\n",
              "</style>\n",
              "<table border=\"1\" class=\"dataframe\">\n",
              "  <thead>\n",
              "    <tr style=\"text-align: right;\">\n",
              "      <th></th>\n",
              "      <th>t1</th>\n",
              "      <th>t2</th>\n",
              "      <th>hum</th>\n",
              "      <th>wind_speed</th>\n",
              "      <th>weather_code</th>\n",
              "      <th>is_holiday</th>\n",
              "      <th>is_weekend</th>\n",
              "      <th>season</th>\n",
              "      <th>Year</th>\n",
              "      <th>Month</th>\n",
              "      <th>Day</th>\n",
              "      <th>Hour</th>\n",
              "    </tr>\n",
              "  </thead>\n",
              "  <tbody>\n",
              "    <tr>\n",
              "      <th>count</th>\n",
              "      <td>13931.000000</td>\n",
              "      <td>13931.000000</td>\n",
              "      <td>13931.000000</td>\n",
              "      <td>13931.000000</td>\n",
              "      <td>13931.000000</td>\n",
              "      <td>13931.000000</td>\n",
              "      <td>13931.000000</td>\n",
              "      <td>13931.00000</td>\n",
              "      <td>13931.000000</td>\n",
              "      <td>13931.000000</td>\n",
              "      <td>13931.000000</td>\n",
              "      <td>13931.000000</td>\n",
              "    </tr>\n",
              "    <tr>\n",
              "      <th>mean</th>\n",
              "      <td>0.393951</td>\n",
              "      <td>0.438450</td>\n",
              "      <td>0.651048</td>\n",
              "      <td>0.282644</td>\n",
              "      <td>2.739717</td>\n",
              "      <td>0.022109</td>\n",
              "      <td>0.289355</td>\n",
              "      <td>1.49013</td>\n",
              "      <td>0.254935</td>\n",
              "      <td>0.502379</td>\n",
              "      <td>0.492274</td>\n",
              "      <td>0.501659</td>\n",
              "    </tr>\n",
              "    <tr>\n",
              "      <th>std</th>\n",
              "      <td>0.157281</td>\n",
              "      <td>0.165668</td>\n",
              "      <td>0.181041</td>\n",
              "      <td>0.139871</td>\n",
              "      <td>2.367800</td>\n",
              "      <td>0.147043</td>\n",
              "      <td>0.453479</td>\n",
              "      <td>1.11864</td>\n",
              "      <td>0.254302</td>\n",
              "      <td>0.313925</td>\n",
              "      <td>0.293690</td>\n",
              "      <td>0.300572</td>\n",
              "    </tr>\n",
              "    <tr>\n",
              "      <th>min</th>\n",
              "      <td>0.000000</td>\n",
              "      <td>0.000000</td>\n",
              "      <td>0.000000</td>\n",
              "      <td>0.000000</td>\n",
              "      <td>1.000000</td>\n",
              "      <td>0.000000</td>\n",
              "      <td>0.000000</td>\n",
              "      <td>0.00000</td>\n",
              "      <td>0.000000</td>\n",
              "      <td>0.000000</td>\n",
              "      <td>0.000000</td>\n",
              "      <td>0.000000</td>\n",
              "    </tr>\n",
              "    <tr>\n",
              "      <th>25%</th>\n",
              "      <td>0.267606</td>\n",
              "      <td>0.300000</td>\n",
              "      <td>0.534591</td>\n",
              "      <td>0.176991</td>\n",
              "      <td>1.000000</td>\n",
              "      <td>0.000000</td>\n",
              "      <td>0.000000</td>\n",
              "      <td>0.00000</td>\n",
              "      <td>0.000000</td>\n",
              "      <td>0.272727</td>\n",
              "      <td>0.233333</td>\n",
              "      <td>0.260870</td>\n",
              "    </tr>\n",
              "    <tr>\n",
              "      <th>50%</th>\n",
              "      <td>0.394366</td>\n",
              "      <td>0.462500</td>\n",
              "      <td>0.679245</td>\n",
              "      <td>0.265487</td>\n",
              "      <td>2.000000</td>\n",
              "      <td>0.000000</td>\n",
              "      <td>0.000000</td>\n",
              "      <td>1.00000</td>\n",
              "      <td>0.500000</td>\n",
              "      <td>0.545455</td>\n",
              "      <td>0.500000</td>\n",
              "      <td>0.521739</td>\n",
              "    </tr>\n",
              "    <tr>\n",
              "      <th>75%</th>\n",
              "      <td>0.492958</td>\n",
              "      <td>0.550000</td>\n",
              "      <td>0.786164</td>\n",
              "      <td>0.362832</td>\n",
              "      <td>3.000000</td>\n",
              "      <td>0.000000</td>\n",
              "      <td>1.000000</td>\n",
              "      <td>2.00000</td>\n",
              "      <td>0.500000</td>\n",
              "      <td>0.818182</td>\n",
              "      <td>0.733333</td>\n",
              "      <td>0.782609</td>\n",
              "    </tr>\n",
              "    <tr>\n",
              "      <th>max</th>\n",
              "      <td>1.000000</td>\n",
              "      <td>1.000000</td>\n",
              "      <td>1.000000</td>\n",
              "      <td>1.000000</td>\n",
              "      <td>26.000000</td>\n",
              "      <td>1.000000</td>\n",
              "      <td>1.000000</td>\n",
              "      <td>3.00000</td>\n",
              "      <td>1.000000</td>\n",
              "      <td>1.000000</td>\n",
              "      <td>1.000000</td>\n",
              "      <td>1.000000</td>\n",
              "    </tr>\n",
              "  </tbody>\n",
              "</table>\n",
              "</div>\n",
              "    <div class=\"colab-df-buttons\">\n",
              "\n",
              "  <div class=\"colab-df-container\">\n",
              "    <button class=\"colab-df-convert\" onclick=\"convertToInteractive('df-07fa4daf-6ec4-4c8f-8e65-8e7375eace97')\"\n",
              "            title=\"Convert this dataframe to an interactive table.\"\n",
              "            style=\"display:none;\">\n",
              "\n",
              "  <svg xmlns=\"http://www.w3.org/2000/svg\" height=\"24px\" viewBox=\"0 -960 960 960\">\n",
              "    <path d=\"M120-120v-720h720v720H120Zm60-500h600v-160H180v160Zm220 220h160v-160H400v160Zm0 220h160v-160H400v160ZM180-400h160v-160H180v160Zm440 0h160v-160H620v160ZM180-180h160v-160H180v160Zm440 0h160v-160H620v160Z\"/>\n",
              "  </svg>\n",
              "    </button>\n",
              "\n",
              "  <style>\n",
              "    .colab-df-container {\n",
              "      display:flex;\n",
              "      gap: 12px;\n",
              "    }\n",
              "\n",
              "    .colab-df-convert {\n",
              "      background-color: #E8F0FE;\n",
              "      border: none;\n",
              "      border-radius: 50%;\n",
              "      cursor: pointer;\n",
              "      display: none;\n",
              "      fill: #1967D2;\n",
              "      height: 32px;\n",
              "      padding: 0 0 0 0;\n",
              "      width: 32px;\n",
              "    }\n",
              "\n",
              "    .colab-df-convert:hover {\n",
              "      background-color: #E2EBFA;\n",
              "      box-shadow: 0px 1px 2px rgba(60, 64, 67, 0.3), 0px 1px 3px 1px rgba(60, 64, 67, 0.15);\n",
              "      fill: #174EA6;\n",
              "    }\n",
              "\n",
              "    .colab-df-buttons div {\n",
              "      margin-bottom: 4px;\n",
              "    }\n",
              "\n",
              "    [theme=dark] .colab-df-convert {\n",
              "      background-color: #3B4455;\n",
              "      fill: #D2E3FC;\n",
              "    }\n",
              "\n",
              "    [theme=dark] .colab-df-convert:hover {\n",
              "      background-color: #434B5C;\n",
              "      box-shadow: 0px 1px 3px 1px rgba(0, 0, 0, 0.15);\n",
              "      filter: drop-shadow(0px 1px 2px rgba(0, 0, 0, 0.3));\n",
              "      fill: #FFFFFF;\n",
              "    }\n",
              "  </style>\n",
              "\n",
              "    <script>\n",
              "      const buttonEl =\n",
              "        document.querySelector('#df-07fa4daf-6ec4-4c8f-8e65-8e7375eace97 button.colab-df-convert');\n",
              "      buttonEl.style.display =\n",
              "        google.colab.kernel.accessAllowed ? 'block' : 'none';\n",
              "\n",
              "      async function convertToInteractive(key) {\n",
              "        const element = document.querySelector('#df-07fa4daf-6ec4-4c8f-8e65-8e7375eace97');\n",
              "        const dataTable =\n",
              "          await google.colab.kernel.invokeFunction('convertToInteractive',\n",
              "                                                    [key], {});\n",
              "        if (!dataTable) return;\n",
              "\n",
              "        const docLinkHtml = 'Like what you see? Visit the ' +\n",
              "          '<a target=\"_blank\" href=https://colab.research.google.com/notebooks/data_table.ipynb>data table notebook</a>'\n",
              "          + ' to learn more about interactive tables.';\n",
              "        element.innerHTML = '';\n",
              "        dataTable['output_type'] = 'display_data';\n",
              "        await google.colab.output.renderOutput(dataTable, element);\n",
              "        const docLink = document.createElement('div');\n",
              "        docLink.innerHTML = docLinkHtml;\n",
              "        element.appendChild(docLink);\n",
              "      }\n",
              "    </script>\n",
              "  </div>\n",
              "\n",
              "\n",
              "    <div id=\"df-59684c5d-de34-4c85-87d4-3033054458d6\">\n",
              "      <button class=\"colab-df-quickchart\" onclick=\"quickchart('df-59684c5d-de34-4c85-87d4-3033054458d6')\"\n",
              "                title=\"Suggest charts\"\n",
              "                style=\"display:none;\">\n",
              "\n",
              "<svg xmlns=\"http://www.w3.org/2000/svg\" height=\"24px\"viewBox=\"0 0 24 24\"\n",
              "     width=\"24px\">\n",
              "    <g>\n",
              "        <path d=\"M19 3H5c-1.1 0-2 .9-2 2v14c0 1.1.9 2 2 2h14c1.1 0 2-.9 2-2V5c0-1.1-.9-2-2-2zM9 17H7v-7h2v7zm4 0h-2V7h2v10zm4 0h-2v-4h2v4z\"/>\n",
              "    </g>\n",
              "</svg>\n",
              "      </button>\n",
              "\n",
              "<style>\n",
              "  .colab-df-quickchart {\n",
              "      --bg-color: #E8F0FE;\n",
              "      --fill-color: #1967D2;\n",
              "      --hover-bg-color: #E2EBFA;\n",
              "      --hover-fill-color: #174EA6;\n",
              "      --disabled-fill-color: #AAA;\n",
              "      --disabled-bg-color: #DDD;\n",
              "  }\n",
              "\n",
              "  [theme=dark] .colab-df-quickchart {\n",
              "      --bg-color: #3B4455;\n",
              "      --fill-color: #D2E3FC;\n",
              "      --hover-bg-color: #434B5C;\n",
              "      --hover-fill-color: #FFFFFF;\n",
              "      --disabled-bg-color: #3B4455;\n",
              "      --disabled-fill-color: #666;\n",
              "  }\n",
              "\n",
              "  .colab-df-quickchart {\n",
              "    background-color: var(--bg-color);\n",
              "    border: none;\n",
              "    border-radius: 50%;\n",
              "    cursor: pointer;\n",
              "    display: none;\n",
              "    fill: var(--fill-color);\n",
              "    height: 32px;\n",
              "    padding: 0;\n",
              "    width: 32px;\n",
              "  }\n",
              "\n",
              "  .colab-df-quickchart:hover {\n",
              "    background-color: var(--hover-bg-color);\n",
              "    box-shadow: 0 1px 2px rgba(60, 64, 67, 0.3), 0 1px 3px 1px rgba(60, 64, 67, 0.15);\n",
              "    fill: var(--button-hover-fill-color);\n",
              "  }\n",
              "\n",
              "  .colab-df-quickchart-complete:disabled,\n",
              "  .colab-df-quickchart-complete:disabled:hover {\n",
              "    background-color: var(--disabled-bg-color);\n",
              "    fill: var(--disabled-fill-color);\n",
              "    box-shadow: none;\n",
              "  }\n",
              "\n",
              "  .colab-df-spinner {\n",
              "    border: 2px solid var(--fill-color);\n",
              "    border-color: transparent;\n",
              "    border-bottom-color: var(--fill-color);\n",
              "    animation:\n",
              "      spin 1s steps(1) infinite;\n",
              "  }\n",
              "\n",
              "  @keyframes spin {\n",
              "    0% {\n",
              "      border-color: transparent;\n",
              "      border-bottom-color: var(--fill-color);\n",
              "      border-left-color: var(--fill-color);\n",
              "    }\n",
              "    20% {\n",
              "      border-color: transparent;\n",
              "      border-left-color: var(--fill-color);\n",
              "      border-top-color: var(--fill-color);\n",
              "    }\n",
              "    30% {\n",
              "      border-color: transparent;\n",
              "      border-left-color: var(--fill-color);\n",
              "      border-top-color: var(--fill-color);\n",
              "      border-right-color: var(--fill-color);\n",
              "    }\n",
              "    40% {\n",
              "      border-color: transparent;\n",
              "      border-right-color: var(--fill-color);\n",
              "      border-top-color: var(--fill-color);\n",
              "    }\n",
              "    60% {\n",
              "      border-color: transparent;\n",
              "      border-right-color: var(--fill-color);\n",
              "    }\n",
              "    80% {\n",
              "      border-color: transparent;\n",
              "      border-right-color: var(--fill-color);\n",
              "      border-bottom-color: var(--fill-color);\n",
              "    }\n",
              "    90% {\n",
              "      border-color: transparent;\n",
              "      border-bottom-color: var(--fill-color);\n",
              "    }\n",
              "  }\n",
              "</style>\n",
              "\n",
              "      <script>\n",
              "        async function quickchart(key) {\n",
              "          const quickchartButtonEl =\n",
              "            document.querySelector('#' + key + ' button');\n",
              "          quickchartButtonEl.disabled = true;  // To prevent multiple clicks.\n",
              "          quickchartButtonEl.classList.add('colab-df-spinner');\n",
              "          try {\n",
              "            const charts = await google.colab.kernel.invokeFunction(\n",
              "                'suggestCharts', [key], {});\n",
              "          } catch (error) {\n",
              "            console.error('Error during call to suggestCharts:', error);\n",
              "          }\n",
              "          quickchartButtonEl.classList.remove('colab-df-spinner');\n",
              "          quickchartButtonEl.classList.add('colab-df-quickchart-complete');\n",
              "        }\n",
              "        (() => {\n",
              "          let quickchartButtonEl =\n",
              "            document.querySelector('#df-59684c5d-de34-4c85-87d4-3033054458d6 button');\n",
              "          quickchartButtonEl.style.display =\n",
              "            google.colab.kernel.accessAllowed ? 'block' : 'none';\n",
              "        })();\n",
              "      </script>\n",
              "    </div>\n",
              "\n",
              "    </div>\n",
              "  </div>\n"
            ],
            "application/vnd.google.colaboratory.intrinsic+json": {
              "type": "dataframe",
              "summary": "{\n  \"name\": \"X_train\",\n  \"rows\": 8,\n  \"fields\": [\n    {\n      \"column\": \"t1\",\n      \"properties\": {\n        \"dtype\": \"number\",\n        \"std\": 4925.215611280315,\n        \"min\": 0.0,\n        \"max\": 13931.0,\n        \"num_unique_values\": 8,\n        \"samples\": [\n          0.3939513423469056,\n          0.3943661971830986,\n          13931.0\n        ],\n        \"semantic_type\": \"\",\n        \"description\": \"\"\n      }\n    },\n    {\n      \"column\": \"t2\",\n      \"properties\": {\n        \"dtype\": \"number\",\n        \"std\": 4925.2049817558045,\n        \"min\": 0.0,\n        \"max\": 13931.0,\n        \"num_unique_values\": 8,\n        \"samples\": [\n          0.43844991984303594,\n          0.4625,\n          13931.0\n        ],\n        \"semantic_type\": \"\",\n        \"description\": \"\"\n      }\n    },\n    {\n      \"column\": \"hum\",\n      \"properties\": {\n        \"dtype\": \"number\",\n        \"std\": 4925.158745131436,\n        \"min\": 0.0,\n        \"max\": 13931.0,\n        \"num_unique_values\": 8,\n        \"samples\": [\n          0.6510476838000767,\n          0.679245283018868,\n          13931.0\n        ],\n        \"semantic_type\": \"\",\n        \"description\": \"\"\n      }\n    },\n    {\n      \"column\": \"wind_speed\",\n      \"properties\": {\n        \"dtype\": \"number\",\n        \"std\": 4925.239771281056,\n        \"min\": 0.0,\n        \"max\": 13931.0,\n        \"num_unique_values\": 8,\n        \"samples\": [\n          0.28264408508093725,\n          0.2654867256637168,\n          13931.0\n        ],\n        \"semantic_type\": \"\",\n        \"description\": \"\"\n      }\n    },\n    {\n      \"column\": \"weather_code\",\n      \"properties\": {\n        \"dtype\": \"number\",\n        \"std\": 4923.434769543315,\n        \"min\": 1.0,\n        \"max\": 13931.0,\n        \"num_unique_values\": 7,\n        \"samples\": [\n          13931.0,\n          2.739717177517766,\n          3.0\n        ],\n        \"semantic_type\": \"\",\n        \"description\": \"\"\n      }\n    },\n    {\n      \"column\": \"is_holiday\",\n      \"properties\": {\n        \"dtype\": \"number\",\n        \"std\": 4925.293245242774,\n        \"min\": 0.0,\n        \"max\": 13931.0,\n        \"num_unique_values\": 5,\n        \"samples\": [\n          0.022108965616251527,\n          1.0,\n          0.14704322940212064\n        ],\n        \"semantic_type\": \"\",\n        \"description\": \"\"\n      }\n    },\n    {\n      \"column\": \"is_weekend\",\n      \"properties\": {\n        \"dtype\": \"number\",\n        \"std\": 4925.213767943531,\n        \"min\": 0.0,\n        \"max\": 13931.0,\n        \"num_unique_values\": 5,\n        \"samples\": [\n          0.2893546766204867,\n          1.0,\n          0.45347911671821595\n        ],\n        \"semantic_type\": \"\",\n        \"description\": \"\"\n      }\n    },\n    {\n      \"column\": \"season\",\n      \"properties\": {\n        \"dtype\": \"number\",\n        \"std\": 4924.917575644403,\n        \"min\": 0.0,\n        \"max\": 13931.0,\n        \"num_unique_values\": 7,\n        \"samples\": [\n          13931.0,\n          1.4901299260641734,\n          2.0\n        ],\n        \"semantic_type\": \"\",\n        \"description\": \"\"\n      }\n    },\n    {\n      \"column\": \"Year\",\n      \"properties\": {\n        \"dtype\": \"number\",\n        \"std\": 4925.225559321599,\n        \"min\": 0.0,\n        \"max\": 13931.0,\n        \"num_unique_values\": 6,\n        \"samples\": [\n          13931.0,\n          0.2549350369679133,\n          1.0\n        ],\n        \"semantic_type\": \"\",\n        \"description\": \"\"\n      }\n    },\n    {\n      \"column\": \"Month\",\n      \"properties\": {\n        \"dtype\": \"number\",\n        \"std\": 4925.1779083175115,\n        \"min\": 0.0,\n        \"max\": 13931.0,\n        \"num_unique_values\": 8,\n        \"samples\": [\n          0.5023786062476752,\n          0.5454545454545454,\n          13931.0\n        ],\n        \"semantic_type\": \"\",\n        \"description\": \"\"\n      }\n    },\n    {\n      \"column\": \"Day\",\n      \"properties\": {\n        \"dtype\": \"number\",\n        \"std\": 4925.188011253142,\n        \"min\": 0.0,\n        \"max\": 13931.0,\n        \"num_unique_values\": 8,\n        \"samples\": [\n          0.49227382576029477,\n          0.5,\n          13931.0\n        ],\n        \"semantic_type\": \"\",\n        \"description\": \"\"\n      }\n    },\n    {\n      \"column\": \"Hour\",\n      \"properties\": {\n        \"dtype\": \"number\",\n        \"std\": 4925.1822123036445,\n        \"min\": 0.0,\n        \"max\": 13931.0,\n        \"num_unique_values\": 8,\n        \"samples\": [\n          0.501658796615618,\n          0.5217391304347826,\n          13931.0\n        ],\n        \"semantic_type\": \"\",\n        \"description\": \"\"\n      }\n    }\n  ]\n}"
            }
          },
          "metadata": {},
          "execution_count": 316
        }
      ],
      "source": [
        "from sklearn.preprocessing import MinMaxScaler\n",
        "scaler = MinMaxScaler()\n",
        "to_normalize = ['t1','t2','hum','wind_speed','Year','Month','Day','Hour']\n",
        "standard_scaling_columns = list(to_normalize)\n",
        "X_train[standard_scaling_columns] = scaler.fit_transform(X_train[standard_scaling_columns])\n",
        "X_test[standard_scaling_columns] = scaler.fit_transform(X_test[standard_scaling_columns])\n",
        "X_train.describe()"
      ]
    },
    {
      "cell_type": "markdown",
      "metadata": {
        "id": "zQBCf8wXU3eL"
      },
      "source": [
        "## Multilayer Preceptron using Scikit-learn\n",
        "\n",
        "We use scikit-learn multi-layer perceptron classifier with 2 hidden layers of 5 and 2 neurons."
      ]
    },
    {
      "cell_type": "code",
      "execution_count": null,
      "metadata": {
        "colab": {
          "base_uri": "https://localhost:8080/",
          "height": 97
        },
        "id": "IDVD_zdhU9iv",
        "outputId": "810708a7-d492-41f4-d2fd-6882a58fdedc"
      },
      "outputs": [
        {
          "output_type": "execute_result",
          "data": {
            "text/plain": [
              "MLPClassifier(alpha=1e-05, hidden_layer_sizes=(5, 2), max_iter=900,\n",
              "              solver='lbfgs')"
            ],
            "text/html": [
              "<style>#sk-container-id-2 {\n",
              "  /* Definition of color scheme common for light and dark mode */\n",
              "  --sklearn-color-text: #000;\n",
              "  --sklearn-color-text-muted: #666;\n",
              "  --sklearn-color-line: gray;\n",
              "  /* Definition of color scheme for unfitted estimators */\n",
              "  --sklearn-color-unfitted-level-0: #fff5e6;\n",
              "  --sklearn-color-unfitted-level-1: #f6e4d2;\n",
              "  --sklearn-color-unfitted-level-2: #ffe0b3;\n",
              "  --sklearn-color-unfitted-level-3: chocolate;\n",
              "  /* Definition of color scheme for fitted estimators */\n",
              "  --sklearn-color-fitted-level-0: #f0f8ff;\n",
              "  --sklearn-color-fitted-level-1: #d4ebff;\n",
              "  --sklearn-color-fitted-level-2: #b3dbfd;\n",
              "  --sklearn-color-fitted-level-3: cornflowerblue;\n",
              "\n",
              "  /* Specific color for light theme */\n",
              "  --sklearn-color-text-on-default-background: var(--sg-text-color, var(--theme-code-foreground, var(--jp-content-font-color1, black)));\n",
              "  --sklearn-color-background: var(--sg-background-color, var(--theme-background, var(--jp-layout-color0, white)));\n",
              "  --sklearn-color-border-box: var(--sg-text-color, var(--theme-code-foreground, var(--jp-content-font-color1, black)));\n",
              "  --sklearn-color-icon: #696969;\n",
              "\n",
              "  @media (prefers-color-scheme: dark) {\n",
              "    /* Redefinition of color scheme for dark theme */\n",
              "    --sklearn-color-text-on-default-background: var(--sg-text-color, var(--theme-code-foreground, var(--jp-content-font-color1, white)));\n",
              "    --sklearn-color-background: var(--sg-background-color, var(--theme-background, var(--jp-layout-color0, #111)));\n",
              "    --sklearn-color-border-box: var(--sg-text-color, var(--theme-code-foreground, var(--jp-content-font-color1, white)));\n",
              "    --sklearn-color-icon: #878787;\n",
              "  }\n",
              "}\n",
              "\n",
              "#sk-container-id-2 {\n",
              "  color: var(--sklearn-color-text);\n",
              "}\n",
              "\n",
              "#sk-container-id-2 pre {\n",
              "  padding: 0;\n",
              "}\n",
              "\n",
              "#sk-container-id-2 input.sk-hidden--visually {\n",
              "  border: 0;\n",
              "  clip: rect(1px 1px 1px 1px);\n",
              "  clip: rect(1px, 1px, 1px, 1px);\n",
              "  height: 1px;\n",
              "  margin: -1px;\n",
              "  overflow: hidden;\n",
              "  padding: 0;\n",
              "  position: absolute;\n",
              "  width: 1px;\n",
              "}\n",
              "\n",
              "#sk-container-id-2 div.sk-dashed-wrapped {\n",
              "  border: 1px dashed var(--sklearn-color-line);\n",
              "  margin: 0 0.4em 0.5em 0.4em;\n",
              "  box-sizing: border-box;\n",
              "  padding-bottom: 0.4em;\n",
              "  background-color: var(--sklearn-color-background);\n",
              "}\n",
              "\n",
              "#sk-container-id-2 div.sk-container {\n",
              "  /* jupyter's `normalize.less` sets `[hidden] { display: none; }`\n",
              "     but bootstrap.min.css set `[hidden] { display: none !important; }`\n",
              "     so we also need the `!important` here to be able to override the\n",
              "     default hidden behavior on the sphinx rendered scikit-learn.org.\n",
              "     See: https://github.com/scikit-learn/scikit-learn/issues/21755 */\n",
              "  display: inline-block !important;\n",
              "  position: relative;\n",
              "}\n",
              "\n",
              "#sk-container-id-2 div.sk-text-repr-fallback {\n",
              "  display: none;\n",
              "}\n",
              "\n",
              "div.sk-parallel-item,\n",
              "div.sk-serial,\n",
              "div.sk-item {\n",
              "  /* draw centered vertical line to link estimators */\n",
              "  background-image: linear-gradient(var(--sklearn-color-text-on-default-background), var(--sklearn-color-text-on-default-background));\n",
              "  background-size: 2px 100%;\n",
              "  background-repeat: no-repeat;\n",
              "  background-position: center center;\n",
              "}\n",
              "\n",
              "/* Parallel-specific style estimator block */\n",
              "\n",
              "#sk-container-id-2 div.sk-parallel-item::after {\n",
              "  content: \"\";\n",
              "  width: 100%;\n",
              "  border-bottom: 2px solid var(--sklearn-color-text-on-default-background);\n",
              "  flex-grow: 1;\n",
              "}\n",
              "\n",
              "#sk-container-id-2 div.sk-parallel {\n",
              "  display: flex;\n",
              "  align-items: stretch;\n",
              "  justify-content: center;\n",
              "  background-color: var(--sklearn-color-background);\n",
              "  position: relative;\n",
              "}\n",
              "\n",
              "#sk-container-id-2 div.sk-parallel-item {\n",
              "  display: flex;\n",
              "  flex-direction: column;\n",
              "}\n",
              "\n",
              "#sk-container-id-2 div.sk-parallel-item:first-child::after {\n",
              "  align-self: flex-end;\n",
              "  width: 50%;\n",
              "}\n",
              "\n",
              "#sk-container-id-2 div.sk-parallel-item:last-child::after {\n",
              "  align-self: flex-start;\n",
              "  width: 50%;\n",
              "}\n",
              "\n",
              "#sk-container-id-2 div.sk-parallel-item:only-child::after {\n",
              "  width: 0;\n",
              "}\n",
              "\n",
              "/* Serial-specific style estimator block */\n",
              "\n",
              "#sk-container-id-2 div.sk-serial {\n",
              "  display: flex;\n",
              "  flex-direction: column;\n",
              "  align-items: center;\n",
              "  background-color: var(--sklearn-color-background);\n",
              "  padding-right: 1em;\n",
              "  padding-left: 1em;\n",
              "}\n",
              "\n",
              "\n",
              "/* Toggleable style: style used for estimator/Pipeline/ColumnTransformer box that is\n",
              "clickable and can be expanded/collapsed.\n",
              "- Pipeline and ColumnTransformer use this feature and define the default style\n",
              "- Estimators will overwrite some part of the style using the `sk-estimator` class\n",
              "*/\n",
              "\n",
              "/* Pipeline and ColumnTransformer style (default) */\n",
              "\n",
              "#sk-container-id-2 div.sk-toggleable {\n",
              "  /* Default theme specific background. It is overwritten whether we have a\n",
              "  specific estimator or a Pipeline/ColumnTransformer */\n",
              "  background-color: var(--sklearn-color-background);\n",
              "}\n",
              "\n",
              "/* Toggleable label */\n",
              "#sk-container-id-2 label.sk-toggleable__label {\n",
              "  cursor: pointer;\n",
              "  display: flex;\n",
              "  width: 100%;\n",
              "  margin-bottom: 0;\n",
              "  padding: 0.5em;\n",
              "  box-sizing: border-box;\n",
              "  text-align: center;\n",
              "  align-items: start;\n",
              "  justify-content: space-between;\n",
              "  gap: 0.5em;\n",
              "}\n",
              "\n",
              "#sk-container-id-2 label.sk-toggleable__label .caption {\n",
              "  font-size: 0.6rem;\n",
              "  font-weight: lighter;\n",
              "  color: var(--sklearn-color-text-muted);\n",
              "}\n",
              "\n",
              "#sk-container-id-2 label.sk-toggleable__label-arrow:before {\n",
              "  /* Arrow on the left of the label */\n",
              "  content: \"▸\";\n",
              "  float: left;\n",
              "  margin-right: 0.25em;\n",
              "  color: var(--sklearn-color-icon);\n",
              "}\n",
              "\n",
              "#sk-container-id-2 label.sk-toggleable__label-arrow:hover:before {\n",
              "  color: var(--sklearn-color-text);\n",
              "}\n",
              "\n",
              "/* Toggleable content - dropdown */\n",
              "\n",
              "#sk-container-id-2 div.sk-toggleable__content {\n",
              "  max-height: 0;\n",
              "  max-width: 0;\n",
              "  overflow: hidden;\n",
              "  text-align: left;\n",
              "  /* unfitted */\n",
              "  background-color: var(--sklearn-color-unfitted-level-0);\n",
              "}\n",
              "\n",
              "#sk-container-id-2 div.sk-toggleable__content.fitted {\n",
              "  /* fitted */\n",
              "  background-color: var(--sklearn-color-fitted-level-0);\n",
              "}\n",
              "\n",
              "#sk-container-id-2 div.sk-toggleable__content pre {\n",
              "  margin: 0.2em;\n",
              "  border-radius: 0.25em;\n",
              "  color: var(--sklearn-color-text);\n",
              "  /* unfitted */\n",
              "  background-color: var(--sklearn-color-unfitted-level-0);\n",
              "}\n",
              "\n",
              "#sk-container-id-2 div.sk-toggleable__content.fitted pre {\n",
              "  /* unfitted */\n",
              "  background-color: var(--sklearn-color-fitted-level-0);\n",
              "}\n",
              "\n",
              "#sk-container-id-2 input.sk-toggleable__control:checked~div.sk-toggleable__content {\n",
              "  /* Expand drop-down */\n",
              "  max-height: 200px;\n",
              "  max-width: 100%;\n",
              "  overflow: auto;\n",
              "}\n",
              "\n",
              "#sk-container-id-2 input.sk-toggleable__control:checked~label.sk-toggleable__label-arrow:before {\n",
              "  content: \"▾\";\n",
              "}\n",
              "\n",
              "/* Pipeline/ColumnTransformer-specific style */\n",
              "\n",
              "#sk-container-id-2 div.sk-label input.sk-toggleable__control:checked~label.sk-toggleable__label {\n",
              "  color: var(--sklearn-color-text);\n",
              "  background-color: var(--sklearn-color-unfitted-level-2);\n",
              "}\n",
              "\n",
              "#sk-container-id-2 div.sk-label.fitted input.sk-toggleable__control:checked~label.sk-toggleable__label {\n",
              "  background-color: var(--sklearn-color-fitted-level-2);\n",
              "}\n",
              "\n",
              "/* Estimator-specific style */\n",
              "\n",
              "/* Colorize estimator box */\n",
              "#sk-container-id-2 div.sk-estimator input.sk-toggleable__control:checked~label.sk-toggleable__label {\n",
              "  /* unfitted */\n",
              "  background-color: var(--sklearn-color-unfitted-level-2);\n",
              "}\n",
              "\n",
              "#sk-container-id-2 div.sk-estimator.fitted input.sk-toggleable__control:checked~label.sk-toggleable__label {\n",
              "  /* fitted */\n",
              "  background-color: var(--sklearn-color-fitted-level-2);\n",
              "}\n",
              "\n",
              "#sk-container-id-2 div.sk-label label.sk-toggleable__label,\n",
              "#sk-container-id-2 div.sk-label label {\n",
              "  /* The background is the default theme color */\n",
              "  color: var(--sklearn-color-text-on-default-background);\n",
              "}\n",
              "\n",
              "/* On hover, darken the color of the background */\n",
              "#sk-container-id-2 div.sk-label:hover label.sk-toggleable__label {\n",
              "  color: var(--sklearn-color-text);\n",
              "  background-color: var(--sklearn-color-unfitted-level-2);\n",
              "}\n",
              "\n",
              "/* Label box, darken color on hover, fitted */\n",
              "#sk-container-id-2 div.sk-label.fitted:hover label.sk-toggleable__label.fitted {\n",
              "  color: var(--sklearn-color-text);\n",
              "  background-color: var(--sklearn-color-fitted-level-2);\n",
              "}\n",
              "\n",
              "/* Estimator label */\n",
              "\n",
              "#sk-container-id-2 div.sk-label label {\n",
              "  font-family: monospace;\n",
              "  font-weight: bold;\n",
              "  display: inline-block;\n",
              "  line-height: 1.2em;\n",
              "}\n",
              "\n",
              "#sk-container-id-2 div.sk-label-container {\n",
              "  text-align: center;\n",
              "}\n",
              "\n",
              "/* Estimator-specific */\n",
              "#sk-container-id-2 div.sk-estimator {\n",
              "  font-family: monospace;\n",
              "  border: 1px dotted var(--sklearn-color-border-box);\n",
              "  border-radius: 0.25em;\n",
              "  box-sizing: border-box;\n",
              "  margin-bottom: 0.5em;\n",
              "  /* unfitted */\n",
              "  background-color: var(--sklearn-color-unfitted-level-0);\n",
              "}\n",
              "\n",
              "#sk-container-id-2 div.sk-estimator.fitted {\n",
              "  /* fitted */\n",
              "  background-color: var(--sklearn-color-fitted-level-0);\n",
              "}\n",
              "\n",
              "/* on hover */\n",
              "#sk-container-id-2 div.sk-estimator:hover {\n",
              "  /* unfitted */\n",
              "  background-color: var(--sklearn-color-unfitted-level-2);\n",
              "}\n",
              "\n",
              "#sk-container-id-2 div.sk-estimator.fitted:hover {\n",
              "  /* fitted */\n",
              "  background-color: var(--sklearn-color-fitted-level-2);\n",
              "}\n",
              "\n",
              "/* Specification for estimator info (e.g. \"i\" and \"?\") */\n",
              "\n",
              "/* Common style for \"i\" and \"?\" */\n",
              "\n",
              ".sk-estimator-doc-link,\n",
              "a:link.sk-estimator-doc-link,\n",
              "a:visited.sk-estimator-doc-link {\n",
              "  float: right;\n",
              "  font-size: smaller;\n",
              "  line-height: 1em;\n",
              "  font-family: monospace;\n",
              "  background-color: var(--sklearn-color-background);\n",
              "  border-radius: 1em;\n",
              "  height: 1em;\n",
              "  width: 1em;\n",
              "  text-decoration: none !important;\n",
              "  margin-left: 0.5em;\n",
              "  text-align: center;\n",
              "  /* unfitted */\n",
              "  border: var(--sklearn-color-unfitted-level-1) 1pt solid;\n",
              "  color: var(--sklearn-color-unfitted-level-1);\n",
              "}\n",
              "\n",
              ".sk-estimator-doc-link.fitted,\n",
              "a:link.sk-estimator-doc-link.fitted,\n",
              "a:visited.sk-estimator-doc-link.fitted {\n",
              "  /* fitted */\n",
              "  border: var(--sklearn-color-fitted-level-1) 1pt solid;\n",
              "  color: var(--sklearn-color-fitted-level-1);\n",
              "}\n",
              "\n",
              "/* On hover */\n",
              "div.sk-estimator:hover .sk-estimator-doc-link:hover,\n",
              ".sk-estimator-doc-link:hover,\n",
              "div.sk-label-container:hover .sk-estimator-doc-link:hover,\n",
              ".sk-estimator-doc-link:hover {\n",
              "  /* unfitted */\n",
              "  background-color: var(--sklearn-color-unfitted-level-3);\n",
              "  color: var(--sklearn-color-background);\n",
              "  text-decoration: none;\n",
              "}\n",
              "\n",
              "div.sk-estimator.fitted:hover .sk-estimator-doc-link.fitted:hover,\n",
              ".sk-estimator-doc-link.fitted:hover,\n",
              "div.sk-label-container:hover .sk-estimator-doc-link.fitted:hover,\n",
              ".sk-estimator-doc-link.fitted:hover {\n",
              "  /* fitted */\n",
              "  background-color: var(--sklearn-color-fitted-level-3);\n",
              "  color: var(--sklearn-color-background);\n",
              "  text-decoration: none;\n",
              "}\n",
              "\n",
              "/* Span, style for the box shown on hovering the info icon */\n",
              ".sk-estimator-doc-link span {\n",
              "  display: none;\n",
              "  z-index: 9999;\n",
              "  position: relative;\n",
              "  font-weight: normal;\n",
              "  right: .2ex;\n",
              "  padding: .5ex;\n",
              "  margin: .5ex;\n",
              "  width: min-content;\n",
              "  min-width: 20ex;\n",
              "  max-width: 50ex;\n",
              "  color: var(--sklearn-color-text);\n",
              "  box-shadow: 2pt 2pt 4pt #999;\n",
              "  /* unfitted */\n",
              "  background: var(--sklearn-color-unfitted-level-0);\n",
              "  border: .5pt solid var(--sklearn-color-unfitted-level-3);\n",
              "}\n",
              "\n",
              ".sk-estimator-doc-link.fitted span {\n",
              "  /* fitted */\n",
              "  background: var(--sklearn-color-fitted-level-0);\n",
              "  border: var(--sklearn-color-fitted-level-3);\n",
              "}\n",
              "\n",
              ".sk-estimator-doc-link:hover span {\n",
              "  display: block;\n",
              "}\n",
              "\n",
              "/* \"?\"-specific style due to the `<a>` HTML tag */\n",
              "\n",
              "#sk-container-id-2 a.estimator_doc_link {\n",
              "  float: right;\n",
              "  font-size: 1rem;\n",
              "  line-height: 1em;\n",
              "  font-family: monospace;\n",
              "  background-color: var(--sklearn-color-background);\n",
              "  border-radius: 1rem;\n",
              "  height: 1rem;\n",
              "  width: 1rem;\n",
              "  text-decoration: none;\n",
              "  /* unfitted */\n",
              "  color: var(--sklearn-color-unfitted-level-1);\n",
              "  border: var(--sklearn-color-unfitted-level-1) 1pt solid;\n",
              "}\n",
              "\n",
              "#sk-container-id-2 a.estimator_doc_link.fitted {\n",
              "  /* fitted */\n",
              "  border: var(--sklearn-color-fitted-level-1) 1pt solid;\n",
              "  color: var(--sklearn-color-fitted-level-1);\n",
              "}\n",
              "\n",
              "/* On hover */\n",
              "#sk-container-id-2 a.estimator_doc_link:hover {\n",
              "  /* unfitted */\n",
              "  background-color: var(--sklearn-color-unfitted-level-3);\n",
              "  color: var(--sklearn-color-background);\n",
              "  text-decoration: none;\n",
              "}\n",
              "\n",
              "#sk-container-id-2 a.estimator_doc_link.fitted:hover {\n",
              "  /* fitted */\n",
              "  background-color: var(--sklearn-color-fitted-level-3);\n",
              "}\n",
              "</style><div id=\"sk-container-id-2\" class=\"sk-top-container\"><div class=\"sk-text-repr-fallback\"><pre>MLPClassifier(alpha=1e-05, hidden_layer_sizes=(5, 2), max_iter=900,\n",
              "              solver=&#x27;lbfgs&#x27;)</pre><b>In a Jupyter environment, please rerun this cell to show the HTML representation or trust the notebook. <br />On GitHub, the HTML representation is unable to render, please try loading this page with nbviewer.org.</b></div><div class=\"sk-container\" hidden><div class=\"sk-item\"><div class=\"sk-estimator fitted sk-toggleable\"><input class=\"sk-toggleable__control sk-hidden--visually\" id=\"sk-estimator-id-2\" type=\"checkbox\" checked><label for=\"sk-estimator-id-2\" class=\"sk-toggleable__label fitted sk-toggleable__label-arrow\"><div><div>MLPClassifier</div></div><div><a class=\"sk-estimator-doc-link fitted\" rel=\"noreferrer\" target=\"_blank\" href=\"https://scikit-learn.org/1.6/modules/generated/sklearn.neural_network.MLPClassifier.html\">?<span>Documentation for MLPClassifier</span></a><span class=\"sk-estimator-doc-link fitted\">i<span>Fitted</span></span></div></label><div class=\"sk-toggleable__content fitted\"><pre>MLPClassifier(alpha=1e-05, hidden_layer_sizes=(5, 2), max_iter=900,\n",
              "              solver=&#x27;lbfgs&#x27;)</pre></div> </div></div></div></div>"
            ]
          },
          "metadata": {},
          "execution_count": 33
        }
      ],
      "source": [
        "from sklearn.neural_network import MLPClassifier\n",
        "model = MLPClassifier(solver='lbfgs',alpha=1e-5,hidden_layer_sizes=(5,2),max_iter=900)\n",
        "model.fit(X_train, y_train)"
      ]
    },
    {
      "cell_type": "code",
      "execution_count": null,
      "metadata": {
        "colab": {
          "base_uri": "https://localhost:8080/"
        },
        "id": "R6fiQfB5VZxM",
        "outputId": "d6771339-6a55-4f76-eb99-9f2f88894555"
      },
      "outputs": [
        {
          "output_type": "stream",
          "name": "stdout",
          "text": [
            "f1 score : 0.83\n"
          ]
        }
      ],
      "source": [
        "from sklearn.metrics import f1_score\n",
        "prediction=model.predict(X_test)\n",
        "print('f1 score : %.2f' %f1_score(y_test,prediction,average='macro'))"
      ]
    },
    {
      "cell_type": "markdown",
      "source": [
        "Let's increase the number of neurons in the hidden layers."
      ],
      "metadata": {
        "id": "E6RAez-vf7mY"
      }
    },
    {
      "cell_type": "code",
      "execution_count": null,
      "metadata": {
        "colab": {
          "base_uri": "https://localhost:8080/",
          "height": 97
        },
        "id": "VMyfqw1iWDOv",
        "outputId": "b2ed7ce1-1a8a-4ab9-b239-cf7e08845fa3"
      },
      "outputs": [
        {
          "output_type": "execute_result",
          "data": {
            "text/plain": [
              "MLPClassifier(alpha=1e-05, hidden_layer_sizes=(10, 5), max_iter=900,\n",
              "              solver='lbfgs')"
            ],
            "text/html": [
              "<style>#sk-container-id-3 {\n",
              "  /* Definition of color scheme common for light and dark mode */\n",
              "  --sklearn-color-text: #000;\n",
              "  --sklearn-color-text-muted: #666;\n",
              "  --sklearn-color-line: gray;\n",
              "  /* Definition of color scheme for unfitted estimators */\n",
              "  --sklearn-color-unfitted-level-0: #fff5e6;\n",
              "  --sklearn-color-unfitted-level-1: #f6e4d2;\n",
              "  --sklearn-color-unfitted-level-2: #ffe0b3;\n",
              "  --sklearn-color-unfitted-level-3: chocolate;\n",
              "  /* Definition of color scheme for fitted estimators */\n",
              "  --sklearn-color-fitted-level-0: #f0f8ff;\n",
              "  --sklearn-color-fitted-level-1: #d4ebff;\n",
              "  --sklearn-color-fitted-level-2: #b3dbfd;\n",
              "  --sklearn-color-fitted-level-3: cornflowerblue;\n",
              "\n",
              "  /* Specific color for light theme */\n",
              "  --sklearn-color-text-on-default-background: var(--sg-text-color, var(--theme-code-foreground, var(--jp-content-font-color1, black)));\n",
              "  --sklearn-color-background: var(--sg-background-color, var(--theme-background, var(--jp-layout-color0, white)));\n",
              "  --sklearn-color-border-box: var(--sg-text-color, var(--theme-code-foreground, var(--jp-content-font-color1, black)));\n",
              "  --sklearn-color-icon: #696969;\n",
              "\n",
              "  @media (prefers-color-scheme: dark) {\n",
              "    /* Redefinition of color scheme for dark theme */\n",
              "    --sklearn-color-text-on-default-background: var(--sg-text-color, var(--theme-code-foreground, var(--jp-content-font-color1, white)));\n",
              "    --sklearn-color-background: var(--sg-background-color, var(--theme-background, var(--jp-layout-color0, #111)));\n",
              "    --sklearn-color-border-box: var(--sg-text-color, var(--theme-code-foreground, var(--jp-content-font-color1, white)));\n",
              "    --sklearn-color-icon: #878787;\n",
              "  }\n",
              "}\n",
              "\n",
              "#sk-container-id-3 {\n",
              "  color: var(--sklearn-color-text);\n",
              "}\n",
              "\n",
              "#sk-container-id-3 pre {\n",
              "  padding: 0;\n",
              "}\n",
              "\n",
              "#sk-container-id-3 input.sk-hidden--visually {\n",
              "  border: 0;\n",
              "  clip: rect(1px 1px 1px 1px);\n",
              "  clip: rect(1px, 1px, 1px, 1px);\n",
              "  height: 1px;\n",
              "  margin: -1px;\n",
              "  overflow: hidden;\n",
              "  padding: 0;\n",
              "  position: absolute;\n",
              "  width: 1px;\n",
              "}\n",
              "\n",
              "#sk-container-id-3 div.sk-dashed-wrapped {\n",
              "  border: 1px dashed var(--sklearn-color-line);\n",
              "  margin: 0 0.4em 0.5em 0.4em;\n",
              "  box-sizing: border-box;\n",
              "  padding-bottom: 0.4em;\n",
              "  background-color: var(--sklearn-color-background);\n",
              "}\n",
              "\n",
              "#sk-container-id-3 div.sk-container {\n",
              "  /* jupyter's `normalize.less` sets `[hidden] { display: none; }`\n",
              "     but bootstrap.min.css set `[hidden] { display: none !important; }`\n",
              "     so we also need the `!important` here to be able to override the\n",
              "     default hidden behavior on the sphinx rendered scikit-learn.org.\n",
              "     See: https://github.com/scikit-learn/scikit-learn/issues/21755 */\n",
              "  display: inline-block !important;\n",
              "  position: relative;\n",
              "}\n",
              "\n",
              "#sk-container-id-3 div.sk-text-repr-fallback {\n",
              "  display: none;\n",
              "}\n",
              "\n",
              "div.sk-parallel-item,\n",
              "div.sk-serial,\n",
              "div.sk-item {\n",
              "  /* draw centered vertical line to link estimators */\n",
              "  background-image: linear-gradient(var(--sklearn-color-text-on-default-background), var(--sklearn-color-text-on-default-background));\n",
              "  background-size: 2px 100%;\n",
              "  background-repeat: no-repeat;\n",
              "  background-position: center center;\n",
              "}\n",
              "\n",
              "/* Parallel-specific style estimator block */\n",
              "\n",
              "#sk-container-id-3 div.sk-parallel-item::after {\n",
              "  content: \"\";\n",
              "  width: 100%;\n",
              "  border-bottom: 2px solid var(--sklearn-color-text-on-default-background);\n",
              "  flex-grow: 1;\n",
              "}\n",
              "\n",
              "#sk-container-id-3 div.sk-parallel {\n",
              "  display: flex;\n",
              "  align-items: stretch;\n",
              "  justify-content: center;\n",
              "  background-color: var(--sklearn-color-background);\n",
              "  position: relative;\n",
              "}\n",
              "\n",
              "#sk-container-id-3 div.sk-parallel-item {\n",
              "  display: flex;\n",
              "  flex-direction: column;\n",
              "}\n",
              "\n",
              "#sk-container-id-3 div.sk-parallel-item:first-child::after {\n",
              "  align-self: flex-end;\n",
              "  width: 50%;\n",
              "}\n",
              "\n",
              "#sk-container-id-3 div.sk-parallel-item:last-child::after {\n",
              "  align-self: flex-start;\n",
              "  width: 50%;\n",
              "}\n",
              "\n",
              "#sk-container-id-3 div.sk-parallel-item:only-child::after {\n",
              "  width: 0;\n",
              "}\n",
              "\n",
              "/* Serial-specific style estimator block */\n",
              "\n",
              "#sk-container-id-3 div.sk-serial {\n",
              "  display: flex;\n",
              "  flex-direction: column;\n",
              "  align-items: center;\n",
              "  background-color: var(--sklearn-color-background);\n",
              "  padding-right: 1em;\n",
              "  padding-left: 1em;\n",
              "}\n",
              "\n",
              "\n",
              "/* Toggleable style: style used for estimator/Pipeline/ColumnTransformer box that is\n",
              "clickable and can be expanded/collapsed.\n",
              "- Pipeline and ColumnTransformer use this feature and define the default style\n",
              "- Estimators will overwrite some part of the style using the `sk-estimator` class\n",
              "*/\n",
              "\n",
              "/* Pipeline and ColumnTransformer style (default) */\n",
              "\n",
              "#sk-container-id-3 div.sk-toggleable {\n",
              "  /* Default theme specific background. It is overwritten whether we have a\n",
              "  specific estimator or a Pipeline/ColumnTransformer */\n",
              "  background-color: var(--sklearn-color-background);\n",
              "}\n",
              "\n",
              "/* Toggleable label */\n",
              "#sk-container-id-3 label.sk-toggleable__label {\n",
              "  cursor: pointer;\n",
              "  display: flex;\n",
              "  width: 100%;\n",
              "  margin-bottom: 0;\n",
              "  padding: 0.5em;\n",
              "  box-sizing: border-box;\n",
              "  text-align: center;\n",
              "  align-items: start;\n",
              "  justify-content: space-between;\n",
              "  gap: 0.5em;\n",
              "}\n",
              "\n",
              "#sk-container-id-3 label.sk-toggleable__label .caption {\n",
              "  font-size: 0.6rem;\n",
              "  font-weight: lighter;\n",
              "  color: var(--sklearn-color-text-muted);\n",
              "}\n",
              "\n",
              "#sk-container-id-3 label.sk-toggleable__label-arrow:before {\n",
              "  /* Arrow on the left of the label */\n",
              "  content: \"▸\";\n",
              "  float: left;\n",
              "  margin-right: 0.25em;\n",
              "  color: var(--sklearn-color-icon);\n",
              "}\n",
              "\n",
              "#sk-container-id-3 label.sk-toggleable__label-arrow:hover:before {\n",
              "  color: var(--sklearn-color-text);\n",
              "}\n",
              "\n",
              "/* Toggleable content - dropdown */\n",
              "\n",
              "#sk-container-id-3 div.sk-toggleable__content {\n",
              "  max-height: 0;\n",
              "  max-width: 0;\n",
              "  overflow: hidden;\n",
              "  text-align: left;\n",
              "  /* unfitted */\n",
              "  background-color: var(--sklearn-color-unfitted-level-0);\n",
              "}\n",
              "\n",
              "#sk-container-id-3 div.sk-toggleable__content.fitted {\n",
              "  /* fitted */\n",
              "  background-color: var(--sklearn-color-fitted-level-0);\n",
              "}\n",
              "\n",
              "#sk-container-id-3 div.sk-toggleable__content pre {\n",
              "  margin: 0.2em;\n",
              "  border-radius: 0.25em;\n",
              "  color: var(--sklearn-color-text);\n",
              "  /* unfitted */\n",
              "  background-color: var(--sklearn-color-unfitted-level-0);\n",
              "}\n",
              "\n",
              "#sk-container-id-3 div.sk-toggleable__content.fitted pre {\n",
              "  /* unfitted */\n",
              "  background-color: var(--sklearn-color-fitted-level-0);\n",
              "}\n",
              "\n",
              "#sk-container-id-3 input.sk-toggleable__control:checked~div.sk-toggleable__content {\n",
              "  /* Expand drop-down */\n",
              "  max-height: 200px;\n",
              "  max-width: 100%;\n",
              "  overflow: auto;\n",
              "}\n",
              "\n",
              "#sk-container-id-3 input.sk-toggleable__control:checked~label.sk-toggleable__label-arrow:before {\n",
              "  content: \"▾\";\n",
              "}\n",
              "\n",
              "/* Pipeline/ColumnTransformer-specific style */\n",
              "\n",
              "#sk-container-id-3 div.sk-label input.sk-toggleable__control:checked~label.sk-toggleable__label {\n",
              "  color: var(--sklearn-color-text);\n",
              "  background-color: var(--sklearn-color-unfitted-level-2);\n",
              "}\n",
              "\n",
              "#sk-container-id-3 div.sk-label.fitted input.sk-toggleable__control:checked~label.sk-toggleable__label {\n",
              "  background-color: var(--sklearn-color-fitted-level-2);\n",
              "}\n",
              "\n",
              "/* Estimator-specific style */\n",
              "\n",
              "/* Colorize estimator box */\n",
              "#sk-container-id-3 div.sk-estimator input.sk-toggleable__control:checked~label.sk-toggleable__label {\n",
              "  /* unfitted */\n",
              "  background-color: var(--sklearn-color-unfitted-level-2);\n",
              "}\n",
              "\n",
              "#sk-container-id-3 div.sk-estimator.fitted input.sk-toggleable__control:checked~label.sk-toggleable__label {\n",
              "  /* fitted */\n",
              "  background-color: var(--sklearn-color-fitted-level-2);\n",
              "}\n",
              "\n",
              "#sk-container-id-3 div.sk-label label.sk-toggleable__label,\n",
              "#sk-container-id-3 div.sk-label label {\n",
              "  /* The background is the default theme color */\n",
              "  color: var(--sklearn-color-text-on-default-background);\n",
              "}\n",
              "\n",
              "/* On hover, darken the color of the background */\n",
              "#sk-container-id-3 div.sk-label:hover label.sk-toggleable__label {\n",
              "  color: var(--sklearn-color-text);\n",
              "  background-color: var(--sklearn-color-unfitted-level-2);\n",
              "}\n",
              "\n",
              "/* Label box, darken color on hover, fitted */\n",
              "#sk-container-id-3 div.sk-label.fitted:hover label.sk-toggleable__label.fitted {\n",
              "  color: var(--sklearn-color-text);\n",
              "  background-color: var(--sklearn-color-fitted-level-2);\n",
              "}\n",
              "\n",
              "/* Estimator label */\n",
              "\n",
              "#sk-container-id-3 div.sk-label label {\n",
              "  font-family: monospace;\n",
              "  font-weight: bold;\n",
              "  display: inline-block;\n",
              "  line-height: 1.2em;\n",
              "}\n",
              "\n",
              "#sk-container-id-3 div.sk-label-container {\n",
              "  text-align: center;\n",
              "}\n",
              "\n",
              "/* Estimator-specific */\n",
              "#sk-container-id-3 div.sk-estimator {\n",
              "  font-family: monospace;\n",
              "  border: 1px dotted var(--sklearn-color-border-box);\n",
              "  border-radius: 0.25em;\n",
              "  box-sizing: border-box;\n",
              "  margin-bottom: 0.5em;\n",
              "  /* unfitted */\n",
              "  background-color: var(--sklearn-color-unfitted-level-0);\n",
              "}\n",
              "\n",
              "#sk-container-id-3 div.sk-estimator.fitted {\n",
              "  /* fitted */\n",
              "  background-color: var(--sklearn-color-fitted-level-0);\n",
              "}\n",
              "\n",
              "/* on hover */\n",
              "#sk-container-id-3 div.sk-estimator:hover {\n",
              "  /* unfitted */\n",
              "  background-color: var(--sklearn-color-unfitted-level-2);\n",
              "}\n",
              "\n",
              "#sk-container-id-3 div.sk-estimator.fitted:hover {\n",
              "  /* fitted */\n",
              "  background-color: var(--sklearn-color-fitted-level-2);\n",
              "}\n",
              "\n",
              "/* Specification for estimator info (e.g. \"i\" and \"?\") */\n",
              "\n",
              "/* Common style for \"i\" and \"?\" */\n",
              "\n",
              ".sk-estimator-doc-link,\n",
              "a:link.sk-estimator-doc-link,\n",
              "a:visited.sk-estimator-doc-link {\n",
              "  float: right;\n",
              "  font-size: smaller;\n",
              "  line-height: 1em;\n",
              "  font-family: monospace;\n",
              "  background-color: var(--sklearn-color-background);\n",
              "  border-radius: 1em;\n",
              "  height: 1em;\n",
              "  width: 1em;\n",
              "  text-decoration: none !important;\n",
              "  margin-left: 0.5em;\n",
              "  text-align: center;\n",
              "  /* unfitted */\n",
              "  border: var(--sklearn-color-unfitted-level-1) 1pt solid;\n",
              "  color: var(--sklearn-color-unfitted-level-1);\n",
              "}\n",
              "\n",
              ".sk-estimator-doc-link.fitted,\n",
              "a:link.sk-estimator-doc-link.fitted,\n",
              "a:visited.sk-estimator-doc-link.fitted {\n",
              "  /* fitted */\n",
              "  border: var(--sklearn-color-fitted-level-1) 1pt solid;\n",
              "  color: var(--sklearn-color-fitted-level-1);\n",
              "}\n",
              "\n",
              "/* On hover */\n",
              "div.sk-estimator:hover .sk-estimator-doc-link:hover,\n",
              ".sk-estimator-doc-link:hover,\n",
              "div.sk-label-container:hover .sk-estimator-doc-link:hover,\n",
              ".sk-estimator-doc-link:hover {\n",
              "  /* unfitted */\n",
              "  background-color: var(--sklearn-color-unfitted-level-3);\n",
              "  color: var(--sklearn-color-background);\n",
              "  text-decoration: none;\n",
              "}\n",
              "\n",
              "div.sk-estimator.fitted:hover .sk-estimator-doc-link.fitted:hover,\n",
              ".sk-estimator-doc-link.fitted:hover,\n",
              "div.sk-label-container:hover .sk-estimator-doc-link.fitted:hover,\n",
              ".sk-estimator-doc-link.fitted:hover {\n",
              "  /* fitted */\n",
              "  background-color: var(--sklearn-color-fitted-level-3);\n",
              "  color: var(--sklearn-color-background);\n",
              "  text-decoration: none;\n",
              "}\n",
              "\n",
              "/* Span, style for the box shown on hovering the info icon */\n",
              ".sk-estimator-doc-link span {\n",
              "  display: none;\n",
              "  z-index: 9999;\n",
              "  position: relative;\n",
              "  font-weight: normal;\n",
              "  right: .2ex;\n",
              "  padding: .5ex;\n",
              "  margin: .5ex;\n",
              "  width: min-content;\n",
              "  min-width: 20ex;\n",
              "  max-width: 50ex;\n",
              "  color: var(--sklearn-color-text);\n",
              "  box-shadow: 2pt 2pt 4pt #999;\n",
              "  /* unfitted */\n",
              "  background: var(--sklearn-color-unfitted-level-0);\n",
              "  border: .5pt solid var(--sklearn-color-unfitted-level-3);\n",
              "}\n",
              "\n",
              ".sk-estimator-doc-link.fitted span {\n",
              "  /* fitted */\n",
              "  background: var(--sklearn-color-fitted-level-0);\n",
              "  border: var(--sklearn-color-fitted-level-3);\n",
              "}\n",
              "\n",
              ".sk-estimator-doc-link:hover span {\n",
              "  display: block;\n",
              "}\n",
              "\n",
              "/* \"?\"-specific style due to the `<a>` HTML tag */\n",
              "\n",
              "#sk-container-id-3 a.estimator_doc_link {\n",
              "  float: right;\n",
              "  font-size: 1rem;\n",
              "  line-height: 1em;\n",
              "  font-family: monospace;\n",
              "  background-color: var(--sklearn-color-background);\n",
              "  border-radius: 1rem;\n",
              "  height: 1rem;\n",
              "  width: 1rem;\n",
              "  text-decoration: none;\n",
              "  /* unfitted */\n",
              "  color: var(--sklearn-color-unfitted-level-1);\n",
              "  border: var(--sklearn-color-unfitted-level-1) 1pt solid;\n",
              "}\n",
              "\n",
              "#sk-container-id-3 a.estimator_doc_link.fitted {\n",
              "  /* fitted */\n",
              "  border: var(--sklearn-color-fitted-level-1) 1pt solid;\n",
              "  color: var(--sklearn-color-fitted-level-1);\n",
              "}\n",
              "\n",
              "/* On hover */\n",
              "#sk-container-id-3 a.estimator_doc_link:hover {\n",
              "  /* unfitted */\n",
              "  background-color: var(--sklearn-color-unfitted-level-3);\n",
              "  color: var(--sklearn-color-background);\n",
              "  text-decoration: none;\n",
              "}\n",
              "\n",
              "#sk-container-id-3 a.estimator_doc_link.fitted:hover {\n",
              "  /* fitted */\n",
              "  background-color: var(--sklearn-color-fitted-level-3);\n",
              "}\n",
              "</style><div id=\"sk-container-id-3\" class=\"sk-top-container\"><div class=\"sk-text-repr-fallback\"><pre>MLPClassifier(alpha=1e-05, hidden_layer_sizes=(10, 5), max_iter=900,\n",
              "              solver=&#x27;lbfgs&#x27;)</pre><b>In a Jupyter environment, please rerun this cell to show the HTML representation or trust the notebook. <br />On GitHub, the HTML representation is unable to render, please try loading this page with nbviewer.org.</b></div><div class=\"sk-container\" hidden><div class=\"sk-item\"><div class=\"sk-estimator fitted sk-toggleable\"><input class=\"sk-toggleable__control sk-hidden--visually\" id=\"sk-estimator-id-3\" type=\"checkbox\" checked><label for=\"sk-estimator-id-3\" class=\"sk-toggleable__label fitted sk-toggleable__label-arrow\"><div><div>MLPClassifier</div></div><div><a class=\"sk-estimator-doc-link fitted\" rel=\"noreferrer\" target=\"_blank\" href=\"https://scikit-learn.org/1.6/modules/generated/sklearn.neural_network.MLPClassifier.html\">?<span>Documentation for MLPClassifier</span></a><span class=\"sk-estimator-doc-link fitted\">i<span>Fitted</span></span></div></label><div class=\"sk-toggleable__content fitted\"><pre>MLPClassifier(alpha=1e-05, hidden_layer_sizes=(10, 5), max_iter=900,\n",
              "              solver=&#x27;lbfgs&#x27;)</pre></div> </div></div></div></div>"
            ]
          },
          "metadata": {},
          "execution_count": 35
        }
      ],
      "source": [
        "model = MLPClassifier(solver='lbfgs',alpha=1e-5,hidden_layer_sizes=(10,5),max_iter=900)\n",
        "model.fit(X_train, y_train)"
      ]
    },
    {
      "cell_type": "code",
      "execution_count": null,
      "metadata": {
        "colab": {
          "base_uri": "https://localhost:8080/"
        },
        "id": "hC4U9pqzWG5S",
        "outputId": "e2ccbf78-96da-4d29-9790-485981429630"
      },
      "outputs": [
        {
          "output_type": "stream",
          "name": "stdout",
          "text": [
            "f1 score : 0.84\n"
          ]
        }
      ],
      "source": [
        "prediction=model.predict(X_test)\n",
        "print('f1 score : %.2f' %f1_score(y_test,prediction,average='macro'))"
      ]
    },
    {
      "cell_type": "markdown",
      "source": [
        "It didn't improve that much."
      ],
      "metadata": {
        "id": "Ktyvy_Zaf_b6"
      }
    },
    {
      "cell_type": "markdown",
      "metadata": {
        "id": "CR93ECTYZQLH"
      },
      "source": [
        "## Multilayer Feedforawrd Network using Keras\n",
        "\n",
        "Next we do sequential feedforwarding like we did for the regression task."
      ]
    },
    {
      "cell_type": "code",
      "execution_count": null,
      "metadata": {
        "colab": {
          "base_uri": "https://localhost:8080/"
        },
        "id": "jSmRsndYZtfS",
        "outputId": "fde4832f-27ec-4f43-fd13-491dde8da28d"
      },
      "outputs": [
        {
          "name": "stderr",
          "output_type": "stream",
          "text": [
            "/usr/local/lib/python3.11/dist-packages/keras/src/layers/core/dense.py:87: UserWarning: Do not pass an `input_shape`/`input_dim` argument to a layer. When using Sequential models, prefer using an `Input(shape)` object as the first layer in the model instead.\n",
            "  super().__init__(activity_regularizer=activity_regularizer, **kwargs)\n"
          ]
        }
      ],
      "source": [
        "model = Sequential()\n",
        "\n",
        "model.add(Dense(30,input_dim=X_train.shape[1],activation='relu'))\n",
        "\n",
        "model.add(Dense(20,activation='relu'))\n",
        "\n",
        "model.add(Dense(10,activation='relu'))\n",
        "\n",
        "model.add(Dense(1,activation='sigmoid'))"
      ]
    },
    {
      "cell_type": "markdown",
      "source": [
        "defining early stoppping the same as the regression part."
      ],
      "metadata": {
        "id": "2BlvguFVgNDc"
      }
    },
    {
      "cell_type": "code",
      "execution_count": null,
      "metadata": {
        "id": "lhTkrvj4ZvGZ"
      },
      "outputs": [],
      "source": [
        "from tensorflow.keras import callbacks\n",
        "early_stopping = callbacks.EarlyStopping(\n",
        "    min_delta=0.001,\n",
        "    patience=20,\n",
        "    restore_best_weights=True,\n",
        ")"
      ]
    },
    {
      "cell_type": "markdown",
      "source": [
        "For classification, we use binary crossentropy for the loss function and also monitor precision and recall."
      ],
      "metadata": {
        "id": "VjFwTdE7gSWP"
      }
    },
    {
      "cell_type": "code",
      "execution_count": null,
      "metadata": {
        "id": "4zux-DQEZ0-c"
      },
      "outputs": [],
      "source": [
        "model.compile(\n",
        "    loss='binary_crossentropy',\n",
        "    optimizer=tf.keras.optimizers.Adam(),\n",
        "    metrics=[tf.keras.metrics.Precision(),tf.keras.metrics.Recall()],\n",
        "    )"
      ]
    },
    {
      "cell_type": "markdown",
      "source": [
        "Let's work with 20 epochs and see the result for now."
      ],
      "metadata": {
        "id": "UynbLTkNgdvR"
      }
    },
    {
      "cell_type": "code",
      "execution_count": null,
      "metadata": {
        "colab": {
          "base_uri": "https://localhost:8080/"
        },
        "id": "tr4ov1yIZ9Ge",
        "outputId": "5524de1a-e70b-477a-ca2c-931c945094a4"
      },
      "outputs": [
        {
          "name": "stdout",
          "output_type": "stream",
          "text": [
            "Epoch 1/20\n",
            "\u001b[1m697/697\u001b[0m \u001b[32m━━━━━━━━━━━━━━━━━━━━\u001b[0m\u001b[37m\u001b[0m \u001b[1m4s\u001b[0m 3ms/step - loss: 0.5905 - precision: 0.6622 - recall: 0.2844 - val_loss: 0.4901 - val_precision: 0.7370 - val_recall: 0.5750\n",
            "Epoch 2/20\n",
            "\u001b[1m697/697\u001b[0m \u001b[32m━━━━━━━━━━━━━━━━━━━━\u001b[0m\u001b[37m\u001b[0m \u001b[1m2s\u001b[0m 3ms/step - loss: 0.4663 - precision: 0.7442 - recall: 0.6582 - val_loss: 0.4385 - val_precision: 0.7852 - val_recall: 0.6155\n",
            "Epoch 3/20\n",
            "\u001b[1m697/697\u001b[0m \u001b[32m━━━━━━━━━━━━━━━━━━━━\u001b[0m\u001b[37m\u001b[0m \u001b[1m2s\u001b[0m 2ms/step - loss: 0.4216 - precision: 0.7696 - recall: 0.6799 - val_loss: 0.3814 - val_precision: 0.7680 - val_recall: 0.7461\n",
            "Epoch 4/20\n",
            "\u001b[1m697/697\u001b[0m \u001b[32m━━━━━━━━━━━━━━━━━━━━\u001b[0m\u001b[37m\u001b[0m \u001b[1m4s\u001b[0m 4ms/step - loss: 0.3726 - precision: 0.7736 - recall: 0.7181 - val_loss: 0.3535 - val_precision: 0.8228 - val_recall: 0.6495\n",
            "Epoch 5/20\n",
            "\u001b[1m697/697\u001b[0m \u001b[32m━━━━━━━━━━━━━━━━━━━━\u001b[0m\u001b[37m\u001b[0m \u001b[1m2s\u001b[0m 3ms/step - loss: 0.3385 - precision: 0.7927 - recall: 0.7542 - val_loss: 0.3245 - val_precision: 0.8213 - val_recall: 0.7102\n",
            "Epoch 6/20\n",
            "\u001b[1m697/697\u001b[0m \u001b[32m━━━━━━━━━━━━━━━━━━━━\u001b[0m\u001b[37m\u001b[0m \u001b[1m2s\u001b[0m 3ms/step - loss: 0.3126 - precision: 0.8023 - recall: 0.7841 - val_loss: 0.3230 - val_precision: 0.7444 - val_recall: 0.8896\n",
            "Epoch 7/20\n",
            "\u001b[1m697/697\u001b[0m \u001b[32m━━━━━━━━━━━━━━━━━━━━\u001b[0m\u001b[37m\u001b[0m \u001b[1m2s\u001b[0m 2ms/step - loss: 0.2941 - precision: 0.7986 - recall: 0.8114 - val_loss: 0.2965 - val_precision: 0.8150 - val_recall: 0.7498\n",
            "Epoch 8/20\n",
            "\u001b[1m697/697\u001b[0m \u001b[32m━━━━━━━━━━━━━━━━━━━━\u001b[0m\u001b[37m\u001b[0m \u001b[1m2s\u001b[0m 3ms/step - loss: 0.2918 - precision: 0.8026 - recall: 0.8046 - val_loss: 0.2900 - val_precision: 0.7833 - val_recall: 0.8445\n",
            "Epoch 9/20\n",
            "\u001b[1m697/697\u001b[0m \u001b[32m━━━━━━━━━━━━━━━━━━━━\u001b[0m\u001b[37m\u001b[0m \u001b[1m3s\u001b[0m 3ms/step - loss: 0.2731 - precision: 0.8174 - recall: 0.8367 - val_loss: 0.2887 - val_precision: 0.8606 - val_recall: 0.7213\n",
            "Epoch 10/20\n",
            "\u001b[1m697/697\u001b[0m \u001b[32m━━━━━━━━━━━━━━━━━━━━\u001b[0m\u001b[37m\u001b[0m \u001b[1m3s\u001b[0m 4ms/step - loss: 0.2764 - precision: 0.8172 - recall: 0.8317 - val_loss: 0.2638 - val_precision: 0.8269 - val_recall: 0.8261\n",
            "Epoch 11/20\n",
            "\u001b[1m697/697\u001b[0m \u001b[32m━━━━━━━━━━━━━━━━━━━━\u001b[0m\u001b[37m\u001b[0m \u001b[1m2s\u001b[0m 3ms/step - loss: 0.2688 - precision: 0.8235 - recall: 0.8558 - val_loss: 0.2752 - val_precision: 0.8134 - val_recall: 0.8261\n",
            "Epoch 12/20\n",
            "\u001b[1m697/697\u001b[0m \u001b[32m━━━━━━━━━━━━━━━━━━━━\u001b[0m\u001b[37m\u001b[0m \u001b[1m2s\u001b[0m 3ms/step - loss: 0.2640 - precision: 0.8145 - recall: 0.8495 - val_loss: 0.2519 - val_precision: 0.8087 - val_recall: 0.8712\n",
            "Epoch 13/20\n",
            "\u001b[1m697/697\u001b[0m \u001b[32m━━━━━━━━━━━━━━━━━━━━\u001b[0m\u001b[37m\u001b[0m \u001b[1m2s\u001b[0m 3ms/step - loss: 0.2546 - precision: 0.8225 - recall: 0.8546 - val_loss: 0.2545 - val_precision: 0.8566 - val_recall: 0.7856\n",
            "Epoch 14/20\n",
            "\u001b[1m697/697\u001b[0m \u001b[32m━━━━━━━━━━━━━━━━━━━━\u001b[0m\u001b[37m\u001b[0m \u001b[1m2s\u001b[0m 3ms/step - loss: 0.2505 - precision: 0.8170 - recall: 0.8548 - val_loss: 0.2801 - val_precision: 0.8735 - val_recall: 0.7240\n",
            "Epoch 15/20\n",
            "\u001b[1m697/697\u001b[0m \u001b[32m━━━━━━━━━━━━━━━━━━━━\u001b[0m\u001b[37m\u001b[0m \u001b[1m2s\u001b[0m 3ms/step - loss: 0.2458 - precision: 0.8315 - recall: 0.8689 - val_loss: 0.2496 - val_precision: 0.8322 - val_recall: 0.8666\n",
            "Epoch 16/20\n",
            "\u001b[1m697/697\u001b[0m \u001b[32m━━━━━━━━━━━━━━━━━━━━\u001b[0m\u001b[37m\u001b[0m \u001b[1m3s\u001b[0m 4ms/step - loss: 0.2423 - precision: 0.8315 - recall: 0.8705 - val_loss: 0.2366 - val_precision: 0.8347 - val_recall: 0.8730\n",
            "Epoch 17/20\n",
            "\u001b[1m697/697\u001b[0m \u001b[32m━━━━━━━━━━━━━━━━━━━━\u001b[0m\u001b[37m\u001b[0m \u001b[1m4s\u001b[0m 3ms/step - loss: 0.2345 - precision: 0.8368 - recall: 0.8853 - val_loss: 0.2380 - val_precision: 0.8680 - val_recall: 0.8105\n",
            "Epoch 18/20\n",
            "\u001b[1m697/697\u001b[0m \u001b[32m━━━━━━━━━━━━━━━━━━━━\u001b[0m\u001b[37m\u001b[0m \u001b[1m2s\u001b[0m 3ms/step - loss: 0.2288 - precision: 0.8496 - recall: 0.8812 - val_loss: 0.2478 - val_precision: 0.7800 - val_recall: 0.9522\n",
            "Epoch 19/20\n",
            "\u001b[1m697/697\u001b[0m \u001b[32m━━━━━━━━━━━━━━━━━━━━\u001b[0m\u001b[37m\u001b[0m \u001b[1m2s\u001b[0m 3ms/step - loss: 0.2306 - precision: 0.8491 - recall: 0.8850 - val_loss: 0.2328 - val_precision: 0.8155 - val_recall: 0.9310\n",
            "Epoch 20/20\n",
            "\u001b[1m697/697\u001b[0m \u001b[32m━━━━━━━━━━━━━━━━━━━━\u001b[0m\u001b[37m\u001b[0m \u001b[1m3s\u001b[0m 3ms/step - loss: 0.2255 - precision: 0.8552 - recall: 0.8880 - val_loss: 0.2245 - val_precision: 0.8879 - val_recall: 0.8234\n"
          ]
        }
      ],
      "source": [
        "history = model.fit(X_train, y_train,\n",
        "                    batch_size = 16,\n",
        "                    epochs = 20,\n",
        "                    validation_split=0.2,\n",
        "                    callbacks=[early_stopping]\n",
        "                    )"
      ]
    },
    {
      "cell_type": "code",
      "execution_count": null,
      "metadata": {
        "colab": {
          "base_uri": "https://localhost:8080/"
        },
        "id": "qRtUc1TVaUD5",
        "outputId": "547e542c-7b2d-420f-9039-54c2a8bfbc13"
      },
      "outputs": [
        {
          "name": "stdout",
          "output_type": "stream",
          "text": [
            "\u001b[1m109/109\u001b[0m \u001b[32m━━━━━━━━━━━━━━━━━━━━\u001b[0m\u001b[37m\u001b[0m \u001b[1m0s\u001b[0m 2ms/step\n"
          ]
        }
      ],
      "source": [
        "prediction = model.predict(X_test)"
      ]
    },
    {
      "cell_type": "markdown",
      "metadata": {
        "id": "qqonD3bsc_NQ"
      },
      "source": [
        "We have to put a threshold for the prediction because the sigmoid function outputs the probability which is a continous value.\n",
        "\n",
        "Here, if the probabilty was more than 0.5 the datapoint is assigned to class 1 otherwise, it is assigned to class 0."
      ]
    },
    {
      "cell_type": "code",
      "execution_count": null,
      "metadata": {
        "colab": {
          "base_uri": "https://localhost:8080/"
        },
        "id": "SyixBDhlarhh",
        "outputId": "922cadc6-8966-4283-8653-7c30ae88969f"
      },
      "outputs": [
        {
          "name": "stdout",
          "output_type": "stream",
          "text": [
            "f1 score : 0.89\n"
          ]
        }
      ],
      "source": [
        "print('f1 score : %.2f' %f1_score(y_test,prediction>0.5,average='macro'))"
      ]
    },
    {
      "cell_type": "markdown",
      "source": [
        "The result is pretty great."
      ],
      "metadata": {
        "id": "r1EnqZjBgi8s"
      }
    },
    {
      "cell_type": "markdown",
      "metadata": {
        "id": "7HqmihStp2Xa"
      },
      "source": [
        "## Non-Sequential Feedforward Network with Keras\n",
        "\n",
        "We do non-sequential feedforwarding network like we did for regression part."
      ]
    },
    {
      "cell_type": "code",
      "execution_count": 317,
      "metadata": {
        "id": "cU4i338MqAdG"
      },
      "outputs": [],
      "source": [
        "from tensorflow.keras.layers import Input, Dense, Concatenate\n",
        "from tensorflow.keras.models import Model"
      ]
    },
    {
      "cell_type": "code",
      "execution_count": 318,
      "metadata": {
        "id": "Wa1JevwIqjwF"
      },
      "outputs": [],
      "source": [
        "input_layer = Input(shape=(X_train.shape[1],))\n",
        "\n",
        "hidden_layer_1 = Dense(20,activation='relu')(input_layer)\n",
        "\n",
        "hidden_layer_2 = Dense(10,activation='relu')(hidden_layer_1)\n",
        "\n",
        "hidden_layer_3 = Dense(5,activation='relu')(hidden_layer_1)\n",
        "\n",
        "add_layer = Concatenate()([hidden_layer_3,hidden_layer_2]) #combines the output of hidden layers 1 and 2\n",
        "\n",
        "output_layer = Dense(1,activation = 'linear')(add_layer)\n",
        "\n",
        "model = Model(inputs=input_layer, outputs=output_layer)"
      ]
    },
    {
      "cell_type": "markdown",
      "source": [
        "We use binary cross entropy for the loss function."
      ],
      "metadata": {
        "id": "yk6dYrJBgwcC"
      }
    },
    {
      "cell_type": "code",
      "execution_count": 319,
      "metadata": {
        "id": "8ygV6G1js0H4"
      },
      "outputs": [],
      "source": [
        "model.compile(\n",
        "    loss='binary_crossentropy',\n",
        "    optimizer=tf.keras.optimizers.Adam(),\n",
        "    metrics=[tf.keras.metrics.Precision(),tf.keras.metrics.Recall()],\n",
        "    )"
      ]
    },
    {
      "cell_type": "code",
      "execution_count": 320,
      "metadata": {
        "colab": {
          "base_uri": "https://localhost:8080/"
        },
        "id": "wGdGH1dDs4n5",
        "outputId": "df5c7665-7e16-453b-ff32-d0577497777a"
      },
      "outputs": [
        {
          "output_type": "stream",
          "name": "stdout",
          "text": [
            "Epoch 1/20\n",
            "\u001b[1m349/349\u001b[0m \u001b[32m━━━━━━━━━━━━━━━━━━━━\u001b[0m\u001b[37m\u001b[0m \u001b[1m3s\u001b[0m 4ms/step - loss: 0.8334 - precision_4: 0.4541 - recall_4: 0.2990 - val_loss: 0.5350 - val_precision_4: 0.7288 - val_recall_4: 0.6132\n",
            "Epoch 2/20\n",
            "\u001b[1m349/349\u001b[0m \u001b[32m━━━━━━━━━━━━━━━━━━━━\u001b[0m\u001b[37m\u001b[0m \u001b[1m1s\u001b[0m 3ms/step - loss: 0.5114 - precision_4: 0.7201 - recall_4: 0.6016 - val_loss: 0.5241 - val_precision_4: 0.8254 - val_recall_4: 0.5040\n",
            "Epoch 3/20\n",
            "\u001b[1m349/349\u001b[0m \u001b[32m━━━━━━━━━━━━━━━━━━━━\u001b[0m\u001b[37m\u001b[0m \u001b[1m1s\u001b[0m 3ms/step - loss: 0.5020 - precision_4: 0.7238 - recall_4: 0.5781 - val_loss: 0.4901 - val_precision_4: 0.7834 - val_recall_4: 0.5833\n",
            "Epoch 4/20\n",
            "\u001b[1m349/349\u001b[0m \u001b[32m━━━━━━━━━━━━━━━━━━━━\u001b[0m\u001b[37m\u001b[0m \u001b[1m1s\u001b[0m 3ms/step - loss: 0.4590 - precision_4: 0.7565 - recall_4: 0.5977 - val_loss: 0.4697 - val_precision_4: 0.8175 - val_recall_4: 0.5604\n",
            "Epoch 5/20\n",
            "\u001b[1m349/349\u001b[0m \u001b[32m━━━━━━━━━━━━━━━━━━━━\u001b[0m\u001b[37m\u001b[0m \u001b[1m1s\u001b[0m 3ms/step - loss: 0.4351 - precision_4: 0.7874 - recall_4: 0.5863 - val_loss: 0.4321 - val_precision_4: 0.8314 - val_recall_4: 0.5648\n",
            "Epoch 6/20\n",
            "\u001b[1m349/349\u001b[0m \u001b[32m━━━━━━━━━━━━━━━━━━━━\u001b[0m\u001b[37m\u001b[0m \u001b[1m2s\u001b[0m 4ms/step - loss: 0.4645 - precision_4: 0.7970 - recall_4: 0.5853 - val_loss: 0.4603 - val_precision_4: 0.7760 - val_recall_4: 0.6317\n",
            "Epoch 7/20\n",
            "\u001b[1m349/349\u001b[0m \u001b[32m━━━━━━━━━━━━━━━━━━━━\u001b[0m\u001b[37m\u001b[0m \u001b[1m3s\u001b[0m 5ms/step - loss: 0.4229 - precision_4: 0.7859 - recall_4: 0.5951 - val_loss: 0.4334 - val_precision_4: 0.8218 - val_recall_4: 0.6053\n",
            "Epoch 8/20\n",
            "\u001b[1m349/349\u001b[0m \u001b[32m━━━━━━━━━━━━━━━━━━━━\u001b[0m\u001b[37m\u001b[0m \u001b[1m1s\u001b[0m 3ms/step - loss: 0.3996 - precision_4: 0.7742 - recall_4: 0.6342 - val_loss: 0.4216 - val_precision_4: 0.8286 - val_recall_4: 0.6176\n",
            "Epoch 9/20\n",
            "\u001b[1m349/349\u001b[0m \u001b[32m━━━━━━━━━━━━━━━━━━━━\u001b[0m\u001b[37m\u001b[0m \u001b[1m1s\u001b[0m 3ms/step - loss: 0.3952 - precision_4: 0.7873 - recall_4: 0.6674 - val_loss: 0.4094 - val_precision_4: 0.8383 - val_recall_4: 0.5982\n",
            "Epoch 10/20\n",
            "\u001b[1m349/349\u001b[0m \u001b[32m━━━━━━━━━━━━━━━━━━━━\u001b[0m\u001b[37m\u001b[0m \u001b[1m1s\u001b[0m 3ms/step - loss: 0.3758 - precision_4: 0.7930 - recall_4: 0.6583 - val_loss: 0.4047 - val_precision_4: 0.7806 - val_recall_4: 0.7022\n",
            "Epoch 11/20\n",
            "\u001b[1m349/349\u001b[0m \u001b[32m━━━━━━━━━━━━━━━━━━━━\u001b[0m\u001b[37m\u001b[0m \u001b[1m1s\u001b[0m 3ms/step - loss: 0.3708 - precision_4: 0.7849 - recall_4: 0.6630 - val_loss: 0.4071 - val_precision_4: 0.7575 - val_recall_4: 0.7374\n",
            "Epoch 12/20\n",
            "\u001b[1m349/349\u001b[0m \u001b[32m━━━━━━━━━━━━━━━━━━━━\u001b[0m\u001b[37m\u001b[0m \u001b[1m1s\u001b[0m 3ms/step - loss: 0.4130 - precision_4: 0.7323 - recall_4: 0.6811 - val_loss: 0.4363 - val_precision_4: 0.8002 - val_recall_4: 0.6106\n",
            "Epoch 13/20\n",
            "\u001b[1m349/349\u001b[0m \u001b[32m━━━━━━━━━━━━━━━━━━━━\u001b[0m\u001b[37m\u001b[0m \u001b[1m1s\u001b[0m 3ms/step - loss: 0.4090 - precision_4: 0.7847 - recall_4: 0.6380 - val_loss: 0.3726 - val_precision_4: 0.8083 - val_recall_4: 0.6687\n",
            "Epoch 14/20\n",
            "\u001b[1m349/349\u001b[0m \u001b[32m━━━━━━━━━━━━━━━━━━━━\u001b[0m\u001b[37m\u001b[0m \u001b[1m1s\u001b[0m 3ms/step - loss: 0.3586 - precision_4: 0.7903 - recall_4: 0.6808 - val_loss: 0.3693 - val_precision_4: 0.8382 - val_recall_4: 0.6344\n",
            "Epoch 15/20\n",
            "\u001b[1m349/349\u001b[0m \u001b[32m━━━━━━━━━━━━━━━━━━━━\u001b[0m\u001b[37m\u001b[0m \u001b[1m1s\u001b[0m 3ms/step - loss: 0.3439 - precision_4: 0.8089 - recall_4: 0.6930 - val_loss: 0.3627 - val_precision_4: 0.8230 - val_recall_4: 0.6881\n",
            "Epoch 16/20\n",
            "\u001b[1m349/349\u001b[0m \u001b[32m━━━━━━━━━━━━━━━━━━━━\u001b[0m\u001b[37m\u001b[0m \u001b[1m2s\u001b[0m 5ms/step - loss: 0.3425 - precision_4: 0.7929 - recall_4: 0.7125 - val_loss: 0.3515 - val_precision_4: 0.8170 - val_recall_4: 0.7040\n",
            "Epoch 17/20\n",
            "\u001b[1m349/349\u001b[0m \u001b[32m━━━━━━━━━━━━━━━━━━━━\u001b[0m\u001b[37m\u001b[0m \u001b[1m2s\u001b[0m 4ms/step - loss: 0.3382 - precision_4: 0.7977 - recall_4: 0.7127 - val_loss: 0.3522 - val_precision_4: 0.8372 - val_recall_4: 0.6934\n",
            "Epoch 18/20\n",
            "\u001b[1m349/349\u001b[0m \u001b[32m━━━━━━━━━━━━━━━━━━━━\u001b[0m\u001b[37m\u001b[0m \u001b[1m2s\u001b[0m 3ms/step - loss: 0.3334 - precision_4: 0.8016 - recall_4: 0.7026 - val_loss: 0.4690 - val_precision_4: 0.8203 - val_recall_4: 0.4546\n",
            "Epoch 19/20\n",
            "\u001b[1m349/349\u001b[0m \u001b[32m━━━━━━━━━━━━━━━━━━━━\u001b[0m\u001b[37m\u001b[0m \u001b[1m1s\u001b[0m 3ms/step - loss: 0.3971 - precision_4: 0.8063 - recall_4: 0.6281 - val_loss: 0.3667 - val_precision_4: 0.8290 - val_recall_4: 0.6960\n",
            "Epoch 20/20\n",
            "\u001b[1m349/349\u001b[0m \u001b[32m━━━━━━━━━━━━━━━━━━━━\u001b[0m\u001b[37m\u001b[0m \u001b[1m1s\u001b[0m 3ms/step - loss: 0.3307 - precision_4: 0.7921 - recall_4: 0.7188 - val_loss: 0.3531 - val_precision_4: 0.8221 - val_recall_4: 0.7489\n"
          ]
        }
      ],
      "source": [
        "history = model.fit(X_train,\n",
        "                    y_train,\n",
        "                    batch_size=32,\n",
        "                    epochs=20,\n",
        "                    validation_split=0.2,\n",
        "                    callbacks=[early_stopping])"
      ]
    },
    {
      "cell_type": "code",
      "execution_count": 321,
      "metadata": {
        "colab": {
          "base_uri": "https://localhost:8080/"
        },
        "id": "KnQWjt7Rtafx",
        "outputId": "ccec1871-586d-4700-8857-9d236c78660d"
      },
      "outputs": [
        {
          "output_type": "stream",
          "name": "stdout",
          "text": [
            "\u001b[1m109/109\u001b[0m \u001b[32m━━━━━━━━━━━━━━━━━━━━\u001b[0m\u001b[37m\u001b[0m \u001b[1m0s\u001b[0m 2ms/step\n",
            "f1 score : 0.81\n"
          ]
        }
      ],
      "source": [
        "prediction = model.predict(X_test)\n",
        "print('f1 score : %.2f' %f1_score(y_test,prediction>0.5,average='macro'))"
      ]
    },
    {
      "cell_type": "markdown",
      "metadata": {
        "id": "qPnf0jpRt_5p"
      },
      "source": [
        "Let's change the activation function of the output layer to sigmoid."
      ]
    },
    {
      "cell_type": "code",
      "execution_count": 322,
      "metadata": {
        "id": "eTuCZjhEuGYd"
      },
      "outputs": [],
      "source": [
        "input_layer = Input(shape=(X_train.shape[1],))\n",
        "\n",
        "hidden_layer_1 = Dense(20,activation='relu')(input_layer)\n",
        "\n",
        "hidden_layer_2 = Dense(10,activation='relu')(hidden_layer_1)\n",
        "\n",
        "hidden_layer_3 = Dense(5,activation='relu')(hidden_layer_1)\n",
        "\n",
        "add_layer = Concatenate()([hidden_layer_3,hidden_layer_2]) #combines the output of hidden layers 1 and 2\n",
        "\n",
        "output_layer = Dense(1,activation = 'sigmoid')(add_layer)\n",
        "\n",
        "model = Model(inputs=input_layer, outputs=output_layer)"
      ]
    },
    {
      "cell_type": "code",
      "execution_count": 323,
      "metadata": {
        "id": "0Qp6JxUuuQVh"
      },
      "outputs": [],
      "source": [
        "model.compile(\n",
        "    loss='binary_crossentropy',\n",
        "    optimizer=tf.keras.optimizers.Adam(),\n",
        "    metrics=[tf.keras.metrics.Precision(),tf.keras.metrics.Recall()],\n",
        "    )"
      ]
    },
    {
      "cell_type": "code",
      "execution_count": 324,
      "metadata": {
        "colab": {
          "base_uri": "https://localhost:8080/"
        },
        "id": "4Zm-bXtnuUV6",
        "outputId": "bb014327-421e-402d-ead1-5e5092a26089"
      },
      "outputs": [
        {
          "output_type": "stream",
          "name": "stdout",
          "text": [
            "Epoch 1/20\n",
            "\u001b[1m349/349\u001b[0m \u001b[32m━━━━━━━━━━━━━━━━━━━━\u001b[0m\u001b[37m\u001b[0m \u001b[1m3s\u001b[0m 4ms/step - loss: 0.6329 - precision_5: 0.5519 - recall_5: 0.2999 - val_loss: 0.5347 - val_precision_5: 0.7466 - val_recall_5: 0.5815\n",
            "Epoch 2/20\n",
            "\u001b[1m349/349\u001b[0m \u001b[32m━━━━━━━━━━━━━━━━━━━━\u001b[0m\u001b[37m\u001b[0m \u001b[1m2s\u001b[0m 3ms/step - loss: 0.5117 - precision_5: 0.7245 - recall_5: 0.5981 - val_loss: 0.5026 - val_precision_5: 0.7677 - val_recall_5: 0.5912\n",
            "Epoch 3/20\n",
            "\u001b[1m349/349\u001b[0m \u001b[32m━━━━━━━━━━━━━━━━━━━━\u001b[0m\u001b[37m\u001b[0m \u001b[1m1s\u001b[0m 3ms/step - loss: 0.4877 - precision_5: 0.7447 - recall_5: 0.6104 - val_loss: 0.4760 - val_precision_5: 0.7780 - val_recall_5: 0.6238\n",
            "Epoch 4/20\n",
            "\u001b[1m349/349\u001b[0m \u001b[32m━━━━━━━━━━━━━━━━━━━━\u001b[0m\u001b[37m\u001b[0m \u001b[1m2s\u001b[0m 4ms/step - loss: 0.4578 - precision_5: 0.7527 - recall_5: 0.6173 - val_loss: 0.4554 - val_precision_5: 0.7111 - val_recall_5: 0.7568\n",
            "Epoch 5/20\n",
            "\u001b[1m349/349\u001b[0m \u001b[32m━━━━━━━━━━━━━━━━━━━━\u001b[0m\u001b[37m\u001b[0m \u001b[1m3s\u001b[0m 4ms/step - loss: 0.4299 - precision_5: 0.7479 - recall_5: 0.6440 - val_loss: 0.4209 - val_precision_5: 0.7834 - val_recall_5: 0.6722\n",
            "Epoch 6/20\n",
            "\u001b[1m349/349\u001b[0m \u001b[32m━━━━━━━━━━━━━━━━━━━━\u001b[0m\u001b[37m\u001b[0m \u001b[1m1s\u001b[0m 3ms/step - loss: 0.4043 - precision_5: 0.7621 - recall_5: 0.6747 - val_loss: 0.3997 - val_precision_5: 0.8022 - val_recall_5: 0.6502\n",
            "Epoch 7/20\n",
            "\u001b[1m349/349\u001b[0m \u001b[32m━━━━━━━━━━━━━━━━━━━━\u001b[0m\u001b[37m\u001b[0m \u001b[1m1s\u001b[0m 3ms/step - loss: 0.3766 - precision_5: 0.7915 - recall_5: 0.7105 - val_loss: 0.3871 - val_precision_5: 0.8412 - val_recall_5: 0.6159\n",
            "Epoch 8/20\n",
            "\u001b[1m349/349\u001b[0m \u001b[32m━━━━━━━━━━━━━━━━━━━━\u001b[0m\u001b[37m\u001b[0m \u001b[1m1s\u001b[0m 3ms/step - loss: 0.3663 - precision_5: 0.7893 - recall_5: 0.6989 - val_loss: 0.3681 - val_precision_5: 0.8115 - val_recall_5: 0.7093\n",
            "Epoch 9/20\n",
            "\u001b[1m349/349\u001b[0m \u001b[32m━━━━━━━━━━━━━━━━━━━━\u001b[0m\u001b[37m\u001b[0m \u001b[1m1s\u001b[0m 3ms/step - loss: 0.3582 - precision_5: 0.7873 - recall_5: 0.7247 - val_loss: 0.3570 - val_precision_5: 0.8157 - val_recall_5: 0.7251\n",
            "Epoch 10/20\n",
            "\u001b[1m349/349\u001b[0m \u001b[32m━━━━━━━━━━━━━━━━━━━━\u001b[0m\u001b[37m\u001b[0m \u001b[1m1s\u001b[0m 3ms/step - loss: 0.3572 - precision_5: 0.7816 - recall_5: 0.7345 - val_loss: 0.3472 - val_precision_5: 0.8033 - val_recall_5: 0.7736\n",
            "Epoch 11/20\n",
            "\u001b[1m349/349\u001b[0m \u001b[32m━━━━━━━━━━━━━━━━━━━━\u001b[0m\u001b[37m\u001b[0m \u001b[1m1s\u001b[0m 3ms/step - loss: 0.3394 - precision_5: 0.7921 - recall_5: 0.7459 - val_loss: 0.3467 - val_precision_5: 0.7849 - val_recall_5: 0.8070\n",
            "Epoch 12/20\n",
            "\u001b[1m349/349\u001b[0m \u001b[32m━━━━━━━━━━━━━━━━━━━━\u001b[0m\u001b[37m\u001b[0m \u001b[1m1s\u001b[0m 3ms/step - loss: 0.3406 - precision_5: 0.7894 - recall_5: 0.7621 - val_loss: 0.3357 - val_precision_5: 0.7870 - val_recall_5: 0.8238\n",
            "Epoch 13/20\n",
            "\u001b[1m349/349\u001b[0m \u001b[32m━━━━━━━━━━━━━━━━━━━━\u001b[0m\u001b[37m\u001b[0m \u001b[1m1s\u001b[0m 3ms/step - loss: 0.3276 - precision_5: 0.7984 - recall_5: 0.7722 - val_loss: 0.3335 - val_precision_5: 0.8192 - val_recall_5: 0.7824\n",
            "Epoch 14/20\n",
            "\u001b[1m349/349\u001b[0m \u001b[32m━━━━━━━━━━━━━━━━━━━━\u001b[0m\u001b[37m\u001b[0m \u001b[1m2s\u001b[0m 5ms/step - loss: 0.3236 - precision_5: 0.8102 - recall_5: 0.7765 - val_loss: 0.3339 - val_precision_5: 0.8320 - val_recall_5: 0.7330\n",
            "Epoch 15/20\n",
            "\u001b[1m349/349\u001b[0m \u001b[32m━━━━━━━━━━━━━━━━━━━━\u001b[0m\u001b[37m\u001b[0m \u001b[1m3s\u001b[0m 7ms/step - loss: 0.3147 - precision_5: 0.8152 - recall_5: 0.7792 - val_loss: 0.3257 - val_precision_5: 0.8162 - val_recall_5: 0.8062\n",
            "Epoch 16/20\n",
            "\u001b[1m349/349\u001b[0m \u001b[32m━━━━━━━━━━━━━━━━━━━━\u001b[0m\u001b[37m\u001b[0m \u001b[1m3s\u001b[0m 8ms/step - loss: 0.3188 - precision_5: 0.8031 - recall_5: 0.7956 - val_loss: 0.3231 - val_precision_5: 0.7993 - val_recall_5: 0.8106\n",
            "Epoch 17/20\n",
            "\u001b[1m349/349\u001b[0m \u001b[32m━━━━━━━━━━━━━━━━━━━━\u001b[0m\u001b[37m\u001b[0m \u001b[1m3s\u001b[0m 3ms/step - loss: 0.3170 - precision_5: 0.8091 - recall_5: 0.7875 - val_loss: 0.3195 - val_precision_5: 0.8097 - val_recall_5: 0.7982\n",
            "Epoch 18/20\n",
            "\u001b[1m349/349\u001b[0m \u001b[32m━━━━━━━━━━━━━━━━━━━━\u001b[0m\u001b[37m\u001b[0m \u001b[1m1s\u001b[0m 3ms/step - loss: 0.3098 - precision_5: 0.8217 - recall_5: 0.7838 - val_loss: 0.3151 - val_precision_5: 0.8277 - val_recall_5: 0.8000\n",
            "Epoch 19/20\n",
            "\u001b[1m349/349\u001b[0m \u001b[32m━━━━━━━━━━━━━━━━━━━━\u001b[0m\u001b[37m\u001b[0m \u001b[1m1s\u001b[0m 3ms/step - loss: 0.3087 - precision_5: 0.8110 - recall_5: 0.7855 - val_loss: 0.3111 - val_precision_5: 0.8041 - val_recall_5: 0.8211\n",
            "Epoch 20/20\n",
            "\u001b[1m349/349\u001b[0m \u001b[32m━━━━━━━━━━━━━━━━━━━━\u001b[0m\u001b[37m\u001b[0m \u001b[1m1s\u001b[0m 4ms/step - loss: 0.3086 - precision_5: 0.8029 - recall_5: 0.7907 - val_loss: 0.3090 - val_precision_5: 0.8231 - val_recall_5: 0.8035\n"
          ]
        }
      ],
      "source": [
        "history = model.fit(X_train,\n",
        "                    y_train,\n",
        "                    batch_size=32,\n",
        "                    epochs=20,\n",
        "                    validation_split=0.2,\n",
        "                    callbacks=[early_stopping])"
      ]
    },
    {
      "cell_type": "markdown",
      "source": [
        "We can also take a quick look of the model by seeing it's summary."
      ],
      "metadata": {
        "id": "OyUc9LcZg8WB"
      }
    },
    {
      "cell_type": "code",
      "execution_count": 325,
      "metadata": {
        "colab": {
          "base_uri": "https://localhost:8080/",
          "height": 369
        },
        "id": "bx3_P62EuywI",
        "outputId": "8948af06-89ac-4f4f-d59b-8768afd5da08"
      },
      "outputs": [
        {
          "output_type": "display_data",
          "data": {
            "text/plain": [
              "\u001b[1mModel: \"functional_39\"\u001b[0m\n"
            ],
            "text/html": [
              "<pre style=\"white-space:pre;overflow-x:auto;line-height:normal;font-family:Menlo,'DejaVu Sans Mono',consolas,'Courier New',monospace\"><span style=\"font-weight: bold\">Model: \"functional_39\"</span>\n",
              "</pre>\n"
            ]
          },
          "metadata": {}
        },
        {
          "output_type": "display_data",
          "data": {
            "text/plain": [
              "┏━━━━━━━━━━━━━━━━━━━━━┳━━━━━━━━━━━━━━━━━━━┳━━━━━━━━━━━━┳━━━━━━━━━━━━━━━━━━━┓\n",
              "┃\u001b[1m \u001b[0m\u001b[1mLayer (type)       \u001b[0m\u001b[1m \u001b[0m┃\u001b[1m \u001b[0m\u001b[1mOutput Shape     \u001b[0m\u001b[1m \u001b[0m┃\u001b[1m \u001b[0m\u001b[1m   Param #\u001b[0m\u001b[1m \u001b[0m┃\u001b[1m \u001b[0m\u001b[1mConnected to     \u001b[0m\u001b[1m \u001b[0m┃\n",
              "┡━━━━━━━━━━━━━━━━━━━━━╇━━━━━━━━━━━━━━━━━━━╇━━━━━━━━━━━━╇━━━━━━━━━━━━━━━━━━━┩\n",
              "│ input_layer_39      │ (\u001b[38;5;45mNone\u001b[0m, \u001b[38;5;34m12\u001b[0m)        │          \u001b[38;5;34m0\u001b[0m │ -                 │\n",
              "│ (\u001b[38;5;33mInputLayer\u001b[0m)        │                   │            │                   │\n",
              "├─────────────────────┼───────────────────┼────────────┼───────────────────┤\n",
              "│ dense_85 (\u001b[38;5;33mDense\u001b[0m)    │ (\u001b[38;5;45mNone\u001b[0m, \u001b[38;5;34m20\u001b[0m)        │        \u001b[38;5;34m260\u001b[0m │ input_layer_39[\u001b[38;5;34m0\u001b[0m… │\n",
              "├─────────────────────┼───────────────────┼────────────┼───────────────────┤\n",
              "│ dense_87 (\u001b[38;5;33mDense\u001b[0m)    │ (\u001b[38;5;45mNone\u001b[0m, \u001b[38;5;34m5\u001b[0m)         │        \u001b[38;5;34m105\u001b[0m │ dense_85[\u001b[38;5;34m0\u001b[0m][\u001b[38;5;34m0\u001b[0m]    │\n",
              "├─────────────────────┼───────────────────┼────────────┼───────────────────┤\n",
              "│ dense_86 (\u001b[38;5;33mDense\u001b[0m)    │ (\u001b[38;5;45mNone\u001b[0m, \u001b[38;5;34m10\u001b[0m)        │        \u001b[38;5;34m210\u001b[0m │ dense_85[\u001b[38;5;34m0\u001b[0m][\u001b[38;5;34m0\u001b[0m]    │\n",
              "├─────────────────────┼───────────────────┼────────────┼───────────────────┤\n",
              "│ concatenate_14      │ (\u001b[38;5;45mNone\u001b[0m, \u001b[38;5;34m15\u001b[0m)        │          \u001b[38;5;34m0\u001b[0m │ dense_87[\u001b[38;5;34m0\u001b[0m][\u001b[38;5;34m0\u001b[0m],   │\n",
              "│ (\u001b[38;5;33mConcatenate\u001b[0m)       │                   │            │ dense_86[\u001b[38;5;34m0\u001b[0m][\u001b[38;5;34m0\u001b[0m]    │\n",
              "├─────────────────────┼───────────────────┼────────────┼───────────────────┤\n",
              "│ dense_88 (\u001b[38;5;33mDense\u001b[0m)    │ (\u001b[38;5;45mNone\u001b[0m, \u001b[38;5;34m1\u001b[0m)         │         \u001b[38;5;34m16\u001b[0m │ concatenate_14[\u001b[38;5;34m0\u001b[0m… │\n",
              "└─────────────────────┴───────────────────┴────────────┴───────────────────┘\n"
            ],
            "text/html": [
              "<pre style=\"white-space:pre;overflow-x:auto;line-height:normal;font-family:Menlo,'DejaVu Sans Mono',consolas,'Courier New',monospace\">┏━━━━━━━━━━━━━━━━━━━━━┳━━━━━━━━━━━━━━━━━━━┳━━━━━━━━━━━━┳━━━━━━━━━━━━━━━━━━━┓\n",
              "┃<span style=\"font-weight: bold\"> Layer (type)        </span>┃<span style=\"font-weight: bold\"> Output Shape      </span>┃<span style=\"font-weight: bold\">    Param # </span>┃<span style=\"font-weight: bold\"> Connected to      </span>┃\n",
              "┡━━━━━━━━━━━━━━━━━━━━━╇━━━━━━━━━━━━━━━━━━━╇━━━━━━━━━━━━╇━━━━━━━━━━━━━━━━━━━┩\n",
              "│ input_layer_39      │ (<span style=\"color: #00d7ff; text-decoration-color: #00d7ff\">None</span>, <span style=\"color: #00af00; text-decoration-color: #00af00\">12</span>)        │          <span style=\"color: #00af00; text-decoration-color: #00af00\">0</span> │ -                 │\n",
              "│ (<span style=\"color: #0087ff; text-decoration-color: #0087ff\">InputLayer</span>)        │                   │            │                   │\n",
              "├─────────────────────┼───────────────────┼────────────┼───────────────────┤\n",
              "│ dense_85 (<span style=\"color: #0087ff; text-decoration-color: #0087ff\">Dense</span>)    │ (<span style=\"color: #00d7ff; text-decoration-color: #00d7ff\">None</span>, <span style=\"color: #00af00; text-decoration-color: #00af00\">20</span>)        │        <span style=\"color: #00af00; text-decoration-color: #00af00\">260</span> │ input_layer_39[<span style=\"color: #00af00; text-decoration-color: #00af00\">0</span>… │\n",
              "├─────────────────────┼───────────────────┼────────────┼───────────────────┤\n",
              "│ dense_87 (<span style=\"color: #0087ff; text-decoration-color: #0087ff\">Dense</span>)    │ (<span style=\"color: #00d7ff; text-decoration-color: #00d7ff\">None</span>, <span style=\"color: #00af00; text-decoration-color: #00af00\">5</span>)         │        <span style=\"color: #00af00; text-decoration-color: #00af00\">105</span> │ dense_85[<span style=\"color: #00af00; text-decoration-color: #00af00\">0</span>][<span style=\"color: #00af00; text-decoration-color: #00af00\">0</span>]    │\n",
              "├─────────────────────┼───────────────────┼────────────┼───────────────────┤\n",
              "│ dense_86 (<span style=\"color: #0087ff; text-decoration-color: #0087ff\">Dense</span>)    │ (<span style=\"color: #00d7ff; text-decoration-color: #00d7ff\">None</span>, <span style=\"color: #00af00; text-decoration-color: #00af00\">10</span>)        │        <span style=\"color: #00af00; text-decoration-color: #00af00\">210</span> │ dense_85[<span style=\"color: #00af00; text-decoration-color: #00af00\">0</span>][<span style=\"color: #00af00; text-decoration-color: #00af00\">0</span>]    │\n",
              "├─────────────────────┼───────────────────┼────────────┼───────────────────┤\n",
              "│ concatenate_14      │ (<span style=\"color: #00d7ff; text-decoration-color: #00d7ff\">None</span>, <span style=\"color: #00af00; text-decoration-color: #00af00\">15</span>)        │          <span style=\"color: #00af00; text-decoration-color: #00af00\">0</span> │ dense_87[<span style=\"color: #00af00; text-decoration-color: #00af00\">0</span>][<span style=\"color: #00af00; text-decoration-color: #00af00\">0</span>],   │\n",
              "│ (<span style=\"color: #0087ff; text-decoration-color: #0087ff\">Concatenate</span>)       │                   │            │ dense_86[<span style=\"color: #00af00; text-decoration-color: #00af00\">0</span>][<span style=\"color: #00af00; text-decoration-color: #00af00\">0</span>]    │\n",
              "├─────────────────────┼───────────────────┼────────────┼───────────────────┤\n",
              "│ dense_88 (<span style=\"color: #0087ff; text-decoration-color: #0087ff\">Dense</span>)    │ (<span style=\"color: #00d7ff; text-decoration-color: #00d7ff\">None</span>, <span style=\"color: #00af00; text-decoration-color: #00af00\">1</span>)         │         <span style=\"color: #00af00; text-decoration-color: #00af00\">16</span> │ concatenate_14[<span style=\"color: #00af00; text-decoration-color: #00af00\">0</span>… │\n",
              "└─────────────────────┴───────────────────┴────────────┴───────────────────┘\n",
              "</pre>\n"
            ]
          },
          "metadata": {}
        },
        {
          "output_type": "display_data",
          "data": {
            "text/plain": [
              "\u001b[1m Total params: \u001b[0m\u001b[38;5;34m1,775\u001b[0m (6.94 KB)\n"
            ],
            "text/html": [
              "<pre style=\"white-space:pre;overflow-x:auto;line-height:normal;font-family:Menlo,'DejaVu Sans Mono',consolas,'Courier New',monospace\"><span style=\"font-weight: bold\"> Total params: </span><span style=\"color: #00af00; text-decoration-color: #00af00\">1,775</span> (6.94 KB)\n",
              "</pre>\n"
            ]
          },
          "metadata": {}
        },
        {
          "output_type": "display_data",
          "data": {
            "text/plain": [
              "\u001b[1m Trainable params: \u001b[0m\u001b[38;5;34m591\u001b[0m (2.31 KB)\n"
            ],
            "text/html": [
              "<pre style=\"white-space:pre;overflow-x:auto;line-height:normal;font-family:Menlo,'DejaVu Sans Mono',consolas,'Courier New',monospace\"><span style=\"font-weight: bold\"> Trainable params: </span><span style=\"color: #00af00; text-decoration-color: #00af00\">591</span> (2.31 KB)\n",
              "</pre>\n"
            ]
          },
          "metadata": {}
        },
        {
          "output_type": "display_data",
          "data": {
            "text/plain": [
              "\u001b[1m Non-trainable params: \u001b[0m\u001b[38;5;34m0\u001b[0m (0.00 B)\n"
            ],
            "text/html": [
              "<pre style=\"white-space:pre;overflow-x:auto;line-height:normal;font-family:Menlo,'DejaVu Sans Mono',consolas,'Courier New',monospace\"><span style=\"font-weight: bold\"> Non-trainable params: </span><span style=\"color: #00af00; text-decoration-color: #00af00\">0</span> (0.00 B)\n",
              "</pre>\n"
            ]
          },
          "metadata": {}
        },
        {
          "output_type": "display_data",
          "data": {
            "text/plain": [
              "\u001b[1m Optimizer params: \u001b[0m\u001b[38;5;34m1,184\u001b[0m (4.63 KB)\n"
            ],
            "text/html": [
              "<pre style=\"white-space:pre;overflow-x:auto;line-height:normal;font-family:Menlo,'DejaVu Sans Mono',consolas,'Courier New',monospace\"><span style=\"font-weight: bold\"> Optimizer params: </span><span style=\"color: #00af00; text-decoration-color: #00af00\">1,184</span> (4.63 KB)\n",
              "</pre>\n"
            ]
          },
          "metadata": {}
        }
      ],
      "source": [
        "model.summary()"
      ]
    },
    {
      "cell_type": "code",
      "execution_count": 326,
      "metadata": {
        "colab": {
          "base_uri": "https://localhost:8080/"
        },
        "id": "xQw21cGouepG",
        "outputId": "e22a109b-5cde-4f8f-f681-ab274a0d915c"
      },
      "outputs": [
        {
          "output_type": "stream",
          "name": "stdout",
          "text": [
            "\u001b[1m109/109\u001b[0m \u001b[32m━━━━━━━━━━━━━━━━━━━━\u001b[0m\u001b[37m\u001b[0m \u001b[1m0s\u001b[0m 2ms/step\n",
            "f1 score : 0.84\n"
          ]
        }
      ],
      "source": [
        "prediction = model.predict(X_test)\n",
        "print('f1 score : %.2f' %f1_score(y_test,prediction>0.5,average='macro'))"
      ]
    },
    {
      "cell_type": "markdown",
      "source": [
        "The F1 score improved, which is not surprising, as we changed the activation function to sigmoid, a function well-suited for classification tasks.\n"
      ],
      "metadata": {
        "id": "CDEvu1zkhOMr"
      }
    },
    {
      "cell_type": "markdown",
      "metadata": {
        "id": "kz_Sm2OO94aw"
      },
      "source": [
        "Let's increase the number of epochs since the loss was decreasing with each epoch to see if the accuracy gets better or not."
      ]
    },
    {
      "cell_type": "code",
      "execution_count": null,
      "metadata": {
        "id": "vaJCZE_W-O20"
      },
      "outputs": [],
      "source": [
        "input_layer = Input(shape=(X_train.shape[1],))\n",
        "\n",
        "hidden_layer_1 = Dense(20,activation='relu')(input_layer)\n",
        "\n",
        "hidden_layer_2 = Dense(10,activation='relu')(hidden_layer_1)\n",
        "\n",
        "hidden_layer_3 = Dense(5,activation='relu')(hidden_layer_1)\n",
        "\n",
        "add_layer = Concatenate()([hidden_layer_1,hidden_layer_2])\n",
        "\n",
        "output_layer = Dense(1,activation = 'sigmoid')(add_layer)\n",
        "\n",
        "model = Model(inputs=input_layer, outputs=output_layer)"
      ]
    },
    {
      "cell_type": "code",
      "execution_count": null,
      "metadata": {
        "id": "zdrmGBz_-RNS"
      },
      "outputs": [],
      "source": [
        "model.compile(\n",
        "    loss='binary_crossentropy',\n",
        "    optimizer=tf.keras.optimizers.Adam(),\n",
        "    metrics=[tf.keras.metrics.Precision(),tf.keras.metrics.Recall()],\n",
        "    )"
      ]
    },
    {
      "cell_type": "code",
      "execution_count": null,
      "metadata": {
        "colab": {
          "base_uri": "https://localhost:8080/"
        },
        "id": "91QPLb6z-T6t",
        "outputId": "9f1f20a3-9bc8-4209-8bb1-90a4c65a7c78"
      },
      "outputs": [
        {
          "output_type": "stream",
          "name": "stdout",
          "text": [
            "Epoch 1/40\n",
            "\u001b[1m349/349\u001b[0m \u001b[32m━━━━━━━━━━━━━━━━━━━━\u001b[0m\u001b[37m\u001b[0m \u001b[1m6s\u001b[0m 9ms/step - loss: 0.6755 - precision_3: 0.4628 - recall_3: 0.3296 - val_loss: 0.5568 - val_precision_3: 0.7320 - val_recall_3: 0.5702\n",
            "Epoch 2/40\n",
            "\u001b[1m349/349\u001b[0m \u001b[32m━━━━━━━━━━━━━━━━━━━━\u001b[0m\u001b[37m\u001b[0m \u001b[1m2s\u001b[0m 5ms/step - loss: 0.5348 - precision_3: 0.7300 - recall_3: 0.5419 - val_loss: 0.5117 - val_precision_3: 0.7602 - val_recall_3: 0.5773\n",
            "Epoch 3/40\n",
            "\u001b[1m349/349\u001b[0m \u001b[32m━━━━━━━━━━━━━━━━━━━━\u001b[0m\u001b[37m\u001b[0m \u001b[1m3s\u001b[0m 7ms/step - loss: 0.5052 - precision_3: 0.7366 - recall_3: 0.5851 - val_loss: 0.5029 - val_precision_3: 0.7462 - val_recall_3: 0.6057\n",
            "Epoch 4/40\n",
            "\u001b[1m349/349\u001b[0m \u001b[32m━━━━━━━━━━━━━━━━━━━━\u001b[0m\u001b[37m\u001b[0m \u001b[1m4s\u001b[0m 3ms/step - loss: 0.4909 - precision_3: 0.7297 - recall_3: 0.5933 - val_loss: 0.4985 - val_precision_3: 0.7804 - val_recall_3: 0.5870\n",
            "Epoch 5/40\n",
            "\u001b[1m349/349\u001b[0m \u001b[32m━━━━━━━━━━━━━━━━━━━━\u001b[0m\u001b[37m\u001b[0m \u001b[1m1s\u001b[0m 3ms/step - loss: 0.4774 - precision_3: 0.7395 - recall_3: 0.6140 - val_loss: 0.4918 - val_precision_3: 0.7858 - val_recall_3: 0.5995\n",
            "Epoch 6/40\n",
            "\u001b[1m349/349\u001b[0m \u001b[32m━━━━━━━━━━━━━━━━━━━━\u001b[0m\u001b[37m\u001b[0m \u001b[1m1s\u001b[0m 3ms/step - loss: 0.4794 - precision_3: 0.7544 - recall_3: 0.6057 - val_loss: 0.4787 - val_precision_3: 0.7935 - val_recall_3: 0.6110\n",
            "Epoch 7/40\n",
            "\u001b[1m349/349\u001b[0m \u001b[32m━━━━━━━━━━━━━━━━━━━━\u001b[0m\u001b[37m\u001b[0m \u001b[1m1s\u001b[0m 3ms/step - loss: 0.4716 - precision_3: 0.7521 - recall_3: 0.6176 - val_loss: 0.4703 - val_precision_3: 0.8092 - val_recall_3: 0.5915\n",
            "Epoch 8/40\n",
            "\u001b[1m349/349\u001b[0m \u001b[32m━━━━━━━━━━━━━━━━━━━━\u001b[0m\u001b[37m\u001b[0m \u001b[1m1s\u001b[0m 3ms/step - loss: 0.4581 - precision_3: 0.7645 - recall_3: 0.6144 - val_loss: 0.4527 - val_precision_3: 0.7480 - val_recall_3: 0.6750\n",
            "Epoch 9/40\n",
            "\u001b[1m349/349\u001b[0m \u001b[32m━━━━━━━━━━━━━━━━━━━━\u001b[0m\u001b[37m\u001b[0m \u001b[1m1s\u001b[0m 3ms/step - loss: 0.4414 - precision_3: 0.7724 - recall_3: 0.6276 - val_loss: 0.4363 - val_precision_3: 0.8235 - val_recall_3: 0.6217\n",
            "Epoch 10/40\n",
            "\u001b[1m349/349\u001b[0m \u001b[32m━━━━━━━━━━━━━━━━━━━━\u001b[0m\u001b[37m\u001b[0m \u001b[1m1s\u001b[0m 3ms/step - loss: 0.4209 - precision_3: 0.7828 - recall_3: 0.6434 - val_loss: 0.4182 - val_precision_3: 0.7273 - val_recall_3: 0.7318\n",
            "Epoch 11/40\n",
            "\u001b[1m349/349\u001b[0m \u001b[32m━━━━━━━━━━━━━━━━━━━━\u001b[0m\u001b[37m\u001b[0m \u001b[1m4s\u001b[0m 11ms/step - loss: 0.4037 - precision_3: 0.7660 - recall_3: 0.6764 - val_loss: 0.4007 - val_precision_3: 0.8011 - val_recall_3: 0.6510\n",
            "Epoch 12/40\n",
            "\u001b[1m349/349\u001b[0m \u001b[32m━━━━━━━━━━━━━━━━━━━━\u001b[0m\u001b[37m\u001b[0m \u001b[1m3s\u001b[0m 4ms/step - loss: 0.3875 - precision_3: 0.7726 - recall_3: 0.6752 - val_loss: 0.3966 - val_precision_3: 0.8313 - val_recall_3: 0.6128\n",
            "Epoch 13/40\n",
            "\u001b[1m349/349\u001b[0m \u001b[32m━━━━━━━━━━━━━━━━━━━━\u001b[0m\u001b[37m\u001b[0m \u001b[1m2s\u001b[0m 3ms/step - loss: 0.3713 - precision_3: 0.7823 - recall_3: 0.7036 - val_loss: 0.3720 - val_precision_3: 0.7553 - val_recall_3: 0.7647\n",
            "Epoch 14/40\n",
            "\u001b[1m349/349\u001b[0m \u001b[32m━━━━━━━━━━━━━━━━━━━━\u001b[0m\u001b[37m\u001b[0m \u001b[1m1s\u001b[0m 3ms/step - loss: 0.3622 - precision_3: 0.7740 - recall_3: 0.7255 - val_loss: 0.3685 - val_precision_3: 0.8074 - val_recall_3: 0.6625\n",
            "Epoch 15/40\n",
            "\u001b[1m349/349\u001b[0m \u001b[32m━━━━━━━━━━━━━━━━━━━━\u001b[0m\u001b[37m\u001b[0m \u001b[1m1s\u001b[0m 3ms/step - loss: 0.3398 - precision_3: 0.7882 - recall_3: 0.7484 - val_loss: 0.3504 - val_precision_3: 0.7719 - val_recall_3: 0.7842\n",
            "Epoch 16/40\n",
            "\u001b[1m349/349\u001b[0m \u001b[32m━━━━━━━━━━━━━━━━━━━━\u001b[0m\u001b[37m\u001b[0m \u001b[1m1s\u001b[0m 3ms/step - loss: 0.3360 - precision_3: 0.7851 - recall_3: 0.7542 - val_loss: 0.3378 - val_precision_3: 0.7774 - val_recall_3: 0.8064\n",
            "Epoch 17/40\n",
            "\u001b[1m349/349\u001b[0m \u001b[32m━━━━━━━━━━━━━━━━━━━━\u001b[0m\u001b[37m\u001b[0m \u001b[1m1s\u001b[0m 3ms/step - loss: 0.3175 - precision_3: 0.7907 - recall_3: 0.7853 - val_loss: 0.3340 - val_precision_3: 0.8200 - val_recall_3: 0.7282\n",
            "Epoch 18/40\n",
            "\u001b[1m349/349\u001b[0m \u001b[32m━━━━━━━━━━━━━━━━━━━━\u001b[0m\u001b[37m\u001b[0m \u001b[1m1s\u001b[0m 3ms/step - loss: 0.3193 - precision_3: 0.7901 - recall_3: 0.7772 - val_loss: 0.3241 - val_precision_3: 0.8011 - val_recall_3: 0.7655\n",
            "Epoch 19/40\n",
            "\u001b[1m349/349\u001b[0m \u001b[32m━━━━━━━━━━━━━━━━━━━━\u001b[0m\u001b[37m\u001b[0m \u001b[1m2s\u001b[0m 4ms/step - loss: 0.3097 - precision_3: 0.7891 - recall_3: 0.7949 - val_loss: 0.3215 - val_precision_3: 0.7567 - val_recall_3: 0.8730\n",
            "Epoch 20/40\n",
            "\u001b[1m349/349\u001b[0m \u001b[32m━━━━━━━━━━━━━━━━━━━━\u001b[0m\u001b[37m\u001b[0m \u001b[1m2s\u001b[0m 4ms/step - loss: 0.3039 - precision_3: 0.8003 - recall_3: 0.8215 - val_loss: 0.3081 - val_precision_3: 0.8114 - val_recall_3: 0.7948\n",
            "Epoch 21/40\n",
            "\u001b[1m349/349\u001b[0m \u001b[32m━━━━━━━━━━━━━━━━━━━━\u001b[0m\u001b[37m\u001b[0m \u001b[1m1s\u001b[0m 3ms/step - loss: 0.2925 - precision_3: 0.8081 - recall_3: 0.8147 - val_loss: 0.3072 - val_precision_3: 0.7842 - val_recall_3: 0.8357\n",
            "Epoch 22/40\n",
            "\u001b[1m349/349\u001b[0m \u001b[32m━━━━━━━━━━━━━━━━━━━━\u001b[0m\u001b[37m\u001b[0m \u001b[1m1s\u001b[0m 3ms/step - loss: 0.2983 - precision_3: 0.7936 - recall_3: 0.8125 - val_loss: 0.3030 - val_precision_3: 0.8113 - val_recall_3: 0.8020\n",
            "Epoch 23/40\n",
            "\u001b[1m349/349\u001b[0m \u001b[32m━━━━━━━━━━━━━━━━━━━━\u001b[0m\u001b[37m\u001b[0m \u001b[1m1s\u001b[0m 3ms/step - loss: 0.2827 - precision_3: 0.8143 - recall_3: 0.8231 - val_loss: 0.2995 - val_precision_3: 0.7913 - val_recall_3: 0.8286\n",
            "Epoch 24/40\n",
            "\u001b[1m349/349\u001b[0m \u001b[32m━━━━━━━━━━━━━━━━━━━━\u001b[0m\u001b[37m\u001b[0m \u001b[1m1s\u001b[0m 3ms/step - loss: 0.2897 - precision_3: 0.8009 - recall_3: 0.8318 - val_loss: 0.2950 - val_precision_3: 0.8112 - val_recall_3: 0.8206\n",
            "Epoch 25/40\n",
            "\u001b[1m349/349\u001b[0m \u001b[32m━━━━━━━━━━━━━━━━━━━━\u001b[0m\u001b[37m\u001b[0m \u001b[1m1s\u001b[0m 3ms/step - loss: 0.2855 - precision_3: 0.8068 - recall_3: 0.8411 - val_loss: 0.2979 - val_precision_3: 0.8044 - val_recall_3: 0.8108\n",
            "Epoch 26/40\n",
            "\u001b[1m349/349\u001b[0m \u001b[32m━━━━━━━━━━━━━━━━━━━━\u001b[0m\u001b[37m\u001b[0m \u001b[1m1s\u001b[0m 3ms/step - loss: 0.2801 - precision_3: 0.8016 - recall_3: 0.8304 - val_loss: 0.2866 - val_precision_3: 0.7893 - val_recall_3: 0.8783\n",
            "Epoch 27/40\n",
            "\u001b[1m349/349\u001b[0m \u001b[32m━━━━━━━━━━━━━━━━━━━━\u001b[0m\u001b[37m\u001b[0m \u001b[1m1s\u001b[0m 3ms/step - loss: 0.2738 - precision_3: 0.8007 - recall_3: 0.8507 - val_loss: 0.2841 - val_precision_3: 0.8296 - val_recall_3: 0.8171\n",
            "Epoch 28/40\n",
            "\u001b[1m349/349\u001b[0m \u001b[32m━━━━━━━━━━━━━━━━━━━━\u001b[0m\u001b[37m\u001b[0m \u001b[1m1s\u001b[0m 3ms/step - loss: 0.2681 - precision_3: 0.8092 - recall_3: 0.8364 - val_loss: 0.2819 - val_precision_3: 0.8058 - val_recall_3: 0.8659\n",
            "Epoch 29/40\n",
            "\u001b[1m349/349\u001b[0m \u001b[32m━━━━━━━━━━━━━━━━━━━━\u001b[0m\u001b[37m\u001b[0m \u001b[1m2s\u001b[0m 4ms/step - loss: 0.2714 - precision_3: 0.8076 - recall_3: 0.8421 - val_loss: 0.2794 - val_precision_3: 0.8050 - val_recall_3: 0.8579\n",
            "Epoch 30/40\n",
            "\u001b[1m349/349\u001b[0m \u001b[32m━━━━━━━━━━━━━━━━━━━━\u001b[0m\u001b[37m\u001b[0m \u001b[1m2s\u001b[0m 4ms/step - loss: 0.2662 - precision_3: 0.8185 - recall_3: 0.8580 - val_loss: 0.2800 - val_precision_3: 0.8420 - val_recall_3: 0.8188\n",
            "Epoch 31/40\n",
            "\u001b[1m349/349\u001b[0m \u001b[32m━━━━━━━━━━━━━━━━━━━━\u001b[0m\u001b[37m\u001b[0m \u001b[1m2s\u001b[0m 3ms/step - loss: 0.2597 - precision_3: 0.8221 - recall_3: 0.8497 - val_loss: 0.2805 - val_precision_3: 0.8444 - val_recall_3: 0.8242\n",
            "Epoch 32/40\n",
            "\u001b[1m349/349\u001b[0m \u001b[32m━━━━━━━━━━━━━━━━━━━━\u001b[0m\u001b[37m\u001b[0m \u001b[1m1s\u001b[0m 3ms/step - loss: 0.2666 - precision_3: 0.8154 - recall_3: 0.8641 - val_loss: 0.2736 - val_precision_3: 0.7935 - val_recall_3: 0.8943\n",
            "Epoch 33/40\n",
            "\u001b[1m349/349\u001b[0m \u001b[32m━━━━━━━━━━━━━━━━━━━━\u001b[0m\u001b[37m\u001b[0m \u001b[1m1s\u001b[0m 3ms/step - loss: 0.2671 - precision_3: 0.8162 - recall_3: 0.8655 - val_loss: 0.2711 - val_precision_3: 0.7898 - val_recall_3: 0.8845\n",
            "Epoch 34/40\n",
            "\u001b[1m349/349\u001b[0m \u001b[32m━━━━━━━━━━━━━━━━━━━━\u001b[0m\u001b[37m\u001b[0m \u001b[1m1s\u001b[0m 3ms/step - loss: 0.2663 - precision_3: 0.8160 - recall_3: 0.8662 - val_loss: 0.2728 - val_precision_3: 0.8037 - val_recall_3: 0.8872\n",
            "Epoch 35/40\n",
            "\u001b[1m349/349\u001b[0m \u001b[32m━━━━━━━━━━━━━━━━━━━━\u001b[0m\u001b[37m\u001b[0m \u001b[1m2s\u001b[0m 4ms/step - loss: 0.2632 - precision_3: 0.8207 - recall_3: 0.8756 - val_loss: 0.2767 - val_precision_3: 0.8524 - val_recall_3: 0.8002\n",
            "Epoch 36/40\n",
            "\u001b[1m349/349\u001b[0m \u001b[32m━━━━━━━━━━━━━━━━━━━━\u001b[0m\u001b[37m\u001b[0m \u001b[1m3s\u001b[0m 5ms/step - loss: 0.2558 - precision_3: 0.8242 - recall_3: 0.8689 - val_loss: 0.2658 - val_precision_3: 0.8220 - val_recall_3: 0.8570\n",
            "Epoch 37/40\n",
            "\u001b[1m349/349\u001b[0m \u001b[32m━━━━━━━━━━━━━━━━━━━━\u001b[0m\u001b[37m\u001b[0m \u001b[1m2s\u001b[0m 4ms/step - loss: 0.2529 - precision_3: 0.8156 - recall_3: 0.8758 - val_loss: 0.2708 - val_precision_3: 0.7805 - val_recall_3: 0.9316\n",
            "Epoch 38/40\n",
            "\u001b[1m349/349\u001b[0m \u001b[32m━━━━━━━━━━━━━━━━━━━━\u001b[0m\u001b[37m\u001b[0m \u001b[1m2s\u001b[0m 3ms/step - loss: 0.2560 - precision_3: 0.8112 - recall_3: 0.8619 - val_loss: 0.2695 - val_precision_3: 0.7890 - val_recall_3: 0.9165\n",
            "Epoch 39/40\n",
            "\u001b[1m349/349\u001b[0m \u001b[32m━━━━━━━━━━━━━━━━━━━━\u001b[0m\u001b[37m\u001b[0m \u001b[1m1s\u001b[0m 3ms/step - loss: 0.2567 - precision_3: 0.8103 - recall_3: 0.8732 - val_loss: 0.2646 - val_precision_3: 0.8375 - val_recall_3: 0.8286\n",
            "Epoch 40/40\n",
            "\u001b[1m349/349\u001b[0m \u001b[32m━━━━━━━━━━━━━━━━━━━━\u001b[0m\u001b[37m\u001b[0m \u001b[1m1s\u001b[0m 3ms/step - loss: 0.2514 - precision_3: 0.8208 - recall_3: 0.8701 - val_loss: 0.2746 - val_precision_3: 0.7792 - val_recall_3: 0.9369\n"
          ]
        }
      ],
      "source": [
        "history = model.fit(X_train,\n",
        "                    y_train,\n",
        "                    batch_size=32,\n",
        "                    epochs=40,\n",
        "                    validation_split=0.2,\n",
        "                    callbacks=[early_stopping])"
      ]
    },
    {
      "cell_type": "code",
      "execution_count": null,
      "metadata": {
        "colab": {
          "base_uri": "https://localhost:8080/"
        },
        "id": "y4cOGxL5-mBd",
        "outputId": "2e7be5f8-6702-4b45-a552-eeab79a9dc23"
      },
      "outputs": [
        {
          "output_type": "stream",
          "name": "stdout",
          "text": [
            "\u001b[1m109/109\u001b[0m \u001b[32m━━━━━━━━━━━━━━━━━━━━\u001b[0m\u001b[37m\u001b[0m \u001b[1m0s\u001b[0m 2ms/step\n",
            "f1 score : 0.88\n"
          ]
        }
      ],
      "source": [
        "prediction = model.predict(X_test)\n",
        "print('f1 score : %.2f' %f1_score(y_test,prediction>0.5,average='macro'))"
      ]
    },
    {
      "cell_type": "markdown",
      "source": [
        "So as we guessed the prediction improved."
      ],
      "metadata": {
        "id": "3gP__i-Zhnoe"
      }
    },
    {
      "cell_type": "markdown",
      "metadata": {
        "id": "yuf2v5WnPQu_"
      },
      "source": [
        "## Multilayer Feedforward Network with PyTorch\n",
        "\n",
        "Now we implement feedforwarding using PyTorch.\n",
        "\n",
        "It is similar to the implementation for the regression part."
      ]
    },
    {
      "cell_type": "code",
      "execution_count": null,
      "metadata": {
        "id": "5NWaL_QsQTUX"
      },
      "outputs": [],
      "source": [
        "import torch.nn as nn\n",
        "import torch.nn.functional as F\n",
        "from torch.utils.data import TensorDataset, DataLoader\n",
        "from torch import Tensor"
      ]
    },
    {
      "cell_type": "code",
      "execution_count": null,
      "metadata": {
        "id": "qjEZX01NPYRM"
      },
      "outputs": [],
      "source": [
        "tensor_X_train = Tensor(X_train.values.astype(np.float32))\n",
        "tensor_y_train = Tensor(y_train.values.astype(np.float32))\n",
        "tensor_X_test = Tensor(X_test.values.astype(np.float32))\n",
        "tensor_y_test = Tensor(y_test.values.astype(np.float32))\n",
        "\n",
        "train_set = TensorDataset(tensor_X_train,tensor_y_train)\n",
        "test_set = TensorDataset(tensor_X_test,tensor_y_test)\n",
        "\n",
        "\n",
        "train_dl = DataLoader(train_set,batch_size=32, shuffle=True)\n",
        "test_dl = DataLoader(test_set,batch_size=32, shuffle=True)\n"
      ]
    },
    {
      "cell_type": "code",
      "execution_count": null,
      "metadata": {
        "id": "qN-yfvZfPmMc"
      },
      "outputs": [],
      "source": [
        "layers = []\n",
        "layers.append(nn.Linear(X_train.shape[1], 20))\n",
        "layers.append(nn.ReLU())\n",
        "\n",
        "layers.append(nn.Linear(20, 10))\n",
        "layers.append(nn.Tanh())\n",
        "\n",
        "layers.append(nn.Linear(10, 5))\n",
        "layers.append(nn.Sigmoid())\n",
        "\n",
        "layers.append(nn.Linear(5, 1))\n",
        "layers.append(nn.Sigmoid())\n",
        "\n",
        "model = nn.Sequential(*layers)"
      ]
    },
    {
      "cell_type": "markdown",
      "source": [
        "We use binary cross entropy for the loss function and set the learning rate to 0.0001 to control the step size for the parameter updates but it can lead to slow training."
      ],
      "metadata": {
        "id": "MlBXl33kh97f"
      }
    },
    {
      "cell_type": "code",
      "execution_count": null,
      "metadata": {
        "id": "VfEFUWrkPv9R"
      },
      "outputs": [],
      "source": [
        "from torch.nn import BCELoss\n",
        "from torch.optim import Adam\n",
        "\n",
        "criterion = BCELoss()\n",
        "optimizer = Adam(model.parameters(), lr=0.0001)"
      ]
    },
    {
      "cell_type": "markdown",
      "source": [
        "We implement the training process. The methods are similar to the regression task."
      ],
      "metadata": {
        "id": "E43kGQuqjt6E"
      }
    },
    {
      "cell_type": "code",
      "execution_count": null,
      "metadata": {
        "colab": {
          "base_uri": "https://localhost:8080/"
        },
        "id": "cuWF0umXPzmf",
        "outputId": "5188e287-979f-4465-c428-49c9dbffebe1"
      },
      "outputs": [
        {
          "output_type": "stream",
          "name": "stdout",
          "text": [
            "[1,     1] F1 Score is: 0.000\n",
            "[2,     1] F1 Score is: 0.000\n",
            "[3,     1] F1 Score is: 0.000\n",
            "[4,     1] F1 Score is: 0.000\n",
            "[5,     1] F1 Score is: 0.000\n",
            "[6,     1] F1 Score is: 0.000\n",
            "[7,     1] F1 Score is: 0.000\n",
            "[8,     1] F1 Score is: 0.000\n",
            "[9,     1] F1 Score is: 0.000\n",
            "[10,     1] F1 Score is: 0.000\n",
            "[11,     1] F1 Score is: 0.000\n",
            "[12,     1] F1 Score is: 0.000\n",
            "[13,     1] F1 Score is: 0.000\n",
            "[14,     1] F1 Score is: 0.000\n",
            "[15,     1] F1 Score is: 0.000\n",
            "[16,     1] F1 Score is: 0.000\n",
            "[17,     1] F1 Score is: 0.000\n",
            "[18,     1] F1 Score is: 0.000\n",
            "[19,     1] F1 Score is: 0.000\n",
            "[20,     1] F1 Score is: 0.000\n",
            "[21,     1] F1 Score is: 0.000\n",
            "[22,     1] F1 Score is: 0.000\n",
            "[23,     1] F1 Score is: 0.000\n",
            "[24,     1] F1 Score is: 0.000\n",
            "[25,     1] F1 Score is: 0.000\n",
            "[26,     1] F1 Score is: 0.000\n",
            "[27,     1] F1 Score is: 0.000\n",
            "[28,     1] F1 Score is: 0.000\n",
            "[29,     1] F1 Score is: 0.000\n",
            "[30,     1] F1 Score is: 0.000\n",
            "[31,     1] F1 Score is: 0.000\n",
            "[32,     1] F1 Score is: 0.000\n",
            "[33,     1] F1 Score is: 0.000\n",
            "[34,     1] F1 Score is: 0.000\n",
            "[35,     1] F1 Score is: 0.000\n",
            "[36,     1] F1 Score is: 0.000\n",
            "[37,     1] F1 Score is: 0.000\n",
            "[38,     1] F1 Score is: 0.000\n",
            "[39,     1] F1 Score is: 0.000\n",
            "[40,     1] F1 Score is: 0.000\n",
            "[41,     1] F1 Score is: 0.000\n",
            "[42,     1] F1 Score is: 0.000\n",
            "[43,     1] F1 Score is: 0.000\n",
            "[44,     1] F1 Score is: 0.000\n",
            "[45,     1] F1 Score is: 0.000\n",
            "[46,     1] F1 Score is: 0.000\n",
            "[47,     1] F1 Score is: 0.000\n",
            "[48,     1] F1 Score is: 0.000\n",
            "[49,     1] F1 Score is: 0.000\n",
            "[50,     1] F1 Score is: 0.000\n"
          ]
        }
      ],
      "source": [
        "for epoch in range(50):\n",
        "\n",
        "    running_loss = 0.0\n",
        "    for i, (inputs, targets) in enumerate(train_dl):\n",
        "\n",
        "        optimizer.zero_grad()\n",
        "\n",
        "        yhat = model(inputs)\n",
        "\n",
        "        loss = criterion(yhat.ravel(), targets)\n",
        "\n",
        "        loss.backward()\n",
        "\n",
        "        optimizer.step()\n",
        "\n",
        "        running_loss += loss.item()\n",
        "        if not i % 5000:\n",
        "            print('[%d, %5d] F1 Score is: %.3f' %\n",
        "                  (epoch + 1, i + 1, running_loss / 2000))\n",
        "            running_loss = 0.0"
      ]
    },
    {
      "cell_type": "markdown",
      "source": [
        "Since the output activation function is sigmoid, it produces a continuous value. Therefore, we need to apply a threshold to classify the data points.\n",
        "\n",
        "Other parts of the implementation are similar to the regression task, with the key difference being that here we evaluate performance using the F1 score instead of R2 score.\n"
      ],
      "metadata": {
        "id": "4VMMTe5Gj5FN"
      }
    },
    {
      "cell_type": "code",
      "execution_count": null,
      "metadata": {
        "colab": {
          "base_uri": "https://localhost:8080/"
        },
        "id": "0RylOac_QJUa",
        "outputId": "62f6066e-7aab-4b19-b035-34f09463d483"
      },
      "outputs": [
        {
          "output_type": "stream",
          "name": "stdout",
          "text": [
            "Macro F1-score is 0.77\n"
          ]
        }
      ],
      "source": [
        "from sklearn.metrics import precision_recall_fscore_support\n",
        "precision = 0\n",
        "recall = 0\n",
        "total_itr = 0\n",
        "for i, (inputs, targets) in enumerate(test_dl):\n",
        "\n",
        "    yhat = model(inputs).ravel()\n",
        "    pr,rc,f1,_ = precision_recall_fscore_support(yhat.detach().numpy()>0.4, targets.detach().numpy(), average='macro')\n",
        "    precision += pr\n",
        "    recall += rc\n",
        "    total_itr += 1\n",
        "\n",
        "precision /= total_itr\n",
        "recall /= total_itr\n",
        "\n",
        "print('Macro F1-score is %.2f' %(2*precision*recall/(precision+recall)))"
      ]
    },
    {
      "cell_type": "markdown",
      "metadata": {
        "id": "LoA7Q13JQ45h"
      },
      "source": [
        "Let's change the number of neurons to tune our model."
      ]
    },
    {
      "cell_type": "code",
      "execution_count": null,
      "metadata": {
        "id": "Se1RqYIbRTJ8"
      },
      "outputs": [],
      "source": [
        "layers = []\n",
        "layers.append(nn.Linear(X_train.shape[1], 30))\n",
        "layers.append(nn.ReLU())\n",
        "\n",
        "layers.append(nn.Linear(30, 10))\n",
        "layers.append(nn.Tanh())\n",
        "\n",
        "layers.append(nn.Linear(10, 5))\n",
        "layers.append(nn.Sigmoid())\n",
        "\n",
        "layers.append(nn.Linear(5, 1))\n",
        "layers.append(nn.Sigmoid())\n",
        "\n",
        "model = nn.Sequential(*layers)"
      ]
    },
    {
      "cell_type": "code",
      "execution_count": null,
      "metadata": {
        "id": "SbB6sxH5RaHg"
      },
      "outputs": [],
      "source": [
        "from torch.nn import BCELoss\n",
        "from torch.optim import Adam\n",
        "\n",
        "criterion = BCELoss()\n",
        "optimizer = Adam(model.parameters(), lr=0.0001)"
      ]
    },
    {
      "cell_type": "code",
      "execution_count": null,
      "metadata": {
        "colab": {
          "base_uri": "https://localhost:8080/"
        },
        "id": "uEpwl1FdRdDz",
        "outputId": "a086862a-e931-4a59-c64b-58c237ef644a"
      },
      "outputs": [
        {
          "output_type": "stream",
          "name": "stdout",
          "text": [
            "[1,     1] F1 Score is: 0.000\n",
            "[2,     1] F1 Score is: 0.000\n",
            "[3,     1] F1 Score is: 0.000\n",
            "[4,     1] F1 Score is: 0.000\n",
            "[5,     1] F1 Score is: 0.000\n",
            "[6,     1] F1 Score is: 0.000\n",
            "[7,     1] F1 Score is: 0.000\n",
            "[8,     1] F1 Score is: 0.000\n",
            "[9,     1] F1 Score is: 0.000\n",
            "[10,     1] F1 Score is: 0.000\n",
            "[11,     1] F1 Score is: 0.000\n",
            "[12,     1] F1 Score is: 0.000\n",
            "[13,     1] F1 Score is: 0.000\n",
            "[14,     1] F1 Score is: 0.000\n",
            "[15,     1] F1 Score is: 0.000\n",
            "[16,     1] F1 Score is: 0.000\n",
            "[17,     1] F1 Score is: 0.000\n",
            "[18,     1] F1 Score is: 0.000\n",
            "[19,     1] F1 Score is: 0.000\n",
            "[20,     1] F1 Score is: 0.000\n",
            "[21,     1] F1 Score is: 0.000\n",
            "[22,     1] F1 Score is: 0.000\n",
            "[23,     1] F1 Score is: 0.000\n",
            "[24,     1] F1 Score is: 0.000\n",
            "[25,     1] F1 Score is: 0.000\n",
            "[26,     1] F1 Score is: 0.000\n",
            "[27,     1] F1 Score is: 0.000\n",
            "[28,     1] F1 Score is: 0.000\n",
            "[29,     1] F1 Score is: 0.000\n",
            "[30,     1] F1 Score is: 0.000\n",
            "[31,     1] F1 Score is: 0.000\n",
            "[32,     1] F1 Score is: 0.000\n",
            "[33,     1] F1 Score is: 0.000\n",
            "[34,     1] F1 Score is: 0.000\n",
            "[35,     1] F1 Score is: 0.000\n",
            "[36,     1] F1 Score is: 0.000\n",
            "[37,     1] F1 Score is: 0.000\n",
            "[38,     1] F1 Score is: 0.000\n",
            "[39,     1] F1 Score is: 0.000\n",
            "[40,     1] F1 Score is: 0.000\n",
            "[41,     1] F1 Score is: 0.000\n",
            "[42,     1] F1 Score is: 0.000\n",
            "[43,     1] F1 Score is: 0.000\n",
            "[44,     1] F1 Score is: 0.000\n",
            "[45,     1] F1 Score is: 0.000\n",
            "[46,     1] F1 Score is: 0.000\n",
            "[47,     1] F1 Score is: 0.000\n",
            "[48,     1] F1 Score is: 0.000\n",
            "[49,     1] F1 Score is: 0.000\n",
            "[50,     1] F1 Score is: 0.000\n"
          ]
        }
      ],
      "source": [
        "for epoch in range(50):\n",
        "\n",
        "    running_loss = 0.0\n",
        "    for i, (inputs, targets) in enumerate(train_dl):\n",
        "\n",
        "        optimizer.zero_grad()\n",
        "\n",
        "        yhat = model(inputs)\n",
        "\n",
        "        loss = criterion(yhat.ravel(), targets)\n",
        "\n",
        "        loss.backward()\n",
        "\n",
        "        optimizer.step()\n",
        "\n",
        "        running_loss += loss.item()\n",
        "        if not i % 5000:\n",
        "            print('[%d, %5d] F1 Score is: %.3f' %\n",
        "                  (epoch + 1, i + 1, running_loss / 2000))\n",
        "            running_loss = 0.0"
      ]
    },
    {
      "cell_type": "code",
      "execution_count": null,
      "metadata": {
        "colab": {
          "base_uri": "https://localhost:8080/"
        },
        "id": "WyPS2zgyRrK8",
        "outputId": "b3072432-83ba-4ce5-b2ed-903593952c1a"
      },
      "outputs": [
        {
          "output_type": "stream",
          "name": "stdout",
          "text": [
            "Macro F1-score is 0.82\n"
          ]
        }
      ],
      "source": [
        "from sklearn.metrics import precision_recall_fscore_support\n",
        "precision = 0\n",
        "recall = 0\n",
        "total_itr = 0\n",
        "for i, (inputs, targets) in enumerate(test_dl):\n",
        "\n",
        "    yhat = model(inputs).ravel()\n",
        "    pr,rc,f1,_ = precision_recall_fscore_support(yhat.detach().numpy()>0.4, targets.detach().numpy(), average='macro')\n",
        "    precision += pr\n",
        "    recall += rc\n",
        "    total_itr += 1\n",
        "\n",
        "precision /= total_itr\n",
        "recall /= total_itr\n",
        "\n",
        "print('Macro F1-score is %.2f' %(2*precision*recall/(precision+recall)))"
      ]
    },
    {
      "cell_type": "markdown",
      "source": [
        "As we can see the f1 score improved significantly."
      ],
      "metadata": {
        "id": "vCk0MP1Rkqf4"
      }
    },
    {
      "cell_type": "markdown",
      "metadata": {
        "id": "hjIFaJVYmpx_"
      },
      "source": [
        "# Question\n",
        "\n",
        "**Explain why neural networks are so powerful and what the diffcult part is in designing neural networks.**"
      ]
    },
    {
      "cell_type": "markdown",
      "metadata": {
        "id": "TK4xblG6m2Pu"
      },
      "source": [
        "Neural networks work much like the human brain.  \n",
        "They can find and *learn* complex patterns without being explicitly programmed — a game changer for large datasets where simpler models may miss finding complex relationships.\n",
        "\n",
        "Neural networks learn these patterns through **backpropagation**, adjusting weights to minimize prediction errors.\n",
        "\n",
        "However, **hyperparameter tuning** in neural networks can be challenging. Poor choices — such as inappropriate learning rates, batch sizes, number of epochs, or regularization — can lead to **overfitting** or **underfitting**.\n",
        "\n",
        "Additionally, they can be **computationally expensive**, often requiring powerful hardware.\n"
      ]
    },
    {
      "cell_type": "markdown",
      "metadata": {
        "id": "iFbyMyROS2KX"
      },
      "source": [
        "# Bonus"
      ]
    },
    {
      "cell_type": "markdown",
      "metadata": {
        "id": "kUe12eNfS6ul"
      },
      "source": [
        "## Recurrent Neural Network with Keras"
      ]
    },
    {
      "cell_type": "markdown",
      "metadata": {
        "id": "21fMzbZbTHaZ"
      },
      "source": [
        "### Classification\n",
        "\n",
        "Since the demand for bike-rental in an hour depends on the past few hours, we use an RNN model."
      ]
    },
    {
      "cell_type": "markdown",
      "source": [
        "Then we set the timestemp column to the index of our dataframe and sort it based from earliest to latest with hourly steps."
      ],
      "metadata": {
        "id": "te52d3wUn_b1"
      }
    },
    {
      "cell_type": "code",
      "execution_count": null,
      "metadata": {
        "colab": {
          "base_uri": "https://localhost:8080/"
        },
        "id": "noAL4ixbTqu7",
        "outputId": "aa703cf9-cae8-4a73-de9a-b35e50de77f8"
      },
      "outputs": [
        {
          "output_type": "stream",
          "name": "stderr",
          "text": [
            "<ipython-input-166-678bce9fc2af>:2: FutureWarning: 'H' is deprecated and will be removed in a future version, please use 'h' instead.\n",
            "  full_range = pd.date_range(start=df.index.min(), end=df.index.max(), freq='H')\n"
          ]
        }
      ],
      "source": [
        "df.set_index('Hour', inplace=True)\n",
        "full_range = pd.date_range(start=df.index.min(), end=df.index.max(), freq='H')"
      ]
    },
    {
      "cell_type": "markdown",
      "source": [
        "Note that in the original dataet the timestemp was already sorted."
      ],
      "metadata": {
        "id": "c0JrE8Q7p-aJ"
      }
    },
    {
      "cell_type": "markdown",
      "source": [
        "We also need to make sure we don't have any missing values in the hourly steps."
      ],
      "metadata": {
        "id": "iJv3C7b1oj1a"
      }
    },
    {
      "cell_type": "code",
      "source": [
        "df.isnull().sum()"
      ],
      "metadata": {
        "colab": {
          "base_uri": "https://localhost:8080/",
          "height": 455
        },
        "id": "7xTLfyxppDC3",
        "outputId": "58d7d01c-f278-4002-f93f-b49b256d7e60"
      },
      "execution_count": null,
      "outputs": [
        {
          "output_type": "execute_result",
          "data": {
            "text/plain": [
              "cnt             0\n",
              "t1              0\n",
              "t2              0\n",
              "hum             0\n",
              "wind_speed      0\n",
              "weather_code    0\n",
              "is_holiday      0\n",
              "is_weekend      0\n",
              "season          0\n",
              "Year            0\n",
              "Month           0\n",
              "Day             0\n",
              "dtype: int64"
            ],
            "text/html": [
              "<div>\n",
              "<style scoped>\n",
              "    .dataframe tbody tr th:only-of-type {\n",
              "        vertical-align: middle;\n",
              "    }\n",
              "\n",
              "    .dataframe tbody tr th {\n",
              "        vertical-align: top;\n",
              "    }\n",
              "\n",
              "    .dataframe thead th {\n",
              "        text-align: right;\n",
              "    }\n",
              "</style>\n",
              "<table border=\"1\" class=\"dataframe\">\n",
              "  <thead>\n",
              "    <tr style=\"text-align: right;\">\n",
              "      <th></th>\n",
              "      <th>0</th>\n",
              "    </tr>\n",
              "  </thead>\n",
              "  <tbody>\n",
              "    <tr>\n",
              "      <th>cnt</th>\n",
              "      <td>0</td>\n",
              "    </tr>\n",
              "    <tr>\n",
              "      <th>t1</th>\n",
              "      <td>0</td>\n",
              "    </tr>\n",
              "    <tr>\n",
              "      <th>t2</th>\n",
              "      <td>0</td>\n",
              "    </tr>\n",
              "    <tr>\n",
              "      <th>hum</th>\n",
              "      <td>0</td>\n",
              "    </tr>\n",
              "    <tr>\n",
              "      <th>wind_speed</th>\n",
              "      <td>0</td>\n",
              "    </tr>\n",
              "    <tr>\n",
              "      <th>weather_code</th>\n",
              "      <td>0</td>\n",
              "    </tr>\n",
              "    <tr>\n",
              "      <th>is_holiday</th>\n",
              "      <td>0</td>\n",
              "    </tr>\n",
              "    <tr>\n",
              "      <th>is_weekend</th>\n",
              "      <td>0</td>\n",
              "    </tr>\n",
              "    <tr>\n",
              "      <th>season</th>\n",
              "      <td>0</td>\n",
              "    </tr>\n",
              "    <tr>\n",
              "      <th>Year</th>\n",
              "      <td>0</td>\n",
              "    </tr>\n",
              "    <tr>\n",
              "      <th>Month</th>\n",
              "      <td>0</td>\n",
              "    </tr>\n",
              "    <tr>\n",
              "      <th>Day</th>\n",
              "      <td>0</td>\n",
              "    </tr>\n",
              "  </tbody>\n",
              "</table>\n",
              "</div><br><label><b>dtype:</b> int64</label>"
            ]
          },
          "metadata": {},
          "execution_count": 168
        }
      ]
    },
    {
      "cell_type": "markdown",
      "source": [
        "Then we convert the timestemp back to a regular column."
      ],
      "metadata": {
        "id": "APbOcRJCpPd1"
      }
    },
    {
      "cell_type": "code",
      "source": [
        "df.rename(columns={'index': 'hour'}, inplace=True)\n",
        "df"
      ],
      "metadata": {
        "colab": {
          "base_uri": "https://localhost:8080/",
          "height": 450
        },
        "id": "z1IawPv3oh-r",
        "outputId": "fb6b2330-10a0-469f-f91d-bbadf5324664"
      },
      "execution_count": null,
      "outputs": [
        {
          "output_type": "execute_result",
          "data": {
            "text/plain": [
              "       cnt   t1   t2    hum  wind_speed  weather_code  is_holiday  is_weekend  \\\n",
              "Hour                                                                            \n",
              "0      182  3.0  2.0   93.0         6.0           3.0         0.0         1.0   \n",
              "1      138  3.0  2.5   93.0         5.0           1.0         0.0         1.0   \n",
              "2      134  2.5  2.5   96.5         0.0           1.0         0.0         1.0   \n",
              "3       72  2.0  2.0  100.0         0.0           1.0         0.0         1.0   \n",
              "4       47  2.0  0.0   93.0         6.5           1.0         0.0         1.0   \n",
              "...    ...  ...  ...    ...         ...           ...         ...         ...   \n",
              "19    1042  5.0  1.0   81.0        19.0           3.0         0.0         0.0   \n",
              "20     541  5.0  1.0   81.0        21.0           4.0         0.0         0.0   \n",
              "21     337  5.5  1.5   78.5        24.0           4.0         0.0         0.0   \n",
              "22     224  5.5  1.5   76.0        23.0           4.0         0.0         0.0   \n",
              "23     139  5.0  1.0   76.0        22.0           2.0         0.0         0.0   \n",
              "\n",
              "      season  Year  Month  Day  \n",
              "Hour                            \n",
              "0        3.0  2015      1    4  \n",
              "1        3.0  2015      1    4  \n",
              "2        3.0  2015      1    4  \n",
              "3        3.0  2015      1    4  \n",
              "4        3.0  2015      1    4  \n",
              "...      ...   ...    ...  ...  \n",
              "19       3.0  2017      1    3  \n",
              "20       3.0  2017      1    3  \n",
              "21       3.0  2017      1    3  \n",
              "22       3.0  2017      1    3  \n",
              "23       3.0  2017      1    3  \n",
              "\n",
              "[17414 rows x 12 columns]"
            ],
            "text/html": [
              "\n",
              "  <div id=\"df-17978ff2-df49-490f-a8fc-19ba01ff02a6\" class=\"colab-df-container\">\n",
              "    <div>\n",
              "<style scoped>\n",
              "    .dataframe tbody tr th:only-of-type {\n",
              "        vertical-align: middle;\n",
              "    }\n",
              "\n",
              "    .dataframe tbody tr th {\n",
              "        vertical-align: top;\n",
              "    }\n",
              "\n",
              "    .dataframe thead th {\n",
              "        text-align: right;\n",
              "    }\n",
              "</style>\n",
              "<table border=\"1\" class=\"dataframe\">\n",
              "  <thead>\n",
              "    <tr style=\"text-align: right;\">\n",
              "      <th></th>\n",
              "      <th>cnt</th>\n",
              "      <th>t1</th>\n",
              "      <th>t2</th>\n",
              "      <th>hum</th>\n",
              "      <th>wind_speed</th>\n",
              "      <th>weather_code</th>\n",
              "      <th>is_holiday</th>\n",
              "      <th>is_weekend</th>\n",
              "      <th>season</th>\n",
              "      <th>Year</th>\n",
              "      <th>Month</th>\n",
              "      <th>Day</th>\n",
              "    </tr>\n",
              "    <tr>\n",
              "      <th>Hour</th>\n",
              "      <th></th>\n",
              "      <th></th>\n",
              "      <th></th>\n",
              "      <th></th>\n",
              "      <th></th>\n",
              "      <th></th>\n",
              "      <th></th>\n",
              "      <th></th>\n",
              "      <th></th>\n",
              "      <th></th>\n",
              "      <th></th>\n",
              "      <th></th>\n",
              "    </tr>\n",
              "  </thead>\n",
              "  <tbody>\n",
              "    <tr>\n",
              "      <th>0</th>\n",
              "      <td>182</td>\n",
              "      <td>3.0</td>\n",
              "      <td>2.0</td>\n",
              "      <td>93.0</td>\n",
              "      <td>6.0</td>\n",
              "      <td>3.0</td>\n",
              "      <td>0.0</td>\n",
              "      <td>1.0</td>\n",
              "      <td>3.0</td>\n",
              "      <td>2015</td>\n",
              "      <td>1</td>\n",
              "      <td>4</td>\n",
              "    </tr>\n",
              "    <tr>\n",
              "      <th>1</th>\n",
              "      <td>138</td>\n",
              "      <td>3.0</td>\n",
              "      <td>2.5</td>\n",
              "      <td>93.0</td>\n",
              "      <td>5.0</td>\n",
              "      <td>1.0</td>\n",
              "      <td>0.0</td>\n",
              "      <td>1.0</td>\n",
              "      <td>3.0</td>\n",
              "      <td>2015</td>\n",
              "      <td>1</td>\n",
              "      <td>4</td>\n",
              "    </tr>\n",
              "    <tr>\n",
              "      <th>2</th>\n",
              "      <td>134</td>\n",
              "      <td>2.5</td>\n",
              "      <td>2.5</td>\n",
              "      <td>96.5</td>\n",
              "      <td>0.0</td>\n",
              "      <td>1.0</td>\n",
              "      <td>0.0</td>\n",
              "      <td>1.0</td>\n",
              "      <td>3.0</td>\n",
              "      <td>2015</td>\n",
              "      <td>1</td>\n",
              "      <td>4</td>\n",
              "    </tr>\n",
              "    <tr>\n",
              "      <th>3</th>\n",
              "      <td>72</td>\n",
              "      <td>2.0</td>\n",
              "      <td>2.0</td>\n",
              "      <td>100.0</td>\n",
              "      <td>0.0</td>\n",
              "      <td>1.0</td>\n",
              "      <td>0.0</td>\n",
              "      <td>1.0</td>\n",
              "      <td>3.0</td>\n",
              "      <td>2015</td>\n",
              "      <td>1</td>\n",
              "      <td>4</td>\n",
              "    </tr>\n",
              "    <tr>\n",
              "      <th>4</th>\n",
              "      <td>47</td>\n",
              "      <td>2.0</td>\n",
              "      <td>0.0</td>\n",
              "      <td>93.0</td>\n",
              "      <td>6.5</td>\n",
              "      <td>1.0</td>\n",
              "      <td>0.0</td>\n",
              "      <td>1.0</td>\n",
              "      <td>3.0</td>\n",
              "      <td>2015</td>\n",
              "      <td>1</td>\n",
              "      <td>4</td>\n",
              "    </tr>\n",
              "    <tr>\n",
              "      <th>...</th>\n",
              "      <td>...</td>\n",
              "      <td>...</td>\n",
              "      <td>...</td>\n",
              "      <td>...</td>\n",
              "      <td>...</td>\n",
              "      <td>...</td>\n",
              "      <td>...</td>\n",
              "      <td>...</td>\n",
              "      <td>...</td>\n",
              "      <td>...</td>\n",
              "      <td>...</td>\n",
              "      <td>...</td>\n",
              "    </tr>\n",
              "    <tr>\n",
              "      <th>19</th>\n",
              "      <td>1042</td>\n",
              "      <td>5.0</td>\n",
              "      <td>1.0</td>\n",
              "      <td>81.0</td>\n",
              "      <td>19.0</td>\n",
              "      <td>3.0</td>\n",
              "      <td>0.0</td>\n",
              "      <td>0.0</td>\n",
              "      <td>3.0</td>\n",
              "      <td>2017</td>\n",
              "      <td>1</td>\n",
              "      <td>3</td>\n",
              "    </tr>\n",
              "    <tr>\n",
              "      <th>20</th>\n",
              "      <td>541</td>\n",
              "      <td>5.0</td>\n",
              "      <td>1.0</td>\n",
              "      <td>81.0</td>\n",
              "      <td>21.0</td>\n",
              "      <td>4.0</td>\n",
              "      <td>0.0</td>\n",
              "      <td>0.0</td>\n",
              "      <td>3.0</td>\n",
              "      <td>2017</td>\n",
              "      <td>1</td>\n",
              "      <td>3</td>\n",
              "    </tr>\n",
              "    <tr>\n",
              "      <th>21</th>\n",
              "      <td>337</td>\n",
              "      <td>5.5</td>\n",
              "      <td>1.5</td>\n",
              "      <td>78.5</td>\n",
              "      <td>24.0</td>\n",
              "      <td>4.0</td>\n",
              "      <td>0.0</td>\n",
              "      <td>0.0</td>\n",
              "      <td>3.0</td>\n",
              "      <td>2017</td>\n",
              "      <td>1</td>\n",
              "      <td>3</td>\n",
              "    </tr>\n",
              "    <tr>\n",
              "      <th>22</th>\n",
              "      <td>224</td>\n",
              "      <td>5.5</td>\n",
              "      <td>1.5</td>\n",
              "      <td>76.0</td>\n",
              "      <td>23.0</td>\n",
              "      <td>4.0</td>\n",
              "      <td>0.0</td>\n",
              "      <td>0.0</td>\n",
              "      <td>3.0</td>\n",
              "      <td>2017</td>\n",
              "      <td>1</td>\n",
              "      <td>3</td>\n",
              "    </tr>\n",
              "    <tr>\n",
              "      <th>23</th>\n",
              "      <td>139</td>\n",
              "      <td>5.0</td>\n",
              "      <td>1.0</td>\n",
              "      <td>76.0</td>\n",
              "      <td>22.0</td>\n",
              "      <td>2.0</td>\n",
              "      <td>0.0</td>\n",
              "      <td>0.0</td>\n",
              "      <td>3.0</td>\n",
              "      <td>2017</td>\n",
              "      <td>1</td>\n",
              "      <td>3</td>\n",
              "    </tr>\n",
              "  </tbody>\n",
              "</table>\n",
              "<p>17414 rows × 12 columns</p>\n",
              "</div>\n",
              "    <div class=\"colab-df-buttons\">\n",
              "\n",
              "  <div class=\"colab-df-container\">\n",
              "    <button class=\"colab-df-convert\" onclick=\"convertToInteractive('df-17978ff2-df49-490f-a8fc-19ba01ff02a6')\"\n",
              "            title=\"Convert this dataframe to an interactive table.\"\n",
              "            style=\"display:none;\">\n",
              "\n",
              "  <svg xmlns=\"http://www.w3.org/2000/svg\" height=\"24px\" viewBox=\"0 -960 960 960\">\n",
              "    <path d=\"M120-120v-720h720v720H120Zm60-500h600v-160H180v160Zm220 220h160v-160H400v160Zm0 220h160v-160H400v160ZM180-400h160v-160H180v160Zm440 0h160v-160H620v160ZM180-180h160v-160H180v160Zm440 0h160v-160H620v160Z\"/>\n",
              "  </svg>\n",
              "    </button>\n",
              "\n",
              "  <style>\n",
              "    .colab-df-container {\n",
              "      display:flex;\n",
              "      gap: 12px;\n",
              "    }\n",
              "\n",
              "    .colab-df-convert {\n",
              "      background-color: #E8F0FE;\n",
              "      border: none;\n",
              "      border-radius: 50%;\n",
              "      cursor: pointer;\n",
              "      display: none;\n",
              "      fill: #1967D2;\n",
              "      height: 32px;\n",
              "      padding: 0 0 0 0;\n",
              "      width: 32px;\n",
              "    }\n",
              "\n",
              "    .colab-df-convert:hover {\n",
              "      background-color: #E2EBFA;\n",
              "      box-shadow: 0px 1px 2px rgba(60, 64, 67, 0.3), 0px 1px 3px 1px rgba(60, 64, 67, 0.15);\n",
              "      fill: #174EA6;\n",
              "    }\n",
              "\n",
              "    .colab-df-buttons div {\n",
              "      margin-bottom: 4px;\n",
              "    }\n",
              "\n",
              "    [theme=dark] .colab-df-convert {\n",
              "      background-color: #3B4455;\n",
              "      fill: #D2E3FC;\n",
              "    }\n",
              "\n",
              "    [theme=dark] .colab-df-convert:hover {\n",
              "      background-color: #434B5C;\n",
              "      box-shadow: 0px 1px 3px 1px rgba(0, 0, 0, 0.15);\n",
              "      filter: drop-shadow(0px 1px 2px rgba(0, 0, 0, 0.3));\n",
              "      fill: #FFFFFF;\n",
              "    }\n",
              "  </style>\n",
              "\n",
              "    <script>\n",
              "      const buttonEl =\n",
              "        document.querySelector('#df-17978ff2-df49-490f-a8fc-19ba01ff02a6 button.colab-df-convert');\n",
              "      buttonEl.style.display =\n",
              "        google.colab.kernel.accessAllowed ? 'block' : 'none';\n",
              "\n",
              "      async function convertToInteractive(key) {\n",
              "        const element = document.querySelector('#df-17978ff2-df49-490f-a8fc-19ba01ff02a6');\n",
              "        const dataTable =\n",
              "          await google.colab.kernel.invokeFunction('convertToInteractive',\n",
              "                                                    [key], {});\n",
              "        if (!dataTable) return;\n",
              "\n",
              "        const docLinkHtml = 'Like what you see? Visit the ' +\n",
              "          '<a target=\"_blank\" href=https://colab.research.google.com/notebooks/data_table.ipynb>data table notebook</a>'\n",
              "          + ' to learn more about interactive tables.';\n",
              "        element.innerHTML = '';\n",
              "        dataTable['output_type'] = 'display_data';\n",
              "        await google.colab.output.renderOutput(dataTable, element);\n",
              "        const docLink = document.createElement('div');\n",
              "        docLink.innerHTML = docLinkHtml;\n",
              "        element.appendChild(docLink);\n",
              "      }\n",
              "    </script>\n",
              "  </div>\n",
              "\n",
              "\n",
              "    <div id=\"df-3c88b455-cc39-42b0-98b9-0a364885968d\">\n",
              "      <button class=\"colab-df-quickchart\" onclick=\"quickchart('df-3c88b455-cc39-42b0-98b9-0a364885968d')\"\n",
              "                title=\"Suggest charts\"\n",
              "                style=\"display:none;\">\n",
              "\n",
              "<svg xmlns=\"http://www.w3.org/2000/svg\" height=\"24px\"viewBox=\"0 0 24 24\"\n",
              "     width=\"24px\">\n",
              "    <g>\n",
              "        <path d=\"M19 3H5c-1.1 0-2 .9-2 2v14c0 1.1.9 2 2 2h14c1.1 0 2-.9 2-2V5c0-1.1-.9-2-2-2zM9 17H7v-7h2v7zm4 0h-2V7h2v10zm4 0h-2v-4h2v4z\"/>\n",
              "    </g>\n",
              "</svg>\n",
              "      </button>\n",
              "\n",
              "<style>\n",
              "  .colab-df-quickchart {\n",
              "      --bg-color: #E8F0FE;\n",
              "      --fill-color: #1967D2;\n",
              "      --hover-bg-color: #E2EBFA;\n",
              "      --hover-fill-color: #174EA6;\n",
              "      --disabled-fill-color: #AAA;\n",
              "      --disabled-bg-color: #DDD;\n",
              "  }\n",
              "\n",
              "  [theme=dark] .colab-df-quickchart {\n",
              "      --bg-color: #3B4455;\n",
              "      --fill-color: #D2E3FC;\n",
              "      --hover-bg-color: #434B5C;\n",
              "      --hover-fill-color: #FFFFFF;\n",
              "      --disabled-bg-color: #3B4455;\n",
              "      --disabled-fill-color: #666;\n",
              "  }\n",
              "\n",
              "  .colab-df-quickchart {\n",
              "    background-color: var(--bg-color);\n",
              "    border: none;\n",
              "    border-radius: 50%;\n",
              "    cursor: pointer;\n",
              "    display: none;\n",
              "    fill: var(--fill-color);\n",
              "    height: 32px;\n",
              "    padding: 0;\n",
              "    width: 32px;\n",
              "  }\n",
              "\n",
              "  .colab-df-quickchart:hover {\n",
              "    background-color: var(--hover-bg-color);\n",
              "    box-shadow: 0 1px 2px rgba(60, 64, 67, 0.3), 0 1px 3px 1px rgba(60, 64, 67, 0.15);\n",
              "    fill: var(--button-hover-fill-color);\n",
              "  }\n",
              "\n",
              "  .colab-df-quickchart-complete:disabled,\n",
              "  .colab-df-quickchart-complete:disabled:hover {\n",
              "    background-color: var(--disabled-bg-color);\n",
              "    fill: var(--disabled-fill-color);\n",
              "    box-shadow: none;\n",
              "  }\n",
              "\n",
              "  .colab-df-spinner {\n",
              "    border: 2px solid var(--fill-color);\n",
              "    border-color: transparent;\n",
              "    border-bottom-color: var(--fill-color);\n",
              "    animation:\n",
              "      spin 1s steps(1) infinite;\n",
              "  }\n",
              "\n",
              "  @keyframes spin {\n",
              "    0% {\n",
              "      border-color: transparent;\n",
              "      border-bottom-color: var(--fill-color);\n",
              "      border-left-color: var(--fill-color);\n",
              "    }\n",
              "    20% {\n",
              "      border-color: transparent;\n",
              "      border-left-color: var(--fill-color);\n",
              "      border-top-color: var(--fill-color);\n",
              "    }\n",
              "    30% {\n",
              "      border-color: transparent;\n",
              "      border-left-color: var(--fill-color);\n",
              "      border-top-color: var(--fill-color);\n",
              "      border-right-color: var(--fill-color);\n",
              "    }\n",
              "    40% {\n",
              "      border-color: transparent;\n",
              "      border-right-color: var(--fill-color);\n",
              "      border-top-color: var(--fill-color);\n",
              "    }\n",
              "    60% {\n",
              "      border-color: transparent;\n",
              "      border-right-color: var(--fill-color);\n",
              "    }\n",
              "    80% {\n",
              "      border-color: transparent;\n",
              "      border-right-color: var(--fill-color);\n",
              "      border-bottom-color: var(--fill-color);\n",
              "    }\n",
              "    90% {\n",
              "      border-color: transparent;\n",
              "      border-bottom-color: var(--fill-color);\n",
              "    }\n",
              "  }\n",
              "</style>\n",
              "\n",
              "      <script>\n",
              "        async function quickchart(key) {\n",
              "          const quickchartButtonEl =\n",
              "            document.querySelector('#' + key + ' button');\n",
              "          quickchartButtonEl.disabled = true;  // To prevent multiple clicks.\n",
              "          quickchartButtonEl.classList.add('colab-df-spinner');\n",
              "          try {\n",
              "            const charts = await google.colab.kernel.invokeFunction(\n",
              "                'suggestCharts', [key], {});\n",
              "          } catch (error) {\n",
              "            console.error('Error during call to suggestCharts:', error);\n",
              "          }\n",
              "          quickchartButtonEl.classList.remove('colab-df-spinner');\n",
              "          quickchartButtonEl.classList.add('colab-df-quickchart-complete');\n",
              "        }\n",
              "        (() => {\n",
              "          let quickchartButtonEl =\n",
              "            document.querySelector('#df-3c88b455-cc39-42b0-98b9-0a364885968d button');\n",
              "          quickchartButtonEl.style.display =\n",
              "            google.colab.kernel.accessAllowed ? 'block' : 'none';\n",
              "        })();\n",
              "      </script>\n",
              "    </div>\n",
              "\n",
              "  <div id=\"id_fbe922c5-afc9-4d34-95b8-042cad0e9adc\">\n",
              "    <style>\n",
              "      .colab-df-generate {\n",
              "        background-color: #E8F0FE;\n",
              "        border: none;\n",
              "        border-radius: 50%;\n",
              "        cursor: pointer;\n",
              "        display: none;\n",
              "        fill: #1967D2;\n",
              "        height: 32px;\n",
              "        padding: 0 0 0 0;\n",
              "        width: 32px;\n",
              "      }\n",
              "\n",
              "      .colab-df-generate:hover {\n",
              "        background-color: #E2EBFA;\n",
              "        box-shadow: 0px 1px 2px rgba(60, 64, 67, 0.3), 0px 1px 3px 1px rgba(60, 64, 67, 0.15);\n",
              "        fill: #174EA6;\n",
              "      }\n",
              "\n",
              "      [theme=dark] .colab-df-generate {\n",
              "        background-color: #3B4455;\n",
              "        fill: #D2E3FC;\n",
              "      }\n",
              "\n",
              "      [theme=dark] .colab-df-generate:hover {\n",
              "        background-color: #434B5C;\n",
              "        box-shadow: 0px 1px 3px 1px rgba(0, 0, 0, 0.15);\n",
              "        filter: drop-shadow(0px 1px 2px rgba(0, 0, 0, 0.3));\n",
              "        fill: #FFFFFF;\n",
              "      }\n",
              "    </style>\n",
              "    <button class=\"colab-df-generate\" onclick=\"generateWithVariable('df')\"\n",
              "            title=\"Generate code using this dataframe.\"\n",
              "            style=\"display:none;\">\n",
              "\n",
              "  <svg xmlns=\"http://www.w3.org/2000/svg\" height=\"24px\"viewBox=\"0 0 24 24\"\n",
              "       width=\"24px\">\n",
              "    <path d=\"M7,19H8.4L18.45,9,17,7.55,7,17.6ZM5,21V16.75L18.45,3.32a2,2,0,0,1,2.83,0l1.4,1.43a1.91,1.91,0,0,1,.58,1.4,1.91,1.91,0,0,1-.58,1.4L9.25,21ZM18.45,9,17,7.55Zm-12,3A5.31,5.31,0,0,0,4.9,8.1,5.31,5.31,0,0,0,1,6.5,5.31,5.31,0,0,0,4.9,4.9,5.31,5.31,0,0,0,6.5,1,5.31,5.31,0,0,0,8.1,4.9,5.31,5.31,0,0,0,12,6.5,5.46,5.46,0,0,0,6.5,12Z\"/>\n",
              "  </svg>\n",
              "    </button>\n",
              "    <script>\n",
              "      (() => {\n",
              "      const buttonEl =\n",
              "        document.querySelector('#id_fbe922c5-afc9-4d34-95b8-042cad0e9adc button.colab-df-generate');\n",
              "      buttonEl.style.display =\n",
              "        google.colab.kernel.accessAllowed ? 'block' : 'none';\n",
              "\n",
              "      buttonEl.onclick = () => {\n",
              "        google.colab.notebook.generateWithVariable('df');\n",
              "      }\n",
              "      })();\n",
              "    </script>\n",
              "  </div>\n",
              "\n",
              "    </div>\n",
              "  </div>\n"
            ],
            "application/vnd.google.colaboratory.intrinsic+json": {
              "type": "dataframe",
              "variable_name": "df",
              "summary": "{\n  \"name\": \"df\",\n  \"rows\": 17414,\n  \"fields\": [\n    {\n      \"column\": \"Hour\",\n      \"properties\": {\n        \"dtype\": \"int32\",\n        \"num_unique_values\": 24,\n        \"samples\": [\n          8,\n          16,\n          0\n        ],\n        \"semantic_type\": \"\",\n        \"description\": \"\"\n      }\n    },\n    {\n      \"column\": \"cnt\",\n      \"properties\": {\n        \"dtype\": \"number\",\n        \"std\": 1085,\n        \"min\": 0,\n        \"max\": 7860,\n        \"num_unique_values\": 3781,\n        \"samples\": [\n          1417,\n          2143,\n          3979\n        ],\n        \"semantic_type\": \"\",\n        \"description\": \"\"\n      }\n    },\n    {\n      \"column\": \"t1\",\n      \"properties\": {\n        \"dtype\": \"number\",\n        \"std\": 5.571817562920554,\n        \"min\": -1.5,\n        \"max\": 34.0,\n        \"num_unique_values\": 73,\n        \"samples\": [\n          1.5,\n          33.5,\n          4.5\n        ],\n        \"semantic_type\": \"\",\n        \"description\": \"\"\n      }\n    },\n    {\n      \"column\": \"t2\",\n      \"properties\": {\n        \"dtype\": \"number\",\n        \"std\": 6.615144673127985,\n        \"min\": -6.0,\n        \"max\": 34.0,\n        \"num_unique_values\": 82,\n        \"samples\": [\n          14.0,\n          2.0,\n          11.5\n        ],\n        \"semantic_type\": \"\",\n        \"description\": \"\"\n      }\n    },\n    {\n      \"column\": \"hum\",\n      \"properties\": {\n        \"dtype\": \"number\",\n        \"std\": 14.313186095311346,\n        \"min\": 20.5,\n        \"max\": 100.0,\n        \"num_unique_values\": 143,\n        \"samples\": [\n          29.5,\n          71.5,\n          40.0\n        ],\n        \"semantic_type\": \"\",\n        \"description\": \"\"\n      }\n    },\n    {\n      \"column\": \"wind_speed\",\n      \"properties\": {\n        \"dtype\": \"number\",\n        \"std\": 7.894570329361007,\n        \"min\": 0.0,\n        \"max\": 56.5,\n        \"num_unique_values\": 103,\n        \"samples\": [\n          30.0,\n          2.0,\n          23.5\n        ],\n        \"semantic_type\": \"\",\n        \"description\": \"\"\n      }\n    },\n    {\n      \"column\": \"weather_code\",\n      \"properties\": {\n        \"dtype\": \"number\",\n        \"std\": 2.3411632846457198,\n        \"min\": 1.0,\n        \"max\": 26.0,\n        \"num_unique_values\": 7,\n        \"samples\": [\n          3.0,\n          1.0,\n          26.0\n        ],\n        \"semantic_type\": \"\",\n        \"description\": \"\"\n      }\n    },\n    {\n      \"column\": \"is_holiday\",\n      \"properties\": {\n        \"dtype\": \"number\",\n        \"std\": 0.1468543671527554,\n        \"min\": 0.0,\n        \"max\": 1.0,\n        \"num_unique_values\": 2,\n        \"samples\": [\n          1.0,\n          0.0\n        ],\n        \"semantic_type\": \"\",\n        \"description\": \"\"\n      }\n    },\n    {\n      \"column\": \"is_weekend\",\n      \"properties\": {\n        \"dtype\": \"number\",\n        \"std\": 0.4516189175710551,\n        \"min\": 0.0,\n        \"max\": 1.0,\n        \"num_unique_values\": 2,\n        \"samples\": [\n          0.0,\n          1.0\n        ],\n        \"semantic_type\": \"\",\n        \"description\": \"\"\n      }\n    },\n    {\n      \"column\": \"season\",\n      \"properties\": {\n        \"dtype\": \"number\",\n        \"std\": 1.118910874827905,\n        \"min\": 0.0,\n        \"max\": 3.0,\n        \"num_unique_values\": 4,\n        \"samples\": [\n          0.0,\n          2.0\n        ],\n        \"semantic_type\": \"\",\n        \"description\": \"\"\n      }\n    },\n    {\n      \"column\": \"Year\",\n      \"properties\": {\n        \"dtype\": \"int32\",\n        \"num_unique_values\": 3,\n        \"samples\": [\n          2015,\n          2016\n        ],\n        \"semantic_type\": \"\",\n        \"description\": \"\"\n      }\n    },\n    {\n      \"column\": \"Month\",\n      \"properties\": {\n        \"dtype\": \"int32\",\n        \"num_unique_values\": 12,\n        \"samples\": [\n          11,\n          10\n        ],\n        \"semantic_type\": \"\",\n        \"description\": \"\"\n      }\n    },\n    {\n      \"column\": \"Day\",\n      \"properties\": {\n        \"dtype\": \"int32\",\n        \"num_unique_values\": 31,\n        \"samples\": [\n          31,\n          19\n        ],\n        \"semantic_type\": \"\",\n        \"description\": \"\"\n      }\n    }\n  ]\n}"
            }
          },
          "metadata": {},
          "execution_count": 170
        }
      ]
    },
    {
      "cell_type": "markdown",
      "source": [
        "Now we create the binary target."
      ],
      "metadata": {
        "id": "GaGehY3oqWlJ"
      }
    },
    {
      "cell_type": "code",
      "execution_count": null,
      "metadata": {
        "id": "gRnSP02lTtnY"
      },
      "outputs": [],
      "source": [
        "median_cnt = df['cnt'].median()\n",
        "df['demand'] = (df['cnt'] > median_cnt).astype(int)"
      ]
    },
    {
      "cell_type": "markdown",
      "source": [
        "Now we define the features and target's sets."
      ],
      "metadata": {
        "id": "GyTGiY9mqgR7"
      }
    },
    {
      "cell_type": "code",
      "execution_count": null,
      "metadata": {
        "id": "CAxoZy9hTy1K"
      },
      "outputs": [],
      "source": [
        "features = [col for col in df.columns if col not in ['timestamp', 'cnt', 'demand']]\n",
        "X = df[features].values\n",
        "y = df['demand'].values"
      ]
    },
    {
      "cell_type": "markdown",
      "source": [
        "Then we normalize our data so they would be in the same range."
      ],
      "metadata": {
        "id": "dRtHZ8xSqmYW"
      }
    },
    {
      "cell_type": "code",
      "execution_count": null,
      "metadata": {
        "id": "VLroXnkUT4Hu"
      },
      "outputs": [],
      "source": [
        "scaler_X = StandardScaler()\n",
        "X_scaled = scaler_X.fit_transform(X)"
      ]
    },
    {
      "cell_type": "markdown",
      "source": [
        "Now we split our dataset into train and test sets. we split it chronologicaly to preserve the order."
      ],
      "metadata": {
        "id": "AMrJhQ5krMTg"
      }
    },
    {
      "cell_type": "code",
      "execution_count": null,
      "metadata": {
        "id": "kTlviuz6T7hC"
      },
      "outputs": [],
      "source": [
        "split_idx = int(0.8 * len(df))\n",
        "X_train_full = X_scaled[:split_idx]\n",
        "X_test = X_scaled[split_idx:]\n",
        "y_train_full = y[:split_idx]\n",
        "y_test = y[split_idx:]"
      ]
    },
    {
      "cell_type": "markdown",
      "source": [
        "we keep %20 of the training set for the validation set. It helps to prevent from overfitting."
      ],
      "metadata": {
        "id": "z4v1e9W0tO4E"
      }
    },
    {
      "cell_type": "code",
      "execution_count": null,
      "metadata": {
        "id": "hTOtQkGkT_zS"
      },
      "outputs": [],
      "source": [
        "val_split_idx = int(0.8 * len(X_train_full))\n",
        "X_train = X_train_full[:val_split_idx]\n",
        "X_val = X_train_full[val_split_idx:]\n",
        "y_train = y_train_full[:val_split_idx]\n",
        "y_val = y_train_full[val_split_idx:]"
      ]
    },
    {
      "cell_type": "markdown",
      "source": [
        "Then we use sklearn class weight to give weights to classes based on their size which results higher weight for the underpresented class."
      ],
      "metadata": {
        "id": "iaU8-CLBta-L"
      }
    },
    {
      "cell_type": "code",
      "execution_count": null,
      "metadata": {
        "id": "3Cbh0ZBBUDwv"
      },
      "outputs": [],
      "source": [
        "from sklearn.utils.class_weight import compute_class_weight\n",
        "classes = np.unique(y_train)\n",
        "weights = compute_class_weight('balanced', classes=classes, y=y_train)\n",
        "class_weights = {0: weights[0], 1: weights[1]}"
      ]
    },
    {
      "cell_type": "markdown",
      "source": [
        "Now we create time-series dataset with sequence length of 10."
      ],
      "metadata": {
        "id": "JKTkl4iwu-Af"
      }
    },
    {
      "cell_type": "code",
      "execution_count": null,
      "metadata": {
        "id": "Xf1jdGUrUICX"
      },
      "outputs": [],
      "source": [
        "seq_len = 10\n",
        "batch_size = 16\n",
        "\n",
        "train_dataset_class = timeseries_dataset_from_array(\n",
        "    data=X_train[:-seq_len],\n",
        "    targets=y_train[seq_len:],\n",
        "    sequence_length=seq_len,\n",
        "    batch_size=batch_size\n",
        ")\n",
        "val_dataset = timeseries_dataset_from_array(\n",
        "    data=X_val[:-seq_len],\n",
        "    targets=y_val[seq_len:],\n",
        "    sequence_length=seq_len,\n",
        "    batch_size=batch_size\n",
        ")\n",
        "test_dataset = timeseries_dataset_from_array(\n",
        "    data=X_test[:-seq_len],\n",
        "    targets=y_test[seq_len:],\n",
        "    sequence_length=seq_len,\n",
        "    batch_size=batch_size\n",
        ")"
      ]
    },
    {
      "cell_type": "markdown",
      "source": [
        "Next we create a 3-layer sequential model.\n",
        "We use Long-short-term-memory layer to capture long term dependencies."
      ],
      "metadata": {
        "id": "MlIpKiMjvNRS"
      }
    },
    {
      "cell_type": "code",
      "execution_count": null,
      "metadata": {
        "id": "zDqudigWUNsx"
      },
      "outputs": [],
      "source": [
        "model = Sequential([\n",
        "    LSTM(64, input_shape=(seq_len, 11), activation='tanh', return_sequences=True), #passing the sequence to the next layer\n",
        "    Dropout(0.3), #set %30 of the input units to 0 to prevent from overfitting.\n",
        "    LSTM(32, activation='tanh', return_sequences=False), # outputs a single vector per sample\n",
        "    Dense(1, activation='sigmoid')\n",
        "])\n",
        "model.compile(optimizer=Adam(learning_rate=0.0001), loss='binary_crossentropy')"
      ]
    },
    {
      "cell_type": "markdown",
      "source": [
        "We use early stopping to stop training.\n",
        "If after least 10 conscutive epochs, val loss didn't improve, the training would stop. Also we set `restore_best_weights` parameter to `True`, so at the end of training, the model retains the best-performing weights.\n",
        "\n",
        "We use learning rate scheduler to modify learning rate. If after 5 consecutive epochs, val loss didn't improve the learning rate would be multiplied to the `factor` parameter but it would never be less than `min_lr` parameter.\n",
        "This helps the model to converge more effectively.\n",
        "\n"
      ],
      "metadata": {
        "id": "tXe7x4pEymqK"
      }
    },
    {
      "cell_type": "code",
      "execution_count": null,
      "metadata": {
        "id": "ieyWxxSPUSnw"
      },
      "outputs": [],
      "source": [
        "early_stopping = EarlyStopping(monitor='val_loss', patience=10, restore_best_weights=True)\n",
        "lr_scheduler = ReduceLROnPlateau(monitor='val_loss', factor=0.5, patience=5, min_lr=0.00001)"
      ]
    },
    {
      "cell_type": "markdown",
      "source": [
        "now it's time to train the model."
      ],
      "metadata": {
        "id": "J1vYOGp328Y5"
      }
    },
    {
      "cell_type": "code",
      "execution_count": null,
      "metadata": {
        "colab": {
          "base_uri": "https://localhost:8080/"
        },
        "id": "mjJLKj4rUYca",
        "outputId": "a953b68a-bbb6-45fb-db6c-235880557668"
      },
      "outputs": [
        {
          "output_type": "stream",
          "name": "stdout",
          "text": [
            "Epoch 1/100\n",
            "\u001b[1m696/696\u001b[0m \u001b[32m━━━━━━━━━━━━━━━━━━━━\u001b[0m\u001b[37m\u001b[0m \u001b[1m26s\u001b[0m 28ms/step - loss: 0.6698 - val_loss: 0.6276 - learning_rate: 1.0000e-04\n",
            "Epoch 2/100\n",
            "\u001b[1m696/696\u001b[0m \u001b[32m━━━━━━━━━━━━━━━━━━━━\u001b[0m\u001b[37m\u001b[0m \u001b[1m13s\u001b[0m 18ms/step - loss: 0.6008 - val_loss: 0.5355 - learning_rate: 1.0000e-04\n",
            "Epoch 3/100\n",
            "\u001b[1m696/696\u001b[0m \u001b[32m━━━━━━━━━━━━━━━━━━━━\u001b[0m\u001b[37m\u001b[0m \u001b[1m12s\u001b[0m 17ms/step - loss: 0.5270 - val_loss: 0.4777 - learning_rate: 1.0000e-04\n",
            "Epoch 4/100\n",
            "\u001b[1m696/696\u001b[0m \u001b[32m━━━━━━━━━━━━━━━━━━━━\u001b[0m\u001b[37m\u001b[0m \u001b[1m20s\u001b[0m 15ms/step - loss: 0.4956 - val_loss: 0.4508 - learning_rate: 1.0000e-04\n",
            "Epoch 5/100\n",
            "\u001b[1m696/696\u001b[0m \u001b[32m━━━━━━━━━━━━━━━━━━━━\u001b[0m\u001b[37m\u001b[0m \u001b[1m12s\u001b[0m 17ms/step - loss: 0.4774 - val_loss: 0.4352 - learning_rate: 1.0000e-04\n",
            "Epoch 6/100\n",
            "\u001b[1m696/696\u001b[0m \u001b[32m━━━━━━━━━━━━━━━━━━━━\u001b[0m\u001b[37m\u001b[0m \u001b[1m21s\u001b[0m 18ms/step - loss: 0.4630 - val_loss: 0.4227 - learning_rate: 1.0000e-04\n",
            "Epoch 7/100\n",
            "\u001b[1m696/696\u001b[0m \u001b[32m━━━━━━━━━━━━━━━━━━━━\u001b[0m\u001b[37m\u001b[0m \u001b[1m20s\u001b[0m 17ms/step - loss: 0.4513 - val_loss: 0.4132 - learning_rate: 1.0000e-04\n",
            "Epoch 8/100\n",
            "\u001b[1m696/696\u001b[0m \u001b[32m━━━━━━━━━━━━━━━━━━━━\u001b[0m\u001b[37m\u001b[0m \u001b[1m21s\u001b[0m 18ms/step - loss: 0.4402 - val_loss: 0.4054 - learning_rate: 1.0000e-04\n",
            "Epoch 9/100\n",
            "\u001b[1m696/696\u001b[0m \u001b[32m━━━━━━━━━━━━━━━━━━━━\u001b[0m\u001b[37m\u001b[0m \u001b[1m12s\u001b[0m 17ms/step - loss: 0.4333 - val_loss: 0.3990 - learning_rate: 1.0000e-04\n",
            "Epoch 10/100\n",
            "\u001b[1m696/696\u001b[0m \u001b[32m━━━━━━━━━━━━━━━━━━━━\u001b[0m\u001b[37m\u001b[0m \u001b[1m10s\u001b[0m 15ms/step - loss: 0.4286 - val_loss: 0.3946 - learning_rate: 1.0000e-04\n",
            "Epoch 11/100\n",
            "\u001b[1m696/696\u001b[0m \u001b[32m━━━━━━━━━━━━━━━━━━━━\u001b[0m\u001b[37m\u001b[0m \u001b[1m22s\u001b[0m 17ms/step - loss: 0.4204 - val_loss: 0.3903 - learning_rate: 1.0000e-04\n",
            "Epoch 12/100\n",
            "\u001b[1m696/696\u001b[0m \u001b[32m━━━━━━━━━━━━━━━━━━━━\u001b[0m\u001b[37m\u001b[0m \u001b[1m12s\u001b[0m 17ms/step - loss: 0.4171 - val_loss: 0.3878 - learning_rate: 1.0000e-04\n",
            "Epoch 13/100\n",
            "\u001b[1m696/696\u001b[0m \u001b[32m━━━━━━━━━━━━━━━━━━━━\u001b[0m\u001b[37m\u001b[0m \u001b[1m12s\u001b[0m 17ms/step - loss: 0.4138 - val_loss: 0.3859 - learning_rate: 1.0000e-04\n",
            "Epoch 14/100\n",
            "\u001b[1m696/696\u001b[0m \u001b[32m━━━━━━━━━━━━━━━━━━━━\u001b[0m\u001b[37m\u001b[0m \u001b[1m10s\u001b[0m 15ms/step - loss: 0.4096 - val_loss: 0.3859 - learning_rate: 1.0000e-04\n",
            "Epoch 15/100\n",
            "\u001b[1m696/696\u001b[0m \u001b[32m━━━━━━━━━━━━━━━━━━━━\u001b[0m\u001b[37m\u001b[0m \u001b[1m23s\u001b[0m 18ms/step - loss: 0.4068 - val_loss: 0.3847 - learning_rate: 1.0000e-04\n",
            "Epoch 16/100\n",
            "\u001b[1m696/696\u001b[0m \u001b[32m━━━━━━━━━━━━━━━━━━━━\u001b[0m\u001b[37m\u001b[0m \u001b[1m20s\u001b[0m 17ms/step - loss: 0.4059 - val_loss: 0.3825 - learning_rate: 1.0000e-04\n",
            "Epoch 17/100\n",
            "\u001b[1m696/696\u001b[0m \u001b[32m━━━━━━━━━━━━━━━━━━━━\u001b[0m\u001b[37m\u001b[0m \u001b[1m21s\u001b[0m 17ms/step - loss: 0.4012 - val_loss: 0.3807 - learning_rate: 1.0000e-04\n",
            "Epoch 18/100\n",
            "\u001b[1m696/696\u001b[0m \u001b[32m━━━━━━━━━━━━━━━━━━━━\u001b[0m\u001b[37m\u001b[0m \u001b[1m12s\u001b[0m 17ms/step - loss: 0.4032 - val_loss: 0.3810 - learning_rate: 1.0000e-04\n",
            "Epoch 19/100\n",
            "\u001b[1m696/696\u001b[0m \u001b[32m━━━━━━━━━━━━━━━━━━━━\u001b[0m\u001b[37m\u001b[0m \u001b[1m12s\u001b[0m 17ms/step - loss: 0.3948 - val_loss: 0.3803 - learning_rate: 1.0000e-04\n",
            "Epoch 20/100\n",
            "\u001b[1m696/696\u001b[0m \u001b[32m━━━━━━━━━━━━━━━━━━━━\u001b[0m\u001b[37m\u001b[0m \u001b[1m10s\u001b[0m 14ms/step - loss: 0.3972 - val_loss: 0.3792 - learning_rate: 1.0000e-04\n",
            "Epoch 21/100\n",
            "\u001b[1m696/696\u001b[0m \u001b[32m━━━━━━━━━━━━━━━━━━━━\u001b[0m\u001b[37m\u001b[0m \u001b[1m12s\u001b[0m 17ms/step - loss: 0.3918 - val_loss: 0.3792 - learning_rate: 1.0000e-04\n",
            "Epoch 22/100\n",
            "\u001b[1m696/696\u001b[0m \u001b[32m━━━━━━━━━━━━━━━━━━━━\u001b[0m\u001b[37m\u001b[0m \u001b[1m12s\u001b[0m 17ms/step - loss: 0.3902 - val_loss: 0.3828 - learning_rate: 1.0000e-04\n",
            "Epoch 23/100\n",
            "\u001b[1m696/696\u001b[0m \u001b[32m━━━━━━━━━━━━━━━━━━━━\u001b[0m\u001b[37m\u001b[0m \u001b[1m22s\u001b[0m 20ms/step - loss: 0.3860 - val_loss: 0.3812 - learning_rate: 1.0000e-04\n",
            "Epoch 24/100\n",
            "\u001b[1m696/696\u001b[0m \u001b[32m━━━━━━━━━━━━━━━━━━━━\u001b[0m\u001b[37m\u001b[0m \u001b[1m18s\u001b[0m 16ms/step - loss: 0.3863 - val_loss: 0.3794 - learning_rate: 1.0000e-04\n",
            "Epoch 25/100\n",
            "\u001b[1m696/696\u001b[0m \u001b[32m━━━━━━━━━━━━━━━━━━━━\u001b[0m\u001b[37m\u001b[0m \u001b[1m13s\u001b[0m 18ms/step - loss: 0.3837 - val_loss: 0.3834 - learning_rate: 1.0000e-04\n",
            "Epoch 26/100\n",
            "\u001b[1m696/696\u001b[0m \u001b[32m━━━━━━━━━━━━━━━━━━━━\u001b[0m\u001b[37m\u001b[0m \u001b[1m19s\u001b[0m 17ms/step - loss: 0.3795 - val_loss: 0.3842 - learning_rate: 5.0000e-05\n",
            "Epoch 27/100\n",
            "\u001b[1m696/696\u001b[0m \u001b[32m━━━━━━━━━━━━━━━━━━━━\u001b[0m\u001b[37m\u001b[0m \u001b[1m12s\u001b[0m 17ms/step - loss: 0.3773 - val_loss: 0.3881 - learning_rate: 5.0000e-05\n",
            "Epoch 28/100\n",
            "\u001b[1m696/696\u001b[0m \u001b[32m━━━━━━━━━━━━━━━━━━━━\u001b[0m\u001b[37m\u001b[0m \u001b[1m19s\u001b[0m 15ms/step - loss: 0.3747 - val_loss: 0.3884 - learning_rate: 5.0000e-05\n",
            "Epoch 29/100\n",
            "\u001b[1m696/696\u001b[0m \u001b[32m━━━━━━━━━━━━━━━━━━━━\u001b[0m\u001b[37m\u001b[0m \u001b[1m12s\u001b[0m 16ms/step - loss: 0.3762 - val_loss: 0.3899 - learning_rate: 5.0000e-05\n",
            "Epoch 30/100\n",
            "\u001b[1m696/696\u001b[0m \u001b[32m━━━━━━━━━━━━━━━━━━━━\u001b[0m\u001b[37m\u001b[0m \u001b[1m21s\u001b[0m 17ms/step - loss: 0.3714 - val_loss: 0.3889 - learning_rate: 5.0000e-05\n",
            "Epoch 31/100\n",
            "\u001b[1m696/696\u001b[0m \u001b[32m━━━━━━━━━━━━━━━━━━━━\u001b[0m\u001b[37m\u001b[0m \u001b[1m11s\u001b[0m 16ms/step - loss: 0.3702 - val_loss: 0.3865 - learning_rate: 2.5000e-05\n"
          ]
        }
      ],
      "source": [
        "history = model.fit(\n",
        "    train_dataset_class,\n",
        "    epochs=100,\n",
        "    validation_data=val_dataset,\n",
        "    callbacks=[early_stopping, lr_scheduler],\n",
        "    class_weight=class_weights,\n",
        "    verbose=1\n",
        ")"
      ]
    },
    {
      "cell_type": "markdown",
      "source": [
        "Let's compute f1 score for differnet thresholds to tune the model."
      ],
      "metadata": {
        "id": "clzuho5I3Cmr"
      }
    },
    {
      "cell_type": "code",
      "execution_count": null,
      "metadata": {
        "colab": {
          "base_uri": "https://localhost:8080/"
        },
        "id": "uePpeBANVbl2",
        "outputId": "df6a4199-f28c-4a41-efed-47e6b6005615"
      },
      "outputs": [
        {
          "output_type": "stream",
          "name": "stdout",
          "text": [
            "\u001b[1m217/217\u001b[0m \u001b[32m━━━━━━━━━━━━━━━━━━━━\u001b[0m\u001b[37m\u001b[0m \u001b[1m2s\u001b[0m 6ms/step\n",
            "F1-score at threshold 0.3: 0.686\n",
            "F1-score at threshold 0.4: 0.747\n",
            "F1-score at threshold 0.5: 0.776\n",
            "F1-score at threshold 0.6: 0.777\n",
            "Best Classification F1-score: 0.777 at threshold 0.6\n"
          ]
        }
      ],
      "source": [
        "y_pred_prob = model.predict(test_dataset)\n",
        "y_test_eval = y_test[seq_len:seq_len + len(y_pred_prob)]\n",
        "thresholds = [0.3,0.4,0.5,0.6]\n",
        "best_f1 = 0\n",
        "best_threshold = 0.5\n",
        "for threshold in thresholds:\n",
        "    y_pred = (y_pred_prob > threshold).astype(int)\n",
        "    f1 = f1_score(y_test_eval, y_pred, average='macro')\n",
        "    print(f'F1-score at threshold {threshold}: {f1:.3f}')\n",
        "    if f1 > best_f1:\n",
        "        best_f1 = f1\n",
        "        best_threshold = threshold\n",
        "print(f'Best Classification F1-score: {best_f1:.3f} at threshold {best_threshold}')"
      ]
    },
    {
      "cell_type": "markdown",
      "source": [
        "We also visualize the loss value for number of epochs."
      ],
      "metadata": {
        "id": "JooN2PTc3KTx"
      }
    },
    {
      "cell_type": "code",
      "execution_count": null,
      "metadata": {
        "colab": {
          "base_uri": "https://localhost:8080/",
          "height": 456
        },
        "id": "kJndlawTVki8",
        "outputId": "588dc0fa-0c2b-4061-e57f-b3caedf42bbe"
      },
      "outputs": [
        {
          "output_type": "execute_result",
          "data": {
            "text/plain": [
              "<matplotlib.legend.Legend at 0x785893051390>"
            ]
          },
          "metadata": {},
          "execution_count": 206
        },
        {
          "output_type": "display_data",
          "data": {
            "text/plain": [
              "<Figure size 1200x500 with 1 Axes>"
            ],
            "image/png": "[encoded data removed]"
          },
          "metadata": {}
        }
      ],
      "source": [
        "plt.figure(figsize=(12, 5))\n",
        "plt.plot(history.history['loss'], label='Training Loss')\n",
        "plt.plot(history.history['val_loss'], label='Validation Loss')\n",
        "plt.title('Classification Loss')\n",
        "plt.xlabel('Epoch')\n",
        "plt.ylabel('Loss')\n",
        "plt.legend()"
      ]
    },
    {
      "cell_type": "markdown",
      "metadata": {
        "id": "TB6fLtHJYg3F"
      },
      "source": [
        "### Regression\n",
        "\n",
        "We do the same for the regression part."
      ]
    },
    {
      "cell_type": "markdown",
      "source": [
        "First we define target and test features."
      ],
      "metadata": {
        "id": "fFz6TbTo3_cA"
      }
    },
    {
      "cell_type": "code",
      "source": [
        "features = [col for col in df.columns if col not in ['timestamp', 'cnt']]\n",
        "X = df[features].values\n",
        "y = df['cnt'].values"
      ],
      "metadata": {
        "id": "TZK_iNUh4C24"
      },
      "execution_count": 264,
      "outputs": []
    },
    {
      "cell_type": "markdown",
      "source": [
        "Then we normalize numerical columns so all the values be within a same range."
      ],
      "metadata": {
        "id": "-mSuHp1Y4K96"
      }
    },
    {
      "cell_type": "code",
      "source": [
        "scaler_X = StandardScaler()\n",
        "X_scaled = scaler_X.fit_transform(X)\n",
        "\n",
        "scaler_y = StandardScaler()\n",
        "y_scaled = scaler_y.fit_transform(y.reshape(-1, 1))"
      ],
      "metadata": {
        "id": "EdaDJKA84I7f"
      },
      "execution_count": 265,
      "outputs": []
    },
    {
      "cell_type": "markdown",
      "source": [
        "As we did for classification part, we split the data into train and test sets and keep %20 of the train set for the validation set."
      ],
      "metadata": {
        "id": "qcR2dP4A4Yt5"
      }
    },
    {
      "cell_type": "code",
      "source": [
        "split_idx = int(0.8 * len(df))\n",
        "X_train_full = X_scaled[:split_idx]\n",
        "X_test = X_scaled[split_idx:]\n",
        "y_train_reg_full = y_scaled[:split_idx]\n",
        "y_test = y_scaled[split_idx:]\n",
        "\n",
        "val_split_idx = int(0.8 * len(X_train_full))\n",
        "X_train = X_train_full[:val_split_idx]\n",
        "X_val = X_train_full[val_split_idx:]\n",
        "y_train = y_train_full[:val_split_idx]\n",
        "y_val = y_train_full[val_split_idx:]"
      ],
      "metadata": {
        "id": "U9HI2NYq4jHi"
      },
      "execution_count": 266,
      "outputs": []
    },
    {
      "cell_type": "markdown",
      "source": [
        "Then we create time series dataset."
      ],
      "metadata": {
        "id": "iAUULtbb4rHK"
      }
    },
    {
      "cell_type": "code",
      "source": [
        "seq_len = 10\n",
        "batch_size = 32\n",
        "\n",
        "train_dataset = timeseries_dataset_from_array(\n",
        "    data=X_train[:-seq_len],\n",
        "    targets=y_train[seq_len:],\n",
        "    sequence_length=seq_len,\n",
        "    batch_size=batch_size\n",
        ")\n",
        "val_dataset = timeseries_dataset_from_array(\n",
        "    data=X_val[:-seq_len],\n",
        "    targets=y_val[seq_len:],\n",
        "    sequence_length=seq_len,\n",
        "    batch_size=batch_size\n",
        ")\n",
        "test_dataset = timeseries_dataset_from_array(\n",
        "    data=X_test[:-seq_len],\n",
        "    targets=y_test[seq_len:],\n",
        "    sequence_length=seq_len,\n",
        "    batch_size=batch_size\n",
        ")"
      ],
      "metadata": {
        "id": "73M_E8vE4oGu"
      },
      "execution_count": 267,
      "outputs": []
    },
    {
      "cell_type": "markdown",
      "source": [
        "Now we create a 3-layer neural network as we did for classification part and set the loss function to mse."
      ],
      "metadata": {
        "id": "F2rXCHfW43Ku"
      }
    },
    {
      "cell_type": "code",
      "source": [
        "from tensorflow.keras.models import Sequential\n",
        "from tensorflow.keras.layers import LSTM, Dense, Dropout\n",
        "from tensorflow.keras.optimizers import Adam\n",
        "model = Sequential([\n",
        "    LSTM(128, input_shape=(seq_len, X.shape[1]), activation='tanh', return_sequences=True),\n",
        "    Dropout(0.2),\n",
        "    LSTM(64, activation='tanh', return_sequences=False),\n",
        "    Dropout(0.2),\n",
        "    Dense(1, activation='linear')\n",
        "])\n",
        "model.compile(optimizer=Adam(learning_rate=0.001), loss='mse')"
      ],
      "metadata": {
        "colab": {
          "base_uri": "https://localhost:8080/"
        },
        "id": "z3kvRprLjgw6",
        "outputId": "82496d31-5e06-427c-c7f4-3ab0480093b5"
      },
      "execution_count": 288,
      "outputs": [
        {
          "output_type": "stream",
          "name": "stderr",
          "text": [
            "/usr/local/lib/python3.11/dist-packages/keras/src/layers/rnn/rnn.py:200: UserWarning: Do not pass an `input_shape`/`input_dim` argument to a layer. When using Sequential models, prefer using an `Input(shape)` object as the first layer in the model instead.\n",
            "  super().__init__(**kwargs)\n"
          ]
        }
      ]
    },
    {
      "cell_type": "markdown",
      "source": [
        "Then we define callbacks similar to classification."
      ],
      "metadata": {
        "id": "OqE089Y_5HpB"
      }
    },
    {
      "cell_type": "code",
      "source": [
        "from tensorflow.keras.callbacks import EarlyStopping, ReduceLROnPlateau\n",
        "early_stopping = EarlyStopping(monitor='val_loss', patience=20, restore_best_weights=True)\n",
        "lr_scheduler = ReduceLROnPlateau(monitor='val_loss', factor=0.5, patience=5, min_lr=0.0001)"
      ],
      "metadata": {
        "id": "vRCKIWR35Lf6"
      },
      "execution_count": 269,
      "outputs": []
    },
    {
      "cell_type": "markdown",
      "source": [
        "Now it's time to train our model."
      ],
      "metadata": {
        "id": "7yR1ExZD5RUK"
      }
    },
    {
      "cell_type": "code",
      "source": [
        "history = model.fit(\n",
        "    train_dataset,\n",
        "    epochs=60,\n",
        "    validation_data=val_dataset,\n",
        "    callbacks=[early_stopping, lr_scheduler],\n",
        "    verbose=1\n",
        ")"
      ],
      "metadata": {
        "colab": {
          "base_uri": "https://localhost:8080/"
        },
        "id": "O1_ng0V75QUd",
        "outputId": "1579b73d-ad06-463f-d789-88758b8755b2"
      },
      "execution_count": 270,
      "outputs": [
        {
          "output_type": "stream",
          "name": "stdout",
          "text": [
            "Epoch 1/60\n",
            "\u001b[1m348/348\u001b[0m \u001b[32m━━━━━━━━━━━━━━━━━━━━\u001b[0m\u001b[37m\u001b[0m \u001b[1m59s\u001b[0m 42ms/step - loss: 0.1965 - val_loss: 0.1070 - learning_rate: 0.0010\n",
            "Epoch 2/60\n",
            "\u001b[1m348/348\u001b[0m \u001b[32m━━━━━━━━━━━━━━━━━━━━\u001b[0m\u001b[37m\u001b[0m \u001b[1m14s\u001b[0m 39ms/step - loss: 0.1134 - val_loss: 0.0829 - learning_rate: 0.0010\n",
            "Epoch 3/60\n",
            "\u001b[1m348/348\u001b[0m \u001b[32m━━━━━━━━━━━━━━━━━━━━\u001b[0m\u001b[37m\u001b[0m \u001b[1m21s\u001b[0m 40ms/step - loss: 0.0980 - val_loss: 0.0912 - learning_rate: 0.0010\n",
            "Epoch 4/60\n",
            "\u001b[1m348/348\u001b[0m \u001b[32m━━━━━━━━━━━━━━━━━━━━\u001b[0m\u001b[37m\u001b[0m \u001b[1m13s\u001b[0m 38ms/step - loss: 0.0893 - val_loss: 0.0886 - learning_rate: 0.0010\n",
            "Epoch 5/60\n",
            "\u001b[1m348/348\u001b[0m \u001b[32m━━━━━━━━━━━━━━━━━━━━\u001b[0m\u001b[37m\u001b[0m \u001b[1m21s\u001b[0m 39ms/step - loss: 0.0847 - val_loss: 0.0916 - learning_rate: 0.0010\n",
            "Epoch 6/60\n",
            "\u001b[1m348/348\u001b[0m \u001b[32m━━━━━━━━━━━━━━━━━━━━\u001b[0m\u001b[37m\u001b[0m \u001b[1m13s\u001b[0m 39ms/step - loss: 0.0799 - val_loss: 0.0950 - learning_rate: 0.0010\n",
            "Epoch 7/60\n",
            "\u001b[1m348/348\u001b[0m \u001b[32m━━━━━━━━━━━━━━━━━━━━\u001b[0m\u001b[37m\u001b[0m \u001b[1m14s\u001b[0m 39ms/step - loss: 0.0767 - val_loss: 0.0851 - learning_rate: 0.0010\n",
            "Epoch 8/60\n",
            "\u001b[1m348/348\u001b[0m \u001b[32m━━━━━━━━━━━━━━━━━━━━\u001b[0m\u001b[37m\u001b[0m \u001b[1m14s\u001b[0m 39ms/step - loss: 0.0729 - val_loss: 0.0727 - learning_rate: 5.0000e-04\n",
            "Epoch 9/60\n",
            "\u001b[1m348/348\u001b[0m \u001b[32m━━━━━━━━━━━━━━━━━━━━\u001b[0m\u001b[37m\u001b[0m \u001b[1m14s\u001b[0m 40ms/step - loss: 0.0711 - val_loss: 0.0708 - learning_rate: 5.0000e-04\n",
            "Epoch 10/60\n",
            "\u001b[1m348/348\u001b[0m \u001b[32m━━━━━━━━━━━━━━━━━━━━\u001b[0m\u001b[37m\u001b[0m \u001b[1m14s\u001b[0m 39ms/step - loss: 0.0690 - val_loss: 0.0698 - learning_rate: 5.0000e-04\n",
            "Epoch 11/60\n",
            "\u001b[1m348/348\u001b[0m \u001b[32m━━━━━━━━━━━━━━━━━━━━\u001b[0m\u001b[37m\u001b[0m \u001b[1m12s\u001b[0m 35ms/step - loss: 0.0671 - val_loss: 0.0694 - learning_rate: 5.0000e-04\n",
            "Epoch 12/60\n",
            "\u001b[1m348/348\u001b[0m \u001b[32m━━━━━━━━━━━━━━━━━━━━\u001b[0m\u001b[37m\u001b[0m \u001b[1m12s\u001b[0m 35ms/step - loss: 0.0659 - val_loss: 0.0687 - learning_rate: 5.0000e-04\n",
            "Epoch 13/60\n",
            "\u001b[1m348/348\u001b[0m \u001b[32m━━━━━━━━━━━━━━━━━━━━\u001b[0m\u001b[37m\u001b[0m \u001b[1m13s\u001b[0m 37ms/step - loss: 0.0634 - val_loss: 0.0686 - learning_rate: 5.0000e-04\n",
            "Epoch 14/60\n",
            "\u001b[1m348/348\u001b[0m \u001b[32m━━━━━━━━━━━━━━━━━━━━\u001b[0m\u001b[37m\u001b[0m \u001b[1m13s\u001b[0m 37ms/step - loss: 0.0629 - val_loss: 0.0665 - learning_rate: 5.0000e-04\n",
            "Epoch 15/60\n",
            "\u001b[1m348/348\u001b[0m \u001b[32m━━━━━━━━━━━━━━━━━━━━\u001b[0m\u001b[37m\u001b[0m \u001b[1m13s\u001b[0m 37ms/step - loss: 0.0625 - val_loss: 0.0660 - learning_rate: 5.0000e-04\n",
            "Epoch 16/60\n",
            "\u001b[1m348/348\u001b[0m \u001b[32m━━━━━━━━━━━━━━━━━━━━\u001b[0m\u001b[37m\u001b[0m \u001b[1m13s\u001b[0m 37ms/step - loss: 0.0610 - val_loss: 0.0648 - learning_rate: 5.0000e-04\n",
            "Epoch 17/60\n",
            "\u001b[1m348/348\u001b[0m \u001b[32m━━━━━━━━━━━━━━━━━━━━\u001b[0m\u001b[37m\u001b[0m \u001b[1m13s\u001b[0m 37ms/step - loss: 0.0596 - val_loss: 0.0665 - learning_rate: 5.0000e-04\n",
            "Epoch 18/60\n",
            "\u001b[1m348/348\u001b[0m \u001b[32m━━━━━━━━━━━━━━━━━━━━\u001b[0m\u001b[37m\u001b[0m \u001b[1m19s\u001b[0m 34ms/step - loss: 0.0582 - val_loss: 0.0662 - learning_rate: 5.0000e-04\n",
            "Epoch 19/60\n",
            "\u001b[1m348/348\u001b[0m \u001b[32m━━━━━━━━━━━━━━━━━━━━\u001b[0m\u001b[37m\u001b[0m \u001b[1m21s\u001b[0m 37ms/step - loss: 0.0579 - val_loss: 0.0647 - learning_rate: 5.0000e-04\n",
            "Epoch 20/60\n",
            "\u001b[1m348/348\u001b[0m \u001b[32m━━━━━━━━━━━━━━━━━━━━\u001b[0m\u001b[37m\u001b[0m \u001b[1m13s\u001b[0m 37ms/step - loss: 0.0564 - val_loss: 0.0657 - learning_rate: 5.0000e-04\n",
            "Epoch 21/60\n",
            "\u001b[1m348/348\u001b[0m \u001b[32m━━━━━━━━━━━━━━━━━━━━\u001b[0m\u001b[37m\u001b[0m \u001b[1m13s\u001b[0m 37ms/step - loss: 0.0562 - val_loss: 0.0660 - learning_rate: 5.0000e-04\n",
            "Epoch 22/60\n",
            "\u001b[1m348/348\u001b[0m \u001b[32m━━━━━━━━━━━━━━━━━━━━\u001b[0m\u001b[37m\u001b[0m \u001b[1m13s\u001b[0m 37ms/step - loss: 0.0548 - val_loss: 0.0660 - learning_rate: 5.0000e-04\n",
            "Epoch 23/60\n",
            "\u001b[1m348/348\u001b[0m \u001b[32m━━━━━━━━━━━━━━━━━━━━\u001b[0m\u001b[37m\u001b[0m \u001b[1m21s\u001b[0m 37ms/step - loss: 0.0546 - val_loss: 0.0661 - learning_rate: 5.0000e-04\n",
            "Epoch 24/60\n",
            "\u001b[1m348/348\u001b[0m \u001b[32m━━━━━━━━━━━━━━━━━━━━\u001b[0m\u001b[37m\u001b[0m \u001b[1m13s\u001b[0m 38ms/step - loss: 0.0539 - val_loss: 0.0630 - learning_rate: 5.0000e-04\n",
            "Epoch 25/60\n",
            "\u001b[1m348/348\u001b[0m \u001b[32m━━━━━━━━━━━━━━━━━━━━\u001b[0m\u001b[37m\u001b[0m \u001b[1m13s\u001b[0m 37ms/step - loss: 0.0529 - val_loss: 0.0669 - learning_rate: 5.0000e-04\n",
            "Epoch 26/60\n",
            "\u001b[1m348/348\u001b[0m \u001b[32m━━━━━━━━━━━━━━━━━━━━\u001b[0m\u001b[37m\u001b[0m \u001b[1m13s\u001b[0m 37ms/step - loss: 0.0513 - val_loss: 0.0675 - learning_rate: 5.0000e-04\n",
            "Epoch 27/60\n",
            "\u001b[1m348/348\u001b[0m \u001b[32m━━━━━━━━━━━━━━━━━━━━\u001b[0m\u001b[37m\u001b[0m \u001b[1m13s\u001b[0m 37ms/step - loss: 0.0515 - val_loss: 0.0680 - learning_rate: 5.0000e-04\n",
            "Epoch 28/60\n",
            "\u001b[1m348/348\u001b[0m \u001b[32m━━━━━━━━━━━━━━━━━━━━\u001b[0m\u001b[37m\u001b[0m \u001b[1m13s\u001b[0m 37ms/step - loss: 0.0507 - val_loss: 0.0649 - learning_rate: 5.0000e-04\n",
            "Epoch 29/60\n",
            "\u001b[1m348/348\u001b[0m \u001b[32m━━━━━━━━━━━━━━━━━━━━\u001b[0m\u001b[37m\u001b[0m \u001b[1m13s\u001b[0m 38ms/step - loss: 0.0487 - val_loss: 0.0652 - learning_rate: 5.0000e-04\n",
            "Epoch 30/60\n",
            "\u001b[1m348/348\u001b[0m \u001b[32m━━━━━━━━━━━━━━━━━━━━\u001b[0m\u001b[37m\u001b[0m \u001b[1m12s\u001b[0m 36ms/step - loss: 0.0478 - val_loss: 0.0602 - learning_rate: 2.5000e-04\n",
            "Epoch 31/60\n",
            "\u001b[1m348/348\u001b[0m \u001b[32m━━━━━━━━━━━━━━━━━━━━\u001b[0m\u001b[37m\u001b[0m \u001b[1m13s\u001b[0m 37ms/step - loss: 0.0467 - val_loss: 0.0617 - learning_rate: 2.5000e-04\n",
            "Epoch 32/60\n",
            "\u001b[1m348/348\u001b[0m \u001b[32m━━━━━━━━━━━━━━━━━━━━\u001b[0m\u001b[37m\u001b[0m \u001b[1m13s\u001b[0m 38ms/step - loss: 0.0443 - val_loss: 0.0616 - learning_rate: 2.5000e-04\n",
            "Epoch 33/60\n",
            "\u001b[1m348/348\u001b[0m \u001b[32m━━━━━━━━━━━━━━━━━━━━\u001b[0m\u001b[37m\u001b[0m \u001b[1m12s\u001b[0m 35ms/step - loss: 0.0433 - val_loss: 0.0610 - learning_rate: 2.5000e-04\n",
            "Epoch 34/60\n",
            "\u001b[1m348/348\u001b[0m \u001b[32m━━━━━━━━━━━━━━━━━━━━\u001b[0m\u001b[37m\u001b[0m \u001b[1m22s\u001b[0m 38ms/step - loss: 0.0423 - val_loss: 0.0620 - learning_rate: 2.5000e-04\n",
            "Epoch 35/60\n",
            "\u001b[1m348/348\u001b[0m \u001b[32m━━━━━━━━━━━━━━━━━━━━\u001b[0m\u001b[37m\u001b[0m \u001b[1m13s\u001b[0m 38ms/step - loss: 0.0421 - val_loss: 0.0626 - learning_rate: 2.5000e-04\n",
            "Epoch 36/60\n",
            "\u001b[1m348/348\u001b[0m \u001b[32m━━━━━━━━━━━━━━━━━━━━\u001b[0m\u001b[37m\u001b[0m \u001b[1m13s\u001b[0m 38ms/step - loss: 0.0413 - val_loss: 0.0617 - learning_rate: 1.2500e-04\n",
            "Epoch 37/60\n",
            "\u001b[1m348/348\u001b[0m \u001b[32m━━━━━━━━━━━━━━━━━━━━\u001b[0m\u001b[37m\u001b[0m \u001b[1m13s\u001b[0m 38ms/step - loss: 0.0397 - val_loss: 0.0631 - learning_rate: 1.2500e-04\n",
            "Epoch 38/60\n",
            "\u001b[1m348/348\u001b[0m \u001b[32m━━━━━━━━━━━━━━━━━━━━\u001b[0m\u001b[37m\u001b[0m \u001b[1m21s\u001b[0m 39ms/step - loss: 0.0387 - val_loss: 0.0644 - learning_rate: 1.2500e-04\n",
            "Epoch 39/60\n",
            "\u001b[1m348/348\u001b[0m \u001b[32m━━━━━━━━━━━━━━━━━━━━\u001b[0m\u001b[37m\u001b[0m \u001b[1m13s\u001b[0m 39ms/step - loss: 0.0388 - val_loss: 0.0652 - learning_rate: 1.2500e-04\n",
            "Epoch 40/60\n",
            "\u001b[1m348/348\u001b[0m \u001b[32m━━━━━━━━━━━━━━━━━━━━\u001b[0m\u001b[37m\u001b[0m \u001b[1m13s\u001b[0m 38ms/step - loss: 0.0382 - val_loss: 0.0658 - learning_rate: 1.2500e-04\n",
            "Epoch 41/60\n",
            "\u001b[1m348/348\u001b[0m \u001b[32m━━━━━━━━━━━━━━━━━━━━\u001b[0m\u001b[37m\u001b[0m \u001b[1m13s\u001b[0m 37ms/step - loss: 0.0367 - val_loss: 0.0655 - learning_rate: 1.0000e-04\n",
            "Epoch 42/60\n",
            "\u001b[1m348/348\u001b[0m \u001b[32m━━━━━━━━━━━━━━━━━━━━\u001b[0m\u001b[37m\u001b[0m \u001b[1m13s\u001b[0m 38ms/step - loss: 0.0368 - val_loss: 0.0662 - learning_rate: 1.0000e-04\n",
            "Epoch 43/60\n",
            "\u001b[1m348/348\u001b[0m \u001b[32m━━━━━━━━━━━━━━━━━━━━\u001b[0m\u001b[37m\u001b[0m \u001b[1m13s\u001b[0m 38ms/step - loss: 0.0360 - val_loss: 0.0665 - learning_rate: 1.0000e-04\n",
            "Epoch 44/60\n",
            "\u001b[1m348/348\u001b[0m \u001b[32m━━━━━━━━━━━━━━━━━━━━\u001b[0m\u001b[37m\u001b[0m \u001b[1m13s\u001b[0m 37ms/step - loss: 0.0355 - val_loss: 0.0661 - learning_rate: 1.0000e-04\n",
            "Epoch 45/60\n",
            "\u001b[1m348/348\u001b[0m \u001b[32m━━━━━━━━━━━━━━━━━━━━\u001b[0m\u001b[37m\u001b[0m \u001b[1m13s\u001b[0m 38ms/step - loss: 0.0359 - val_loss: 0.0672 - learning_rate: 1.0000e-04\n",
            "Epoch 46/60\n",
            "\u001b[1m348/348\u001b[0m \u001b[32m━━━━━━━━━━━━━━━━━━━━\u001b[0m\u001b[37m\u001b[0m \u001b[1m13s\u001b[0m 36ms/step - loss: 0.0347 - val_loss: 0.0682 - learning_rate: 1.0000e-04\n",
            "Epoch 47/60\n",
            "\u001b[1m348/348\u001b[0m \u001b[32m━━━━━━━━━━━━━━━━━━━━\u001b[0m\u001b[37m\u001b[0m \u001b[1m12s\u001b[0m 34ms/step - loss: 0.0356 - val_loss: 0.0671 - learning_rate: 1.0000e-04\n",
            "Epoch 48/60\n",
            "\u001b[1m348/348\u001b[0m \u001b[32m━━━━━━━━━━━━━━━━━━━━\u001b[0m\u001b[37m\u001b[0m \u001b[1m21s\u001b[0m 37ms/step - loss: 0.0341 - val_loss: 0.0672 - learning_rate: 1.0000e-04\n",
            "Epoch 49/60\n",
            "\u001b[1m348/348\u001b[0m \u001b[32m━━━━━━━━━━━━━━━━━━━━\u001b[0m\u001b[37m\u001b[0m \u001b[1m13s\u001b[0m 37ms/step - loss: 0.0340 - val_loss: 0.0663 - learning_rate: 1.0000e-04\n",
            "Epoch 50/60\n",
            "\u001b[1m348/348\u001b[0m \u001b[32m━━━━━━━━━━━━━━━━━━━━\u001b[0m\u001b[37m\u001b[0m \u001b[1m13s\u001b[0m 36ms/step - loss: 0.0342 - val_loss: 0.0690 - learning_rate: 1.0000e-04\n"
          ]
        }
      ]
    },
    {
      "cell_type": "markdown",
      "source": [
        "Now we compute the r2 score."
      ],
      "metadata": {
        "id": "QOWVlzBgLb47"
      }
    },
    {
      "cell_type": "code",
      "source": [
        "y_pred_scaled = model.predict(test_dataset)\n",
        "y_pred = scaler_y.inverse_transform(y_pred_scaled.reshape(-1, 1))\n",
        "y_test_eval = y[split_idx + seq_len:split_idx + seq_len + len(y_pred_scaled)]\n",
        "r2 = r2_score(y_test_eval, y_pred)\n",
        "print(f'Regression R2-score: {r2:.3f}')"
      ],
      "metadata": {
        "id": "5bnYAUQh6KZY",
        "colab": {
          "base_uri": "https://localhost:8080/"
        },
        "outputId": "a8fcb16c-cb6f-4d7f-e82e-c6f4cf5b7a91"
      },
      "execution_count": 273,
      "outputs": [
        {
          "output_type": "stream",
          "name": "stdout",
          "text": [
            "\u001b[1m109/109\u001b[0m \u001b[32m━━━━━━━━━━━━━━━━━━━━\u001b[0m\u001b[37m\u001b[0m \u001b[1m1s\u001b[0m 12ms/step\n",
            "Regression R2-score: 0.275\n"
          ]
        }
      ]
    },
    {
      "cell_type": "markdown",
      "source": [
        "Let's do some feature engineering to improve our prediction.\n",
        "\n",
        "Since I want to create features with the timestemp column, I load the dataframe again."
      ],
      "metadata": {
        "id": "JfI-U3Tabq8H"
      }
    },
    {
      "cell_type": "code",
      "source": [
        "df = pd.read_csv('london_merged.csv')"
      ],
      "metadata": {
        "id": "U-lL5aLeb3Fu"
      },
      "execution_count": 275,
      "outputs": []
    },
    {
      "cell_type": "markdown",
      "source": [
        "We create hour and day of the week column."
      ],
      "metadata": {
        "id": "tUK-E_uWcLAl"
      }
    },
    {
      "cell_type": "code",
      "source": [
        "df['timestamp'] = pd.to_datetime(df['timestamp'])\n",
        "df['hour'] = df['timestamp'].dt.hour\n",
        "df['day_of_week'] = df['timestamp'].dt.dayofweek"
      ],
      "metadata": {
        "id": "s-N5u0uecI_M"
      },
      "execution_count": 276,
      "outputs": []
    },
    {
      "cell_type": "markdown",
      "source": [
        "We use cyclical encoding so the model recognizes the cyclical pattern in hours and days of week(e.g hour 0 is close to hour 23, day 6 is close to day 0)."
      ],
      "metadata": {
        "id": "KsgnzV52eTVK"
      }
    },
    {
      "cell_type": "code",
      "source": [
        "df['hour_sin'] = np.sin(2 * np.pi * df['hour'] / 24)\n",
        "df['hour_cos'] = np.cos(2 * np.pi * df['hour'] / 24)\n",
        "df['day_of_week_sin'] = np.sin(2 * np.pi * df['day_of_week'] / 7)\n",
        "df['day_of_week_cos'] = np.cos(2 * np.pi * df['day_of_week'] / 7)"
      ],
      "metadata": {
        "id": "8Hm2npeOcSfp"
      },
      "execution_count": 277,
      "outputs": []
    },
    {
      "cell_type": "markdown",
      "source": [
        "Now we drop the original day and hour columns since we don't need them anymore."
      ],
      "metadata": {
        "id": "E05b_c5hesl-"
      }
    },
    {
      "cell_type": "code",
      "source": [
        "df = df.drop(['hour', 'day_of_week'], axis=1)"
      ],
      "metadata": {
        "id": "_O_P3SM1cWC5"
      },
      "execution_count": 278,
      "outputs": []
    },
    {
      "cell_type": "markdown",
      "source": [
        "Next we define target and test features."
      ],
      "metadata": {
        "id": "4XkY_scndy_a"
      }
    },
    {
      "cell_type": "code",
      "source": [
        "features = [col for col in df.columns if col not in ['timestamp', 'cnt']]\n",
        "X = df[features].values\n",
        "y = np.log1p(df['cnt'].values)"
      ],
      "metadata": {
        "id": "Ou--DBwscZ_L"
      },
      "execution_count": 279,
      "outputs": []
    },
    {
      "cell_type": "markdown",
      "source": [
        "Then we normalize numerical columns so all the values be within a same range."
      ],
      "metadata": {
        "id": "kODw7UF5doo1"
      }
    },
    {
      "cell_type": "code",
      "source": [
        "scaler_X = StandardScaler()\n",
        "X_scaled = scaler_X.fit_transform(X)\n",
        "\n",
        "scaler_y = StandardScaler()\n",
        "y_scaled = scaler_y.fit_transform(y.reshape(-1, 1)).flatten()"
      ],
      "metadata": {
        "id": "6mPJlmS-cdYd"
      },
      "execution_count": 280,
      "outputs": []
    },
    {
      "cell_type": "markdown",
      "source": [
        "As we did for classification part, we split the data into train and test sets and keep %20 of the train set for the validation set."
      ],
      "metadata": {
        "id": "qv3SwpU9dgTe"
      }
    },
    {
      "cell_type": "code",
      "source": [
        "split_idx = int(0.8 * len(df))\n",
        "X_train_full = X_scaled[:split_idx]\n",
        "X_test = X_scaled[split_idx:]\n",
        "y_train_full = y_scaled[:split_idx]\n",
        "y_test = y_scaled[split_idx:]\n",
        "\n",
        "val_split_idx = int(0.8 * len(X_train_full))\n",
        "X_train = X_train_full[:val_split_idx]\n",
        "X_val = X_train_full[val_split_idx:]\n",
        "y_train = y_train_full[:val_split_idx]\n",
        "y_val = y_train_full[val_split_idx:]"
      ],
      "metadata": {
        "id": "i5BWZUN8cgxA"
      },
      "execution_count": 281,
      "outputs": []
    },
    {
      "cell_type": "markdown",
      "source": [
        "Then we create time series datasets."
      ],
      "metadata": {
        "id": "LoKFYc3VdXa_"
      }
    },
    {
      "cell_type": "code",
      "source": [
        "seq_len = 24\n",
        "batch_size = 32\n",
        "\n",
        "train_dataset = timeseries_dataset_from_array(\n",
        "    data=X_train[:-seq_len],\n",
        "    targets=y_train[seq_len:],\n",
        "    sequence_length=seq_len,\n",
        "    batch_size=batch_size\n",
        ")\n",
        "val_dataset = timeseries_dataset_from_array(\n",
        "    data=X_val[:-seq_len],\n",
        "    targets=y_val[seq_len:],\n",
        "    sequence_length=seq_len,\n",
        "    batch_size=batch_size\n",
        ")\n",
        "test_dataset = timeseries_dataset_from_array(\n",
        "    data=X_test[:-seq_len],\n",
        "    targets=y_test[seq_len:],\n",
        "    sequence_length=seq_len,\n",
        "    batch_size=batch_size\n",
        ")"
      ],
      "metadata": {
        "id": "0lKCez8xcllh"
      },
      "execution_count": 282,
      "outputs": []
    },
    {
      "cell_type": "markdown",
      "source": [
        "Now we create a 3-layer neural network as we did for classification part and set the loss function to mse."
      ],
      "metadata": {
        "id": "qzcidkYNdOZ6"
      }
    },
    {
      "cell_type": "code",
      "source": [
        "model = Sequential([\n",
        "    LSTM(128, input_shape=(seq_len, X.shape[1]), activation='tanh', return_sequences=True),\n",
        "    Dropout(0.2),\n",
        "    LSTM(64, activation='tanh', return_sequences=False),\n",
        "    Dropout(0.2),\n",
        "    Dense(1, activation='linear')\n",
        "])\n",
        "model.compile(optimizer=Adam(learning_rate=0.001), loss='mse')"
      ],
      "metadata": {
        "colab": {
          "base_uri": "https://localhost:8080/"
        },
        "id": "NsuAs6bEcpL3",
        "outputId": "d9ea4494-caee-45fc-d93d-04eb32e1ed71"
      },
      "execution_count": 283,
      "outputs": [
        {
          "output_type": "stream",
          "name": "stderr",
          "text": [
            "/usr/local/lib/python3.11/dist-packages/keras/src/layers/rnn/rnn.py:200: UserWarning: Do not pass an `input_shape`/`input_dim` argument to a layer. When using Sequential models, prefer using an `Input(shape)` object as the first layer in the model instead.\n",
            "  super().__init__(**kwargs)\n"
          ]
        }
      ]
    },
    {
      "cell_type": "markdown",
      "source": [
        "Then we define callbacks similar to classification."
      ],
      "metadata": {
        "id": "xPc0lLv-dHGk"
      }
    },
    {
      "cell_type": "code",
      "source": [
        "early_stopping = EarlyStopping(monitor='val_loss', patience=20, restore_best_weights=True)\n",
        "lr_scheduler = ReduceLROnPlateau(monitor='val_loss', factor=0.5, patience=5, min_lr=0.0001)"
      ],
      "metadata": {
        "id": "sHbKG5jActcB"
      },
      "execution_count": 284,
      "outputs": []
    },
    {
      "cell_type": "markdown",
      "source": [
        "Now it's time to train our model."
      ],
      "metadata": {
        "id": "2_nIzJ4ydBvD"
      }
    },
    {
      "cell_type": "code",
      "source": [
        "history = model.fit(\n",
        "    train_dataset,\n",
        "    epochs=60,\n",
        "    validation_data=val_dataset,\n",
        "    callbacks=[early_stopping, lr_scheduler],\n",
        "    verbose=1\n",
        ")"
      ],
      "metadata": {
        "colab": {
          "base_uri": "https://localhost:8080/"
        },
        "id": "N-ArQq4rcwig",
        "outputId": "f34d106f-c956-4be6-9f57-52839a7d35ac"
      },
      "execution_count": 285,
      "outputs": [
        {
          "output_type": "stream",
          "name": "stdout",
          "text": [
            "Epoch 1/60\n",
            "\u001b[1m347/347\u001b[0m \u001b[32m━━━━━━━━━━━━━━━━━━━━\u001b[0m\u001b[37m\u001b[0m \u001b[1m31s\u001b[0m 70ms/step - loss: 0.3968 - val_loss: 0.1632 - learning_rate: 0.0010\n",
            "Epoch 2/60\n",
            "\u001b[1m347/347\u001b[0m \u001b[32m━━━━━━━━━━━━━━━━━━━━\u001b[0m\u001b[37m\u001b[0m \u001b[1m28s\u001b[0m 79ms/step - loss: 0.1095 - val_loss: 0.1532 - learning_rate: 0.0010\n",
            "Epoch 3/60\n",
            "\u001b[1m347/347\u001b[0m \u001b[32m━━━━━━━━━━━━━━━━━━━━\u001b[0m\u001b[37m\u001b[0m \u001b[1m31s\u001b[0m 89ms/step - loss: 0.0786 - val_loss: 0.1222 - learning_rate: 0.0010\n",
            "Epoch 4/60\n",
            "\u001b[1m347/347\u001b[0m \u001b[32m━━━━━━━━━━━━━━━━━━━━\u001b[0m\u001b[37m\u001b[0m \u001b[1m36s\u001b[0m 103ms/step - loss: 0.0740 - val_loss: 0.1175 - learning_rate: 0.0010\n",
            "Epoch 5/60\n",
            "\u001b[1m347/347\u001b[0m \u001b[32m━━━━━━━━━━━━━━━━━━━━\u001b[0m\u001b[37m\u001b[0m \u001b[1m37s\u001b[0m 106ms/step - loss: 0.0660 - val_loss: 0.1145 - learning_rate: 0.0010\n",
            "Epoch 6/60\n",
            "\u001b[1m347/347\u001b[0m \u001b[32m━━━━━━━━━━━━━━━━━━━━\u001b[0m\u001b[37m\u001b[0m \u001b[1m29s\u001b[0m 73ms/step - loss: 0.0639 - val_loss: 0.1087 - learning_rate: 0.0010\n",
            "Epoch 7/60\n",
            "\u001b[1m347/347\u001b[0m \u001b[32m━━━━━━━━━━━━━━━━━━━━\u001b[0m\u001b[37m\u001b[0m \u001b[1m36s\u001b[0m 105ms/step - loss: 0.0619 - val_loss: 0.0970 - learning_rate: 0.0010\n",
            "Epoch 8/60\n",
            "\u001b[1m347/347\u001b[0m \u001b[32m━━━━━━━━━━━━━━━━━━━━\u001b[0m\u001b[37m\u001b[0m \u001b[1m31s\u001b[0m 89ms/step - loss: 0.0558 - val_loss: 0.0834 - learning_rate: 0.0010\n",
            "Epoch 9/60\n",
            "\u001b[1m347/347\u001b[0m \u001b[32m━━━━━━━━━━━━━━━━━━━━\u001b[0m\u001b[37m\u001b[0m \u001b[1m32s\u001b[0m 92ms/step - loss: 0.0559 - val_loss: 0.0847 - learning_rate: 0.0010\n",
            "Epoch 10/60\n",
            "\u001b[1m347/347\u001b[0m \u001b[32m━━━━━━━━━━━━━━━━━━━━\u001b[0m\u001b[37m\u001b[0m \u001b[1m25s\u001b[0m 73ms/step - loss: 0.0520 - val_loss: 0.0899 - learning_rate: 0.0010\n",
            "Epoch 11/60\n",
            "\u001b[1m347/347\u001b[0m \u001b[32m━━━━━━━━━━━━━━━━━━━━\u001b[0m\u001b[37m\u001b[0m \u001b[1m37s\u001b[0m 62ms/step - loss: 0.0522 - val_loss: 0.0966 - learning_rate: 0.0010\n",
            "Epoch 12/60\n",
            "\u001b[1m347/347\u001b[0m \u001b[32m━━━━━━━━━━━━━━━━━━━━\u001b[0m\u001b[37m\u001b[0m \u001b[1m41s\u001b[0m 62ms/step - loss: 0.0493 - val_loss: 0.0855 - learning_rate: 0.0010\n",
            "Epoch 13/60\n",
            "\u001b[1m347/347\u001b[0m \u001b[32m━━━━━━━━━━━━━━━━━━━━\u001b[0m\u001b[37m\u001b[0m \u001b[1m26s\u001b[0m 74ms/step - loss: 0.0471 - val_loss: 0.0763 - learning_rate: 0.0010\n",
            "Epoch 14/60\n",
            "\u001b[1m347/347\u001b[0m \u001b[32m━━━━━━━━━━━━━━━━━━━━\u001b[0m\u001b[37m\u001b[0m \u001b[1m30s\u001b[0m 85ms/step - loss: 0.0460 - val_loss: 0.0758 - learning_rate: 0.0010\n",
            "Epoch 15/60\n",
            "\u001b[1m347/347\u001b[0m \u001b[32m━━━━━━━━━━━━━━━━━━━━\u001b[0m\u001b[37m\u001b[0m \u001b[1m28s\u001b[0m 81ms/step - loss: 0.0465 - val_loss: 0.0863 - learning_rate: 0.0010\n",
            "Epoch 16/60\n",
            "\u001b[1m347/347\u001b[0m \u001b[32m━━━━━━━━━━━━━━━━━━━━\u001b[0m\u001b[37m\u001b[0m \u001b[1m48s\u001b[0m 103ms/step - loss: 0.0467 - val_loss: 0.0755 - learning_rate: 0.0010\n",
            "Epoch 17/60\n",
            "\u001b[1m347/347\u001b[0m \u001b[32m━━━━━━━━━━━━━━━━━━━━\u001b[0m\u001b[37m\u001b[0m \u001b[1m37s\u001b[0m 107ms/step - loss: 0.0474 - val_loss: 0.0765 - learning_rate: 0.0010\n",
            "Epoch 18/60\n",
            "\u001b[1m347/347\u001b[0m \u001b[32m━━━━━━━━━━━━━━━━━━━━\u001b[0m\u001b[37m\u001b[0m \u001b[1m27s\u001b[0m 66ms/step - loss: 0.0435 - val_loss: 0.0731 - learning_rate: 0.0010\n",
            "Epoch 19/60\n",
            "\u001b[1m347/347\u001b[0m \u001b[32m━━━━━━━━━━━━━━━━━━━━\u001b[0m\u001b[37m\u001b[0m \u001b[1m31s\u001b[0m 88ms/step - loss: 0.0425 - val_loss: 0.0656 - learning_rate: 0.0010\n",
            "Epoch 20/60\n",
            "\u001b[1m347/347\u001b[0m \u001b[32m━━━━━━━━━━━━━━━━━━━━\u001b[0m\u001b[37m\u001b[0m \u001b[1m21s\u001b[0m 60ms/step - loss: 0.0429 - val_loss: 0.0671 - learning_rate: 0.0010\n",
            "Epoch 21/60\n",
            "\u001b[1m347/347\u001b[0m \u001b[32m━━━━━━━━━━━━━━━━━━━━\u001b[0m\u001b[37m\u001b[0m \u001b[1m26s\u001b[0m 76ms/step - loss: 0.0406 - val_loss: 0.0635 - learning_rate: 0.0010\n",
            "Epoch 22/60\n",
            "\u001b[1m347/347\u001b[0m \u001b[32m━━━━━━━━━━━━━━━━━━━━\u001b[0m\u001b[37m\u001b[0m \u001b[1m23s\u001b[0m 65ms/step - loss: 0.0411 - val_loss: 0.0720 - learning_rate: 0.0010\n",
            "Epoch 23/60\n",
            "\u001b[1m347/347\u001b[0m \u001b[32m━━━━━━━━━━━━━━━━━━━━\u001b[0m\u001b[37m\u001b[0m \u001b[1m21s\u001b[0m 61ms/step - loss: 0.0409 - val_loss: 0.0669 - learning_rate: 0.0010\n",
            "Epoch 24/60\n",
            "\u001b[1m347/347\u001b[0m \u001b[32m━━━━━━━━━━━━━━━━━━━━\u001b[0m\u001b[37m\u001b[0m \u001b[1m24s\u001b[0m 70ms/step - loss: 0.0422 - val_loss: 0.0695 - learning_rate: 0.0010\n",
            "Epoch 25/60\n",
            "\u001b[1m347/347\u001b[0m \u001b[32m━━━━━━━━━━━━━━━━━━━━\u001b[0m\u001b[37m\u001b[0m \u001b[1m21s\u001b[0m 61ms/step - loss: 0.0412 - val_loss: 0.0717 - learning_rate: 0.0010\n",
            "Epoch 26/60\n",
            "\u001b[1m347/347\u001b[0m \u001b[32m━━━━━━━━━━━━━━━━━━━━\u001b[0m\u001b[37m\u001b[0m \u001b[1m23s\u001b[0m 66ms/step - loss: 0.0377 - val_loss: 0.0666 - learning_rate: 0.0010\n",
            "Epoch 27/60\n",
            "\u001b[1m347/347\u001b[0m \u001b[32m━━━━━━━━━━━━━━━━━━━━\u001b[0m\u001b[37m\u001b[0m \u001b[1m22s\u001b[0m 63ms/step - loss: 0.0380 - val_loss: 0.0696 - learning_rate: 5.0000e-04\n",
            "Epoch 28/60\n",
            "\u001b[1m347/347\u001b[0m \u001b[32m━━━━━━━━━━━━━━━━━━━━\u001b[0m\u001b[37m\u001b[0m \u001b[1m23s\u001b[0m 66ms/step - loss: 0.0348 - val_loss: 0.0696 - learning_rate: 5.0000e-04\n",
            "Epoch 29/60\n",
            "\u001b[1m347/347\u001b[0m \u001b[32m━━━━━━━━━━━━━━━━━━━━\u001b[0m\u001b[37m\u001b[0m \u001b[1m22s\u001b[0m 62ms/step - loss: 0.0338 - val_loss: 0.0675 - learning_rate: 5.0000e-04\n",
            "Epoch 30/60\n",
            "\u001b[1m347/347\u001b[0m \u001b[32m━━━━━━━━━━━━━━━━━━━━\u001b[0m\u001b[37m\u001b[0m \u001b[1m23s\u001b[0m 65ms/step - loss: 0.0321 - val_loss: 0.0629 - learning_rate: 5.0000e-04\n",
            "Epoch 31/60\n",
            "\u001b[1m347/347\u001b[0m \u001b[32m━━━━━━━━━━━━━━━━━━━━\u001b[0m\u001b[37m\u001b[0m \u001b[1m22s\u001b[0m 63ms/step - loss: 0.0323 - val_loss: 0.0631 - learning_rate: 5.0000e-04\n",
            "Epoch 32/60\n",
            "\u001b[1m347/347\u001b[0m \u001b[32m━━━━━━━━━━━━━━━━━━━━\u001b[0m\u001b[37m\u001b[0m \u001b[1m22s\u001b[0m 63ms/step - loss: 0.0325 - val_loss: 0.0652 - learning_rate: 5.0000e-04\n",
            "Epoch 33/60\n",
            "\u001b[1m347/347\u001b[0m \u001b[32m━━━━━━━━━━━━━━━━━━━━\u001b[0m\u001b[37m\u001b[0m \u001b[1m24s\u001b[0m 70ms/step - loss: 0.0310 - val_loss: 0.0674 - learning_rate: 5.0000e-04\n",
            "Epoch 34/60\n",
            "\u001b[1m347/347\u001b[0m \u001b[32m━━━━━━━━━━━━━━━━━━━━\u001b[0m\u001b[37m\u001b[0m \u001b[1m22s\u001b[0m 62ms/step - loss: 0.0302 - val_loss: 0.0622 - learning_rate: 5.0000e-04\n",
            "Epoch 35/60\n",
            "\u001b[1m347/347\u001b[0m \u001b[32m━━━━━━━━━━━━━━━━━━━━\u001b[0m\u001b[37m\u001b[0m \u001b[1m23s\u001b[0m 66ms/step - loss: 0.0289 - val_loss: 0.0632 - learning_rate: 5.0000e-04\n",
            "Epoch 36/60\n",
            "\u001b[1m347/347\u001b[0m \u001b[32m━━━━━━━━━━━━━━━━━━━━\u001b[0m\u001b[37m\u001b[0m \u001b[1m21s\u001b[0m 60ms/step - loss: 0.0308 - val_loss: 0.0613 - learning_rate: 5.0000e-04\n",
            "Epoch 37/60\n",
            "\u001b[1m347/347\u001b[0m \u001b[32m━━━━━━━━━━━━━━━━━━━━\u001b[0m\u001b[37m\u001b[0m \u001b[1m41s\u001b[0m 60ms/step - loss: 0.0285 - val_loss: 0.0693 - learning_rate: 5.0000e-04\n",
            "Epoch 38/60\n",
            "\u001b[1m347/347\u001b[0m \u001b[32m━━━━━━━━━━━━━━━━━━━━\u001b[0m\u001b[37m\u001b[0m \u001b[1m44s\u001b[0m 69ms/step - loss: 0.0286 - val_loss: 0.0623 - learning_rate: 5.0000e-04\n",
            "Epoch 39/60\n",
            "\u001b[1m347/347\u001b[0m \u001b[32m━━━━━━━━━━━━━━━━━━━━\u001b[0m\u001b[37m\u001b[0m \u001b[1m21s\u001b[0m 61ms/step - loss: 0.0275 - val_loss: 0.0660 - learning_rate: 5.0000e-04\n",
            "Epoch 40/60\n",
            "\u001b[1m347/347\u001b[0m \u001b[32m━━━━━━━━━━━━━━━━━━━━\u001b[0m\u001b[37m\u001b[0m \u001b[1m23s\u001b[0m 66ms/step - loss: 0.0267 - val_loss: 0.0671 - learning_rate: 5.0000e-04\n",
            "Epoch 41/60\n",
            "\u001b[1m347/347\u001b[0m \u001b[32m━━━━━━━━━━━━━━━━━━━━\u001b[0m\u001b[37m\u001b[0m \u001b[1m21s\u001b[0m 60ms/step - loss: 0.0273 - val_loss: 0.0690 - learning_rate: 5.0000e-04\n",
            "Epoch 42/60\n",
            "\u001b[1m347/347\u001b[0m \u001b[32m━━━━━━━━━━━━━━━━━━━━\u001b[0m\u001b[37m\u001b[0m \u001b[1m23s\u001b[0m 66ms/step - loss: 0.0263 - val_loss: 0.0568 - learning_rate: 2.5000e-04\n",
            "Epoch 43/60\n",
            "\u001b[1m347/347\u001b[0m \u001b[32m━━━━━━━━━━━━━━━━━━━━\u001b[0m\u001b[37m\u001b[0m \u001b[1m41s\u001b[0m 66ms/step - loss: 0.0245 - val_loss: 0.0566 - learning_rate: 2.5000e-04\n",
            "Epoch 44/60\n",
            "\u001b[1m347/347\u001b[0m \u001b[32m━━━━━━━━━━━━━━━━━━━━\u001b[0m\u001b[37m\u001b[0m \u001b[1m21s\u001b[0m 61ms/step - loss: 0.0247 - val_loss: 0.0555 - learning_rate: 2.5000e-04\n",
            "Epoch 45/60\n",
            "\u001b[1m347/347\u001b[0m \u001b[32m━━━━━━━━━━━━━━━━━━━━\u001b[0m\u001b[37m\u001b[0m \u001b[1m23s\u001b[0m 66ms/step - loss: 0.0247 - val_loss: 0.0546 - learning_rate: 2.5000e-04\n",
            "Epoch 46/60\n",
            "\u001b[1m347/347\u001b[0m \u001b[32m━━━━━━━━━━━━━━━━━━━━\u001b[0m\u001b[37m\u001b[0m \u001b[1m21s\u001b[0m 60ms/step - loss: 0.0241 - val_loss: 0.0518 - learning_rate: 2.5000e-04\n",
            "Epoch 47/60\n",
            "\u001b[1m347/347\u001b[0m \u001b[32m━━━━━━━━━━━━━━━━━━━━\u001b[0m\u001b[37m\u001b[0m \u001b[1m23s\u001b[0m 66ms/step - loss: 0.0249 - val_loss: 0.0523 - learning_rate: 2.5000e-04\n",
            "Epoch 48/60\n",
            "\u001b[1m347/347\u001b[0m \u001b[32m━━━━━━━━━━━━━━━━━━━━\u001b[0m\u001b[37m\u001b[0m \u001b[1m22s\u001b[0m 63ms/step - loss: 0.0234 - val_loss: 0.0530 - learning_rate: 2.5000e-04\n",
            "Epoch 49/60\n",
            "\u001b[1m347/347\u001b[0m \u001b[32m━━━━━━━━━━━━━━━━━━━━\u001b[0m\u001b[37m\u001b[0m \u001b[1m26s\u001b[0m 74ms/step - loss: 0.0233 - val_loss: 0.0549 - learning_rate: 2.5000e-04\n",
            "Epoch 50/60\n",
            "\u001b[1m347/347\u001b[0m \u001b[32m━━━━━━━━━━━━━━━━━━━━\u001b[0m\u001b[37m\u001b[0m \u001b[1m30s\u001b[0m 87ms/step - loss: 0.0233 - val_loss: 0.0545 - learning_rate: 2.5000e-04\n",
            "Epoch 51/60\n",
            "\u001b[1m347/347\u001b[0m \u001b[32m━━━━━━━━━━━━━━━━━━━━\u001b[0m\u001b[37m\u001b[0m \u001b[1m28s\u001b[0m 81ms/step - loss: 0.0223 - val_loss: 0.0553 - learning_rate: 2.5000e-04\n",
            "Epoch 52/60\n",
            "\u001b[1m347/347\u001b[0m \u001b[32m━━━━━━━━━━━━━━━━━━━━\u001b[0m\u001b[37m\u001b[0m \u001b[1m42s\u001b[0m 84ms/step - loss: 0.0219 - val_loss: 0.0487 - learning_rate: 1.2500e-04\n",
            "Epoch 53/60\n",
            "\u001b[1m347/347\u001b[0m \u001b[32m━━━━━━━━━━━━━━━━━━━━\u001b[0m\u001b[37m\u001b[0m \u001b[1m31s\u001b[0m 89ms/step - loss: 0.0220 - val_loss: 0.0483 - learning_rate: 1.2500e-04\n",
            "Epoch 54/60\n",
            "\u001b[1m347/347\u001b[0m \u001b[32m━━━━━━━━━━━━━━━━━━━━\u001b[0m\u001b[37m\u001b[0m \u001b[1m29s\u001b[0m 83ms/step - loss: 0.0217 - val_loss: 0.0461 - learning_rate: 1.2500e-04\n",
            "Epoch 55/60\n",
            "\u001b[1m347/347\u001b[0m \u001b[32m━━━━━━━━━━━━━━━━━━━━\u001b[0m\u001b[37m\u001b[0m \u001b[1m22s\u001b[0m 63ms/step - loss: 0.0215 - val_loss: 0.0469 - learning_rate: 1.2500e-04\n",
            "Epoch 56/60\n",
            "\u001b[1m347/347\u001b[0m \u001b[32m━━━━━━━━━━━━━━━━━━━━\u001b[0m\u001b[37m\u001b[0m \u001b[1m23s\u001b[0m 67ms/step - loss: 0.0212 - val_loss: 0.0469 - learning_rate: 1.2500e-04\n",
            "Epoch 57/60\n",
            "\u001b[1m347/347\u001b[0m \u001b[32m━━━━━━━━━━━━━━━━━━━━\u001b[0m\u001b[37m\u001b[0m \u001b[1m26s\u001b[0m 74ms/step - loss: 0.0209 - val_loss: 0.0462 - learning_rate: 1.2500e-04\n",
            "Epoch 58/60\n",
            "\u001b[1m347/347\u001b[0m \u001b[32m━━━━━━━━━━━━━━━━━━━━\u001b[0m\u001b[37m\u001b[0m \u001b[1m23s\u001b[0m 66ms/step - loss: 0.0206 - val_loss: 0.0455 - learning_rate: 1.2500e-04\n",
            "Epoch 59/60\n",
            "\u001b[1m347/347\u001b[0m \u001b[32m━━━━━━━━━━━━━━━━━━━━\u001b[0m\u001b[37m\u001b[0m \u001b[1m23s\u001b[0m 67ms/step - loss: 0.0199 - val_loss: 0.0469 - learning_rate: 1.2500e-04\n",
            "Epoch 60/60\n",
            "\u001b[1m347/347\u001b[0m \u001b[32m━━━━━━━━━━━━━━━━━━━━\u001b[0m\u001b[37m\u001b[0m \u001b[1m22s\u001b[0m 63ms/step - loss: 0.0212 - val_loss: 0.0457 - learning_rate: 1.2500e-04\n"
          ]
        }
      ]
    },
    {
      "cell_type": "markdown",
      "source": [
        "Now we compute the r2 score."
      ],
      "metadata": {
        "id": "IXDwbOyOc7zo"
      }
    },
    {
      "cell_type": "code",
      "source": [
        "y_pred_scaled = model.predict(test_dataset).flatten() #predict on the test set\n",
        "y_pred = np.expm1(scaler_y.inverse_transform(y_pred_scaled.reshape(-1, 1)).flatten()) #converting back to the original unit\n",
        "y_test_eval = df['cnt'].values[split_idx + seq_len:split_idx + seq_len + len(y_pred_scaled)] #actual values\n",
        "r2 = r2_score(y_test_eval, y_pred) #computing r2 score\n",
        "print(f'R2-score: {r2:.3f}')"
      ],
      "metadata": {
        "colab": {
          "base_uri": "https://localhost:8080/"
        },
        "id": "JElFxSs3c2lP",
        "outputId": "ec0faed7-20ef-4e3b-d619-97b59ef20ea2"
      },
      "execution_count": 287,
      "outputs": [
        {
          "output_type": "stream",
          "name": "stdout",
          "text": [
            "\u001b[1m108/108\u001b[0m \u001b[32m━━━━━━━━━━━━━━━━━━━━\u001b[0m\u001b[37m\u001b[0m \u001b[1m4s\u001b[0m 37ms/step\n",
            "R2-score: 0.884\n"
          ]
        }
      ]
    }
  ],
  "metadata": {
    "colab": {
      "toc_visible": true,
      "provenance": []
    },
    "kernelspec": {
      "display_name": "Python 3",
      "name": "python3"
    },
    "language_info": {
      "name": "python"
    }
  },
  "nbformat": 4,
  "nbformat_minor": 0
}